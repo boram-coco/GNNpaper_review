{
 "cells": [
  {
   "cell_type": "raw",
   "id": "bc22b55c-5b3b-4496-aeee-2399e4633452",
   "metadata": {},
   "source": [
    "---\n",
    "title: \"240508 Intro(amt 80이하)_time_ccnum?\"\n",
    "author: \"김보람\"\n",
    "date: \"05/13/2024\"\n",
    "---"
   ]
  },
  {
   "cell_type": "code",
   "execution_count": 1,
   "id": "ed305934-254b-4bc7-baf9-c6f3dedd58b2",
   "metadata": {},
   "outputs": [],
   "source": [
    "import pandas as pd\n",
    "import numpy as np\n",
    "import sklearn\n",
    "import pickle \n",
    "import time \n",
    "import datetime\n",
    "import warnings\n",
    "import matplotlib.pyplot as plt\n",
    "import torch\n",
    "warnings.filterwarnings('ignore')\n",
    "import matplotlib.pyplot as plt\n",
    "import graft\n",
    "import torch_geometric\n"
   ]
  },
  {
   "cell_type": "code",
   "execution_count": 2,
   "id": "d69cd35f-80d2-4253-bafb-d76499b02b05",
   "metadata": {},
   "outputs": [],
   "source": [
    "with open('./fraudTrain.pkl', 'rb') as file:\n",
    "    fraudTrain = pickle.load(file)    "
   ]
  },
  {
   "cell_type": "code",
   "execution_count": 3,
   "id": "f86697e8-6848-4939-ab2c-f61062bdab79",
   "metadata": {},
   "outputs": [],
   "source": [
    "df_test = pd.read_csv('~/Dropbox/Data/df_test.csv')"
   ]
  },
  {
   "cell_type": "code",
   "execution_count": 4,
   "id": "d4564dff-6134-42de-94bd-460731d70960",
   "metadata": {},
   "outputs": [],
   "source": [
    "df = df_test[df_test['amt'] <= 80]"
   ]
  },
  {
   "cell_type": "code",
   "execution_count": 5,
   "id": "541eb90a-3840-4157-81b4-120b58df969d",
   "metadata": {},
   "outputs": [],
   "source": [
    "cc_amt_80 = list(set(df['cc_num']))"
   ]
  },
  {
   "cell_type": "code",
   "execution_count": 6,
   "id": "0ae3860c-ef2b-4842-aef3-f070acf98bc8",
   "metadata": {},
   "outputs": [],
   "source": [
    "df_fraud = df[df.is_fraud == 1]\n",
    "df_fraud_cc = list(set(df_fraud['cc_num']))"
   ]
  },
  {
   "cell_type": "code",
   "execution_count": 7,
   "id": "76cfdec3-139d-4f07-85ce-9f5cecf572b1",
   "metadata": {},
   "outputs": [],
   "source": [
    "df2 = fraudTrain[fraudTrain['cc_num'].isin(df_fraud_cc)]"
   ]
  },
  {
   "cell_type": "code",
   "execution_count": 8,
   "id": "3b936ae0-d43e-4d6e-9010-46fee949209b",
   "metadata": {},
   "outputs": [
    {
     "data": {
      "text/plain": [
       "(311504, 22)"
      ]
     },
     "execution_count": 8,
     "metadata": {},
     "output_type": "execute_result"
    }
   ],
   "source": [
    "df2.shape"
   ]
  },
  {
   "cell_type": "code",
   "execution_count": 9,
   "id": "f60b83a7-fe74-406b-b918-87ff70bf0178",
   "metadata": {},
   "outputs": [
    {
     "data": {
      "text/html": [
       "<div>\n",
       "<style scoped>\n",
       "    .dataframe tbody tr th:only-of-type {\n",
       "        vertical-align: middle;\n",
       "    }\n",
       "\n",
       "    .dataframe tbody tr th {\n",
       "        vertical-align: top;\n",
       "    }\n",
       "\n",
       "    .dataframe thead th {\n",
       "        text-align: right;\n",
       "    }\n",
       "</style>\n",
       "<table border=\"1\" class=\"dataframe\">\n",
       "  <thead>\n",
       "    <tr style=\"text-align: right;\">\n",
       "      <th></th>\n",
       "      <th>cc_num</th>\n",
       "      <th>name</th>\n",
       "      <th>total_transactions</th>\n",
       "      <th>fraud_transactions</th>\n",
       "    </tr>\n",
       "  </thead>\n",
       "  <tbody>\n",
       "    <tr>\n",
       "      <th>204</th>\n",
       "      <td>4.734310e+15</td>\n",
       "      <td>Mark Pennington</td>\n",
       "      <td>7</td>\n",
       "      <td>7</td>\n",
       "    </tr>\n",
       "    <tr>\n",
       "      <th>63</th>\n",
       "      <td>3.881750e+13</td>\n",
       "      <td>Molly Marshall</td>\n",
       "      <td>8</td>\n",
       "      <td>8</td>\n",
       "    </tr>\n",
       "    <tr>\n",
       "      <th>185</th>\n",
       "      <td>4.157210e+15</td>\n",
       "      <td>Bryan Gill</td>\n",
       "      <td>8</td>\n",
       "      <td>8</td>\n",
       "    </tr>\n",
       "    <tr>\n",
       "      <th>260</th>\n",
       "      <td>4.481170e+18</td>\n",
       "      <td>Jennifer Johnson</td>\n",
       "      <td>8</td>\n",
       "      <td>8</td>\n",
       "    </tr>\n",
       "    <tr>\n",
       "      <th>109</th>\n",
       "      <td>2.287280e+15</td>\n",
       "      <td>Calvin Molina</td>\n",
       "      <td>9</td>\n",
       "      <td>9</td>\n",
       "    </tr>\n",
       "    <tr>\n",
       "      <th>...</th>\n",
       "      <td>...</td>\n",
       "      <td>...</td>\n",
       "      <td>...</td>\n",
       "      <td>...</td>\n",
       "    </tr>\n",
       "    <tr>\n",
       "      <th>67</th>\n",
       "      <td>1.800650e+14</td>\n",
       "      <td>Krystal Gamble</td>\n",
       "      <td>2500</td>\n",
       "      <td>20</td>\n",
       "    </tr>\n",
       "    <tr>\n",
       "      <th>66</th>\n",
       "      <td>1.800480e+14</td>\n",
       "      <td>Mary Wall</td>\n",
       "      <td>2513</td>\n",
       "      <td>14</td>\n",
       "    </tr>\n",
       "    <tr>\n",
       "      <th>7</th>\n",
       "      <td>5.713650e+11</td>\n",
       "      <td>Barbara Taylor</td>\n",
       "      <td>2521</td>\n",
       "      <td>10</td>\n",
       "    </tr>\n",
       "    <tr>\n",
       "      <th>226</th>\n",
       "      <td>6.011440e+15</td>\n",
       "      <td>Allison Allen</td>\n",
       "      <td>2529</td>\n",
       "      <td>14</td>\n",
       "    </tr>\n",
       "    <tr>\n",
       "      <th>239</th>\n",
       "      <td>6.534630e+15</td>\n",
       "      <td>Christine Harris</td>\n",
       "      <td>2542</td>\n",
       "      <td>15</td>\n",
       "    </tr>\n",
       "  </tbody>\n",
       "</table>\n",
       "<p>270 rows × 4 columns</p>\n",
       "</div>"
      ],
      "text/plain": [
       "           cc_num              name  total_transactions  fraud_transactions\n",
       "204  4.734310e+15   Mark Pennington                   7                   7\n",
       "63   3.881750e+13    Molly Marshall                   8                   8\n",
       "185  4.157210e+15        Bryan Gill                   8                   8\n",
       "260  4.481170e+18  Jennifer Johnson                   8                   8\n",
       "109  2.287280e+15     Calvin Molina                   9                   9\n",
       "..            ...               ...                 ...                 ...\n",
       "67   1.800650e+14    Krystal Gamble                2500                  20\n",
       "66   1.800480e+14         Mary Wall                2513                  14\n",
       "7    5.713650e+11    Barbara Taylor                2521                  10\n",
       "226  6.011440e+15     Allison Allen                2529                  14\n",
       "239  6.534630e+15  Christine Harris                2542                  15\n",
       "\n",
       "[270 rows x 4 columns]"
      ]
     },
     "execution_count": 9,
     "metadata": {},
     "output_type": "execute_result"
    }
   ],
   "source": [
    "\n",
    "df3 = fraudTrain[fraudTrain['cc_num'].isin(df_fraud_cc)].reset_index()\n",
    "df_group = df3.groupby(\"cc_num\")[\"is_fraud\"].agg(['count', 'sum']).reset_index()\n",
    "df_group.columns = ['cc_num', 'total_transactions', 'fraud_transactions']\n",
    "first = df3.groupby('cc_num')['first'].first().reset_index() \n",
    "last = df3.groupby('cc_num')['last'].first().reset_index()\n",
    "name = first['first'] + ' ' + last['last']\n",
    "df_group['name'] = name\n",
    "df_group.insert(1, 'name', df_group.pop('name'))\n",
    "df_group.sort_values(by=['total_transactions', 'fraud_transactions'], ascending=[True, True])"
   ]
  },
  {
   "cell_type": "code",
   "execution_count": 10,
   "id": "100dfa55-0ef8-4f37-9c58-5209140e1510",
   "metadata": {},
   "outputs": [],
   "source": [
    "df_group.to_csv('df_group3.csv', index=False)"
   ]
  },
  {
   "cell_type": "code",
   "execution_count": 11,
   "id": "165304c7-c343-4188-a171-ea10a0f3188d",
   "metadata": {},
   "outputs": [],
   "source": [
    "def compute_time_difference(group):\n",
    "    n = len(group)\n",
    "    result = []\n",
    "    for i in range(n):\n",
    "        for j in range(n):\n",
    "            time_difference = abs((group.iloc[i].trans_date_trans_time - group.iloc[j].trans_date_trans_time).total_seconds())\n",
    "            result.append([group.index[i], group.index[j], time_difference])\n",
    "    return result"
   ]
  },
  {
   "cell_type": "code",
   "execution_count": null,
   "id": "ee61f6d1-c1d7-4d89-9311-7e69fc96e968",
   "metadata": {},
   "outputs": [],
   "source": [
    "all_graphs = []\n",
    "\n",
    "unique_cc_nums = df3['cc_num'].unique()\n",
    "for c_sample in unique_cc_nums:\n",
    "    groups = df3[df3['cc_num'] == c_sample]\n",
    "    \n",
    "    if len(groups) < 2:\n",
    "        continue  # Skip if there are not enough transactions to form edges\n",
    "    \n",
    "    edge_index = compute_time_difference(groups)\n",
    "    edge_index = np.array(edge_index).astype(np.float64)\n",
    "    edge_index = edge_index[edge_index[:, 0] != edge_index[:, 1]]\n",
    "    \n",
    "    if len(edge_index) == 0:\n",
    "        continue  # Skip if no valid edges were formed\n",
    "    \n",
    "    theta = 1e7\n",
    "    edge_index[:, 2] = (np.exp(-edge_index[:, 2] / theta) != 1) * (np.exp(-edge_index[:, 2] / theta))\n",
    "    edge_index = edge_index.tolist()\n",
    "    \n",
    "    selected_indices = groups.index\n",
    "    is_fraud_values = df3.loc[selected_indices, 'is_fraud'].tolist()\n",
    "    \n",
    "    unique_nodes = set(np.array(edge_index)[:, :2].reshape(-1).tolist())\n",
    "    dict_map = {n: i for i, n in enumerate(unique_nodes)}\n",
    "    \n",
    "    source, target = np.array(edge_index)[:, 0], np.array(edge_index)[:, 1]\n",
    "    edge_index_selected = torch.tensor([[dict_map[s] for s in source.tolist()], [dict_map[t] for t in target.tolist()]])\n",
    "    \n",
    "    graph = torch_geometric.data.Data(\n",
    "        edge_index=edge_index_selected,\n",
    "        edge_attr=torch.tensor(np.array(edge_index)[:, -1], dtype=torch.float),\n",
    "        x=torch.tensor(groups['amt'].values, dtype=torch.float).unsqueeze(1),  # Assuming 'amt' is the feature\n",
    "        y=torch.tensor(groups['is_fraud'].values, dtype=torch.long)\n",
    "    )\n",
    "\n",
    "    graph.cc_num = c_sample\n",
    "    all_graphs.append(graph)"
   ]
  },
  {
   "cell_type": "code",
   "execution_count": null,
   "id": "985f2966-8c53-4af6-899c-1bec72542278",
   "metadata": {},
   "outputs": [],
   "source": [
    "with open('all_graphs10.pkl', 'wb') as f:\n",
    "    pickle.dump(all_graphs, f)"
   ]
  },
  {
   "cell_type": "code",
   "execution_count": null,
   "id": "03e01c0c-8b76-4229-acde-82cbec796add",
   "metadata": {},
   "outputs": [],
   "source": [
    "\n",
    "dr_opts = { \n",
    "    'output_size': (500,500),\n",
    "    'edge_marker_size': 1,\n",
    "    #'output':\"ten-nodes.pdf\",\n",
    "}"
   ]
  },
  {
   "cell_type": "code",
   "execution_count": null,
   "id": "61c8304f-55cd-4f00-b893-12f6d5242df5",
   "metadata": {},
   "outputs": [],
   "source": [
    "graph_number = 100"
   ]
  },
  {
   "cell_type": "code",
   "execution_count": null,
   "id": "d7336067-4460-4ebb-b4b0-b9da08d2284a",
   "metadata": {},
   "outputs": [],
   "source": [
    "\n",
    "graft.graph.plot_undirected_weighted(\n",
    "    all_graphs[graph_number],\n",
    "    node_color=all_graphs[graph_number].y,\n",
    "    node_size=all_graphs[graph_number].x,\n",
    "    edge_weight_text=False,\n",
    "    draw_options= dr_opts,\n",
    ")\n",
    "all_graphs[graph_number].cc_num"
   ]
  },
  {
   "cell_type": "code",
   "execution_count": null,
   "id": "a0c13fa3-f14b-4546-abba-1349303aedfc",
   "metadata": {},
   "outputs": [],
   "source": []
  },
  {
   "cell_type": "markdown",
   "id": "7e11c2f3-6296-4b14-a4ab-af55f7a80b44",
   "metadata": {},
   "source": [
    "---"
   ]
  },
  {
   "cell_type": "code",
   "execution_count": null,
   "id": "97629a87-ea39-4bfb-9aa4-77dcd82be0b3",
   "metadata": {},
   "outputs": [],
   "source": []
  }
 ],
 "metadata": {
  "kernelspec": {
   "display_name": "Python 3 (ipykernel)",
   "language": "python",
   "name": "python3"
  },
  "language_info": {
   "codemirror_mode": {
    "name": "ipython",
    "version": 3
   },
   "file_extension": ".py",
   "mimetype": "text/x-python",
   "name": "python",
   "nbconvert_exporter": "python",
   "pygments_lexer": "ipython3",
   "version": "3.12.2"
  }
 },
 "nbformat": 4,
 "nbformat_minor": 5
}
