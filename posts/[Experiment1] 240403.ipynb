{
 "cells": [
  {
   "cell_type": "raw",
   "id": "c28a41b6-b340-449a-a132-6744c348dba9",
   "metadata": {},
   "source": [
    "---\n",
    "title: \"Experiment 1(꺾은선)\"\n",
    "author: \"김보람\"\n",
    "date: \"04/03/2024\"\n",
    "---"
   ]
  },
  {
   "cell_type": "code",
   "execution_count": null,
   "id": "01582f2d-2c2e-4bf3-bba9-add03a4a5f4f",
   "metadata": {},
   "outputs": [],
   "source": []
  },
  {
   "cell_type": "code",
   "execution_count": 8,
   "id": "0a1f655b-d57c-48d0-8482-5cf804ad7996",
   "metadata": {},
   "outputs": [],
   "source": [
    "import pandas as pd\n",
    "import numpy as np\n",
    "import sklearn\n",
    "import pickle \n",
    "import time \n",
    "import datetime\n",
    "import warnings\n",
    "import matplotlib.pyplot as plt\n",
    "warnings.filterwarnings('ignore')"
   ]
  },
  {
   "cell_type": "code",
   "execution_count": 54,
   "id": "64db120c-9fe6-4fd1-9ea1-e844f03f74c1",
   "metadata": {},
   "outputs": [],
   "source": [
    "%run ~/Dropbox/GNNpaper/posts/function_proposed_gcn.py"
   ]
  },
  {
   "cell_type": "code",
   "execution_count": 55,
   "id": "5cf8f3f3-f5d4-400a-874d-e3157957a536",
   "metadata": {},
   "outputs": [],
   "source": [
    "with open('./fraudTrain.pkl', 'rb') as file:\n",
    "    fraudTrain = pickle.load(file)    "
   ]
  },
  {
   "cell_type": "code",
   "execution_count": 56,
   "id": "af6e09ed-2269-4199-a50e-b07b50e161ff",
   "metadata": {},
   "outputs": [],
   "source": [
    "merged_df = pd.read_csv('./240403_meged.csv')\n",
    "merged_df = merged_df[merged_df['model'] != 'WeightedEnsemble_L2']"
   ]
  },
  {
   "cell_type": "code",
   "execution_count": 57,
   "id": "cdd3aeb5-1bd7-4512-a288-6f6d935319a0",
   "metadata": {},
   "outputs": [
    {
     "data": {
      "text/html": [
       "<div>\n",
       "<style scoped>\n",
       "    .dataframe tbody tr th:only-of-type {\n",
       "        vertical-align: middle;\n",
       "    }\n",
       "\n",
       "    .dataframe tbody tr th {\n",
       "        vertical-align: top;\n",
       "    }\n",
       "\n",
       "    .dataframe thead th {\n",
       "        text-align: right;\n",
       "    }\n",
       "</style>\n",
       "<table border=\"1\" class=\"dataframe\">\n",
       "  <thead>\n",
       "    <tr style=\"text-align: right;\">\n",
       "      <th></th>\n",
       "      <th>model</th>\n",
       "      <th>time</th>\n",
       "      <th>acc</th>\n",
       "      <th>pre</th>\n",
       "      <th>rec</th>\n",
       "      <th>f1</th>\n",
       "      <th>auc</th>\n",
       "      <th>graph_based</th>\n",
       "      <th>method</th>\n",
       "      <th>throw_rate</th>\n",
       "      <th>train_size</th>\n",
       "      <th>train_cols</th>\n",
       "      <th>train_frate</th>\n",
       "      <th>test_size</th>\n",
       "      <th>test_frate</th>\n",
       "      <th>hyper_params</th>\n",
       "      <th>theta</th>\n",
       "      <th>gamma</th>\n",
       "    </tr>\n",
       "  </thead>\n",
       "  <tbody>\n",
       "    <tr>\n",
       "      <th>0</th>\n",
       "      <td>ECOD</td>\n",
       "      <td>0.003704</td>\n",
       "      <td>0.591404</td>\n",
       "      <td>0.003553</td>\n",
       "      <td>0.843750</td>\n",
       "      <td>0.007076</td>\n",
       "      <td>0.717359</td>\n",
       "      <td>False</td>\n",
       "      <td>pyod</td>\n",
       "      <td>0.097074</td>\n",
       "      <td>10010</td>\n",
       "      <td>['amt']</td>\n",
       "      <td>0.450350</td>\n",
       "      <td>37088</td>\n",
       "      <td>0.001726</td>\n",
       "      <td>NaN</td>\n",
       "      <td>NaN</td>\n",
       "      <td>NaN</td>\n",
       "    </tr>\n",
       "    <tr>\n",
       "      <th>1</th>\n",
       "      <td>GMM</td>\n",
       "      <td>0.082634</td>\n",
       "      <td>0.692003</td>\n",
       "      <td>0.003410</td>\n",
       "      <td>0.609375</td>\n",
       "      <td>0.006782</td>\n",
       "      <td>0.650760</td>\n",
       "      <td>False</td>\n",
       "      <td>pyod</td>\n",
       "      <td>0.097074</td>\n",
       "      <td>10010</td>\n",
       "      <td>['amt']</td>\n",
       "      <td>0.450350</td>\n",
       "      <td>37088</td>\n",
       "      <td>0.001726</td>\n",
       "      <td>NaN</td>\n",
       "      <td>NaN</td>\n",
       "      <td>NaN</td>\n",
       "    </tr>\n",
       "    <tr>\n",
       "      <th>2</th>\n",
       "      <td>HBOS</td>\n",
       "      <td>0.002123</td>\n",
       "      <td>0.936368</td>\n",
       "      <td>0.020868</td>\n",
       "      <td>0.781250</td>\n",
       "      <td>0.040650</td>\n",
       "      <td>0.858943</td>\n",
       "      <td>False</td>\n",
       "      <td>pyod</td>\n",
       "      <td>0.097074</td>\n",
       "      <td>10010</td>\n",
       "      <td>['amt']</td>\n",
       "      <td>0.450350</td>\n",
       "      <td>37088</td>\n",
       "      <td>0.001726</td>\n",
       "      <td>NaN</td>\n",
       "      <td>NaN</td>\n",
       "      <td>NaN</td>\n",
       "    </tr>\n",
       "    <tr>\n",
       "      <th>3</th>\n",
       "      <td>IForest</td>\n",
       "      <td>0.144727</td>\n",
       "      <td>0.815358</td>\n",
       "      <td>0.007263</td>\n",
       "      <td>0.781250</td>\n",
       "      <td>0.014393</td>\n",
       "      <td>0.798334</td>\n",
       "      <td>False</td>\n",
       "      <td>pyod</td>\n",
       "      <td>0.097074</td>\n",
       "      <td>10010</td>\n",
       "      <td>['amt']</td>\n",
       "      <td>0.450350</td>\n",
       "      <td>37088</td>\n",
       "      <td>0.001726</td>\n",
       "      <td>NaN</td>\n",
       "      <td>NaN</td>\n",
       "      <td>NaN</td>\n",
       "    </tr>\n",
       "    <tr>\n",
       "      <th>4</th>\n",
       "      <td>INNE</td>\n",
       "      <td>0.326223</td>\n",
       "      <td>0.766636</td>\n",
       "      <td>0.005070</td>\n",
       "      <td>0.687500</td>\n",
       "      <td>0.010065</td>\n",
       "      <td>0.727136</td>\n",
       "      <td>False</td>\n",
       "      <td>pyod</td>\n",
       "      <td>0.097074</td>\n",
       "      <td>10010</td>\n",
       "      <td>['amt']</td>\n",
       "      <td>0.450350</td>\n",
       "      <td>37088</td>\n",
       "      <td>0.001726</td>\n",
       "      <td>NaN</td>\n",
       "      <td>NaN</td>\n",
       "      <td>NaN</td>\n",
       "    </tr>\n",
       "    <tr>\n",
       "      <th>...</th>\n",
       "      <td>...</td>\n",
       "      <td>...</td>\n",
       "      <td>...</td>\n",
       "      <td>...</td>\n",
       "      <td>...</td>\n",
       "      <td>...</td>\n",
       "      <td>...</td>\n",
       "      <td>...</td>\n",
       "      <td>...</td>\n",
       "      <td>...</td>\n",
       "      <td>...</td>\n",
       "      <td>...</td>\n",
       "      <td>...</td>\n",
       "      <td>...</td>\n",
       "      <td>...</td>\n",
       "      <td>...</td>\n",
       "      <td>...</td>\n",
       "      <td>...</td>\n",
       "    </tr>\n",
       "    <tr>\n",
       "      <th>1643</th>\n",
       "      <td>LODA</td>\n",
       "      <td>1.380267</td>\n",
       "      <td>0.990775</td>\n",
       "      <td>0.000000</td>\n",
       "      <td>0.000000</td>\n",
       "      <td>0.000000</td>\n",
       "      <td>0.499843</td>\n",
       "      <td>False</td>\n",
       "      <td>pyod</td>\n",
       "      <td>0.009000</td>\n",
       "      <td>500499</td>\n",
       "      <td>['amt']</td>\n",
       "      <td>0.009029</td>\n",
       "      <td>166834</td>\n",
       "      <td>0.008913</td>\n",
       "      <td>NaN</td>\n",
       "      <td>NaN</td>\n",
       "      <td>NaN</td>\n",
       "    </tr>\n",
       "    <tr>\n",
       "      <th>1644</th>\n",
       "      <td>LOF</td>\n",
       "      <td>1.171791</td>\n",
       "      <td>0.982414</td>\n",
       "      <td>0.001378</td>\n",
       "      <td>0.001345</td>\n",
       "      <td>0.001361</td>\n",
       "      <td>0.496291</td>\n",
       "      <td>False</td>\n",
       "      <td>pyod</td>\n",
       "      <td>0.009000</td>\n",
       "      <td>500499</td>\n",
       "      <td>['amt']</td>\n",
       "      <td>0.009029</td>\n",
       "      <td>166834</td>\n",
       "      <td>0.008913</td>\n",
       "      <td>NaN</td>\n",
       "      <td>NaN</td>\n",
       "      <td>NaN</td>\n",
       "    </tr>\n",
       "    <tr>\n",
       "      <th>1645</th>\n",
       "      <td>MCD</td>\n",
       "      <td>0.101797</td>\n",
       "      <td>0.990787</td>\n",
       "      <td>0.482782</td>\n",
       "      <td>0.471419</td>\n",
       "      <td>0.477033</td>\n",
       "      <td>0.733439</td>\n",
       "      <td>False</td>\n",
       "      <td>pyod</td>\n",
       "      <td>0.009000</td>\n",
       "      <td>500499</td>\n",
       "      <td>['amt']</td>\n",
       "      <td>0.009029</td>\n",
       "      <td>166834</td>\n",
       "      <td>0.008913</td>\n",
       "      <td>NaN</td>\n",
       "      <td>NaN</td>\n",
       "      <td>NaN</td>\n",
       "    </tr>\n",
       "    <tr>\n",
       "      <th>1646</th>\n",
       "      <td>PCA</td>\n",
       "      <td>0.029553</td>\n",
       "      <td>0.990787</td>\n",
       "      <td>0.482782</td>\n",
       "      <td>0.471419</td>\n",
       "      <td>0.477033</td>\n",
       "      <td>0.733439</td>\n",
       "      <td>False</td>\n",
       "      <td>pyod</td>\n",
       "      <td>0.009000</td>\n",
       "      <td>500499</td>\n",
       "      <td>['amt']</td>\n",
       "      <td>0.009029</td>\n",
       "      <td>166834</td>\n",
       "      <td>0.008913</td>\n",
       "      <td>NaN</td>\n",
       "      <td>NaN</td>\n",
       "      <td>NaN</td>\n",
       "    </tr>\n",
       "    <tr>\n",
       "      <th>1647</th>\n",
       "      <td>ROD</td>\n",
       "      <td>15.238129</td>\n",
       "      <td>0.978524</td>\n",
       "      <td>0.000477</td>\n",
       "      <td>0.000672</td>\n",
       "      <td>0.000558</td>\n",
       "      <td>0.493995</td>\n",
       "      <td>False</td>\n",
       "      <td>pyod</td>\n",
       "      <td>0.009000</td>\n",
       "      <td>500499</td>\n",
       "      <td>['amt']</td>\n",
       "      <td>0.009029</td>\n",
       "      <td>166834</td>\n",
       "      <td>0.008913</td>\n",
       "      <td>NaN</td>\n",
       "      <td>NaN</td>\n",
       "      <td>NaN</td>\n",
       "    </tr>\n",
       "  </tbody>\n",
       "</table>\n",
       "<p>1594 rows × 18 columns</p>\n",
       "</div>"
      ],
      "text/plain": [
       "        model       time       acc       pre       rec        f1       auc  \\\n",
       "0        ECOD   0.003704  0.591404  0.003553  0.843750  0.007076  0.717359   \n",
       "1         GMM   0.082634  0.692003  0.003410  0.609375  0.006782  0.650760   \n",
       "2        HBOS   0.002123  0.936368  0.020868  0.781250  0.040650  0.858943   \n",
       "3     IForest   0.144727  0.815358  0.007263  0.781250  0.014393  0.798334   \n",
       "4        INNE   0.326223  0.766636  0.005070  0.687500  0.010065  0.727136   \n",
       "...       ...        ...       ...       ...       ...       ...       ...   \n",
       "1643     LODA   1.380267  0.990775  0.000000  0.000000  0.000000  0.499843   \n",
       "1644      LOF   1.171791  0.982414  0.001378  0.001345  0.001361  0.496291   \n",
       "1645      MCD   0.101797  0.990787  0.482782  0.471419  0.477033  0.733439   \n",
       "1646      PCA   0.029553  0.990787  0.482782  0.471419  0.477033  0.733439   \n",
       "1647      ROD  15.238129  0.978524  0.000477  0.000672  0.000558  0.493995   \n",
       "\n",
       "      graph_based method  throw_rate  train_size train_cols  train_frate  \\\n",
       "0           False   pyod    0.097074       10010    ['amt']     0.450350   \n",
       "1           False   pyod    0.097074       10010    ['amt']     0.450350   \n",
       "2           False   pyod    0.097074       10010    ['amt']     0.450350   \n",
       "3           False   pyod    0.097074       10010    ['amt']     0.450350   \n",
       "4           False   pyod    0.097074       10010    ['amt']     0.450350   \n",
       "...           ...    ...         ...         ...        ...          ...   \n",
       "1643        False   pyod    0.009000      500499    ['amt']     0.009029   \n",
       "1644        False   pyod    0.009000      500499    ['amt']     0.009029   \n",
       "1645        False   pyod    0.009000      500499    ['amt']     0.009029   \n",
       "1646        False   pyod    0.009000      500499    ['amt']     0.009029   \n",
       "1647        False   pyod    0.009000      500499    ['amt']     0.009029   \n",
       "\n",
       "      test_size  test_frate  hyper_params  theta  gamma  \n",
       "0         37088    0.001726           NaN    NaN    NaN  \n",
       "1         37088    0.001726           NaN    NaN    NaN  \n",
       "2         37088    0.001726           NaN    NaN    NaN  \n",
       "3         37088    0.001726           NaN    NaN    NaN  \n",
       "4         37088    0.001726           NaN    NaN    NaN  \n",
       "...         ...         ...           ...    ...    ...  \n",
       "1643     166834    0.008913           NaN    NaN    NaN  \n",
       "1644     166834    0.008913           NaN    NaN    NaN  \n",
       "1645     166834    0.008913           NaN    NaN    NaN  \n",
       "1646     166834    0.008913           NaN    NaN    NaN  \n",
       "1647     166834    0.008913           NaN    NaN    NaN  \n",
       "\n",
       "[1594 rows x 18 columns]"
      ]
     },
     "execution_count": 57,
     "metadata": {},
     "output_type": "execute_result"
    }
   ],
   "source": [
    "merged_df"
   ]
  },
  {
   "cell_type": "markdown",
   "id": "6b5d3fb7-6c08-4a0a-9b45-99e963da5e36",
   "metadata": {},
   "source": [
    "`-` 전체 데이터, train, test data의 비율이 비슷한 것 추출"
   ]
  },
  {
   "cell_type": "code",
   "execution_count": 18,
   "id": "62fe35b8-0956-4754-a51b-3cef7142a651",
   "metadata": {},
   "outputs": [],
   "source": [
    "condition1 = abs(merged_df['throw_rate'] - merged_df['train_frate']) <= 0.05\n",
    "condition2 = abs(merged_df['throw_rate'] - merged_df['test_frate']) <= 0.05\n",
    "filtered_df = merged_df[condition1 & condition2]"
   ]
  },
  {
   "cell_type": "code",
   "execution_count": 60,
   "id": "b259e1be-cf9b-47d0-ada3-7de9edc0937e",
   "metadata": {
    "tags": []
   },
   "outputs": [],
   "source": [
    "def plot_merged_df(merged_df):\n",
    "\n",
    "    condition1 = abs(merged_df['throw_rate'] - merged_df['train_frate']) <= 0.05\n",
    "    condition2 = abs(merged_df['throw_rate'] - merged_df['test_frate']) <= 0.05\n",
    "    filtered_df = merged_df[condition1 & condition2]\n",
    "\n",
    "    filtered_df = filtered_df.sort_values(by=['throw_rate', 'model', 'auc'], ascending=[True, True, False]) \\\n",
    "        .drop_duplicates(subset=['throw_rate', 'model'])\n",
    "\n",
    "    fig, ax = plt.subplots()\n",
    "    for model, group in filtered_df.groupby('model'):\n",
    "        ax.plot(group['throw_rate'], group['auc'], label=model)\n",
    "    ax.set_xlabel('Throw Rate')\n",
    "    ax.set_ylabel('AUC')\n",
    "    ax.set_xlim(0.01, 0.5)\n",
    "    ax.set_ylim(0.85, 1)\n",
    "    ax.legend(bbox_to_anchor=(1.05, 1), loc='upper left')\n",
    "    \n",
    "    plt.tight_layout()  "
   ]
  },
  {
   "cell_type": "code",
   "execution_count": 61,
   "id": "b841a4b2-06c6-4f84-8cd1-c8be94886682",
   "metadata": {},
   "outputs": [
    {
     "data": {
      "image/png": "[encoded data removed]",
      "text/plain": [
       "<Figure size 640x480 with 1 Axes>"
      ]
     },
     "metadata": {},
     "output_type": "display_data"
    }
   ],
   "source": [
    "plot_merged_df(merged_df)\n"
   ]
  },
  {
   "cell_type": "code",
   "execution_count": 62,
   "id": "59a89676-9dbc-48fb-bc3b-b822d19b7549",
   "metadata": {},
   "outputs": [
    {
     "data": {
      "image/png": "[encoded data removed]",
      "text/plain": [
       "<Figure size 640x480 with 1 Axes>"
      ]
     },
     "metadata": {},
     "output_type": "display_data"
    }
   ],
   "source": [
    "def plot_merged_df2(merged_df):\n",
    "\n",
    "    condition1 = abs(merged_df['throw_rate'] - merged_df['train_frate']) <= 0.05\n",
    "    condition2 = abs(merged_df['throw_rate'] - merged_df['test_frate']) <= 0.05\n",
    "    filtered_df = merged_df[condition1 & condition2]\n",
    "\n",
    "\n",
    "    filtered_df = filtered_df.sort_values(by=['throw_rate', 'model', 'auc'], ascending=[True, True, False]) \\\n",
    "        .drop_duplicates(subset=['throw_rate', 'model'])\n",
    "\n",
    "\n",
    "    fig, ax = plt.subplots()\n",
    "    for model, group in filtered_df.groupby('model'):\n",
    "        ax.plot(group['throw_rate'], group['auc'], label=model)\n",
    "        \n",
    "    ax.set_xlabel('Throw Rate')\n",
    "    ax.set_ylabel('AUC')\n",
    "    ax.set_xlim(0.01, 0.5)\n",
    "    ax.set_ylim(0.85, 1)\n",
    "    \n",
    "\n",
    "    handles, labels = ax.get_legend_handles_labels()\n",
    "    unique_labels = set(labels)\n",
    "    filtered_handles = [h for h, l in zip(handles, labels) if l in unique_labels]\n",
    "    filtered_labels = [l for l in labels if l in unique_labels]\n",
    "    \n",
    " \n",
    "    ax.legend(filtered_handles, filtered_labels, bbox_to_anchor=(1.05, 1), loc='upper left')\n",
    "    \n",
    "    plt.tight_layout()  \n",
    "    plt.show()\n",
    "\n",
    "\n",
    "\n",
    "plot_merged_df2(merged_df)\n"
   ]
  },
  {
   "cell_type": "code",
   "execution_count": 88,
   "id": "99215581-8c7c-4c03-9288-7675a9cc1baf",
   "metadata": {},
   "outputs": [
    {
     "data": {
      "application/vnd.plotly.v1+json": {
       "config": {
        "plotlyServerURL": "https://plot.ly"
       },
       "data": [
        {
         "mode": "lines+markers",
         "name": "GCN",
         "type": "scatter",
         "x": [
          0.005808,
          0.01,
          0.02,
          0.03,
          0.04,
          0.052,
          0.0540001078923234,
          0.056,
          0.0579998454882571,
          0.06,
          0.0619999793539862,
          0.0639998295042837,
          0.066,
          0.067999637697568,
          0.07,
          0.0719997122888619,
          0.0740001478524432,
          0.0760003036975172,
          0.078,
          0.08,
          0.0819998907760362,
          0.084,
          0.0860002577430302,
          0.088,
          0.090000449552695,
          0.0919994485547539,
          0.0939994365668137,
          0.096000767238899,
          0.097999543125673,
          0.1,
          0.2,
          0.3,
          0.4,
          0.5,
          0.6,
          0.7,
          0.8000532836019715,
          0.900044957290574
         ],
         "y": [
          0.8227194423103044,
          0.8957701853090123,
          0.972261964504144,
          0.971024853474886,
          0.9805390932018808,
          0.9833788631028654,
          0.984616243258382,
          0.9845632709116086,
          0.9829077089955638,
          0.9849147658616656,
          0.9825650924617954,
          0.9846817999298088,
          0.9844893882821896,
          0.9847393343873472,
          0.9843780500350572,
          0.9855229744228868,
          0.9830374848672728,
          0.9847792419721692,
          0.981971570308922,
          0.9848754045122846,
          0.9842007001223884,
          0.9839273827199272,
          0.9834611062929206,
          0.9791169528990256,
          0.9838487237116292,
          0.9848878819612128,
          0.9853771993720448,
          0.9837551853727196,
          0.9829541416179732,
          0.9768628643475796,
          0.9892593917192792,
          0.9726554459793596,
          0.964189281363044,
          0.9870650846952088,
          0.9625746724314336,
          0.9556980245559402,
          0.9713741619326828,
          0.950313753318928
         ]
        },
        {
         "mode": "lines+markers",
         "name": "XGBoost_BAG_L1",
         "type": "scatter",
         "x": [
          0.5
         ],
         "y": [
          0.9614147954552318
         ]
        },
        {
         "mode": "lines+markers",
         "name": "LightGBM_BAG_L1",
         "type": "scatter",
         "x": [
          0.5
         ],
         "y": [
          0.9611288524503282
         ]
        },
        {
         "mode": "lines+markers",
         "name": "LightGBMLarge_BAG_L1",
         "type": "scatter",
         "x": [
          0.5
         ],
         "y": [
          0.96059178493142
         ]
        },
        {
         "mode": "lines+markers",
         "name": "CatBoost_BAG_L1",
         "type": "scatter",
         "x": [
          0.5
         ],
         "y": [
          0.9585887973200238
         ]
        },
        {
         "mode": "lines+markers",
         "name": "LightGBMXT_BAG_L1",
         "type": "scatter",
         "x": [
          0.5
         ],
         "y": [
          0.9559093141620052
         ]
        },
        {
         "mode": "lines+markers",
         "name": "NeuralNetTorch_BAG_L1",
         "type": "scatter",
         "x": [
          0.5
         ],
         "y": [
          0.9528223314091752
         ]
        },
        {
         "mode": "lines+markers",
         "name": "NeuralNetTorch",
         "type": "scatter",
         "x": [
          0.0054779052734375,
          0.0057048688795683,
          0.0057277515571072,
          0.0057299974813197,
          0.0058078544317076,
          0.005836458986001,
          0.0058937128960732,
          0.006,
          0.007,
          0.008,
          0.0090000044955067,
          0.01,
          0.02,
          0.03,
          0.04,
          0.1,
          0.2,
          0.3,
          0.4,
          0.5,
          0.6,
          0.7,
          0.8000532836019715,
          0.900044957290574
         ],
         "y": [
          0.9369976069215192,
          0.938496252244065,
          0.9556552594612692,
          0.9578546027865368,
          0.9386610334055276,
          0.9320575557991108,
          0.9520315049190714,
          0.9621627968366016,
          0.9630198771536552,
          0.9584665121121771,
          0.9532528294171796,
          0.9621611285446082,
          0.9599703529518409,
          0.9515790729085416,
          0.960539475350703,
          0.9571730448586746,
          0.9599822706619512,
          0.9571810972909875,
          0.9573541763465456,
          0.9517552833208336,
          0.924067166629454,
          0.9315668988106002,
          0.9417328868202977,
          0.8921017402945114
         ]
        },
        {
         "mode": "lines+markers",
         "name": "ExtraTreesEntr_BAG_L1",
         "type": "scatter",
         "x": [
          0.5
         ],
         "y": [
          0.9439699611943296
         ]
        },
        {
         "mode": "lines+markers",
         "name": "ExtraTreesGini_BAG_L1",
         "type": "scatter",
         "x": [
          0.5
         ],
         "y": [
          0.9432110413440308
         ]
        },
        {
         "mode": "lines+markers",
         "name": "KNeighborsUnif_BAG_L1",
         "type": "scatter",
         "x": [
          0.5
         ],
         "y": [
          0.9391580765649372
         ]
        },
        {
         "mode": "lines+markers",
         "name": "LightGBMLarge",
         "type": "scatter",
         "x": [
          0.0054779052734375,
          0.0057048688795683,
          0.0057277515571072,
          0.0057299974813197,
          0.0058078544317076,
          0.005836458986001,
          0.0058937128960732,
          0.006,
          0.007,
          0.008,
          0.0090000044955067,
          0.01,
          0.02,
          0.03,
          0.04,
          0.1,
          0.2,
          0.3,
          0.4,
          0.5,
          0.6,
          0.7,
          0.8000532836019715,
          0.900044957290574
         ],
         "y": [
          0.8657211784976998,
          0.8907153286603392,
          0.9179461716093864,
          0.9604553319102764,
          0.926201416874107,
          0.776446200627791,
          0.9079761755406262,
          0.961153409911689,
          0.9626665021162266,
          0.9611305510565562,
          0.9606778949684298,
          0.9634093941126533,
          0.9592190322318336,
          0.9576300790028198,
          0.9602107096843524,
          0.9585782356053874,
          0.96431857878232,
          0.960448443146034,
          0.9576756972491274,
          0.9594742038120392,
          0.9560770433023812,
          0.946166299850156,
          0.9507284216899384,
          0.942956588257793
         ]
        },
        {
         "mode": "lines+markers",
         "name": "RandomForestGini_BAG_L1",
         "type": "scatter",
         "x": [
          0.5
         ],
         "y": [
          0.9383607947490018
         ]
        },
        {
         "mode": "lines+markers",
         "name": "RandomForestEntr_BAG_L1",
         "type": "scatter",
         "x": [
          0.5
         ],
         "y": [
          0.9383607947490018
         ]
        },
        {
         "mode": "lines+markers",
         "name": "LightGBM",
         "type": "scatter",
         "x": [
          0.0054779052734375,
          0.0057048688795683,
          0.0057277515571072,
          0.0057299974813197,
          0.0058078544317076,
          0.005836458986001,
          0.0058937128960732,
          0.006,
          0.007,
          0.008,
          0.0090000044955067,
          0.01,
          0.02,
          0.03,
          0.04,
          0.1,
          0.2,
          0.3,
          0.4,
          0.5,
          0.6,
          0.7,
          0.8000532836019715,
          0.900044957290574
         ],
         "y": [
          0.8545976482520229,
          0.8366975545321087,
          0.8788370670518683,
          0.9604377199088544,
          0.929551167584517,
          0.8557809149157845,
          0.8715052677118452,
          0.9561412293786358,
          0.9615653909961236,
          0.9611134742243056,
          0.9612828098821968,
          0.9647051598734911,
          0.9605858046982928,
          0.9601183953485116,
          0.9617966176890856,
          0.9626458181491429,
          0.9643689051874224,
          0.9618389060221266,
          0.9597576158309208,
          0.9605176649711062,
          0.9583580687952296,
          0.9486747844303536,
          0.953994967268324,
          0.9543813348632626
         ]
        },
        {
         "mode": "lines+markers",
         "name": "XGBoost",
         "type": "scatter",
         "x": [
          0.0054779052734375,
          0.0057048688795683,
          0.0057277515571072,
          0.0057299974813197,
          0.0058078544317076,
          0.005836458986001,
          0.0058937128960732,
          0.006,
          0.007,
          0.008,
          0.0090000044955067,
          0.01,
          0.02,
          0.03,
          0.04,
          0.1,
          0.2,
          0.3,
          0.4,
          0.5,
          0.6,
          0.7,
          0.8000532836019715,
          0.900044957290574
         ],
         "y": [
          0.8630346075964902,
          0.8384238045660513,
          0.9503450885500856,
          0.9396078014490898,
          0.8476767243942549,
          0.8585623127012082,
          0.8730865273901834,
          0.9407125645335488,
          0.9425060249739012,
          0.9402626180903976,
          0.9394693369652116,
          0.946136942016268,
          0.9449349449027916,
          0.9449572480239448,
          0.9465066569811724,
          0.9559388072963988,
          0.9602165818283086,
          0.9622132762982298,
          0.9572989265758842,
          0.9607825131026624,
          0.9594169873520796,
          0.9485173546814308,
          0.9506801755780072,
          0.9518129661503156
         ]
        },
        {
         "mode": "lines+markers",
         "name": "CatBoost",
         "type": "scatter",
         "x": [
          0.0054779052734375,
          0.0057048688795683,
          0.0057277515571072,
          0.0057299974813197,
          0.0058078544317076,
          0.005836458986001,
          0.0058937128960732,
          0.006,
          0.007,
          0.008,
          0.0090000044955067,
          0.01,
          0.02,
          0.03,
          0.04,
          0.1,
          0.2,
          0.3,
          0.4,
          0.5,
          0.6,
          0.7,
          0.8000532836019715,
          0.900044957290574
         ],
         "y": [
          0.8983519109010263,
          0.8106382596608648,
          0.8554295562473692,
          0.8721619815373027,
          0.8756742156589765,
          0.8768896490400062,
          0.8497162403229578,
          0.8747199613669688,
          0.8749451561475775,
          0.8752653520685303,
          0.870740427450423,
          0.9370699268381976,
          0.9382805023112878,
          0.9288097554847627,
          0.9517052877217616,
          0.955305863676754,
          0.9662117430460136,
          0.9487028539226342,
          0.9561966117445226,
          0.9567597480990028,
          0.9497452028526776,
          0.926345219019592,
          0.9573627350815456,
          0.95726716389367
         ]
        },
        {
         "mode": "lines+markers",
         "name": "KNeighborsDist_BAG_L1",
         "type": "scatter",
         "x": [
          0.5
         ],
         "y": [
          0.907189309675658
         ]
        },
        {
         "mode": "lines+markers",
         "name": "ExtraTreesEntr",
         "type": "scatter",
         "x": [
          0.0054779052734375,
          0.0057048688795683,
          0.0057277515571072,
          0.0057299974813197,
          0.0058078544317076,
          0.005836458986001,
          0.0058937128960732,
          0.006,
          0.007,
          0.008,
          0.0090000044955067,
          0.01,
          0.02,
          0.03,
          0.04,
          0.1,
          0.2,
          0.3,
          0.4,
          0.5,
          0.6,
          0.7,
          0.8000532836019715,
          0.900044957290574
         ],
         "y": [
          0.8797852753380321,
          0.8708118522373279,
          0.9014130432857176,
          0.8448299881720613,
          0.883055782957162,
          0.9025435375340768,
          0.9182988507564592,
          0.8492449759056311,
          0.85558206184399,
          0.8584061541914436,
          0.8666333776004175,
          0.8791779135087916,
          0.8849562248358903,
          0.8886013638808863,
          0.8968888093573564,
          0.9236386645234078,
          0.9408233693257402,
          0.945615677996278,
          0.94167024077582,
          0.9580978758026406,
          0.9402021303142936,
          0.9310052435017364,
          0.9326228856850948,
          0.9131937272901128
         ]
        },
        {
         "mode": "lines+markers",
         "name": "ExtraTreesGini",
         "type": "scatter",
         "x": [
          0.0054779052734375,
          0.0057048688795683,
          0.0057277515571072,
          0.0057299974813197,
          0.0058078544317076,
          0.005836458986001,
          0.0058937128960732,
          0.006,
          0.007,
          0.008,
          0.0090000044955067,
          0.01,
          0.02,
          0.03,
          0.04,
          0.1,
          0.2,
          0.3,
          0.4,
          0.5,
          0.6,
          0.7,
          0.8000532836019715,
          0.900044957290574
         ],
         "y": [
          0.8741256059397434,
          0.8779160813393824,
          0.9029600859318248,
          0.8429386987106569,
          0.8897009580878924,
          0.9000092292524084,
          0.9087604546790669,
          0.8502902785886031,
          0.8568623182189707,
          0.8576028232992694,
          0.8672089313968359,
          0.8778331686238725,
          0.8860208702421754,
          0.8891956071560825,
          0.8977330456371582,
          0.9233493495342406,
          0.941221015629734,
          0.9439231256908772,
          0.9406100706482242,
          0.957668440306248,
          0.9397999054361104,
          0.9315585856885448,
          0.9293648541264616,
          0.9179269458787532
         ]
        },
        {
         "mode": "lines+markers",
         "name": "NeuralNetFastAI_BAG_L1",
         "type": "scatter",
         "x": [
          0.5
         ],
         "y": [
          0.8958666753764248
         ]
        },
        {
         "mode": "lines+markers",
         "name": "RandomForestGini",
         "type": "scatter",
         "x": [
          0.0054779052734375,
          0.0057048688795683,
          0.0057277515571072,
          0.0057299974813197,
          0.0058078544317076,
          0.005836458986001,
          0.0058937128960732,
          0.006,
          0.007,
          0.008,
          0.0090000044955067,
          0.01,
          0.02,
          0.03,
          0.04,
          0.1,
          0.2,
          0.3,
          0.4,
          0.5,
          0.6,
          0.7,
          0.8000532836019715,
          0.900044957290574
         ],
         "y": [
          0.8630061311615774,
          0.855765704329606,
          0.892117365671228,
          0.8229141939380658,
          0.8788187491559278,
          0.8765395635028103,
          0.9086414762450096,
          0.8267866007414957,
          0.8331964424734359,
          0.8383046328999013,
          0.8509052373182866,
          0.8568176388261816,
          0.8743123791089622,
          0.8806979290047019,
          0.8900653372287874,
          0.9181317455246158,
          0.9340922126432792,
          0.9389708716895956,
          0.9363010353002846,
          0.9565968479079658,
          0.9360176781938296,
          0.925626653531934,
          0.9195094032618156,
          0.903513100019124
         ]
        },
        {
         "mode": "lines+markers",
         "name": "RandomForestEntr",
         "type": "scatter",
         "x": [
          0.0054779052734375,
          0.0057048688795683,
          0.0057277515571072,
          0.0057299974813197,
          0.0058078544317076,
          0.005836458986001,
          0.0058937128960732,
          0.006,
          0.007,
          0.008,
          0.0090000044955067,
          0.01,
          0.02,
          0.03,
          0.04,
          0.1,
          0.2,
          0.3,
          0.4,
          0.5,
          0.6,
          0.7,
          0.8000532836019715,
          0.900044957290574
         ],
         "y": [
          0.8662188548911407,
          0.8523979743178954,
          0.890628779121935,
          0.8229141939380658,
          0.8792919853299564,
          0.8712322384854979,
          0.909114700653889,
          0.8267866007414957,
          0.8331964424734359,
          0.8383046328999013,
          0.8509052373182866,
          0.8568176388261816,
          0.8743123791089622,
          0.8806979290047019,
          0.8900653372287874,
          0.9181317455246158,
          0.9340922126432792,
          0.9389708716895956,
          0.9363010353002846,
          0.9557306569919464,
          0.9360176781938296,
          0.925626653531934,
          0.9195094032618156,
          0.903513100019124
         ]
        },
        {
         "mode": "lines+markers",
         "name": "NeuralNetFastAI",
         "type": "scatter",
         "x": [
          0.0054779052734375,
          0.0057048688795683,
          0.0057277515571072,
          0.0057299974813197,
          0.0058078544317076,
          0.005836458986001,
          0.0058937128960732,
          0.006,
          0.007,
          0.008,
          0.0090000044955067,
          0.01,
          0.02,
          0.03,
          0.04,
          0.1,
          0.2,
          0.3,
          0.4,
          0.5,
          0.6,
          0.7,
          0.8000532836019715,
          0.900044957290574
         ],
         "y": [
          0.7929642399454381,
          0.829781899062365,
          0.8530402825187247,
          0.9204457432539848,
          0.8345624135433913,
          0.7049133348964497,
          0.741086661921354,
          0.9313132908355726,
          0.935917090856121,
          0.9097847985072256,
          0.8921275596905563,
          0.9279879751335708,
          0.9329615899207144,
          0.9349873495470984,
          0.9036161935270351,
          0.9284146207530029,
          0.8651544597488621,
          0.9020941899745788,
          0.9025371707351942,
          0.9059230157019008,
          0.8938415266814641,
          0.8662413465595106,
          0.8303089643167971,
          0.8907133295085102
         ]
        },
        {
         "mode": "lines+markers",
         "name": "MAD",
         "type": "scatter",
         "visible": true,
         "x": [
          0.0054779052734375,
          0.0057048688795683,
          0.0057277515571072,
          0.0058078544317076,
          0.005836458986001,
          0.5
         ],
         "y": [
          0.8871406667577518,
          0.8533317466781127,
          0.8343798689088272,
          0.8738160828769935,
          0.8354748594480821,
          0.7350365750427241
         ]
        },
        {
         "mode": "lines+markers",
         "name": "LightGBMXT",
         "type": "scatter",
         "x": [
          0.0054779052734375,
          0.0057048688795683,
          0.0057277515571072,
          0.0057299974813197,
          0.0058078544317076,
          0.005836458986001,
          0.0058937128960732,
          0.006,
          0.007,
          0.008,
          0.0090000044955067,
          0.01,
          0.02,
          0.03,
          0.04,
          0.1,
          0.2,
          0.3,
          0.4,
          0.5,
          0.6,
          0.7,
          0.8000532836019715,
          0.900044957290574
         ],
         "y": [
          0.7904375073615552,
          0.757866858852228,
          0.7936158447907511,
          0.7661463016726321,
          0.7776126221507875,
          0.7672146257598733,
          0.7860301173557652,
          0.763076206330739,
          0.7675276517573177,
          0.7661086872167991,
          0.7632822777116857,
          0.7666228422862466,
          0.7715834287575478,
          0.7729211149250503,
          0.7740774836324794,
          0.9452827504268214,
          0.9564296891035546,
          0.9350279369827128,
          0.924720623801184,
          0.9560891114145552,
          0.947974756694992,
          0.9350677623361536,
          0.9423487342490636,
          0.9458997896347294
         ]
        },
        {
         "mode": "lines+markers",
         "name": "KNeighborsUnif",
         "type": "scatter",
         "x": [
          0.0054779052734375,
          0.0057048688795683,
          0.0057277515571072,
          0.0057299974813197,
          0.0058078544317076,
          0.005836458986001,
          0.0058937128960732,
          0.006,
          0.007,
          0.008,
          0.0090000044955067,
          0.01,
          0.02,
          0.03,
          0.04,
          0.1,
          0.2,
          0.3,
          0.4,
          0.5,
          0.6,
          0.7,
          0.8000532836019715,
          0.900044957290574
         ],
         "y": [
          0.6416825182548935,
          0.6818557879602288,
          0.7130564621852414,
          0.7884110934129339,
          0.6860674046149835,
          0.6441070011654708,
          0.7258450773774561,
          0.7934002149072312,
          0.8037709878691257,
          0.805920684260683,
          0.8147314490658458,
          0.8231313663547208,
          0.851237528755015,
          0.8628121139918462,
          0.8700945505515476,
          0.9077252917860602,
          0.927650263530948,
          0.9372398083038403,
          0.9363737088530684,
          0.9387151422227508,
          0.9396751336371636,
          0.9188078151660442,
          0.919507511257426,
          0.8978236756550009
         ]
        },
        {
         "mode": "lines+markers",
         "name": "KNeighborsDist",
         "type": "scatter",
         "x": [
          0.0054779052734375,
          0.0057048688795683,
          0.0057277515571072,
          0.0057299974813197,
          0.0058078544317076,
          0.005836458986001,
          0.0058937128960732,
          0.006,
          0.007,
          0.008,
          0.0090000044955067,
          0.01,
          0.02,
          0.03,
          0.04,
          0.1,
          0.2,
          0.3,
          0.4,
          0.5,
          0.6,
          0.7,
          0.8000532836019715,
          0.900044957290574
         ],
         "y": [
          0.6422405858493101,
          0.6821899701685021,
          0.713639933063,
          0.7569988560495097,
          0.6865299422612963,
          0.6446089553637405,
          0.7264635902662682,
          0.764214470704088,
          0.7730590585017278,
          0.7783238951417738,
          0.7882179059658573,
          0.7957479978090074,
          0.8354590915614779,
          0.8495269977549701,
          0.8552692440886208,
          0.8939123293962599,
          0.9059441803436572,
          0.9071967145984474,
          0.9085473331188868,
          0.9081542132530884,
          0.9059460329134872,
          0.8958973703516658,
          0.8905286260264123,
          0.8702027156244023
         ]
        },
        {
         "mode": "lines+markers",
         "name": "KDE",
         "type": "scatter",
         "x": [
          0.0054779052734375,
          0.0057048688795683,
          0.0057277515571072,
          0.0058078544317076,
          0.005836458986001,
          0.01,
          0.02,
          0.03,
          0.04,
          0.5
         ],
         "y": [
          0.7017996941381316,
          0.7046160661222514,
          0.6894123059152205,
          0.6960281670386497,
          0.6759159792901781,
          0.7208659838104307,
          0.7455910655445565,
          0.7638843134099865,
          0.785215876052045,
          0.7608021487172115
         ]
        },
        {
         "mode": "lines+markers",
         "name": "OCSVM",
         "type": "scatter",
         "x": [
          0.0054779052734375,
          0.0057048688795683,
          0.0057277515571072,
          0.0058078544317076,
          0.005836458986001,
          0.01,
          0.02,
          0.03,
          0.04,
          0.5
         ],
         "y": [
          0.7007532096625035,
          0.706573567608021,
          0.6982468570354055,
          0.6957404138158135,
          0.675708754036327,
          0.7218210851868763,
          0.7458941282154117,
          0.7641630562418471,
          0.786471815960812,
          0.7030254268419287
         ]
        },
        {
         "mode": "lines+markers",
         "name": "MCD",
         "type": "scatter",
         "x": [
          0.0054779052734375,
          0.0057048688795683,
          0.0057277515571072,
          0.0057299974813197,
          0.0058078544317076,
          0.005836458986001,
          0.006,
          0.007,
          0.008,
          0.0090000044955067,
          0.01,
          0.02,
          0.03,
          0.04,
          0.5
         ],
         "y": [
          0.6837190928694055,
          0.6953695347523351,
          0.6900167221834201,
          0.6846343812289774,
          0.666936633818334,
          0.6681414594215637,
          0.6999733998073557,
          0.7105821489275548,
          0.7216554916323449,
          0.733438500546317,
          0.7335716983458763,
          0.7453343972095374,
          0.7612526071157413,
          0.7923286081119159,
          0.7695918715028776
         ]
        },
        {
         "mode": "lines+markers",
         "name": "GMM",
         "type": "scatter",
         "x": [
          0.0054779052734375,
          0.0057048688795683,
          0.0057277515571072,
          0.0057299974813197,
          0.0058078544317076,
          0.005836458986001,
          0.006,
          0.007,
          0.008,
          0.0090000044955067,
          0.01,
          0.02,
          0.03,
          0.04,
          0.5
         ],
         "y": [
          0.6837190928694055,
          0.6953695347523351,
          0.6900167221834201,
          0.6846343812289774,
          0.666936633818334,
          0.6681414594215637,
          0.6999733998073557,
          0.7105821489275548,
          0.7216554916323449,
          0.733438500546317,
          0.7335716983458763,
          0.7453343972095374,
          0.7612526071157413,
          0.7923286081119159,
          0.66209345535662
         ]
        },
        {
         "mode": "lines+markers",
         "name": "IForest",
         "type": "scatter",
         "x": [
          0.0054779052734375,
          0.0057048688795683,
          0.0057277515571072,
          0.0057299974813197,
          0.0058078544317076,
          0.005836458986001,
          0.006,
          0.007,
          0.008,
          0.0090000044955067,
          0.01,
          0.02,
          0.03,
          0.04,
          0.5
         ],
         "y": [
          0.6810309208263947,
          0.6934695839111327,
          0.6789903226239725,
          0.6816851070696499,
          0.6604292185511772,
          0.6681587281927179,
          0.6957320590531837,
          0.7085722707608961,
          0.720661502070502,
          0.7307575925519216,
          0.733322876149784,
          0.7453343972095374,
          0.7609635626521022,
          0.7923286081119159,
          0.6662088131478494
         ]
        },
        {
         "mode": "lines+markers",
         "name": "COPOD",
         "type": "scatter",
         "x": [
          0.0054779052734375,
          0.0057048688795683,
          0.0057277515571072,
          0.0058078544317076,
          0.005836458986001,
          0.5
         ],
         "y": [
          0.6837190928694055,
          0.6933890130087386,
          0.683347156557245,
          0.666936633818334,
          0.6766412676786563,
          0.7367821415832149
         ]
        },
        {
         "mode": "lines+markers",
         "name": "KNN",
         "type": "scatter",
         "x": [
          0.0054779052734375,
          0.0057048688795683,
          0.0057277515571072,
          0.0057299974813197,
          0.0058078544317076,
          0.005836458986001,
          0.006,
          0.007,
          0.008,
          0.0090000044955067,
          0.01,
          0.02,
          0.03,
          0.04,
          0.5
         ],
         "y": [
          0.6448350116689107,
          0.6611711991811758,
          0.6585921130392737,
          0.6385379427449277,
          0.6304936092105423,
          0.6476466039274347,
          0.6516992389307237,
          0.6579508123447336,
          0.6768351133952117,
          0.6913113893237726,
          0.6918966252575817,
          0.7285063760650697,
          0.7655355683637514,
          0.774632229800441,
          0.7219371729142376
         ]
        },
        {
         "mode": "lines+markers",
         "name": "INNE",
         "type": "scatter",
         "x": [
          0.0054779052734375,
          0.0057048688795683,
          0.0057277515571072,
          0.0057299974813197,
          0.0058078544317076,
          0.005836458986001,
          0.006,
          0.007,
          0.008,
          0.0090000044955067,
          0.01,
          0.02,
          0.03,
          0.04,
          0.5
         ],
         "y": [
          0.6629683467745764,
          0.7056404675955479,
          0.6789768911513457,
          0.6692040418338734,
          0.6669941844629013,
          0.6158819895847476,
          0.5832116634817566,
          0.6951026697041662,
          0.7140483311984308,
          0.6971878654622404,
          0.7010778675645367,
          0.7155750167139028,
          0.7594565305432358,
          0.7923286081119159,
          0.5837658984310531
         ]
        },
        {
         "mode": "lines+markers",
         "name": "PCA",
         "type": "scatter",
         "x": [
          0.0054779052734375,
          0.0057048688795683,
          0.0057277515571072,
          0.0057299974813197,
          0.0058078544317076,
          0.005836458986001,
          0.006,
          0.007,
          0.008,
          0.0090000044955067,
          0.01,
          0.02,
          0.03,
          0.04,
          0.5
         ],
         "y": [
          0.6837190928694055,
          0.6953695347523351,
          0.6900167221834201,
          0.6846343812289774,
          0.666936633818334,
          0.6681414594215637,
          0.6999733998073557,
          0.7105821489275548,
          0.7216554916323449,
          0.733438500546317,
          0.7335716983458763,
          0.7420046989821099,
          0.7488684943494257,
          0.7361946619458456,
          0.2348029898899554
         ]
        },
        {
         "mode": "lines+markers",
         "name": "ECOD",
         "type": "scatter",
         "x": [
          0.0054779052734375,
          0.0057048688795683,
          0.0057277515571072,
          0.0057299974813197,
          0.0058078544317076,
          0.005836458986001,
          0.006,
          0.007,
          0.008,
          0.0090000044955067,
          0.01,
          0.02,
          0.03,
          0.04,
          0.5
         ],
         "y": [
          0.5458550238504933,
          0.5553748174887925,
          0.5442827257830549,
          0.5579118617566292,
          0.5572047054829883,
          0.5753758041888084,
          0.558199956957239,
          0.5781824595317537,
          0.5983350056871966,
          0.6030554605203952,
          0.6182220007029033,
          0.6658902027894893,
          0.6939359070302363,
          0.6981575778874022,
          0.6604031240516842
         ]
        },
        {
         "mode": "lines+markers",
         "name": "LODA",
         "type": "scatter",
         "x": [
          0.0054779052734375,
          0.0057048688795683,
          0.0057277515571072,
          0.0057299974813197,
          0.0058078544317076,
          0.005836458986001,
          0.006,
          0.007,
          0.008,
          0.0090000044955067,
          0.01,
          0.02,
          0.03,
          0.04,
          0.5
         ],
         "y": [
          0.5043481690200341,
          0.4995395948434622,
          0.616785815021759,
          0.4998752538105163,
          0.4991175567833026,
          0.4996891621192236,
          0.4998552641630047,
          0.4996432393863717,
          0.4998335150346664,
          0.4998427549335639,
          0.499851936601945,
          0.4998436671605878,
          0.4997733641008736,
          0.5047546218510347,
          0.5
         ]
        },
        {
         "mode": "lines+markers",
         "name": "HBOS",
         "type": "scatter",
         "x": [
          0.0054779052734375,
          0.0057048688795683,
          0.0057277515571072,
          0.0057299974813197,
          0.0058078544317076,
          0.005836458986001,
          0.006,
          0.007,
          0.008,
          0.0090000044955067,
          0.01,
          0.02,
          0.03,
          0.04,
          0.5
         ],
         "y": [
          0.5043481690200341,
          0.4995395948434622,
          0.616785815021759,
          0.4998752538105163,
          0.4991175567833026,
          0.4996891621192236,
          0.4998552641630047,
          0.4996432393863717,
          0.4998335150346664,
          0.4998427549335639,
          0.499851936601945,
          0.4998436671605878,
          0.4997733641008736,
          0.5047546218510347,
          0.4996619337390128
         ]
        },
        {
         "mode": "lines+markers",
         "name": "ABOD",
         "type": "scatter",
         "x": [
          0.0054779052734375,
          0.0057048688795683,
          0.0057277515571072,
          0.0058078544317076,
          0.005836458986001
         ],
         "y": [
          0.5,
          0.5,
          0.5,
          0.5,
          0.5
         ]
        },
        {
         "mode": "lines+markers",
         "name": "LOF",
         "type": "scatter",
         "x": [
          0.0054779052734375,
          0.0057048688795683,
          0.0057277515571072,
          0.0057299974813197,
          0.0058078544317076,
          0.005836458986001,
          0.006,
          0.007,
          0.008,
          0.0090000044955067,
          0.01,
          0.02,
          0.03,
          0.04,
          0.5
         ],
         "y": [
          0.4986649070038672,
          0.506932995458314,
          0.4972465481115349,
          0.4975918106141545,
          0.4971416513198281,
          0.4973751467845548,
          0.497822107079572,
          0.4976837794235663,
          0.4964726379961365,
          0.4962908007011758,
          0.4973637898983392,
          0.4928026420510251,
          0.5015411622178496,
          0.4859835678646099,
          0.5046597243295907
         ]
        },
        {
         "mode": "lines+markers",
         "name": "ROD",
         "type": "scatter",
         "visible": "legendonly",
         "x": [
          0.0054779052734375,
          0.0057048688795683,
          0.0057277515571072,
          0.0057299974813197,
          0.0058078544317076,
          0.005836458986001,
          0.006,
          0.007,
          0.008,
          0.0090000044955067,
          0.01,
          0.02,
          0.03,
          0.04,
          0.5
         ],
         "y": [
          0.4973752072204826,
          0.49722605893186,
          0.4968033095148552,
          0.4975377021368062,
          0.4969114487415592,
          0.4972197278441666,
          0.4953423203566934,
          0.4944256154120585,
          0.4950145519287799,
          0.493995037779752,
          0.4961432344584768,
          0.4896820325987955,
          0.4844863413154604,
          0.4788911654398025,
          0.3180318421150703
         ]
        }
       ],
       "layout": {
        "autosize": true,
        "legend": {
         "font": {
          "color": "black",
          "family": "Arial",
          "size": 12
         },
         "traceorder": "normal",
         "x": 1.05,
         "y": 1
        },
        "template": {
         "data": {
          "bar": [
           {
            "error_x": {
             "color": "#2a3f5f"
            },
            "error_y": {
             "color": "#2a3f5f"
            },
            "marker": {
             "line": {
              "color": "#E5ECF6",
              "width": 0.5
             },
             "pattern": {
              "fillmode": "overlay",
              "size": 10,
              "solidity": 0.2
             }
            },
            "type": "bar"
           }
          ],
          "barpolar": [
           {
            "marker": {
             "line": {
              "color": "#E5ECF6",
              "width": 0.5
             },
             "pattern": {
              "fillmode": "overlay",
              "size": 10,
              "solidity": 0.2
             }
            },
            "type": "barpolar"
           }
          ],
          "carpet": [
           {
            "aaxis": {
             "endlinecolor": "#2a3f5f",
             "gridcolor": "white",
             "linecolor": "white",
             "minorgridcolor": "white",
             "startlinecolor": "#2a3f5f"
            },
            "baxis": {
             "endlinecolor": "#2a3f5f",
             "gridcolor": "white",
             "linecolor": "white",
             "minorgridcolor": "white",
             "startlinecolor": "#2a3f5f"
            },
            "type": "carpet"
           }
          ],
          "choropleth": [
           {
            "colorbar": {
             "outlinewidth": 0,
             "ticks": ""
            },
            "type": "choropleth"
           }
          ],
          "contour": [
           {
            "colorbar": {
             "outlinewidth": 0,
             "ticks": ""
            },
            "colorscale": [
             [
              0,
              "#0d0887"
             ],
             [
              0.1111111111111111,
              "#46039f"
             ],
             [
              0.2222222222222222,
              "#7201a8"
             ],
             [
              0.3333333333333333,
              "#9c179e"
             ],
             [
              0.4444444444444444,
              "#bd3786"
             ],
             [
              0.5555555555555556,
              "#d8576b"
             ],
             [
              0.6666666666666666,
              "#ed7953"
             ],
             [
              0.7777777777777778,
              "#fb9f3a"
             ],
             [
              0.8888888888888888,
              "#fdca26"
             ],
             [
              1,
              "#f0f921"
             ]
            ],
            "type": "contour"
           }
          ],
          "contourcarpet": [
           {
            "colorbar": {
             "outlinewidth": 0,
             "ticks": ""
            },
            "type": "contourcarpet"
           }
          ],
          "heatmap": [
           {
            "colorbar": {
             "outlinewidth": 0,
             "ticks": ""
            },
            "colorscale": [
             [
              0,
              "#0d0887"
             ],
             [
              0.1111111111111111,
              "#46039f"
             ],
             [
              0.2222222222222222,
              "#7201a8"
             ],
             [
              0.3333333333333333,
              "#9c179e"
             ],
             [
              0.4444444444444444,
              "#bd3786"
             ],
             [
              0.5555555555555556,
              "#d8576b"
             ],
             [
              0.6666666666666666,
              "#ed7953"
             ],
             [
              0.7777777777777778,
              "#fb9f3a"
             ],
             [
              0.8888888888888888,
              "#fdca26"
             ],
             [
              1,
              "#f0f921"
             ]
            ],
            "type": "heatmap"
           }
          ],
          "heatmapgl": [
           {
            "colorbar": {
             "outlinewidth": 0,
             "ticks": ""
            },
            "colorscale": [
             [
              0,
              "#0d0887"
             ],
             [
              0.1111111111111111,
              "#46039f"
             ],
             [
              0.2222222222222222,
              "#7201a8"
             ],
             [
              0.3333333333333333,
              "#9c179e"
             ],
             [
              0.4444444444444444,
              "#bd3786"
             ],
             [
              0.5555555555555556,
              "#d8576b"
             ],
             [
              0.6666666666666666,
              "#ed7953"
             ],
             [
              0.7777777777777778,
              "#fb9f3a"
             ],
             [
              0.8888888888888888,
              "#fdca26"
             ],
             [
              1,
              "#f0f921"
             ]
            ],
            "type": "heatmapgl"
           }
          ],
          "histogram": [
           {
            "marker": {
             "pattern": {
              "fillmode": "overlay",
              "size": 10,
              "solidity": 0.2
             }
            },
            "type": "histogram"
           }
          ],
          "histogram2d": [
           {
            "colorbar": {
             "outlinewidth": 0,
             "ticks": ""
            },
            "colorscale": [
             [
              0,
              "#0d0887"
             ],
             [
              0.1111111111111111,
              "#46039f"
             ],
             [
              0.2222222222222222,
              "#7201a8"
             ],
             [
              0.3333333333333333,
              "#9c179e"
             ],
             [
              0.4444444444444444,
              "#bd3786"
             ],
             [
              0.5555555555555556,
              "#d8576b"
             ],
             [
              0.6666666666666666,
              "#ed7953"
             ],
             [
              0.7777777777777778,
              "#fb9f3a"
             ],
             [
              0.8888888888888888,
              "#fdca26"
             ],
             [
              1,
              "#f0f921"
             ]
            ],
            "type": "histogram2d"
           }
          ],
          "histogram2dcontour": [
           {
            "colorbar": {
             "outlinewidth": 0,
             "ticks": ""
            },
            "colorscale": [
             [
              0,
              "#0d0887"
             ],
             [
              0.1111111111111111,
              "#46039f"
             ],
             [
              0.2222222222222222,
              "#7201a8"
             ],
             [
              0.3333333333333333,
              "#9c179e"
             ],
             [
              0.4444444444444444,
              "#bd3786"
             ],
             [
              0.5555555555555556,
              "#d8576b"
             ],
             [
              0.6666666666666666,
              "#ed7953"
             ],
             [
              0.7777777777777778,
              "#fb9f3a"
             ],
             [
              0.8888888888888888,
              "#fdca26"
             ],
             [
              1,
              "#f0f921"
             ]
            ],
            "type": "histogram2dcontour"
           }
          ],
          "mesh3d": [
           {
            "colorbar": {
             "outlinewidth": 0,
             "ticks": ""
            },
            "type": "mesh3d"
           }
          ],
          "parcoords": [
           {
            "line": {
             "colorbar": {
              "outlinewidth": 0,
              "ticks": ""
             }
            },
            "type": "parcoords"
           }
          ],
          "pie": [
           {
            "automargin": true,
            "type": "pie"
           }
          ],
          "scatter": [
           {
            "fillpattern": {
             "fillmode": "overlay",
             "size": 10,
             "solidity": 0.2
            },
            "type": "scatter"
           }
          ],
          "scatter3d": [
           {
            "line": {
             "colorbar": {
              "outlinewidth": 0,
              "ticks": ""
             }
            },
            "marker": {
             "colorbar": {
              "outlinewidth": 0,
              "ticks": ""
             }
            },
            "type": "scatter3d"
           }
          ],
          "scattercarpet": [
           {
            "marker": {
             "colorbar": {
              "outlinewidth": 0,
              "ticks": ""
             }
            },
            "type": "scattercarpet"
           }
          ],
          "scattergeo": [
           {
            "marker": {
             "colorbar": {
              "outlinewidth": 0,
              "ticks": ""
             }
            },
            "type": "scattergeo"
           }
          ],
          "scattergl": [
           {
            "marker": {
             "colorbar": {
              "outlinewidth": 0,
              "ticks": ""
             }
            },
            "type": "scattergl"
           }
          ],
          "scattermapbox": [
           {
            "marker": {
             "colorbar": {
              "outlinewidth": 0,
              "ticks": ""
             }
            },
            "type": "scattermapbox"
           }
          ],
          "scatterpolar": [
           {
            "marker": {
             "colorbar": {
              "outlinewidth": 0,
              "ticks": ""
             }
            },
            "type": "scatterpolar"
           }
          ],
          "scatterpolargl": [
           {
            "marker": {
             "colorbar": {
              "outlinewidth": 0,
              "ticks": ""
             }
            },
            "type": "scatterpolargl"
           }
          ],
          "scatterternary": [
           {
            "marker": {
             "colorbar": {
              "outlinewidth": 0,
              "ticks": ""
             }
            },
            "type": "scatterternary"
           }
          ],
          "surface": [
           {
            "colorbar": {
             "outlinewidth": 0,
             "ticks": ""
            },
            "colorscale": [
             [
              0,
              "#0d0887"
             ],
             [
              0.1111111111111111,
              "#46039f"
             ],
             [
              0.2222222222222222,
              "#7201a8"
             ],
             [
              0.3333333333333333,
              "#9c179e"
             ],
             [
              0.4444444444444444,
              "#bd3786"
             ],
             [
              0.5555555555555556,
              "#d8576b"
             ],
             [
              0.6666666666666666,
              "#ed7953"
             ],
             [
              0.7777777777777778,
              "#fb9f3a"
             ],
             [
              0.8888888888888888,
              "#fdca26"
             ],
             [
              1,
              "#f0f921"
             ]
            ],
            "type": "surface"
           }
          ],
          "table": [
           {
            "cells": {
             "fill": {
              "color": "#EBF0F8"
             },
             "line": {
              "color": "white"
             }
            },
            "header": {
             "fill": {
              "color": "#C8D4E3"
             },
             "line": {
              "color": "white"
             }
            },
            "type": "table"
           }
          ]
         },
         "layout": {
          "annotationdefaults": {
           "arrowcolor": "#2a3f5f",
           "arrowhead": 0,
           "arrowwidth": 1
          },
          "autotypenumbers": "strict",
          "coloraxis": {
           "colorbar": {
            "outlinewidth": 0,
            "ticks": ""
           }
          },
          "colorscale": {
           "diverging": [
            [
             0,
             "#8e0152"
            ],
            [
             0.1,
             "#c51b7d"
            ],
            [
             0.2,
             "#de77ae"
            ],
            [
             0.3,
             "#f1b6da"
            ],
            [
             0.4,
             "#fde0ef"
            ],
            [
             0.5,
             "#f7f7f7"
            ],
            [
             0.6,
             "#e6f5d0"
            ],
            [
             0.7,
             "#b8e186"
            ],
            [
             0.8,
             "#7fbc41"
            ],
            [
             0.9,
             "#4d9221"
            ],
            [
             1,
             "#276419"
            ]
           ],
           "sequential": [
            [
             0,
             "#0d0887"
            ],
            [
             0.1111111111111111,
             "#46039f"
            ],
            [
             0.2222222222222222,
             "#7201a8"
            ],
            [
             0.3333333333333333,
             "#9c179e"
            ],
            [
             0.4444444444444444,
             "#bd3786"
            ],
            [
             0.5555555555555556,
             "#d8576b"
            ],
            [
             0.6666666666666666,
             "#ed7953"
            ],
            [
             0.7777777777777778,
             "#fb9f3a"
            ],
            [
             0.8888888888888888,
             "#fdca26"
            ],
            [
             1,
             "#f0f921"
            ]
           ],
           "sequentialminus": [
            [
             0,
             "#0d0887"
            ],
            [
             0.1111111111111111,
             "#46039f"
            ],
            [
             0.2222222222222222,
             "#7201a8"
            ],
            [
             0.3333333333333333,
             "#9c179e"
            ],
            [
             0.4444444444444444,
             "#bd3786"
            ],
            [
             0.5555555555555556,
             "#d8576b"
            ],
            [
             0.6666666666666666,
             "#ed7953"
            ],
            [
             0.7777777777777778,
             "#fb9f3a"
            ],
            [
             0.8888888888888888,
             "#fdca26"
            ],
            [
             1,
             "#f0f921"
            ]
           ]
          },
          "colorway": [
           "#636efa",
           "#EF553B",
           "#00cc96",
           "#ab63fa",
           "#FFA15A",
           "#19d3f3",
           "#FF6692",
           "#B6E880",
           "#FF97FF",
           "#FECB52"
          ],
          "font": {
           "color": "#2a3f5f"
          },
          "geo": {
           "bgcolor": "white",
           "lakecolor": "white",
           "landcolor": "#E5ECF6",
           "showlakes": true,
           "showland": true,
           "subunitcolor": "white"
          },
          "hoverlabel": {
           "align": "left"
          },
          "hovermode": "closest",
          "mapbox": {
           "style": "light"
          },
          "paper_bgcolor": "white",
          "plot_bgcolor": "#E5ECF6",
          "polar": {
           "angularaxis": {
            "gridcolor": "white",
            "linecolor": "white",
            "ticks": ""
           },
           "bgcolor": "#E5ECF6",
           "radialaxis": {
            "gridcolor": "white",
            "linecolor": "white",
            "ticks": ""
           }
          },
          "scene": {
           "xaxis": {
            "backgroundcolor": "#E5ECF6",
            "gridcolor": "white",
            "gridwidth": 2,
            "linecolor": "white",
            "showbackground": true,
            "ticks": "",
            "zerolinecolor": "white"
           },
           "yaxis": {
            "backgroundcolor": "#E5ECF6",
            "gridcolor": "white",
            "gridwidth": 2,
            "linecolor": "white",
            "showbackground": true,
            "ticks": "",
            "zerolinecolor": "white"
           },
           "zaxis": {
            "backgroundcolor": "#E5ECF6",
            "gridcolor": "white",
            "gridwidth": 2,
            "linecolor": "white",
            "showbackground": true,
            "ticks": "",
            "zerolinecolor": "white"
           }
          },
          "shapedefaults": {
           "line": {
            "color": "#2a3f5f"
           }
          },
          "ternary": {
           "aaxis": {
            "gridcolor": "white",
            "linecolor": "white",
            "ticks": ""
           },
           "baxis": {
            "gridcolor": "white",
            "linecolor": "white",
            "ticks": ""
           },
           "bgcolor": "#E5ECF6",
           "caxis": {
            "gridcolor": "white",
            "linecolor": "white",
            "ticks": ""
           }
          },
          "title": {
           "x": 0.05
          },
          "xaxis": {
           "automargin": true,
           "gridcolor": "white",
           "linecolor": "white",
           "ticks": "",
           "title": {
            "standoff": 15
           },
           "zerolinecolor": "white",
           "zerolinewidth": 2
          },
          "yaxis": {
           "automargin": true,
           "gridcolor": "white",
           "linecolor": "white",
           "ticks": "",
           "title": {
            "standoff": 15
           },
           "zerolinecolor": "white",
           "zerolinewidth": 2
          }
         }
        },
        "xaxis": {
         "range": [
          0.009,
          0.5
         ],
         "title": {
          "text": "Fraud transaction rate"
         },
         "type": "linear"
        },
        "yaxis": {
         "range": [
          0.85,
          1
         ],
         "title": {
          "text": "AUC"
         },
         "type": "linear"
        }
       }
      },
      "image/png": "[encoded data removed]",
      "text/html": [
       "<div>                            <div id=\"e0dc3750-63cb-43a8-93aa-0021d12e0d52\" class=\"plotly-graph-div\" style=\"height:525px; width:100%;\"></div>            <script type=\"text/javascript\">                require([\"plotly\"], function(Plotly) {                    window.PLOTLYENV=window.PLOTLYENV || {};                                    if (document.getElementById(\"e0dc3750-63cb-43a8-93aa-0021d12e0d52\")) {                    Plotly.newPlot(                        \"e0dc3750-63cb-43a8-93aa-0021d12e0d52\",                        [{\"mode\":\"lines+markers\",\"name\":\"GCN\",\"x\":[0.005808,0.01,0.02,0.03,0.04,0.052,0.0540001078923234,0.056,0.0579998454882571,0.06,0.0619999793539862,0.0639998295042837,0.066,0.067999637697568,0.07,0.0719997122888619,0.0740001478524432,0.0760003036975172,0.078,0.08,0.0819998907760362,0.084,0.0860002577430302,0.088,0.090000449552695,0.0919994485547539,0.0939994365668137,0.096000767238899,0.097999543125673,0.1,0.2,0.3,0.4,0.5,0.6,0.7,0.8000532836019715,0.900044957290574],\"y\":[0.8227194423103044,0.8957701853090123,0.972261964504144,0.971024853474886,0.9805390932018808,0.9833788631028654,0.984616243258382,0.9845632709116086,0.9829077089955638,0.9849147658616656,0.9825650924617954,0.9846817999298088,0.9844893882821896,0.9847393343873472,0.9843780500350572,0.9855229744228868,0.9830374848672728,0.9847792419721692,0.981971570308922,0.9848754045122846,0.9842007001223884,0.9839273827199272,0.9834611062929206,0.9791169528990256,0.9838487237116292,0.9848878819612128,0.9853771993720448,0.9837551853727196,0.9829541416179732,0.9768628643475796,0.9892593917192792,0.9726554459793596,0.964189281363044,0.9870650846952088,0.9625746724314336,0.9556980245559402,0.9713741619326828,0.950313753318928],\"type\":\"scatter\"},{\"mode\":\"lines+markers\",\"name\":\"XGBoost_BAG_L1\",\"x\":[0.5],\"y\":[0.9614147954552318],\"type\":\"scatter\"},{\"mode\":\"lines+markers\",\"name\":\"LightGBM_BAG_L1\",\"x\":[0.5],\"y\":[0.9611288524503282],\"type\":\"scatter\"},{\"mode\":\"lines+markers\",\"name\":\"LightGBMLarge_BAG_L1\",\"x\":[0.5],\"y\":[0.96059178493142],\"type\":\"scatter\"},{\"mode\":\"lines+markers\",\"name\":\"CatBoost_BAG_L1\",\"x\":[0.5],\"y\":[0.9585887973200238],\"type\":\"scatter\"},{\"mode\":\"lines+markers\",\"name\":\"LightGBMXT_BAG_L1\",\"x\":[0.5],\"y\":[0.9559093141620052],\"type\":\"scatter\"},{\"mode\":\"lines+markers\",\"name\":\"NeuralNetTorch_BAG_L1\",\"x\":[0.5],\"y\":[0.9528223314091752],\"type\":\"scatter\"},{\"mode\":\"lines+markers\",\"name\":\"NeuralNetTorch\",\"x\":[0.0054779052734375,0.0057048688795683,0.0057277515571072,0.0057299974813197,0.0058078544317076,0.005836458986001,0.0058937128960732,0.006,0.007,0.008,0.0090000044955067,0.01,0.02,0.03,0.04,0.1,0.2,0.3,0.4,0.5,0.6,0.7,0.8000532836019715,0.900044957290574],\"y\":[0.9369976069215192,0.938496252244065,0.9556552594612692,0.9578546027865368,0.9386610334055276,0.9320575557991108,0.9520315049190714,0.9621627968366016,0.9630198771536552,0.9584665121121771,0.9532528294171796,0.9621611285446082,0.9599703529518409,0.9515790729085416,0.960539475350703,0.9571730448586746,0.9599822706619512,0.9571810972909875,0.9573541763465456,0.9517552833208336,0.924067166629454,0.9315668988106002,0.9417328868202977,0.8921017402945114],\"type\":\"scatter\"},{\"mode\":\"lines+markers\",\"name\":\"ExtraTreesEntr_BAG_L1\",\"x\":[0.5],\"y\":[0.9439699611943296],\"type\":\"scatter\"},{\"mode\":\"lines+markers\",\"name\":\"ExtraTreesGini_BAG_L1\",\"x\":[0.5],\"y\":[0.9432110413440308],\"type\":\"scatter\"},{\"mode\":\"lines+markers\",\"name\":\"KNeighborsUnif_BAG_L1\",\"x\":[0.5],\"y\":[0.9391580765649372],\"type\":\"scatter\"},{\"mode\":\"lines+markers\",\"name\":\"LightGBMLarge\",\"x\":[0.0054779052734375,0.0057048688795683,0.0057277515571072,0.0057299974813197,0.0058078544317076,0.005836458986001,0.0058937128960732,0.006,0.007,0.008,0.0090000044955067,0.01,0.02,0.03,0.04,0.1,0.2,0.3,0.4,0.5,0.6,0.7,0.8000532836019715,0.900044957290574],\"y\":[0.8657211784976998,0.8907153286603392,0.9179461716093864,0.9604553319102764,0.926201416874107,0.776446200627791,0.9079761755406262,0.961153409911689,0.9626665021162266,0.9611305510565562,0.9606778949684298,0.9634093941126533,0.9592190322318336,0.9576300790028198,0.9602107096843524,0.9585782356053874,0.96431857878232,0.960448443146034,0.9576756972491274,0.9594742038120392,0.9560770433023812,0.946166299850156,0.9507284216899384,0.942956588257793],\"type\":\"scatter\"},{\"mode\":\"lines+markers\",\"name\":\"RandomForestGini_BAG_L1\",\"x\":[0.5],\"y\":[0.9383607947490018],\"type\":\"scatter\"},{\"mode\":\"lines+markers\",\"name\":\"RandomForestEntr_BAG_L1\",\"x\":[0.5],\"y\":[0.9383607947490018],\"type\":\"scatter\"},{\"mode\":\"lines+markers\",\"name\":\"LightGBM\",\"x\":[0.0054779052734375,0.0057048688795683,0.0057277515571072,0.0057299974813197,0.0058078544317076,0.005836458986001,0.0058937128960732,0.006,0.007,0.008,0.0090000044955067,0.01,0.02,0.03,0.04,0.1,0.2,0.3,0.4,0.5,0.6,0.7,0.8000532836019715,0.900044957290574],\"y\":[0.8545976482520229,0.8366975545321087,0.8788370670518683,0.9604377199088544,0.929551167584517,0.8557809149157845,0.8715052677118452,0.9561412293786358,0.9615653909961236,0.9611134742243056,0.9612828098821968,0.9647051598734911,0.9605858046982928,0.9601183953485116,0.9617966176890856,0.9626458181491429,0.9643689051874224,0.9618389060221266,0.9597576158309208,0.9605176649711062,0.9583580687952296,0.9486747844303536,0.953994967268324,0.9543813348632626],\"type\":\"scatter\"},{\"mode\":\"lines+markers\",\"name\":\"XGBoost\",\"x\":[0.0054779052734375,0.0057048688795683,0.0057277515571072,0.0057299974813197,0.0058078544317076,0.005836458986001,0.0058937128960732,0.006,0.007,0.008,0.0090000044955067,0.01,0.02,0.03,0.04,0.1,0.2,0.3,0.4,0.5,0.6,0.7,0.8000532836019715,0.900044957290574],\"y\":[0.8630346075964902,0.8384238045660513,0.9503450885500856,0.9396078014490898,0.8476767243942549,0.8585623127012082,0.8730865273901834,0.9407125645335488,0.9425060249739012,0.9402626180903976,0.9394693369652116,0.946136942016268,0.9449349449027916,0.9449572480239448,0.9465066569811724,0.9559388072963988,0.9602165818283086,0.9622132762982298,0.9572989265758842,0.9607825131026624,0.9594169873520796,0.9485173546814308,0.9506801755780072,0.9518129661503156],\"type\":\"scatter\"},{\"mode\":\"lines+markers\",\"name\":\"CatBoost\",\"x\":[0.0054779052734375,0.0057048688795683,0.0057277515571072,0.0057299974813197,0.0058078544317076,0.005836458986001,0.0058937128960732,0.006,0.007,0.008,0.0090000044955067,0.01,0.02,0.03,0.04,0.1,0.2,0.3,0.4,0.5,0.6,0.7,0.8000532836019715,0.900044957290574],\"y\":[0.8983519109010263,0.8106382596608648,0.8554295562473692,0.8721619815373027,0.8756742156589765,0.8768896490400062,0.8497162403229578,0.8747199613669688,0.8749451561475775,0.8752653520685303,0.870740427450423,0.9370699268381976,0.9382805023112878,0.9288097554847627,0.9517052877217616,0.955305863676754,0.9662117430460136,0.9487028539226342,0.9561966117445226,0.9567597480990028,0.9497452028526776,0.926345219019592,0.9573627350815456,0.95726716389367],\"type\":\"scatter\"},{\"mode\":\"lines+markers\",\"name\":\"KNeighborsDist_BAG_L1\",\"x\":[0.5],\"y\":[0.907189309675658],\"type\":\"scatter\"},{\"mode\":\"lines+markers\",\"name\":\"ExtraTreesEntr\",\"x\":[0.0054779052734375,0.0057048688795683,0.0057277515571072,0.0057299974813197,0.0058078544317076,0.005836458986001,0.0058937128960732,0.006,0.007,0.008,0.0090000044955067,0.01,0.02,0.03,0.04,0.1,0.2,0.3,0.4,0.5,0.6,0.7,0.8000532836019715,0.900044957290574],\"y\":[0.8797852753380321,0.8708118522373279,0.9014130432857176,0.8448299881720613,0.883055782957162,0.9025435375340768,0.9182988507564592,0.8492449759056311,0.85558206184399,0.8584061541914436,0.8666333776004175,0.8791779135087916,0.8849562248358903,0.8886013638808863,0.8968888093573564,0.9236386645234078,0.9408233693257402,0.945615677996278,0.94167024077582,0.9580978758026406,0.9402021303142936,0.9310052435017364,0.9326228856850948,0.9131937272901128],\"type\":\"scatter\"},{\"mode\":\"lines+markers\",\"name\":\"ExtraTreesGini\",\"x\":[0.0054779052734375,0.0057048688795683,0.0057277515571072,0.0057299974813197,0.0058078544317076,0.005836458986001,0.0058937128960732,0.006,0.007,0.008,0.0090000044955067,0.01,0.02,0.03,0.04,0.1,0.2,0.3,0.4,0.5,0.6,0.7,0.8000532836019715,0.900044957290574],\"y\":[0.8741256059397434,0.8779160813393824,0.9029600859318248,0.8429386987106569,0.8897009580878924,0.9000092292524084,0.9087604546790669,0.8502902785886031,0.8568623182189707,0.8576028232992694,0.8672089313968359,0.8778331686238725,0.8860208702421754,0.8891956071560825,0.8977330456371582,0.9233493495342406,0.941221015629734,0.9439231256908772,0.9406100706482242,0.957668440306248,0.9397999054361104,0.9315585856885448,0.9293648541264616,0.9179269458787532],\"type\":\"scatter\"},{\"mode\":\"lines+markers\",\"name\":\"NeuralNetFastAI_BAG_L1\",\"x\":[0.5],\"y\":[0.8958666753764248],\"type\":\"scatter\"},{\"mode\":\"lines+markers\",\"name\":\"RandomForestGini\",\"x\":[0.0054779052734375,0.0057048688795683,0.0057277515571072,0.0057299974813197,0.0058078544317076,0.005836458986001,0.0058937128960732,0.006,0.007,0.008,0.0090000044955067,0.01,0.02,0.03,0.04,0.1,0.2,0.3,0.4,0.5,0.6,0.7,0.8000532836019715,0.900044957290574],\"y\":[0.8630061311615774,0.855765704329606,0.892117365671228,0.8229141939380658,0.8788187491559278,0.8765395635028103,0.9086414762450096,0.8267866007414957,0.8331964424734359,0.8383046328999013,0.8509052373182866,0.8568176388261816,0.8743123791089622,0.8806979290047019,0.8900653372287874,0.9181317455246158,0.9340922126432792,0.9389708716895956,0.9363010353002846,0.9565968479079658,0.9360176781938296,0.925626653531934,0.9195094032618156,0.903513100019124],\"type\":\"scatter\"},{\"mode\":\"lines+markers\",\"name\":\"RandomForestEntr\",\"x\":[0.0054779052734375,0.0057048688795683,0.0057277515571072,0.0057299974813197,0.0058078544317076,0.005836458986001,0.0058937128960732,0.006,0.007,0.008,0.0090000044955067,0.01,0.02,0.03,0.04,0.1,0.2,0.3,0.4,0.5,0.6,0.7,0.8000532836019715,0.900044957290574],\"y\":[0.8662188548911407,0.8523979743178954,0.890628779121935,0.8229141939380658,0.8792919853299564,0.8712322384854979,0.909114700653889,0.8267866007414957,0.8331964424734359,0.8383046328999013,0.8509052373182866,0.8568176388261816,0.8743123791089622,0.8806979290047019,0.8900653372287874,0.9181317455246158,0.9340922126432792,0.9389708716895956,0.9363010353002846,0.9557306569919464,0.9360176781938296,0.925626653531934,0.9195094032618156,0.903513100019124],\"type\":\"scatter\"},{\"mode\":\"lines+markers\",\"name\":\"NeuralNetFastAI\",\"x\":[0.0054779052734375,0.0057048688795683,0.0057277515571072,0.0057299974813197,0.0058078544317076,0.005836458986001,0.0058937128960732,0.006,0.007,0.008,0.0090000044955067,0.01,0.02,0.03,0.04,0.1,0.2,0.3,0.4,0.5,0.6,0.7,0.8000532836019715,0.900044957290574],\"y\":[0.7929642399454381,0.829781899062365,0.8530402825187247,0.9204457432539848,0.8345624135433913,0.7049133348964497,0.741086661921354,0.9313132908355726,0.935917090856121,0.9097847985072256,0.8921275596905563,0.9279879751335708,0.9329615899207144,0.9349873495470984,0.9036161935270351,0.9284146207530029,0.8651544597488621,0.9020941899745788,0.9025371707351942,0.9059230157019008,0.8938415266814641,0.8662413465595106,0.8303089643167971,0.8907133295085102],\"type\":\"scatter\"},{\"mode\":\"lines+markers\",\"name\":\"MAD\",\"x\":[0.0054779052734375,0.0057048688795683,0.0057277515571072,0.0058078544317076,0.005836458986001,0.5],\"y\":[0.8871406667577518,0.8533317466781127,0.8343798689088272,0.8738160828769935,0.8354748594480821,0.7350365750427241],\"type\":\"scatter\"},{\"mode\":\"lines+markers\",\"name\":\"LightGBMXT\",\"x\":[0.0054779052734375,0.0057048688795683,0.0057277515571072,0.0057299974813197,0.0058078544317076,0.005836458986001,0.0058937128960732,0.006,0.007,0.008,0.0090000044955067,0.01,0.02,0.03,0.04,0.1,0.2,0.3,0.4,0.5,0.6,0.7,0.8000532836019715,0.900044957290574],\"y\":[0.7904375073615552,0.757866858852228,0.7936158447907511,0.7661463016726321,0.7776126221507875,0.7672146257598733,0.7860301173557652,0.763076206330739,0.7675276517573177,0.7661086872167991,0.7632822777116857,0.7666228422862466,0.7715834287575478,0.7729211149250503,0.7740774836324794,0.9452827504268214,0.9564296891035546,0.9350279369827128,0.924720623801184,0.9560891114145552,0.947974756694992,0.9350677623361536,0.9423487342490636,0.9458997896347294],\"type\":\"scatter\"},{\"mode\":\"lines+markers\",\"name\":\"KNeighborsUnif\",\"x\":[0.0054779052734375,0.0057048688795683,0.0057277515571072,0.0057299974813197,0.0058078544317076,0.005836458986001,0.0058937128960732,0.006,0.007,0.008,0.0090000044955067,0.01,0.02,0.03,0.04,0.1,0.2,0.3,0.4,0.5,0.6,0.7,0.8000532836019715,0.900044957290574],\"y\":[0.6416825182548935,0.6818557879602288,0.7130564621852414,0.7884110934129339,0.6860674046149835,0.6441070011654708,0.7258450773774561,0.7934002149072312,0.8037709878691257,0.805920684260683,0.8147314490658458,0.8231313663547208,0.851237528755015,0.8628121139918462,0.8700945505515476,0.9077252917860602,0.927650263530948,0.9372398083038403,0.9363737088530684,0.9387151422227508,0.9396751336371636,0.9188078151660442,0.919507511257426,0.8978236756550009],\"type\":\"scatter\"},{\"mode\":\"lines+markers\",\"name\":\"KNeighborsDist\",\"x\":[0.0054779052734375,0.0057048688795683,0.0057277515571072,0.0057299974813197,0.0058078544317076,0.005836458986001,0.0058937128960732,0.006,0.007,0.008,0.0090000044955067,0.01,0.02,0.03,0.04,0.1,0.2,0.3,0.4,0.5,0.6,0.7,0.8000532836019715,0.900044957290574],\"y\":[0.6422405858493101,0.6821899701685021,0.713639933063,0.7569988560495097,0.6865299422612963,0.6446089553637405,0.7264635902662682,0.764214470704088,0.7730590585017278,0.7783238951417738,0.7882179059658573,0.7957479978090074,0.8354590915614779,0.8495269977549701,0.8552692440886208,0.8939123293962599,0.9059441803436572,0.9071967145984474,0.9085473331188868,0.9081542132530884,0.9059460329134872,0.8958973703516658,0.8905286260264123,0.8702027156244023],\"type\":\"scatter\"},{\"mode\":\"lines+markers\",\"name\":\"KDE\",\"x\":[0.0054779052734375,0.0057048688795683,0.0057277515571072,0.0058078544317076,0.005836458986001,0.01,0.02,0.03,0.04,0.5],\"y\":[0.7017996941381316,0.7046160661222514,0.6894123059152205,0.6960281670386497,0.6759159792901781,0.7208659838104307,0.7455910655445565,0.7638843134099865,0.785215876052045,0.7608021487172115],\"type\":\"scatter\"},{\"mode\":\"lines+markers\",\"name\":\"OCSVM\",\"x\":[0.0054779052734375,0.0057048688795683,0.0057277515571072,0.0058078544317076,0.005836458986001,0.01,0.02,0.03,0.04,0.5],\"y\":[0.7007532096625035,0.706573567608021,0.6982468570354055,0.6957404138158135,0.675708754036327,0.7218210851868763,0.7458941282154117,0.7641630562418471,0.786471815960812,0.7030254268419287],\"type\":\"scatter\"},{\"mode\":\"lines+markers\",\"name\":\"MCD\",\"x\":[0.0054779052734375,0.0057048688795683,0.0057277515571072,0.0057299974813197,0.0058078544317076,0.005836458986001,0.006,0.007,0.008,0.0090000044955067,0.01,0.02,0.03,0.04,0.5],\"y\":[0.6837190928694055,0.6953695347523351,0.6900167221834201,0.6846343812289774,0.666936633818334,0.6681414594215637,0.6999733998073557,0.7105821489275548,0.7216554916323449,0.733438500546317,0.7335716983458763,0.7453343972095374,0.7612526071157413,0.7923286081119159,0.7695918715028776],\"type\":\"scatter\"},{\"mode\":\"lines+markers\",\"name\":\"GMM\",\"x\":[0.0054779052734375,0.0057048688795683,0.0057277515571072,0.0057299974813197,0.0058078544317076,0.005836458986001,0.006,0.007,0.008,0.0090000044955067,0.01,0.02,0.03,0.04,0.5],\"y\":[0.6837190928694055,0.6953695347523351,0.6900167221834201,0.6846343812289774,0.666936633818334,0.6681414594215637,0.6999733998073557,0.7105821489275548,0.7216554916323449,0.733438500546317,0.7335716983458763,0.7453343972095374,0.7612526071157413,0.7923286081119159,0.66209345535662],\"type\":\"scatter\"},{\"mode\":\"lines+markers\",\"name\":\"IForest\",\"x\":[0.0054779052734375,0.0057048688795683,0.0057277515571072,0.0057299974813197,0.0058078544317076,0.005836458986001,0.006,0.007,0.008,0.0090000044955067,0.01,0.02,0.03,0.04,0.5],\"y\":[0.6810309208263947,0.6934695839111327,0.6789903226239725,0.6816851070696499,0.6604292185511772,0.6681587281927179,0.6957320590531837,0.7085722707608961,0.720661502070502,0.7307575925519216,0.733322876149784,0.7453343972095374,0.7609635626521022,0.7923286081119159,0.6662088131478494],\"type\":\"scatter\"},{\"mode\":\"lines+markers\",\"name\":\"COPOD\",\"x\":[0.0054779052734375,0.0057048688795683,0.0057277515571072,0.0058078544317076,0.005836458986001,0.5],\"y\":[0.6837190928694055,0.6933890130087386,0.683347156557245,0.666936633818334,0.6766412676786563,0.7367821415832149],\"type\":\"scatter\"},{\"mode\":\"lines+markers\",\"name\":\"KNN\",\"x\":[0.0054779052734375,0.0057048688795683,0.0057277515571072,0.0057299974813197,0.0058078544317076,0.005836458986001,0.006,0.007,0.008,0.0090000044955067,0.01,0.02,0.03,0.04,0.5],\"y\":[0.6448350116689107,0.6611711991811758,0.6585921130392737,0.6385379427449277,0.6304936092105423,0.6476466039274347,0.6516992389307237,0.6579508123447336,0.6768351133952117,0.6913113893237726,0.6918966252575817,0.7285063760650697,0.7655355683637514,0.774632229800441,0.7219371729142376],\"type\":\"scatter\"},{\"mode\":\"lines+markers\",\"name\":\"INNE\",\"x\":[0.0054779052734375,0.0057048688795683,0.0057277515571072,0.0057299974813197,0.0058078544317076,0.005836458986001,0.006,0.007,0.008,0.0090000044955067,0.01,0.02,0.03,0.04,0.5],\"y\":[0.6629683467745764,0.7056404675955479,0.6789768911513457,0.6692040418338734,0.6669941844629013,0.6158819895847476,0.5832116634817566,0.6951026697041662,0.7140483311984308,0.6971878654622404,0.7010778675645367,0.7155750167139028,0.7594565305432358,0.7923286081119159,0.5837658984310531],\"type\":\"scatter\"},{\"mode\":\"lines+markers\",\"name\":\"PCA\",\"x\":[0.0054779052734375,0.0057048688795683,0.0057277515571072,0.0057299974813197,0.0058078544317076,0.005836458986001,0.006,0.007,0.008,0.0090000044955067,0.01,0.02,0.03,0.04,0.5],\"y\":[0.6837190928694055,0.6953695347523351,0.6900167221834201,0.6846343812289774,0.666936633818334,0.6681414594215637,0.6999733998073557,0.7105821489275548,0.7216554916323449,0.733438500546317,0.7335716983458763,0.7420046989821099,0.7488684943494257,0.7361946619458456,0.2348029898899554],\"type\":\"scatter\"},{\"mode\":\"lines+markers\",\"name\":\"ECOD\",\"x\":[0.0054779052734375,0.0057048688795683,0.0057277515571072,0.0057299974813197,0.0058078544317076,0.005836458986001,0.006,0.007,0.008,0.0090000044955067,0.01,0.02,0.03,0.04,0.5],\"y\":[0.5458550238504933,0.5553748174887925,0.5442827257830549,0.5579118617566292,0.5572047054829883,0.5753758041888084,0.558199956957239,0.5781824595317537,0.5983350056871966,0.6030554605203952,0.6182220007029033,0.6658902027894893,0.6939359070302363,0.6981575778874022,0.6604031240516842],\"type\":\"scatter\"},{\"mode\":\"lines+markers\",\"name\":\"LODA\",\"x\":[0.0054779052734375,0.0057048688795683,0.0057277515571072,0.0057299974813197,0.0058078544317076,0.005836458986001,0.006,0.007,0.008,0.0090000044955067,0.01,0.02,0.03,0.04,0.5],\"y\":[0.5043481690200341,0.4995395948434622,0.616785815021759,0.4998752538105163,0.4991175567833026,0.4996891621192236,0.4998552641630047,0.4996432393863717,0.4998335150346664,0.4998427549335639,0.499851936601945,0.4998436671605878,0.4997733641008736,0.5047546218510347,0.5],\"type\":\"scatter\"},{\"mode\":\"lines+markers\",\"name\":\"HBOS\",\"x\":[0.0054779052734375,0.0057048688795683,0.0057277515571072,0.0057299974813197,0.0058078544317076,0.005836458986001,0.006,0.007,0.008,0.0090000044955067,0.01,0.02,0.03,0.04,0.5],\"y\":[0.5043481690200341,0.4995395948434622,0.616785815021759,0.4998752538105163,0.4991175567833026,0.4996891621192236,0.4998552641630047,0.4996432393863717,0.4998335150346664,0.4998427549335639,0.499851936601945,0.4998436671605878,0.4997733641008736,0.5047546218510347,0.4996619337390128],\"type\":\"scatter\"},{\"mode\":\"lines+markers\",\"name\":\"ABOD\",\"x\":[0.0054779052734375,0.0057048688795683,0.0057277515571072,0.0058078544317076,0.005836458986001],\"y\":[0.5,0.5,0.5,0.5,0.5],\"type\":\"scatter\"},{\"mode\":\"lines+markers\",\"name\":\"LOF\",\"x\":[0.0054779052734375,0.0057048688795683,0.0057277515571072,0.0057299974813197,0.0058078544317076,0.005836458986001,0.006,0.007,0.008,0.0090000044955067,0.01,0.02,0.03,0.04,0.5],\"y\":[0.4986649070038672,0.506932995458314,0.4972465481115349,0.4975918106141545,0.4971416513198281,0.4973751467845548,0.497822107079572,0.4976837794235663,0.4964726379961365,0.4962908007011758,0.4973637898983392,0.4928026420510251,0.5015411622178496,0.4859835678646099,0.5046597243295907],\"type\":\"scatter\"},{\"mode\":\"lines+markers\",\"name\":\"ROD\",\"x\":[0.0054779052734375,0.0057048688795683,0.0057277515571072,0.0057299974813197,0.0058078544317076,0.005836458986001,0.006,0.007,0.008,0.0090000044955067,0.01,0.02,0.03,0.04,0.5],\"y\":[0.4973752072204826,0.49722605893186,0.4968033095148552,0.4975377021368062,0.4969114487415592,0.4972197278441666,0.4953423203566934,0.4944256154120585,0.4950145519287799,0.493995037779752,0.4961432344584768,0.4896820325987955,0.4844863413154604,0.4788911654398025,0.3180318421150703],\"type\":\"scatter\"}],                        {\"template\":{\"data\":{\"histogram2dcontour\":[{\"type\":\"histogram2dcontour\",\"colorbar\":{\"outlinewidth\":0,\"ticks\":\"\"},\"colorscale\":[[0.0,\"#0d0887\"],[0.1111111111111111,\"#46039f\"],[0.2222222222222222,\"#7201a8\"],[0.3333333333333333,\"#9c179e\"],[0.4444444444444444,\"#bd3786\"],[0.5555555555555556,\"#d8576b\"],[0.6666666666666666,\"#ed7953\"],[0.7777777777777778,\"#fb9f3a\"],[0.8888888888888888,\"#fdca26\"],[1.0,\"#f0f921\"]]}],\"choropleth\":[{\"type\":\"choropleth\",\"colorbar\":{\"outlinewidth\":0,\"ticks\":\"\"}}],\"histogram2d\":[{\"type\":\"histogram2d\",\"colorbar\":{\"outlinewidth\":0,\"ticks\":\"\"},\"colorscale\":[[0.0,\"#0d0887\"],[0.1111111111111111,\"#46039f\"],[0.2222222222222222,\"#7201a8\"],[0.3333333333333333,\"#9c179e\"],[0.4444444444444444,\"#bd3786\"],[0.5555555555555556,\"#d8576b\"],[0.6666666666666666,\"#ed7953\"],[0.7777777777777778,\"#fb9f3a\"],[0.8888888888888888,\"#fdca26\"],[1.0,\"#f0f921\"]]}],\"heatmap\":[{\"type\":\"heatmap\",\"colorbar\":{\"outlinewidth\":0,\"ticks\":\"\"},\"colorscale\":[[0.0,\"#0d0887\"],[0.1111111111111111,\"#46039f\"],[0.2222222222222222,\"#7201a8\"],[0.3333333333333333,\"#9c179e\"],[0.4444444444444444,\"#bd3786\"],[0.5555555555555556,\"#d8576b\"],[0.6666666666666666,\"#ed7953\"],[0.7777777777777778,\"#fb9f3a\"],[0.8888888888888888,\"#fdca26\"],[1.0,\"#f0f921\"]]}],\"heatmapgl\":[{\"type\":\"heatmapgl\",\"colorbar\":{\"outlinewidth\":0,\"ticks\":\"\"},\"colorscale\":[[0.0,\"#0d0887\"],[0.1111111111111111,\"#46039f\"],[0.2222222222222222,\"#7201a8\"],[0.3333333333333333,\"#9c179e\"],[0.4444444444444444,\"#bd3786\"],[0.5555555555555556,\"#d8576b\"],[0.6666666666666666,\"#ed7953\"],[0.7777777777777778,\"#fb9f3a\"],[0.8888888888888888,\"#fdca26\"],[1.0,\"#f0f921\"]]}],\"contourcarpet\":[{\"type\":\"contourcarpet\",\"colorbar\":{\"outlinewidth\":0,\"ticks\":\"\"}}],\"contour\":[{\"type\":\"contour\",\"colorbar\":{\"outlinewidth\":0,\"ticks\":\"\"},\"colorscale\":[[0.0,\"#0d0887\"],[0.1111111111111111,\"#46039f\"],[0.2222222222222222,\"#7201a8\"],[0.3333333333333333,\"#9c179e\"],[0.4444444444444444,\"#bd3786\"],[0.5555555555555556,\"#d8576b\"],[0.6666666666666666,\"#ed7953\"],[0.7777777777777778,\"#fb9f3a\"],[0.8888888888888888,\"#fdca26\"],[1.0,\"#f0f921\"]]}],\"surface\":[{\"type\":\"surface\",\"colorbar\":{\"outlinewidth\":0,\"ticks\":\"\"},\"colorscale\":[[0.0,\"#0d0887\"],[0.1111111111111111,\"#46039f\"],[0.2222222222222222,\"#7201a8\"],[0.3333333333333333,\"#9c179e\"],[0.4444444444444444,\"#bd3786\"],[0.5555555555555556,\"#d8576b\"],[0.6666666666666666,\"#ed7953\"],[0.7777777777777778,\"#fb9f3a\"],[0.8888888888888888,\"#fdca26\"],[1.0,\"#f0f921\"]]}],\"mesh3d\":[{\"type\":\"mesh3d\",\"colorbar\":{\"outlinewidth\":0,\"ticks\":\"\"}}],\"scatter\":[{\"fillpattern\":{\"fillmode\":\"overlay\",\"size\":10,\"solidity\":0.2},\"type\":\"scatter\"}],\"parcoords\":[{\"type\":\"parcoords\",\"line\":{\"colorbar\":{\"outlinewidth\":0,\"ticks\":\"\"}}}],\"scatterpolargl\":[{\"type\":\"scatterpolargl\",\"marker\":{\"colorbar\":{\"outlinewidth\":0,\"ticks\":\"\"}}}],\"bar\":[{\"error_x\":{\"color\":\"#2a3f5f\"},\"error_y\":{\"color\":\"#2a3f5f\"},\"marker\":{\"line\":{\"color\":\"#E5ECF6\",\"width\":0.5},\"pattern\":{\"fillmode\":\"overlay\",\"size\":10,\"solidity\":0.2}},\"type\":\"bar\"}],\"scattergeo\":[{\"type\":\"scattergeo\",\"marker\":{\"colorbar\":{\"outlinewidth\":0,\"ticks\":\"\"}}}],\"scatterpolar\":[{\"type\":\"scatterpolar\",\"marker\":{\"colorbar\":{\"outlinewidth\":0,\"ticks\":\"\"}}}],\"histogram\":[{\"marker\":{\"pattern\":{\"fillmode\":\"overlay\",\"size\":10,\"solidity\":0.2}},\"type\":\"histogram\"}],\"scattergl\":[{\"type\":\"scattergl\",\"marker\":{\"colorbar\":{\"outlinewidth\":0,\"ticks\":\"\"}}}],\"scatter3d\":[{\"type\":\"scatter3d\",\"line\":{\"colorbar\":{\"outlinewidth\":0,\"ticks\":\"\"}},\"marker\":{\"colorbar\":{\"outlinewidth\":0,\"ticks\":\"\"}}}],\"scattermapbox\":[{\"type\":\"scattermapbox\",\"marker\":{\"colorbar\":{\"outlinewidth\":0,\"ticks\":\"\"}}}],\"scatterternary\":[{\"type\":\"scatterternary\",\"marker\":{\"colorbar\":{\"outlinewidth\":0,\"ticks\":\"\"}}}],\"scattercarpet\":[{\"type\":\"scattercarpet\",\"marker\":{\"colorbar\":{\"outlinewidth\":0,\"ticks\":\"\"}}}],\"carpet\":[{\"aaxis\":{\"endlinecolor\":\"#2a3f5f\",\"gridcolor\":\"white\",\"linecolor\":\"white\",\"minorgridcolor\":\"white\",\"startlinecolor\":\"#2a3f5f\"},\"baxis\":{\"endlinecolor\":\"#2a3f5f\",\"gridcolor\":\"white\",\"linecolor\":\"white\",\"minorgridcolor\":\"white\",\"startlinecolor\":\"#2a3f5f\"},\"type\":\"carpet\"}],\"table\":[{\"cells\":{\"fill\":{\"color\":\"#EBF0F8\"},\"line\":{\"color\":\"white\"}},\"header\":{\"fill\":{\"color\":\"#C8D4E3\"},\"line\":{\"color\":\"white\"}},\"type\":\"table\"}],\"barpolar\":[{\"marker\":{\"line\":{\"color\":\"#E5ECF6\",\"width\":0.5},\"pattern\":{\"fillmode\":\"overlay\",\"size\":10,\"solidity\":0.2}},\"type\":\"barpolar\"}],\"pie\":[{\"automargin\":true,\"type\":\"pie\"}]},\"layout\":{\"autotypenumbers\":\"strict\",\"colorway\":[\"#636efa\",\"#EF553B\",\"#00cc96\",\"#ab63fa\",\"#FFA15A\",\"#19d3f3\",\"#FF6692\",\"#B6E880\",\"#FF97FF\",\"#FECB52\"],\"font\":{\"color\":\"#2a3f5f\"},\"hovermode\":\"closest\",\"hoverlabel\":{\"align\":\"left\"},\"paper_bgcolor\":\"white\",\"plot_bgcolor\":\"#E5ECF6\",\"polar\":{\"bgcolor\":\"#E5ECF6\",\"angularaxis\":{\"gridcolor\":\"white\",\"linecolor\":\"white\",\"ticks\":\"\"},\"radialaxis\":{\"gridcolor\":\"white\",\"linecolor\":\"white\",\"ticks\":\"\"}},\"ternary\":{\"bgcolor\":\"#E5ECF6\",\"aaxis\":{\"gridcolor\":\"white\",\"linecolor\":\"white\",\"ticks\":\"\"},\"baxis\":{\"gridcolor\":\"white\",\"linecolor\":\"white\",\"ticks\":\"\"},\"caxis\":{\"gridcolor\":\"white\",\"linecolor\":\"white\",\"ticks\":\"\"}},\"coloraxis\":{\"colorbar\":{\"outlinewidth\":0,\"ticks\":\"\"}},\"colorscale\":{\"sequential\":[[0.0,\"#0d0887\"],[0.1111111111111111,\"#46039f\"],[0.2222222222222222,\"#7201a8\"],[0.3333333333333333,\"#9c179e\"],[0.4444444444444444,\"#bd3786\"],[0.5555555555555556,\"#d8576b\"],[0.6666666666666666,\"#ed7953\"],[0.7777777777777778,\"#fb9f3a\"],[0.8888888888888888,\"#fdca26\"],[1.0,\"#f0f921\"]],\"sequentialminus\":[[0.0,\"#0d0887\"],[0.1111111111111111,\"#46039f\"],[0.2222222222222222,\"#7201a8\"],[0.3333333333333333,\"#9c179e\"],[0.4444444444444444,\"#bd3786\"],[0.5555555555555556,\"#d8576b\"],[0.6666666666666666,\"#ed7953\"],[0.7777777777777778,\"#fb9f3a\"],[0.8888888888888888,\"#fdca26\"],[1.0,\"#f0f921\"]],\"diverging\":[[0,\"#8e0152\"],[0.1,\"#c51b7d\"],[0.2,\"#de77ae\"],[0.3,\"#f1b6da\"],[0.4,\"#fde0ef\"],[0.5,\"#f7f7f7\"],[0.6,\"#e6f5d0\"],[0.7,\"#b8e186\"],[0.8,\"#7fbc41\"],[0.9,\"#4d9221\"],[1,\"#276419\"]]},\"xaxis\":{\"gridcolor\":\"white\",\"linecolor\":\"white\",\"ticks\":\"\",\"title\":{\"standoff\":15},\"zerolinecolor\":\"white\",\"automargin\":true,\"zerolinewidth\":2},\"yaxis\":{\"gridcolor\":\"white\",\"linecolor\":\"white\",\"ticks\":\"\",\"title\":{\"standoff\":15},\"zerolinecolor\":\"white\",\"automargin\":true,\"zerolinewidth\":2},\"scene\":{\"xaxis\":{\"backgroundcolor\":\"#E5ECF6\",\"gridcolor\":\"white\",\"linecolor\":\"white\",\"showbackground\":true,\"ticks\":\"\",\"zerolinecolor\":\"white\",\"gridwidth\":2},\"yaxis\":{\"backgroundcolor\":\"#E5ECF6\",\"gridcolor\":\"white\",\"linecolor\":\"white\",\"showbackground\":true,\"ticks\":\"\",\"zerolinecolor\":\"white\",\"gridwidth\":2},\"zaxis\":{\"backgroundcolor\":\"#E5ECF6\",\"gridcolor\":\"white\",\"linecolor\":\"white\",\"showbackground\":true,\"ticks\":\"\",\"zerolinecolor\":\"white\",\"gridwidth\":2}},\"shapedefaults\":{\"line\":{\"color\":\"#2a3f5f\"}},\"annotationdefaults\":{\"arrowcolor\":\"#2a3f5f\",\"arrowhead\":0,\"arrowwidth\":1},\"geo\":{\"bgcolor\":\"white\",\"landcolor\":\"#E5ECF6\",\"subunitcolor\":\"white\",\"showland\":true,\"showlakes\":true,\"lakecolor\":\"white\"},\"title\":{\"x\":0.05},\"mapbox\":{\"style\":\"light\"}}},\"xaxis\":{\"title\":{\"text\":\"Fraud transaction rate\"},\"range\":[0.009,0.5]},\"yaxis\":{\"title\":{\"text\":\"AUC\"},\"range\":[0.85,1]},\"legend\":{\"font\":{\"family\":\"Arial\",\"size\":12,\"color\":\"black\"},\"x\":1.05,\"y\":1,\"traceorder\":\"normal\"}},                        {\"responsive\": true}                    ).then(function(){\n",
       "                            \n",
       "var gd = document.getElementById('e0dc3750-63cb-43a8-93aa-0021d12e0d52');\n",
       "var x = new MutationObserver(function (mutations, observer) {{\n",
       "        var display = window.getComputedStyle(gd).display;\n",
       "        if (!display || display === 'none') {{\n",
       "            console.log([gd, 'removed!']);\n",
       "            Plotly.purge(gd);\n",
       "            observer.disconnect();\n",
       "        }}\n",
       "}});\n",
       "\n",
       "// Listen for the removal of the full notebook cells\n",
       "var notebookContainer = gd.closest('#notebook-container');\n",
       "if (notebookContainer) {{\n",
       "    x.observe(notebookContainer, {childList: true});\n",
       "}}\n",
       "\n",
       "// Listen for the clearing of the current output cell\n",
       "var outputEl = gd.closest('.output');\n",
       "if (outputEl) {{\n",
       "    x.observe(outputEl, {childList: true});\n",
       "}}\n",
       "\n",
       "                        })                };                });            </script>        </div>"
      ]
     },
     "metadata": {},
     "output_type": "display_data"
    }
   ],
   "source": [
    "import plotly.graph_objects as go\n",
    "\n",
    "def plot_merged_df3(merged_df):\n",
    "\n",
    "    condition1 = abs(merged_df['throw_rate'] - merged_df['train_frate']) <= 0.05\n",
    "    condition2 = abs(merged_df['throw_rate'] - merged_df['test_frate']) <= 0.05\n",
    "    filtered_df = merged_df[condition1 & condition2]\n",
    "\n",
    "    filtered_df = filtered_df.sort_values(by=['throw_rate', 'model', 'auc'], ascending=[True, True, False]) \\\n",
    "        .drop_duplicates(subset=['throw_rate', 'model'])\n",
    "\n",
    "    label_order = filtered_df.groupby('model')['auc'].mean().sort_values(ascending=False).index\n",
    "\n",
    "    fig = go.Figure()\n",
    "    for model in label_order:\n",
    "            group = filtered_df[filtered_df['model'] == model]\n",
    "            fig.add_trace(go.Scatter(\n",
    "                x=group['throw_rate'],\n",
    "                y=group['auc'],\n",
    "                mode='lines+markers',\n",
    "                name=model\n",
    "            ))\n",
    "\n",
    "    fig.update_layout(\n",
    "        xaxis_title='Fraud transaction rate',\n",
    "        yaxis_title='AUC',\n",
    "        xaxis=dict(range=[0.009, 0.5]),\n",
    "        yaxis=dict(range=[0.85, 1]),\n",
    "        legend=dict(\n",
    "            x=1.05,\n",
    "            y=1,\n",
    "            traceorder='normal',\n",
    "            font=dict(\n",
    "                family='Arial',\n",
    "                size=12,\n",
    "                color='black'\n",
    "            ),\n",
    "           # bgcolor='LightSteelBlue',\n",
    "         #   bordercolor='Black',\n",
    "         #   borderwidth=1\n",
    "        )\n",
    "    )\n",
    "\n",
    "    fig.show()\n",
    "\n",
    "\n",
    "plot_merged_df3(merged_df)\n"
   ]
  },
  {
   "cell_type": "code",
   "execution_count": 93,
   "id": "fabe544f-4625-443b-8c29-873eadaadd36",
   "metadata": {},
   "outputs": [
    {
     "ename": "TypeError",
     "evalue": "'DataFrame' object is not callable",
     "output_type": "error",
     "traceback": [
      "\u001b[0;31m---------------------------------------------------------------------------\u001b[0m",
      "\u001b[0;31mTypeError\u001b[0m                                 Traceback (most recent call last)",
      "Cell \u001b[0;32mIn[93], line 1\u001b[0m\n\u001b[0;32m----> 1\u001b[0m merged_df[\u001b[43mmerged_df\u001b[49m\u001b[43m(\u001b[49m\u001b[43m[\u001b[49m\u001b[38;5;124;43m'\u001b[39;49m\u001b[38;5;124;43mmodel\u001b[39;49m\u001b[38;5;124;43m'\u001b[39;49m\u001b[43m]\u001b[49m\u001b[38;5;241;43m==\u001b[39;49m\u001b[38;5;124;43m'\u001b[39;49m\u001b[38;5;124;43mNeuralNetFastAI\u001b[39;49m\u001b[38;5;124;43m'\u001b[39;49m\u001b[43m)\u001b[49m]\n",
      "\u001b[0;31mTypeError\u001b[0m: 'DataFrame' object is not callable"
     ]
    }
   ],
   "source": [
    "merged_df[merged_df(['model']=='NeuralNetFastAI')]"
   ]
  },
  {
   "cell_type": "code",
   "execution_count": 91,
   "id": "2acefcb1-10b5-4e6f-a4d1-0689bc336710",
   "metadata": {},
   "outputs": [
    {
     "data": {
      "text/html": [
       "<div>\n",
       "<style scoped>\n",
       "    .dataframe tbody tr th:only-of-type {\n",
       "        vertical-align: middle;\n",
       "    }\n",
       "\n",
       "    .dataframe tbody tr th {\n",
       "        vertical-align: top;\n",
       "    }\n",
       "\n",
       "    .dataframe thead th {\n",
       "        text-align: right;\n",
       "    }\n",
       "</style>\n",
       "<table border=\"1\" class=\"dataframe\">\n",
       "  <thead>\n",
       "    <tr style=\"text-align: right;\">\n",
       "      <th></th>\n",
       "      <th>model</th>\n",
       "      <th>time</th>\n",
       "      <th>acc</th>\n",
       "      <th>pre</th>\n",
       "      <th>rec</th>\n",
       "      <th>f1</th>\n",
       "      <th>auc</th>\n",
       "      <th>graph_based</th>\n",
       "      <th>method</th>\n",
       "      <th>throw_rate</th>\n",
       "      <th>train_size</th>\n",
       "      <th>train_cols</th>\n",
       "      <th>train_frate</th>\n",
       "      <th>test_size</th>\n",
       "      <th>test_frate</th>\n",
       "      <th>hyper_params</th>\n",
       "      <th>theta</th>\n",
       "      <th>gamma</th>\n",
       "    </tr>\n",
       "  </thead>\n",
       "  <tbody>\n",
       "    <tr>\n",
       "      <th>233</th>\n",
       "      <td>GCN</td>\n",
       "      <td>NaN</td>\n",
       "      <td>0.954126</td>\n",
       "      <td>0.744539</td>\n",
       "      <td>0.523015</td>\n",
       "      <td>0.614420</td>\n",
       "      <td>0.976265</td>\n",
       "      <td>True</td>\n",
       "      <td>Proposed</td>\n",
       "      <td>0.070</td>\n",
       "      <td>64350</td>\n",
       "      <td>amt</td>\n",
       "      <td>0.070039</td>\n",
       "      <td>21450</td>\n",
       "      <td>0.069883</td>\n",
       "      <td>NaN</td>\n",
       "      <td>10000000.0</td>\n",
       "      <td>0.8</td>\n",
       "    </tr>\n",
       "    <tr>\n",
       "      <th>234</th>\n",
       "      <td>GCN</td>\n",
       "      <td>NaN</td>\n",
       "      <td>0.965907</td>\n",
       "      <td>0.796637</td>\n",
       "      <td>0.685262</td>\n",
       "      <td>0.736764</td>\n",
       "      <td>0.985523</td>\n",
       "      <td>True</td>\n",
       "      <td>Proposed</td>\n",
       "      <td>0.072</td>\n",
       "      <td>62562</td>\n",
       "      <td>amt</td>\n",
       "      <td>0.072792</td>\n",
       "      <td>20855</td>\n",
       "      <td>0.069624</td>\n",
       "      <td>NaN</td>\n",
       "      <td>10000000.0</td>\n",
       "      <td>0.8</td>\n",
       "    </tr>\n",
       "    <tr>\n",
       "      <th>235</th>\n",
       "      <td>GCN</td>\n",
       "      <td>NaN</td>\n",
       "      <td>0.964319</td>\n",
       "      <td>0.776786</td>\n",
       "      <td>0.711172</td>\n",
       "      <td>0.742532</td>\n",
       "      <td>0.983037</td>\n",
       "      <td>True</td>\n",
       "      <td>Proposed</td>\n",
       "      <td>0.074</td>\n",
       "      <td>60871</td>\n",
       "      <td>amt</td>\n",
       "      <td>0.074551</td>\n",
       "      <td>20291</td>\n",
       "      <td>0.072347</td>\n",
       "      <td>NaN</td>\n",
       "      <td>10000000.0</td>\n",
       "      <td>0.8</td>\n",
       "    </tr>\n",
       "    <tr>\n",
       "      <th>236</th>\n",
       "      <td>GCN</td>\n",
       "      <td>NaN</td>\n",
       "      <td>0.961583</td>\n",
       "      <td>0.753077</td>\n",
       "      <td>0.713306</td>\n",
       "      <td>0.732652</td>\n",
       "      <td>0.980843</td>\n",
       "      <td>True</td>\n",
       "      <td>Proposed</td>\n",
       "      <td>0.076</td>\n",
       "      <td>59269</td>\n",
       "      <td>amt</td>\n",
       "      <td>0.076735</td>\n",
       "      <td>19757</td>\n",
       "      <td>0.073797</td>\n",
       "      <td>NaN</td>\n",
       "      <td>10000000.0</td>\n",
       "      <td>0.8</td>\n",
       "    </tr>\n",
       "    <tr>\n",
       "      <th>237</th>\n",
       "      <td>GCN</td>\n",
       "      <td>NaN</td>\n",
       "      <td>0.958961</td>\n",
       "      <td>0.793586</td>\n",
       "      <td>0.641622</td>\n",
       "      <td>0.709559</td>\n",
       "      <td>0.981972</td>\n",
       "      <td>True</td>\n",
       "      <td>Proposed</td>\n",
       "      <td>0.078</td>\n",
       "      <td>57750</td>\n",
       "      <td>amt</td>\n",
       "      <td>0.077957</td>\n",
       "      <td>19250</td>\n",
       "      <td>0.078130</td>\n",
       "      <td>NaN</td>\n",
       "      <td>10000000.0</td>\n",
       "      <td>0.8</td>\n",
       "    </tr>\n",
       "    <tr>\n",
       "      <th>...</th>\n",
       "      <td>...</td>\n",
       "      <td>...</td>\n",
       "      <td>...</td>\n",
       "      <td>...</td>\n",
       "      <td>...</td>\n",
       "      <td>...</td>\n",
       "      <td>...</td>\n",
       "      <td>...</td>\n",
       "      <td>...</td>\n",
       "      <td>...</td>\n",
       "      <td>...</td>\n",
       "      <td>...</td>\n",
       "      <td>...</td>\n",
       "      <td>...</td>\n",
       "      <td>...</td>\n",
       "      <td>...</td>\n",
       "      <td>...</td>\n",
       "      <td>...</td>\n",
       "    </tr>\n",
       "    <tr>\n",
       "      <th>1442</th>\n",
       "      <td>GCN</td>\n",
       "      <td>NaN</td>\n",
       "      <td>0.964436</td>\n",
       "      <td>0.781726</td>\n",
       "      <td>0.593830</td>\n",
       "      <td>0.674945</td>\n",
       "      <td>0.982910</td>\n",
       "      <td>True</td>\n",
       "      <td>Proposed</td>\n",
       "      <td>0.060</td>\n",
       "      <td>75075</td>\n",
       "      <td>amt</td>\n",
       "      <td>0.059274</td>\n",
       "      <td>25025</td>\n",
       "      <td>0.062178</td>\n",
       "      <td>NaN</td>\n",
       "      <td>10000000.0</td>\n",
       "      <td>0.8</td>\n",
       "    </tr>\n",
       "    <tr>\n",
       "      <th>1443</th>\n",
       "      <td>GCN</td>\n",
       "      <td>NaN</td>\n",
       "      <td>0.963333</td>\n",
       "      <td>0.759607</td>\n",
       "      <td>0.578625</td>\n",
       "      <td>0.656878</td>\n",
       "      <td>0.980229</td>\n",
       "      <td>True</td>\n",
       "      <td>Proposed</td>\n",
       "      <td>0.062</td>\n",
       "      <td>72653</td>\n",
       "      <td>amt</td>\n",
       "      <td>0.062448</td>\n",
       "      <td>24218</td>\n",
       "      <td>0.060657</td>\n",
       "      <td>NaN</td>\n",
       "      <td>10000000.0</td>\n",
       "      <td>0.8</td>\n",
       "    </tr>\n",
       "    <tr>\n",
       "      <th>1444</th>\n",
       "      <td>GCN</td>\n",
       "      <td>NaN</td>\n",
       "      <td>0.963514</td>\n",
       "      <td>0.811003</td>\n",
       "      <td>0.587026</td>\n",
       "      <td>0.681073</td>\n",
       "      <td>0.983955</td>\n",
       "      <td>True</td>\n",
       "      <td>Proposed</td>\n",
       "      <td>0.064</td>\n",
       "      <td>70383</td>\n",
       "      <td>amt</td>\n",
       "      <td>0.063211</td>\n",
       "      <td>23461</td>\n",
       "      <td>0.066365</td>\n",
       "      <td>NaN</td>\n",
       "      <td>10000000.0</td>\n",
       "      <td>0.8</td>\n",
       "    </tr>\n",
       "    <tr>\n",
       "      <th>1445</th>\n",
       "      <td>GCN</td>\n",
       "      <td>NaN</td>\n",
       "      <td>0.962637</td>\n",
       "      <td>0.764463</td>\n",
       "      <td>0.620805</td>\n",
       "      <td>0.685185</td>\n",
       "      <td>0.979923</td>\n",
       "      <td>True</td>\n",
       "      <td>Proposed</td>\n",
       "      <td>0.066</td>\n",
       "      <td>68250</td>\n",
       "      <td>amt</td>\n",
       "      <td>0.066168</td>\n",
       "      <td>22750</td>\n",
       "      <td>0.065495</td>\n",
       "      <td>NaN</td>\n",
       "      <td>10000000.0</td>\n",
       "      <td>0.8</td>\n",
       "    </tr>\n",
       "    <tr>\n",
       "      <th>1446</th>\n",
       "      <td>GCN</td>\n",
       "      <td>NaN</td>\n",
       "      <td>0.960011</td>\n",
       "      <td>0.773905</td>\n",
       "      <td>0.578877</td>\n",
       "      <td>0.662333</td>\n",
       "      <td>0.980407</td>\n",
       "      <td>True</td>\n",
       "      <td>Proposed</td>\n",
       "      <td>0.068</td>\n",
       "      <td>66243</td>\n",
       "      <td>amt</td>\n",
       "      <td>0.068083</td>\n",
       "      <td>22081</td>\n",
       "      <td>0.067751</td>\n",
       "      <td>NaN</td>\n",
       "      <td>10000000.0</td>\n",
       "      <td>0.8</td>\n",
       "    </tr>\n",
       "  </tbody>\n",
       "</table>\n",
       "<p>143 rows × 18 columns</p>\n",
       "</div>"
      ],
      "text/plain": [
       "     model  time       acc       pre       rec        f1       auc  \\\n",
       "233    GCN   NaN  0.954126  0.744539  0.523015  0.614420  0.976265   \n",
       "234    GCN   NaN  0.965907  0.796637  0.685262  0.736764  0.985523   \n",
       "235    GCN   NaN  0.964319  0.776786  0.711172  0.742532  0.983037   \n",
       "236    GCN   NaN  0.961583  0.753077  0.713306  0.732652  0.980843   \n",
       "237    GCN   NaN  0.958961  0.793586  0.641622  0.709559  0.981972   \n",
       "...    ...   ...       ...       ...       ...       ...       ...   \n",
       "1442   GCN   NaN  0.964436  0.781726  0.593830  0.674945  0.982910   \n",
       "1443   GCN   NaN  0.963333  0.759607  0.578625  0.656878  0.980229   \n",
       "1444   GCN   NaN  0.963514  0.811003  0.587026  0.681073  0.983955   \n",
       "1445   GCN   NaN  0.962637  0.764463  0.620805  0.685185  0.979923   \n",
       "1446   GCN   NaN  0.960011  0.773905  0.578877  0.662333  0.980407   \n",
       "\n",
       "      graph_based    method  throw_rate  train_size train_cols  train_frate  \\\n",
       "233          True  Proposed       0.070       64350        amt     0.070039   \n",
       "234          True  Proposed       0.072       62562        amt     0.072792   \n",
       "235          True  Proposed       0.074       60871        amt     0.074551   \n",
       "236          True  Proposed       0.076       59269        amt     0.076735   \n",
       "237          True  Proposed       0.078       57750        amt     0.077957   \n",
       "...           ...       ...         ...         ...        ...          ...   \n",
       "1442         True  Proposed       0.060       75075        amt     0.059274   \n",
       "1443         True  Proposed       0.062       72653        amt     0.062448   \n",
       "1444         True  Proposed       0.064       70383        amt     0.063211   \n",
       "1445         True  Proposed       0.066       68250        amt     0.066168   \n",
       "1446         True  Proposed       0.068       66243        amt     0.068083   \n",
       "\n",
       "      test_size  test_frate  hyper_params       theta  gamma  \n",
       "233       21450    0.069883           NaN  10000000.0    0.8  \n",
       "234       20855    0.069624           NaN  10000000.0    0.8  \n",
       "235       20291    0.072347           NaN  10000000.0    0.8  \n",
       "236       19757    0.073797           NaN  10000000.0    0.8  \n",
       "237       19250    0.078130           NaN  10000000.0    0.8  \n",
       "...         ...         ...           ...         ...    ...  \n",
       "1442      25025    0.062178           NaN  10000000.0    0.8  \n",
       "1443      24218    0.060657           NaN  10000000.0    0.8  \n",
       "1444      23461    0.066365           NaN  10000000.0    0.8  \n",
       "1445      22750    0.065495           NaN  10000000.0    0.8  \n",
       "1446      22081    0.067751           NaN  10000000.0    0.8  \n",
       "\n",
       "[143 rows x 18 columns]"
      ]
     },
     "execution_count": 91,
     "metadata": {},
     "output_type": "execute_result"
    }
   ],
   "source": [
    "filtered_df[(filtered_df['model'] == 'GCN') & (filtered_df['gamma'] == 0.8 )]"
   ]
  },
  {
   "cell_type": "code",
   "execution_count": null,
   "id": "c7e066f3-4c35-445a-a592-629fef76bbe0",
   "metadata": {},
   "outputs": [],
   "source": []
  }
 ],
 "metadata": {
  "kernelspec": {
   "display_name": "Python 3 (ipykernel)",
   "language": "python",
   "name": "python3"
  },
  "language_info": {
   "codemirror_mode": {
    "name": "ipython",
    "version": 3
   },
   "file_extension": ".py",
   "mimetype": "text/x-python",
   "name": "python",
   "nbconvert_exporter": "python",
   "pygments_lexer": "ipython3",
   "version": "3.8.18"
  }
 },
 "nbformat": 4,
 "nbformat_minor": 5
}
