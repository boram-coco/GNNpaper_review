{
 "cells": [
  {
   "cell_type": "raw",
   "id": "bc22b55c-5b3b-4496-aeee-2399e4633452",
   "metadata": {},
   "source": [
    "---\n",
    "title: \"240317 Intro(시간별 사기거래)\"\n",
    "author: \"김보람\"\n",
    "date: \"03/17/2024\"\n",
    "---"
   ]
  },
  {
   "cell_type": "code",
   "execution_count": 1,
   "id": "ed305934-254b-4bc7-baf9-c6f3dedd58b2",
   "metadata": {},
   "outputs": [],
   "source": [
    "import pandas as pd\n",
    "import numpy as np\n",
    "import sklearn\n",
    "import pickle \n",
    "import time \n",
    "import datetime\n",
    "import warnings\n",
    "import matplotlib.pyplot as plt\n",
    "warnings.filterwarnings('ignore')\n",
    "import matplotlib.pyplot as plt\n",
    "from ipywidgets import interact, widgets\n",
    "# import graft"
   ]
  },
  {
   "cell_type": "code",
   "execution_count": 2,
   "id": "d69cd35f-80d2-4253-bafb-d76499b02b05",
   "metadata": {},
   "outputs": [],
   "source": [
    "with open('./fraudTrain.pkl', 'rb') as file:\n",
    "    fraudTrain = pickle.load(file)    "
   ]
  },
  {
   "cell_type": "code",
   "execution_count": 3,
   "id": "26b5dc47-6f14-42e2-a0c3-ac245067bcc1",
   "metadata": {},
   "outputs": [],
   "source": [
    "df = fraudTrain[fraudTrain.is_fraud == 1]\n",
    "\n",
    "fraud1_cc_num = df['cc_num'].unique()\n",
    "\n",
    "df_fraud = fraudTrain[fraudTrain['cc_num'].isin(fraud1_cc_num)].reset_index()\n",
    "\n",
    "cc_num_value_sort = df_fraud.groupby(\"cc_num\")[\"is_fraud\"].agg(['sum']).reset_index().sort_values(by='sum',ascending=False)['cc_num'].tolist()"
   ]
  },
  {
   "cell_type": "code",
   "execution_count": 4,
   "id": "e86fbac3-1e0f-4804-8879-92c4fd62d216",
   "metadata": {
    "tags": []
   },
   "outputs": [
    {
     "data": {
      "application/vnd.jupyter.widget-view+json": {
       "model_id": "c1f9bf66ce964bcdaf3e29787b63f8dd",
       "version_major": 2,
       "version_minor": 0
      },
      "text/plain": [
       "interactive(children=(Dropdown(description='cc_num:', index=592, options=('', 213174000000000.0, 3506040000000…"
      ]
     },
     "metadata": {},
     "output_type": "display_data"
    },
    {
     "data": {
      "text/plain": [
       "<function __main__.plot_fraud_over_time(cc_num=4.5031e+18)>"
      ]
     },
     "execution_count": 4,
     "metadata": {},
     "output_type": "execute_result"
    }
   ],
   "source": [
    "import matplotlib.pyplot as plt\n",
    "from ipywidgets import interact, widgets\n",
    "\n",
    "def plot_fraud_over_time(cc_num=4.503100e+18):\n",
    "    plt.figure(figsize=(10, 6))\n",
    "    data = df_fraud[df_fraud['cc_num'] == cc_num]\n",
    "    fraud_count = (data['is_fraud'] == 1).sum()\n",
    "    \n",
    "    plt.scatter(data[data['is_fraud'] == 1]['trans_date_trans_time'], data[data['is_fraud'] == 1]['is_fraud'], marker='o',s=300,alpha=0.1, color='red', label='Fraudulent Transactions')\n",
    "    plt.scatter(data[data['is_fraud'] == 0]['trans_date_trans_time'], data[data['is_fraud'] == 0]['is_fraud'], marker='o',s=300,alpha=0.005, color='blue', label='Legitimate Transactions')\n",
    "    plt.title(f'Fraudulent Transactions Over Time \\n cc_num: {cc_num}\\n Fraudulent Count: {fraud_count}')\n",
    "    plt.xlabel('Transaction Date and Time')\n",
    "    plt.ylabel('Fraudulent Transactions')\n",
    "    plt.ylim(-0.1, 1.1)\n",
    "    plt.legend(loc='center right') \n",
    "    plt.show()\n",
    "\n",
    "\n",
    "interact(plot_fraud_over_time, cc_num=widgets.Dropdown(options=[''] + cc_num_value_sort, value=4.503100e+18, description='cc_num:'))\n"
   ]
  },
  {
   "cell_type": "code",
   "execution_count": 8,
   "id": "6633f7d1-5a5b-4d67-9a99-4482a5f803b7",
   "metadata": {},
   "outputs": [
    {
     "data": {
      "text/html": [
       "<div>\n",
       "<style scoped>\n",
       "    .dataframe tbody tr th:only-of-type {\n",
       "        vertical-align: middle;\n",
       "    }\n",
       "\n",
       "    .dataframe tbody tr th {\n",
       "        vertical-align: top;\n",
       "    }\n",
       "\n",
       "    .dataframe thead th {\n",
       "        text-align: right;\n",
       "    }\n",
       "</style>\n",
       "<table border=\"1\" class=\"dataframe\">\n",
       "  <thead>\n",
       "    <tr style=\"text-align: right;\">\n",
       "      <th></th>\n",
       "      <th>cc_num</th>\n",
       "      <th>amt</th>\n",
       "      <th>zip</th>\n",
       "      <th>lat</th>\n",
       "      <th>long</th>\n",
       "      <th>city_pop</th>\n",
       "      <th>unix_time</th>\n",
       "      <th>merch_lat</th>\n",
       "      <th>merch_long</th>\n",
       "      <th>is_fraud</th>\n",
       "    </tr>\n",
       "  </thead>\n",
       "  <tbody>\n",
       "    <tr>\n",
       "      <th>count</th>\n",
       "      <td>1.048575e+06</td>\n",
       "      <td>1.048575e+06</td>\n",
       "      <td>1.048575e+06</td>\n",
       "      <td>1.048575e+06</td>\n",
       "      <td>1.048575e+06</td>\n",
       "      <td>1.048575e+06</td>\n",
       "      <td>1.048575e+06</td>\n",
       "      <td>1.048575e+06</td>\n",
       "      <td>1.048575e+06</td>\n",
       "      <td>1.048575e+06</td>\n",
       "    </tr>\n",
       "    <tr>\n",
       "      <th>mean</th>\n",
       "      <td>4.171565e+17</td>\n",
       "      <td>7.027910e+01</td>\n",
       "      <td>4.880159e+04</td>\n",
       "      <td>3.853336e+01</td>\n",
       "      <td>-9.022626e+01</td>\n",
       "      <td>8.905776e+04</td>\n",
       "      <td>1.344906e+09</td>\n",
       "      <td>3.853346e+01</td>\n",
       "      <td>-9.022648e+01</td>\n",
       "      <td>5.727773e-03</td>\n",
       "    </tr>\n",
       "    <tr>\n",
       "      <th>std</th>\n",
       "      <td>1.308811e+18</td>\n",
       "      <td>1.599518e+02</td>\n",
       "      <td>2.689804e+04</td>\n",
       "      <td>5.076852e+00</td>\n",
       "      <td>1.375858e+01</td>\n",
       "      <td>3.024351e+05</td>\n",
       "      <td>1.019700e+07</td>\n",
       "      <td>5.111233e+00</td>\n",
       "      <td>1.377093e+01</td>\n",
       "      <td>7.546503e-02</td>\n",
       "    </tr>\n",
       "    <tr>\n",
       "      <th>min</th>\n",
       "      <td>6.041621e+10</td>\n",
       "      <td>1.000000e+00</td>\n",
       "      <td>1.257000e+03</td>\n",
       "      <td>2.002710e+01</td>\n",
       "      <td>-1.656723e+02</td>\n",
       "      <td>2.300000e+01</td>\n",
       "      <td>1.325376e+09</td>\n",
       "      <td>1.902779e+01</td>\n",
       "      <td>-1.666712e+02</td>\n",
       "      <td>0.000000e+00</td>\n",
       "    </tr>\n",
       "    <tr>\n",
       "      <th>25%</th>\n",
       "      <td>1.800400e+14</td>\n",
       "      <td>9.640000e+00</td>\n",
       "      <td>2.623700e+04</td>\n",
       "      <td>3.462050e+01</td>\n",
       "      <td>-9.679800e+01</td>\n",
       "      <td>7.430000e+02</td>\n",
       "      <td>1.336682e+09</td>\n",
       "      <td>3.472954e+01</td>\n",
       "      <td>-9.689864e+01</td>\n",
       "      <td>0.000000e+00</td>\n",
       "    </tr>\n",
       "    <tr>\n",
       "      <th>50%</th>\n",
       "      <td>3.520550e+15</td>\n",
       "      <td>4.745000e+01</td>\n",
       "      <td>4.817400e+04</td>\n",
       "      <td>3.935430e+01</td>\n",
       "      <td>-8.747690e+01</td>\n",
       "      <td>2.456000e+03</td>\n",
       "      <td>1.344902e+09</td>\n",
       "      <td>3.936295e+01</td>\n",
       "      <td>-8.743923e+01</td>\n",
       "      <td>0.000000e+00</td>\n",
       "    </tr>\n",
       "    <tr>\n",
       "      <th>75%</th>\n",
       "      <td>4.642260e+15</td>\n",
       "      <td>8.305000e+01</td>\n",
       "      <td>7.204200e+04</td>\n",
       "      <td>4.194040e+01</td>\n",
       "      <td>-8.015800e+01</td>\n",
       "      <td>2.032800e+04</td>\n",
       "      <td>1.354366e+09</td>\n",
       "      <td>4.195602e+01</td>\n",
       "      <td>-8.023228e+01</td>\n",
       "      <td>0.000000e+00</td>\n",
       "    </tr>\n",
       "    <tr>\n",
       "      <th>max</th>\n",
       "      <td>4.992350e+18</td>\n",
       "      <td>2.894890e+04</td>\n",
       "      <td>9.978300e+04</td>\n",
       "      <td>6.669330e+01</td>\n",
       "      <td>-6.795030e+01</td>\n",
       "      <td>2.906700e+06</td>\n",
       "      <td>1.362932e+09</td>\n",
       "      <td>6.751027e+01</td>\n",
       "      <td>-6.695090e+01</td>\n",
       "      <td>1.000000e+00</td>\n",
       "    </tr>\n",
       "  </tbody>\n",
       "</table>\n",
       "</div>"
      ],
      "text/plain": [
       "             cc_num           amt           zip           lat          long  \\\n",
       "count  1.048575e+06  1.048575e+06  1.048575e+06  1.048575e+06  1.048575e+06   \n",
       "mean   4.171565e+17  7.027910e+01  4.880159e+04  3.853336e+01 -9.022626e+01   \n",
       "std    1.308811e+18  1.599518e+02  2.689804e+04  5.076852e+00  1.375858e+01   \n",
       "min    6.041621e+10  1.000000e+00  1.257000e+03  2.002710e+01 -1.656723e+02   \n",
       "25%    1.800400e+14  9.640000e+00  2.623700e+04  3.462050e+01 -9.679800e+01   \n",
       "50%    3.520550e+15  4.745000e+01  4.817400e+04  3.935430e+01 -8.747690e+01   \n",
       "75%    4.642260e+15  8.305000e+01  7.204200e+04  4.194040e+01 -8.015800e+01   \n",
       "max    4.992350e+18  2.894890e+04  9.978300e+04  6.669330e+01 -6.795030e+01   \n",
       "\n",
       "           city_pop     unix_time     merch_lat    merch_long      is_fraud  \n",
       "count  1.048575e+06  1.048575e+06  1.048575e+06  1.048575e+06  1.048575e+06  \n",
       "mean   8.905776e+04  1.344906e+09  3.853346e+01 -9.022648e+01  5.727773e-03  \n",
       "std    3.024351e+05  1.019700e+07  5.111233e+00  1.377093e+01  7.546503e-02  \n",
       "min    2.300000e+01  1.325376e+09  1.902779e+01 -1.666712e+02  0.000000e+00  \n",
       "25%    7.430000e+02  1.336682e+09  3.472954e+01 -9.689864e+01  0.000000e+00  \n",
       "50%    2.456000e+03  1.344902e+09  3.936295e+01 -8.743923e+01  0.000000e+00  \n",
       "75%    2.032800e+04  1.354366e+09  4.195602e+01 -8.023228e+01  0.000000e+00  \n",
       "max    2.906700e+06  1.362932e+09  6.751027e+01 -6.695090e+01  1.000000e+00  "
      ]
     },
     "execution_count": 8,
     "metadata": {},
     "output_type": "execute_result"
    }
   ],
   "source": [
    "fraudTrain.describe()"
   ]
  },
  {
   "cell_type": "code",
   "execution_count": 9,
   "id": "64e6791d-f278-4741-ae99-17890a34591f",
   "metadata": {},
   "outputs": [
    {
     "data": {
      "text/plain": [
       "(1048575, 22)"
      ]
     },
     "execution_count": 9,
     "metadata": {},
     "output_type": "execute_result"
    }
   ],
   "source": [
    "fraudTrain.shape"
   ]
  },
  {
   "cell_type": "code",
   "execution_count": 11,
   "id": "b2dd2487-b603-4bc8-afed-2b95c606ee61",
   "metadata": {},
   "outputs": [
    {
     "data": {
      "text/plain": [
       "(943,)"
      ]
     },
     "execution_count": 11,
     "metadata": {},
     "output_type": "execute_result"
    }
   ],
   "source": [
    "np.shape(fraudTrain.cc_num.unique())"
   ]
  },
  {
   "cell_type": "code",
   "execution_count": 17,
   "id": "c8a43aff-62e5-4c7b-8981-0092aa3173fb",
   "metadata": {},
   "outputs": [
    {
     "data": {
      "text/plain": [
       "(693,)"
      ]
     },
     "execution_count": 17,
     "metadata": {},
     "output_type": "execute_result"
    }
   ],
   "source": [
    "np.shape(fraudTrain.merchant.unique())"
   ]
  },
  {
   "cell_type": "code",
   "execution_count": 19,
   "id": "39b9fbf0-fd7d-4063-bc49-761c1970b3d8",
   "metadata": {},
   "outputs": [
    {
     "data": {
      "text/plain": [
       "6006"
      ]
     },
     "execution_count": 19,
     "metadata": {},
     "output_type": "execute_result"
    }
   ],
   "source": [
    "(fraudTrain.is_fraud == 1).sum()"
   ]
  },
  {
   "cell_type": "code",
   "execution_count": 20,
   "id": "2543f416-f9d9-4024-8dcf-ddb3f6af79cf",
   "metadata": {},
   "outputs": [
    {
     "ename": "AttributeError",
     "evalue": "'Series' object has no attribute 'group'",
     "output_type": "error",
     "traceback": [
      "\u001b[0;31m---------------------------------------------------------------------------\u001b[0m",
      "\u001b[0;31mAttributeError\u001b[0m                            Traceback (most recent call last)",
      "Cell \u001b[0;32mIn[20], line 1\u001b[0m\n\u001b[0;32m----> 1\u001b[0m \u001b[43mfraudTrain\u001b[49m\u001b[38;5;241;43m.\u001b[39;49m\u001b[43mcc_num\u001b[49m\u001b[38;5;241;43m.\u001b[39;49m\u001b[43mgroup\u001b[49m\n",
      "File \u001b[0;32m~/anaconda3/envs/py38/lib/python3.8/site-packages/pandas/core/generic.py:5902\u001b[0m, in \u001b[0;36mNDFrame.__getattr__\u001b[0;34m(self, name)\u001b[0m\n\u001b[1;32m   5895\u001b[0m \u001b[38;5;28;01mif\u001b[39;00m (\n\u001b[1;32m   5896\u001b[0m     name \u001b[38;5;129;01mnot\u001b[39;00m \u001b[38;5;129;01min\u001b[39;00m \u001b[38;5;28mself\u001b[39m\u001b[38;5;241m.\u001b[39m_internal_names_set\n\u001b[1;32m   5897\u001b[0m     \u001b[38;5;129;01mand\u001b[39;00m name \u001b[38;5;129;01mnot\u001b[39;00m \u001b[38;5;129;01min\u001b[39;00m \u001b[38;5;28mself\u001b[39m\u001b[38;5;241m.\u001b[39m_metadata\n\u001b[1;32m   5898\u001b[0m     \u001b[38;5;129;01mand\u001b[39;00m name \u001b[38;5;129;01mnot\u001b[39;00m \u001b[38;5;129;01min\u001b[39;00m \u001b[38;5;28mself\u001b[39m\u001b[38;5;241m.\u001b[39m_accessors\n\u001b[1;32m   5899\u001b[0m     \u001b[38;5;129;01mand\u001b[39;00m \u001b[38;5;28mself\u001b[39m\u001b[38;5;241m.\u001b[39m_info_axis\u001b[38;5;241m.\u001b[39m_can_hold_identifiers_and_holds_name(name)\n\u001b[1;32m   5900\u001b[0m ):\n\u001b[1;32m   5901\u001b[0m     \u001b[38;5;28;01mreturn\u001b[39;00m \u001b[38;5;28mself\u001b[39m[name]\n\u001b[0;32m-> 5902\u001b[0m \u001b[38;5;28;01mreturn\u001b[39;00m \u001b[38;5;28;43mobject\u001b[39;49m\u001b[38;5;241;43m.\u001b[39;49m\u001b[38;5;21;43m__getattribute__\u001b[39;49m\u001b[43m(\u001b[49m\u001b[38;5;28;43mself\u001b[39;49m\u001b[43m,\u001b[49m\u001b[43m \u001b[49m\u001b[43mname\u001b[49m\u001b[43m)\u001b[49m\n",
      "\u001b[0;31mAttributeError\u001b[0m: 'Series' object has no attribute 'group'"
     ]
    }
   ],
   "source": [
    "fraudTrain.cc_num.group"
   ]
  },
  {
   "cell_type": "code",
   "execution_count": null,
   "id": "fe6e568a-3642-4bcc-a174-7426cb16d8af",
   "metadata": {},
   "outputs": [],
   "source": []
  }
 ],
 "metadata": {
  "kernelspec": {
   "display_name": "Python 3 (ipykernel)",
   "language": "python",
   "name": "python3"
  },
  "language_info": {
   "codemirror_mode": {
    "name": "ipython",
    "version": 3
   },
   "file_extension": ".py",
   "mimetype": "text/x-python",
   "name": "python",
   "nbconvert_exporter": "python",
   "pygments_lexer": "ipython3",
   "version": "3.8.18"
  }
 },
 "nbformat": 4,
 "nbformat_minor": 5
}
