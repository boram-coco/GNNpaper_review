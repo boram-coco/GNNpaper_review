{
 "cells": [
  {
   "cell_type": "raw",
   "id": "92c4d455-44ab-4538-aab5-86f6e785f718",
   "metadata": {},
   "source": [
    "---\n",
    "title: \"Experiment(사기거래 비율에 다 다른것 AUC 그림)\"\n",
    "author: \"김보람\"\n",
    "date: \"04/11/2024\"\n",
    "---"
   ]
  },
  {
   "cell_type": "code",
   "execution_count": 106,
   "id": "485b3f6b-ebd8-47b8-af1c-20146faed259",
   "metadata": {},
   "outputs": [],
   "source": [
    "import pandas as pd\n",
    "import numpy as np\n",
    "import sklearn\n",
    "import pickle \n",
    "import time \n",
    "import datetime\n",
    "import warnings\n",
    "warnings.filterwarnings('ignore')"
   ]
  },
  {
   "cell_type": "code",
   "execution_count": 107,
   "id": "ea5d48fe-efc2-4232-9953-b71d8f8ee95e",
   "metadata": {},
   "outputs": [],
   "source": [
    "%run ~/Dropbox/GNNpaper/posts/function_proposed_gcn.py"
   ]
  },
  {
   "cell_type": "code",
   "execution_count": 108,
   "id": "715f2bf0-2015-451d-8d7c-c01599d88595",
   "metadata": {},
   "outputs": [],
   "source": [
    "with open('./fraudTrain.pkl', 'rb') as file:\n",
    "    fraudTrain = pickle.load(file)    "
   ]
  },
  {
   "cell_type": "code",
   "execution_count": 109,
   "id": "b76704e5-9188-4ae9-b21e-ff7220e4e642",
   "metadata": {},
   "outputs": [],
   "source": [
    "merged_df = pd.read_csv('./240411_meged.csv')\n",
    "merged_df = merged_df[merged_df['model'] != 'WeightedEnsemble_L2']\n",
    "merged_df = merged_df[merged_df['pre'] != 0]\n",
    "merged_df['diff'] = abs(merged_df['train_frate'] - merged_df['test_frate'])"
   ]
  },
  {
   "cell_type": "code",
   "execution_count": 110,
   "id": "fb0e2e9b-2cae-4147-b240-ab70473327eb",
   "metadata": {},
   "outputs": [
    {
     "data": {
      "text/html": [
       "<div>\n",
       "<style scoped>\n",
       "    .dataframe tbody tr th:only-of-type {\n",
       "        vertical-align: middle;\n",
       "    }\n",
       "\n",
       "    .dataframe tbody tr th {\n",
       "        vertical-align: top;\n",
       "    }\n",
       "\n",
       "    .dataframe thead th {\n",
       "        text-align: right;\n",
       "    }\n",
       "</style>\n",
       "<table border=\"1\" class=\"dataframe\">\n",
       "  <thead>\n",
       "    <tr style=\"text-align: right;\">\n",
       "      <th></th>\n",
       "      <th>model</th>\n",
       "      <th>time</th>\n",
       "      <th>acc</th>\n",
       "      <th>pre</th>\n",
       "      <th>rec</th>\n",
       "      <th>f1</th>\n",
       "      <th>auc</th>\n",
       "      <th>graph_based</th>\n",
       "      <th>method</th>\n",
       "      <th>throw_rate</th>\n",
       "      <th>train_size</th>\n",
       "      <th>train_cols</th>\n",
       "      <th>train_frate</th>\n",
       "      <th>test_size</th>\n",
       "      <th>test_frate</th>\n",
       "      <th>hyper_params</th>\n",
       "      <th>theta</th>\n",
       "      <th>gamma</th>\n",
       "      <th>diff</th>\n",
       "    </tr>\n",
       "  </thead>\n",
       "  <tbody>\n",
       "    <tr>\n",
       "      <th>0</th>\n",
       "      <td>ECOD</td>\n",
       "      <td>0.003704</td>\n",
       "      <td>0.591404</td>\n",
       "      <td>0.003553</td>\n",
       "      <td>0.843750</td>\n",
       "      <td>0.007076</td>\n",
       "      <td>0.717359</td>\n",
       "      <td>False</td>\n",
       "      <td>pyod</td>\n",
       "      <td>0.097074</td>\n",
       "      <td>10010</td>\n",
       "      <td>['amt']</td>\n",
       "      <td>0.450350</td>\n",
       "      <td>37088</td>\n",
       "      <td>0.001726</td>\n",
       "      <td>NaN</td>\n",
       "      <td>NaN</td>\n",
       "      <td>NaN</td>\n",
       "      <td>0.448624</td>\n",
       "    </tr>\n",
       "    <tr>\n",
       "      <th>1</th>\n",
       "      <td>GMM</td>\n",
       "      <td>0.082634</td>\n",
       "      <td>0.692003</td>\n",
       "      <td>0.003410</td>\n",
       "      <td>0.609375</td>\n",
       "      <td>0.006782</td>\n",
       "      <td>0.650760</td>\n",
       "      <td>False</td>\n",
       "      <td>pyod</td>\n",
       "      <td>0.097074</td>\n",
       "      <td>10010</td>\n",
       "      <td>['amt']</td>\n",
       "      <td>0.450350</td>\n",
       "      <td>37088</td>\n",
       "      <td>0.001726</td>\n",
       "      <td>NaN</td>\n",
       "      <td>NaN</td>\n",
       "      <td>NaN</td>\n",
       "      <td>0.448624</td>\n",
       "    </tr>\n",
       "    <tr>\n",
       "      <th>2</th>\n",
       "      <td>HBOS</td>\n",
       "      <td>0.002123</td>\n",
       "      <td>0.936368</td>\n",
       "      <td>0.020868</td>\n",
       "      <td>0.781250</td>\n",
       "      <td>0.040650</td>\n",
       "      <td>0.858943</td>\n",
       "      <td>False</td>\n",
       "      <td>pyod</td>\n",
       "      <td>0.097074</td>\n",
       "      <td>10010</td>\n",
       "      <td>['amt']</td>\n",
       "      <td>0.450350</td>\n",
       "      <td>37088</td>\n",
       "      <td>0.001726</td>\n",
       "      <td>NaN</td>\n",
       "      <td>NaN</td>\n",
       "      <td>NaN</td>\n",
       "      <td>0.448624</td>\n",
       "    </tr>\n",
       "    <tr>\n",
       "      <th>3</th>\n",
       "      <td>IForest</td>\n",
       "      <td>0.144727</td>\n",
       "      <td>0.815358</td>\n",
       "      <td>0.007263</td>\n",
       "      <td>0.781250</td>\n",
       "      <td>0.014393</td>\n",
       "      <td>0.798334</td>\n",
       "      <td>False</td>\n",
       "      <td>pyod</td>\n",
       "      <td>0.097074</td>\n",
       "      <td>10010</td>\n",
       "      <td>['amt']</td>\n",
       "      <td>0.450350</td>\n",
       "      <td>37088</td>\n",
       "      <td>0.001726</td>\n",
       "      <td>NaN</td>\n",
       "      <td>NaN</td>\n",
       "      <td>NaN</td>\n",
       "      <td>0.448624</td>\n",
       "    </tr>\n",
       "    <tr>\n",
       "      <th>4</th>\n",
       "      <td>INNE</td>\n",
       "      <td>0.326223</td>\n",
       "      <td>0.766636</td>\n",
       "      <td>0.005070</td>\n",
       "      <td>0.687500</td>\n",
       "      <td>0.010065</td>\n",
       "      <td>0.727136</td>\n",
       "      <td>False</td>\n",
       "      <td>pyod</td>\n",
       "      <td>0.097074</td>\n",
       "      <td>10010</td>\n",
       "      <td>['amt']</td>\n",
       "      <td>0.450350</td>\n",
       "      <td>37088</td>\n",
       "      <td>0.001726</td>\n",
       "      <td>NaN</td>\n",
       "      <td>NaN</td>\n",
       "      <td>NaN</td>\n",
       "      <td>0.448624</td>\n",
       "    </tr>\n",
       "    <tr>\n",
       "      <th>...</th>\n",
       "      <td>...</td>\n",
       "      <td>...</td>\n",
       "      <td>...</td>\n",
       "      <td>...</td>\n",
       "      <td>...</td>\n",
       "      <td>...</td>\n",
       "      <td>...</td>\n",
       "      <td>...</td>\n",
       "      <td>...</td>\n",
       "      <td>...</td>\n",
       "      <td>...</td>\n",
       "      <td>...</td>\n",
       "      <td>...</td>\n",
       "      <td>...</td>\n",
       "      <td>...</td>\n",
       "      <td>...</td>\n",
       "      <td>...</td>\n",
       "      <td>...</td>\n",
       "      <td>...</td>\n",
       "    </tr>\n",
       "    <tr>\n",
       "      <th>12819</th>\n",
       "      <td>RandomForestEntr</td>\n",
       "      <td>NaN</td>\n",
       "      <td>0.994032</td>\n",
       "      <td>0.092308</td>\n",
       "      <td>0.206897</td>\n",
       "      <td>0.127660</td>\n",
       "      <td>0.761099</td>\n",
       "      <td>False</td>\n",
       "      <td>Autogluon</td>\n",
       "      <td>0.008901</td>\n",
       "      <td>500499</td>\n",
       "      <td>['amt']</td>\n",
       "      <td>0.009087</td>\n",
       "      <td>13741</td>\n",
       "      <td>0.002110</td>\n",
       "      <td>NaN</td>\n",
       "      <td>NaN</td>\n",
       "      <td>NaN</td>\n",
       "      <td>0.006976</td>\n",
       "    </tr>\n",
       "    <tr>\n",
       "      <th>12821</th>\n",
       "      <td>ExtraTreesGini</td>\n",
       "      <td>NaN</td>\n",
       "      <td>0.994687</td>\n",
       "      <td>0.120690</td>\n",
       "      <td>0.241379</td>\n",
       "      <td>0.160920</td>\n",
       "      <td>0.763472</td>\n",
       "      <td>False</td>\n",
       "      <td>Autogluon</td>\n",
       "      <td>0.008901</td>\n",
       "      <td>500499</td>\n",
       "      <td>['amt']</td>\n",
       "      <td>0.009087</td>\n",
       "      <td>13741</td>\n",
       "      <td>0.002110</td>\n",
       "      <td>NaN</td>\n",
       "      <td>NaN</td>\n",
       "      <td>NaN</td>\n",
       "      <td>0.006976</td>\n",
       "    </tr>\n",
       "    <tr>\n",
       "      <th>12822</th>\n",
       "      <td>ExtraTreesEntr</td>\n",
       "      <td>NaN</td>\n",
       "      <td>0.994760</td>\n",
       "      <td>0.122807</td>\n",
       "      <td>0.241379</td>\n",
       "      <td>0.162791</td>\n",
       "      <td>0.763820</td>\n",
       "      <td>False</td>\n",
       "      <td>Autogluon</td>\n",
       "      <td>0.008901</td>\n",
       "      <td>500499</td>\n",
       "      <td>['amt']</td>\n",
       "      <td>0.009087</td>\n",
       "      <td>13741</td>\n",
       "      <td>0.002110</td>\n",
       "      <td>NaN</td>\n",
       "      <td>NaN</td>\n",
       "      <td>NaN</td>\n",
       "      <td>0.006976</td>\n",
       "    </tr>\n",
       "    <tr>\n",
       "      <th>12824</th>\n",
       "      <td>XGBoost</td>\n",
       "      <td>NaN</td>\n",
       "      <td>0.996580</td>\n",
       "      <td>0.178571</td>\n",
       "      <td>0.172414</td>\n",
       "      <td>0.175439</td>\n",
       "      <td>0.939455</td>\n",
       "      <td>False</td>\n",
       "      <td>Autogluon</td>\n",
       "      <td>0.008901</td>\n",
       "      <td>500499</td>\n",
       "      <td>['amt']</td>\n",
       "      <td>0.009087</td>\n",
       "      <td>13741</td>\n",
       "      <td>0.002110</td>\n",
       "      <td>NaN</td>\n",
       "      <td>NaN</td>\n",
       "      <td>NaN</td>\n",
       "      <td>0.006976</td>\n",
       "    </tr>\n",
       "    <tr>\n",
       "      <th>12825</th>\n",
       "      <td>NeuralNetTorch</td>\n",
       "      <td>NaN</td>\n",
       "      <td>0.997162</td>\n",
       "      <td>0.187500</td>\n",
       "      <td>0.103448</td>\n",
       "      <td>0.133333</td>\n",
       "      <td>0.941711</td>\n",
       "      <td>False</td>\n",
       "      <td>Autogluon</td>\n",
       "      <td>0.008901</td>\n",
       "      <td>500499</td>\n",
       "      <td>['amt']</td>\n",
       "      <td>0.009087</td>\n",
       "      <td>13741</td>\n",
       "      <td>0.002110</td>\n",
       "      <td>NaN</td>\n",
       "      <td>NaN</td>\n",
       "      <td>NaN</td>\n",
       "      <td>0.006976</td>\n",
       "    </tr>\n",
       "  </tbody>\n",
       "</table>\n",
       "<p>10915 rows × 19 columns</p>\n",
       "</div>"
      ],
      "text/plain": [
       "                  model      time       acc       pre       rec        f1  \\\n",
       "0                  ECOD  0.003704  0.591404  0.003553  0.843750  0.007076   \n",
       "1                   GMM  0.082634  0.692003  0.003410  0.609375  0.006782   \n",
       "2                  HBOS  0.002123  0.936368  0.020868  0.781250  0.040650   \n",
       "3               IForest  0.144727  0.815358  0.007263  0.781250  0.014393   \n",
       "4                  INNE  0.326223  0.766636  0.005070  0.687500  0.010065   \n",
       "...                 ...       ...       ...       ...       ...       ...   \n",
       "12819  RandomForestEntr       NaN  0.994032  0.092308  0.206897  0.127660   \n",
       "12821    ExtraTreesGini       NaN  0.994687  0.120690  0.241379  0.160920   \n",
       "12822    ExtraTreesEntr       NaN  0.994760  0.122807  0.241379  0.162791   \n",
       "12824           XGBoost       NaN  0.996580  0.178571  0.172414  0.175439   \n",
       "12825    NeuralNetTorch       NaN  0.997162  0.187500  0.103448  0.133333   \n",
       "\n",
       "            auc  graph_based     method  throw_rate  train_size train_cols  \\\n",
       "0      0.717359        False       pyod    0.097074       10010    ['amt']   \n",
       "1      0.650760        False       pyod    0.097074       10010    ['amt']   \n",
       "2      0.858943        False       pyod    0.097074       10010    ['amt']   \n",
       "3      0.798334        False       pyod    0.097074       10010    ['amt']   \n",
       "4      0.727136        False       pyod    0.097074       10010    ['amt']   \n",
       "...         ...          ...        ...         ...         ...        ...   \n",
       "12819  0.761099        False  Autogluon    0.008901      500499    ['amt']   \n",
       "12821  0.763472        False  Autogluon    0.008901      500499    ['amt']   \n",
       "12822  0.763820        False  Autogluon    0.008901      500499    ['amt']   \n",
       "12824  0.939455        False  Autogluon    0.008901      500499    ['amt']   \n",
       "12825  0.941711        False  Autogluon    0.008901      500499    ['amt']   \n",
       "\n",
       "       train_frate  test_size  test_frate  hyper_params  theta  gamma  \\\n",
       "0         0.450350      37088    0.001726           NaN    NaN    NaN   \n",
       "1         0.450350      37088    0.001726           NaN    NaN    NaN   \n",
       "2         0.450350      37088    0.001726           NaN    NaN    NaN   \n",
       "3         0.450350      37088    0.001726           NaN    NaN    NaN   \n",
       "4         0.450350      37088    0.001726           NaN    NaN    NaN   \n",
       "...            ...        ...         ...           ...    ...    ...   \n",
       "12819     0.009087      13741    0.002110           NaN    NaN    NaN   \n",
       "12821     0.009087      13741    0.002110           NaN    NaN    NaN   \n",
       "12822     0.009087      13741    0.002110           NaN    NaN    NaN   \n",
       "12824     0.009087      13741    0.002110           NaN    NaN    NaN   \n",
       "12825     0.009087      13741    0.002110           NaN    NaN    NaN   \n",
       "\n",
       "           diff  \n",
       "0      0.448624  \n",
       "1      0.448624  \n",
       "2      0.448624  \n",
       "3      0.448624  \n",
       "4      0.448624  \n",
       "...         ...  \n",
       "12819  0.006976  \n",
       "12821  0.006976  \n",
       "12822  0.006976  \n",
       "12824  0.006976  \n",
       "12825  0.006976  \n",
       "\n",
       "[10915 rows x 19 columns]"
      ]
     },
     "execution_count": 110,
     "metadata": {},
     "output_type": "execute_result"
    }
   ],
   "source": [
    "merged_df"
   ]
  },
  {
   "cell_type": "markdown",
   "id": "0087ef8a-2b45-4eee-9e5f-3938289e5884",
   "metadata": {},
   "source": [
    "# ex1. tr:0.5, tst: 0.001"
   ]
  },
  {
   "cell_type": "code",
   "execution_count": 111,
   "id": "553b5bbb-168a-4b31-b4f5-c727e3e3993b",
   "metadata": {},
   "outputs": [],
   "source": [
    "ex1 = merged_df[(merged_df['train_size'] == 9009) & (merged_df['test_size']>=50000) & (merged_df['test_size'] < 60000)]"
   ]
  },
  {
   "cell_type": "code",
   "execution_count": 112,
   "id": "8f8aaccb-7e82-41a3-aee9-0acfe951f050",
   "metadata": {},
   "outputs": [
    {
     "data": {
      "text/html": [
       "<div>\n",
       "<style scoped>\n",
       "    .dataframe tbody tr th:only-of-type {\n",
       "        vertical-align: middle;\n",
       "    }\n",
       "\n",
       "    .dataframe tbody tr th {\n",
       "        vertical-align: top;\n",
       "    }\n",
       "\n",
       "    .dataframe thead th {\n",
       "        text-align: right;\n",
       "    }\n",
       "</style>\n",
       "<table border=\"1\" class=\"dataframe\">\n",
       "  <thead>\n",
       "    <tr style=\"text-align: right;\">\n",
       "      <th></th>\n",
       "      <th>model</th>\n",
       "      <th>time</th>\n",
       "      <th>acc</th>\n",
       "      <th>pre</th>\n",
       "      <th>rec</th>\n",
       "      <th>f1</th>\n",
       "      <th>auc</th>\n",
       "      <th>graph_based</th>\n",
       "      <th>method</th>\n",
       "      <th>throw_rate</th>\n",
       "      <th>train_size</th>\n",
       "      <th>train_cols</th>\n",
       "      <th>train_frate</th>\n",
       "      <th>test_size</th>\n",
       "      <th>test_frate</th>\n",
       "      <th>hyper_params</th>\n",
       "      <th>theta</th>\n",
       "      <th>gamma</th>\n",
       "      <th>diff</th>\n",
       "    </tr>\n",
       "  </thead>\n",
       "  <tbody>\n",
       "    <tr>\n",
       "      <th>10486</th>\n",
       "      <td>GCN</td>\n",
       "      <td>NaN</td>\n",
       "      <td>0.918906</td>\n",
       "      <td>0.015439</td>\n",
       "      <td>0.942857</td>\n",
       "      <td>0.030380</td>\n",
       "      <td>0.974102</td>\n",
       "      <td>True</td>\n",
       "      <td>Proposed</td>\n",
       "      <td>0.075671</td>\n",
       "      <td>9009</td>\n",
       "      <td>amt</td>\n",
       "      <td>0.504274</td>\n",
       "      <td>51952</td>\n",
       "      <td>0.001347</td>\n",
       "      <td>NaN</td>\n",
       "      <td>10000000.0</td>\n",
       "      <td>0.8</td>\n",
       "      <td>0.502926</td>\n",
       "    </tr>\n",
       "    <tr>\n",
       "      <th>1317</th>\n",
       "      <td>XGBoost</td>\n",
       "      <td>NaN</td>\n",
       "      <td>0.898273</td>\n",
       "      <td>0.009386</td>\n",
       "      <td>0.862069</td>\n",
       "      <td>0.018570</td>\n",
       "      <td>0.958326</td>\n",
       "      <td>False</td>\n",
       "      <td>Auto_not_best</td>\n",
       "      <td>0.075408</td>\n",
       "      <td>9009</td>\n",
       "      <td>['amt']</td>\n",
       "      <td>0.503830</td>\n",
       "      <td>51953</td>\n",
       "      <td>0.001116</td>\n",
       "      <td>NaN</td>\n",
       "      <td>NaN</td>\n",
       "      <td>NaN</td>\n",
       "      <td>0.502713</td>\n",
       "    </tr>\n",
       "    <tr>\n",
       "      <th>6192</th>\n",
       "      <td>XGBoost</td>\n",
       "      <td>NaN</td>\n",
       "      <td>0.898273</td>\n",
       "      <td>0.009386</td>\n",
       "      <td>0.862069</td>\n",
       "      <td>0.018570</td>\n",
       "      <td>0.958326</td>\n",
       "      <td>False</td>\n",
       "      <td>Auto_not_best</td>\n",
       "      <td>0.075408</td>\n",
       "      <td>9009</td>\n",
       "      <td>['amt']</td>\n",
       "      <td>0.503830</td>\n",
       "      <td>51953</td>\n",
       "      <td>0.001116</td>\n",
       "      <td>NaN</td>\n",
       "      <td>NaN</td>\n",
       "      <td>NaN</td>\n",
       "      <td>0.502713</td>\n",
       "    </tr>\n",
       "    <tr>\n",
       "      <th>7897</th>\n",
       "      <td>XGBoost</td>\n",
       "      <td>NaN</td>\n",
       "      <td>0.898273</td>\n",
       "      <td>0.009386</td>\n",
       "      <td>0.862069</td>\n",
       "      <td>0.018570</td>\n",
       "      <td>0.958326</td>\n",
       "      <td>False</td>\n",
       "      <td>Auto_not_best</td>\n",
       "      <td>0.075408</td>\n",
       "      <td>9009</td>\n",
       "      <td>['amt']</td>\n",
       "      <td>0.503830</td>\n",
       "      <td>51953</td>\n",
       "      <td>0.001116</td>\n",
       "      <td>NaN</td>\n",
       "      <td>NaN</td>\n",
       "      <td>NaN</td>\n",
       "      <td>0.502713</td>\n",
       "    </tr>\n",
       "    <tr>\n",
       "      <th>3218</th>\n",
       "      <td>XGBoost</td>\n",
       "      <td>NaN</td>\n",
       "      <td>0.898273</td>\n",
       "      <td>0.009386</td>\n",
       "      <td>0.862069</td>\n",
       "      <td>0.018570</td>\n",
       "      <td>0.958326</td>\n",
       "      <td>False</td>\n",
       "      <td>Auto_not_best</td>\n",
       "      <td>0.075408</td>\n",
       "      <td>9009</td>\n",
       "      <td>['amt']</td>\n",
       "      <td>0.503830</td>\n",
       "      <td>51953</td>\n",
       "      <td>0.001116</td>\n",
       "      <td>NaN</td>\n",
       "      <td>NaN</td>\n",
       "      <td>NaN</td>\n",
       "      <td>0.502713</td>\n",
       "    </tr>\n",
       "    <tr>\n",
       "      <th>...</th>\n",
       "      <td>...</td>\n",
       "      <td>...</td>\n",
       "      <td>...</td>\n",
       "      <td>...</td>\n",
       "      <td>...</td>\n",
       "      <td>...</td>\n",
       "      <td>...</td>\n",
       "      <td>...</td>\n",
       "      <td>...</td>\n",
       "      <td>...</td>\n",
       "      <td>...</td>\n",
       "      <td>...</td>\n",
       "      <td>...</td>\n",
       "      <td>...</td>\n",
       "      <td>...</td>\n",
       "      <td>...</td>\n",
       "      <td>...</td>\n",
       "      <td>...</td>\n",
       "      <td>...</td>\n",
       "    </tr>\n",
       "    <tr>\n",
       "      <th>3404</th>\n",
       "      <td>LOF</td>\n",
       "      <td>0.021080</td>\n",
       "      <td>0.426190</td>\n",
       "      <td>0.001275</td>\n",
       "      <td>0.500000</td>\n",
       "      <td>0.002543</td>\n",
       "      <td>0.463041</td>\n",
       "      <td>False</td>\n",
       "      <td>pyod</td>\n",
       "      <td>0.074713</td>\n",
       "      <td>9009</td>\n",
       "      <td>['amt']</td>\n",
       "      <td>0.497058</td>\n",
       "      <td>51944</td>\n",
       "      <td>0.001463</td>\n",
       "      <td>NaN</td>\n",
       "      <td>NaN</td>\n",
       "      <td>NaN</td>\n",
       "      <td>0.495595</td>\n",
       "    </tr>\n",
       "    <tr>\n",
       "      <th>1712</th>\n",
       "      <td>ROD</td>\n",
       "      <td>2.247799</td>\n",
       "      <td>0.499673</td>\n",
       "      <td>0.000732</td>\n",
       "      <td>0.287879</td>\n",
       "      <td>0.001460</td>\n",
       "      <td>0.393910</td>\n",
       "      <td>False</td>\n",
       "      <td>pyod</td>\n",
       "      <td>0.074137</td>\n",
       "      <td>9009</td>\n",
       "      <td>['amt']</td>\n",
       "      <td>0.494283</td>\n",
       "      <td>51946</td>\n",
       "      <td>0.001271</td>\n",
       "      <td>NaN</td>\n",
       "      <td>NaN</td>\n",
       "      <td>NaN</td>\n",
       "      <td>0.493013</td>\n",
       "    </tr>\n",
       "    <tr>\n",
       "      <th>3408</th>\n",
       "      <td>ROD</td>\n",
       "      <td>1.398115</td>\n",
       "      <td>0.499057</td>\n",
       "      <td>0.000462</td>\n",
       "      <td>0.157895</td>\n",
       "      <td>0.000921</td>\n",
       "      <td>0.328726</td>\n",
       "      <td>False</td>\n",
       "      <td>pyod</td>\n",
       "      <td>0.074713</td>\n",
       "      <td>9009</td>\n",
       "      <td>['amt']</td>\n",
       "      <td>0.497058</td>\n",
       "      <td>51944</td>\n",
       "      <td>0.001463</td>\n",
       "      <td>NaN</td>\n",
       "      <td>NaN</td>\n",
       "      <td>NaN</td>\n",
       "      <td>0.495595</td>\n",
       "    </tr>\n",
       "    <tr>\n",
       "      <th>1711</th>\n",
       "      <td>PCA</td>\n",
       "      <td>0.002998</td>\n",
       "      <td>0.235533</td>\n",
       "      <td>0.000479</td>\n",
       "      <td>0.287879</td>\n",
       "      <td>0.000956</td>\n",
       "      <td>0.261673</td>\n",
       "      <td>False</td>\n",
       "      <td>pyod</td>\n",
       "      <td>0.074137</td>\n",
       "      <td>9009</td>\n",
       "      <td>['amt']</td>\n",
       "      <td>0.494283</td>\n",
       "      <td>51946</td>\n",
       "      <td>0.001271</td>\n",
       "      <td>NaN</td>\n",
       "      <td>NaN</td>\n",
       "      <td>NaN</td>\n",
       "      <td>0.493013</td>\n",
       "    </tr>\n",
       "    <tr>\n",
       "      <th>3407</th>\n",
       "      <td>PCA</td>\n",
       "      <td>0.003932</td>\n",
       "      <td>0.236793</td>\n",
       "      <td>0.000303</td>\n",
       "      <td>0.157895</td>\n",
       "      <td>0.000605</td>\n",
       "      <td>0.197402</td>\n",
       "      <td>False</td>\n",
       "      <td>pyod</td>\n",
       "      <td>0.074713</td>\n",
       "      <td>9009</td>\n",
       "      <td>['amt']</td>\n",
       "      <td>0.497058</td>\n",
       "      <td>51944</td>\n",
       "      <td>0.001463</td>\n",
       "      <td>NaN</td>\n",
       "      <td>NaN</td>\n",
       "      <td>NaN</td>\n",
       "      <td>0.495595</td>\n",
       "    </tr>\n",
       "  </tbody>\n",
       "</table>\n",
       "<p>166 rows × 19 columns</p>\n",
       "</div>"
      ],
      "text/plain": [
       "         model      time       acc       pre       rec        f1       auc  \\\n",
       "10486      GCN       NaN  0.918906  0.015439  0.942857  0.030380  0.974102   \n",
       "1317   XGBoost       NaN  0.898273  0.009386  0.862069  0.018570  0.958326   \n",
       "6192   XGBoost       NaN  0.898273  0.009386  0.862069  0.018570  0.958326   \n",
       "7897   XGBoost       NaN  0.898273  0.009386  0.862069  0.018570  0.958326   \n",
       "3218   XGBoost       NaN  0.898273  0.009386  0.862069  0.018570  0.958326   \n",
       "...        ...       ...       ...       ...       ...       ...       ...   \n",
       "3404       LOF  0.021080  0.426190  0.001275  0.500000  0.002543  0.463041   \n",
       "1712       ROD  2.247799  0.499673  0.000732  0.287879  0.001460  0.393910   \n",
       "3408       ROD  1.398115  0.499057  0.000462  0.157895  0.000921  0.328726   \n",
       "1711       PCA  0.002998  0.235533  0.000479  0.287879  0.000956  0.261673   \n",
       "3407       PCA  0.003932  0.236793  0.000303  0.157895  0.000605  0.197402   \n",
       "\n",
       "       graph_based         method  throw_rate  train_size train_cols  \\\n",
       "10486         True       Proposed    0.075671        9009        amt   \n",
       "1317         False  Auto_not_best    0.075408        9009    ['amt']   \n",
       "6192         False  Auto_not_best    0.075408        9009    ['amt']   \n",
       "7897         False  Auto_not_best    0.075408        9009    ['amt']   \n",
       "3218         False  Auto_not_best    0.075408        9009    ['amt']   \n",
       "...            ...            ...         ...         ...        ...   \n",
       "3404         False           pyod    0.074713        9009    ['amt']   \n",
       "1712         False           pyod    0.074137        9009    ['amt']   \n",
       "3408         False           pyod    0.074713        9009    ['amt']   \n",
       "1711         False           pyod    0.074137        9009    ['amt']   \n",
       "3407         False           pyod    0.074713        9009    ['amt']   \n",
       "\n",
       "       train_frate  test_size  test_frate  hyper_params       theta  gamma  \\\n",
       "10486     0.504274      51952    0.001347           NaN  10000000.0    0.8   \n",
       "1317      0.503830      51953    0.001116           NaN         NaN    NaN   \n",
       "6192      0.503830      51953    0.001116           NaN         NaN    NaN   \n",
       "7897      0.503830      51953    0.001116           NaN         NaN    NaN   \n",
       "3218      0.503830      51953    0.001116           NaN         NaN    NaN   \n",
       "...            ...        ...         ...           ...         ...    ...   \n",
       "3404      0.497058      51944    0.001463           NaN         NaN    NaN   \n",
       "1712      0.494283      51946    0.001271           NaN         NaN    NaN   \n",
       "3408      0.497058      51944    0.001463           NaN         NaN    NaN   \n",
       "1711      0.494283      51946    0.001271           NaN         NaN    NaN   \n",
       "3407      0.497058      51944    0.001463           NaN         NaN    NaN   \n",
       "\n",
       "           diff  \n",
       "10486  0.502926  \n",
       "1317   0.502713  \n",
       "6192   0.502713  \n",
       "7897   0.502713  \n",
       "3218   0.502713  \n",
       "...         ...  \n",
       "3404   0.495595  \n",
       "1712   0.493013  \n",
       "3408   0.495595  \n",
       "1711   0.493013  \n",
       "3407   0.495595  \n",
       "\n",
       "[166 rows x 19 columns]"
      ]
     },
     "execution_count": 112,
     "metadata": {},
     "output_type": "execute_result"
    }
   ],
   "source": [
    "ex1.sort_values(by='auc', ascending = False)"
   ]
  },
  {
   "cell_type": "code",
   "execution_count": 113,
   "id": "ce5386c9-79d6-4e3e-bef7-208edb8a7731",
   "metadata": {},
   "outputs": [],
   "source": [
    "ex1.drop_duplicates(inplace=True)\n"
   ]
  },
  {
   "cell_type": "code",
   "execution_count": 114,
   "id": "4a447bd4-c815-412e-826d-969a18abd76e",
   "metadata": {},
   "outputs": [
    {
     "data": {
      "text/html": [
       "<div>\n",
       "<style scoped>\n",
       "    .dataframe tbody tr th:only-of-type {\n",
       "        vertical-align: middle;\n",
       "    }\n",
       "\n",
       "    .dataframe tbody tr th {\n",
       "        vertical-align: top;\n",
       "    }\n",
       "\n",
       "    .dataframe thead th {\n",
       "        text-align: right;\n",
       "    }\n",
       "</style>\n",
       "<table border=\"1\" class=\"dataframe\">\n",
       "  <thead>\n",
       "    <tr style=\"text-align: right;\">\n",
       "      <th></th>\n",
       "      <th>model</th>\n",
       "      <th>time</th>\n",
       "      <th>acc</th>\n",
       "      <th>pre</th>\n",
       "      <th>rec</th>\n",
       "      <th>f1</th>\n",
       "      <th>auc</th>\n",
       "      <th>graph_based</th>\n",
       "      <th>method</th>\n",
       "      <th>throw_rate</th>\n",
       "      <th>train_size</th>\n",
       "      <th>train_cols</th>\n",
       "      <th>train_frate</th>\n",
       "      <th>test_size</th>\n",
       "      <th>test_frate</th>\n",
       "      <th>hyper_params</th>\n",
       "      <th>theta</th>\n",
       "      <th>gamma</th>\n",
       "      <th>diff</th>\n",
       "    </tr>\n",
       "  </thead>\n",
       "  <tbody>\n",
       "    <tr>\n",
       "      <th>363</th>\n",
       "      <td>KNeighborsUnif</td>\n",
       "      <td>NaN</td>\n",
       "      <td>0.875715</td>\n",
       "      <td>0.007542</td>\n",
       "      <td>0.844828</td>\n",
       "      <td>0.014950</td>\n",
       "      <td>0.929305</td>\n",
       "      <td>False</td>\n",
       "      <td>Auto_not_best</td>\n",
       "      <td>0.075408</td>\n",
       "      <td>9009</td>\n",
       "      <td>['amt']</td>\n",
       "      <td>0.503830</td>\n",
       "      <td>51953</td>\n",
       "      <td>0.001116</td>\n",
       "      <td>NaN</td>\n",
       "      <td>NaN</td>\n",
       "      <td>NaN</td>\n",
       "      <td>0.502713</td>\n",
       "    </tr>\n",
       "    <tr>\n",
       "      <th>364</th>\n",
       "      <td>KNeighborsDist</td>\n",
       "      <td>NaN</td>\n",
       "      <td>0.870383</td>\n",
       "      <td>0.006651</td>\n",
       "      <td>0.775862</td>\n",
       "      <td>0.013189</td>\n",
       "      <td>0.884344</td>\n",
       "      <td>False</td>\n",
       "      <td>Auto_not_best</td>\n",
       "      <td>0.075408</td>\n",
       "      <td>9009</td>\n",
       "      <td>['amt']</td>\n",
       "      <td>0.503830</td>\n",
       "      <td>51953</td>\n",
       "      <td>0.001116</td>\n",
       "      <td>NaN</td>\n",
       "      <td>NaN</td>\n",
       "      <td>NaN</td>\n",
       "      <td>0.502713</td>\n",
       "    </tr>\n",
       "    <tr>\n",
       "      <th>365</th>\n",
       "      <td>LightGBMXT</td>\n",
       "      <td>NaN</td>\n",
       "      <td>0.886128</td>\n",
       "      <td>0.008392</td>\n",
       "      <td>0.862069</td>\n",
       "      <td>0.016622</td>\n",
       "      <td>0.952711</td>\n",
       "      <td>False</td>\n",
       "      <td>Auto_not_best</td>\n",
       "      <td>0.075408</td>\n",
       "      <td>9009</td>\n",
       "      <td>['amt']</td>\n",
       "      <td>0.503830</td>\n",
       "      <td>51953</td>\n",
       "      <td>0.001116</td>\n",
       "      <td>NaN</td>\n",
       "      <td>NaN</td>\n",
       "      <td>NaN</td>\n",
       "      <td>0.502713</td>\n",
       "    </tr>\n",
       "    <tr>\n",
       "      <th>366</th>\n",
       "      <td>LightGBM</td>\n",
       "      <td>NaN</td>\n",
       "      <td>0.900814</td>\n",
       "      <td>0.009625</td>\n",
       "      <td>0.862069</td>\n",
       "      <td>0.019037</td>\n",
       "      <td>0.953027</td>\n",
       "      <td>False</td>\n",
       "      <td>Auto_not_best</td>\n",
       "      <td>0.075408</td>\n",
       "      <td>9009</td>\n",
       "      <td>['amt']</td>\n",
       "      <td>0.503830</td>\n",
       "      <td>51953</td>\n",
       "      <td>0.001116</td>\n",
       "      <td>NaN</td>\n",
       "      <td>NaN</td>\n",
       "      <td>NaN</td>\n",
       "      <td>0.502713</td>\n",
       "    </tr>\n",
       "    <tr>\n",
       "      <th>367</th>\n",
       "      <td>RandomForestGini</td>\n",
       "      <td>NaN</td>\n",
       "      <td>0.851481</td>\n",
       "      <td>0.005808</td>\n",
       "      <td>0.775862</td>\n",
       "      <td>0.011530</td>\n",
       "      <td>0.913896</td>\n",
       "      <td>False</td>\n",
       "      <td>Auto_not_best</td>\n",
       "      <td>0.075408</td>\n",
       "      <td>9009</td>\n",
       "      <td>['amt']</td>\n",
       "      <td>0.503830</td>\n",
       "      <td>51953</td>\n",
       "      <td>0.001116</td>\n",
       "      <td>NaN</td>\n",
       "      <td>NaN</td>\n",
       "      <td>NaN</td>\n",
       "      <td>0.502713</td>\n",
       "    </tr>\n",
       "    <tr>\n",
       "      <th>368</th>\n",
       "      <td>RandomForestEntr</td>\n",
       "      <td>NaN</td>\n",
       "      <td>0.851481</td>\n",
       "      <td>0.005808</td>\n",
       "      <td>0.775862</td>\n",
       "      <td>0.011530</td>\n",
       "      <td>0.913896</td>\n",
       "      <td>False</td>\n",
       "      <td>Auto_not_best</td>\n",
       "      <td>0.075408</td>\n",
       "      <td>9009</td>\n",
       "      <td>['amt']</td>\n",
       "      <td>0.503830</td>\n",
       "      <td>51953</td>\n",
       "      <td>0.001116</td>\n",
       "      <td>NaN</td>\n",
       "      <td>NaN</td>\n",
       "      <td>NaN</td>\n",
       "      <td>0.502713</td>\n",
       "    </tr>\n",
       "    <tr>\n",
       "      <th>369</th>\n",
       "      <td>CatBoost</td>\n",
       "      <td>NaN</td>\n",
       "      <td>0.894000</td>\n",
       "      <td>0.009011</td>\n",
       "      <td>0.862069</td>\n",
       "      <td>0.017835</td>\n",
       "      <td>0.953981</td>\n",
       "      <td>False</td>\n",
       "      <td>Auto_not_best</td>\n",
       "      <td>0.075408</td>\n",
       "      <td>9009</td>\n",
       "      <td>['amt']</td>\n",
       "      <td>0.503830</td>\n",
       "      <td>51953</td>\n",
       "      <td>0.001116</td>\n",
       "      <td>NaN</td>\n",
       "      <td>NaN</td>\n",
       "      <td>NaN</td>\n",
       "      <td>0.502713</td>\n",
       "    </tr>\n",
       "    <tr>\n",
       "      <th>370</th>\n",
       "      <td>ExtraTreesGini</td>\n",
       "      <td>NaN</td>\n",
       "      <td>0.860874</td>\n",
       "      <td>0.006198</td>\n",
       "      <td>0.775862</td>\n",
       "      <td>0.012298</td>\n",
       "      <td>0.923907</td>\n",
       "      <td>False</td>\n",
       "      <td>Auto_not_best</td>\n",
       "      <td>0.075408</td>\n",
       "      <td>9009</td>\n",
       "      <td>['amt']</td>\n",
       "      <td>0.503830</td>\n",
       "      <td>51953</td>\n",
       "      <td>0.001116</td>\n",
       "      <td>NaN</td>\n",
       "      <td>NaN</td>\n",
       "      <td>NaN</td>\n",
       "      <td>0.502713</td>\n",
       "    </tr>\n",
       "    <tr>\n",
       "      <th>371</th>\n",
       "      <td>ExtraTreesEntr</td>\n",
       "      <td>NaN</td>\n",
       "      <td>0.858911</td>\n",
       "      <td>0.006247</td>\n",
       "      <td>0.793103</td>\n",
       "      <td>0.012396</td>\n",
       "      <td>0.918441</td>\n",
       "      <td>False</td>\n",
       "      <td>Auto_not_best</td>\n",
       "      <td>0.075408</td>\n",
       "      <td>9009</td>\n",
       "      <td>['amt']</td>\n",
       "      <td>0.503830</td>\n",
       "      <td>51953</td>\n",
       "      <td>0.001116</td>\n",
       "      <td>NaN</td>\n",
       "      <td>NaN</td>\n",
       "      <td>NaN</td>\n",
       "      <td>0.502713</td>\n",
       "    </tr>\n",
       "    <tr>\n",
       "      <th>372</th>\n",
       "      <td>NeuralNetFastAI</td>\n",
       "      <td>NaN</td>\n",
       "      <td>0.964391</td>\n",
       "      <td>0.023404</td>\n",
       "      <td>0.758621</td>\n",
       "      <td>0.045408</td>\n",
       "      <td>0.879963</td>\n",
       "      <td>False</td>\n",
       "      <td>Auto_not_best</td>\n",
       "      <td>0.075408</td>\n",
       "      <td>9009</td>\n",
       "      <td>['amt']</td>\n",
       "      <td>0.503830</td>\n",
       "      <td>51953</td>\n",
       "      <td>0.001116</td>\n",
       "      <td>NaN</td>\n",
       "      <td>NaN</td>\n",
       "      <td>NaN</td>\n",
       "      <td>0.502713</td>\n",
       "    </tr>\n",
       "    <tr>\n",
       "      <th>373</th>\n",
       "      <td>XGBoost</td>\n",
       "      <td>NaN</td>\n",
       "      <td>0.898273</td>\n",
       "      <td>0.009386</td>\n",
       "      <td>0.862069</td>\n",
       "      <td>0.018570</td>\n",
       "      <td>0.958326</td>\n",
       "      <td>False</td>\n",
       "      <td>Auto_not_best</td>\n",
       "      <td>0.075408</td>\n",
       "      <td>9009</td>\n",
       "      <td>['amt']</td>\n",
       "      <td>0.503830</td>\n",
       "      <td>51953</td>\n",
       "      <td>0.001116</td>\n",
       "      <td>NaN</td>\n",
       "      <td>NaN</td>\n",
       "      <td>NaN</td>\n",
       "      <td>0.502713</td>\n",
       "    </tr>\n",
       "    <tr>\n",
       "      <th>374</th>\n",
       "      <td>NeuralNetTorch</td>\n",
       "      <td>NaN</td>\n",
       "      <td>0.885897</td>\n",
       "      <td>0.008375</td>\n",
       "      <td>0.862069</td>\n",
       "      <td>0.016589</td>\n",
       "      <td>0.952187</td>\n",
       "      <td>False</td>\n",
       "      <td>Auto_not_best</td>\n",
       "      <td>0.075408</td>\n",
       "      <td>9009</td>\n",
       "      <td>['amt']</td>\n",
       "      <td>0.503830</td>\n",
       "      <td>51953</td>\n",
       "      <td>0.001116</td>\n",
       "      <td>NaN</td>\n",
       "      <td>NaN</td>\n",
       "      <td>NaN</td>\n",
       "      <td>0.502713</td>\n",
       "    </tr>\n",
       "    <tr>\n",
       "      <th>375</th>\n",
       "      <td>LightGBMLarge</td>\n",
       "      <td>NaN</td>\n",
       "      <td>0.854888</td>\n",
       "      <td>0.006986</td>\n",
       "      <td>0.913793</td>\n",
       "      <td>0.013865</td>\n",
       "      <td>0.953422</td>\n",
       "      <td>False</td>\n",
       "      <td>Auto_not_best</td>\n",
       "      <td>0.075408</td>\n",
       "      <td>9009</td>\n",
       "      <td>['amt']</td>\n",
       "      <td>0.503830</td>\n",
       "      <td>51953</td>\n",
       "      <td>0.001116</td>\n",
       "      <td>NaN</td>\n",
       "      <td>NaN</td>\n",
       "      <td>NaN</td>\n",
       "      <td>0.502713</td>\n",
       "    </tr>\n",
       "    <tr>\n",
       "      <th>1702</th>\n",
       "      <td>HBOS</td>\n",
       "      <td>1.243169</td>\n",
       "      <td>0.982751</td>\n",
       "      <td>0.034753</td>\n",
       "      <td>0.469697</td>\n",
       "      <td>0.064718</td>\n",
       "      <td>0.726550</td>\n",
       "      <td>False</td>\n",
       "      <td>pyod</td>\n",
       "      <td>0.074137</td>\n",
       "      <td>9009</td>\n",
       "      <td>['amt']</td>\n",
       "      <td>0.494283</td>\n",
       "      <td>51946</td>\n",
       "      <td>0.001271</td>\n",
       "      <td>NaN</td>\n",
       "      <td>NaN</td>\n",
       "      <td>NaN</td>\n",
       "      <td>0.493013</td>\n",
       "    </tr>\n",
       "    <tr>\n",
       "      <th>1703</th>\n",
       "      <td>IForest</td>\n",
       "      <td>0.320199</td>\n",
       "      <td>0.752859</td>\n",
       "      <td>0.003576</td>\n",
       "      <td>0.696970</td>\n",
       "      <td>0.007115</td>\n",
       "      <td>0.724950</td>\n",
       "      <td>False</td>\n",
       "      <td>pyod</td>\n",
       "      <td>0.074137</td>\n",
       "      <td>9009</td>\n",
       "      <td>['amt']</td>\n",
       "      <td>0.494283</td>\n",
       "      <td>51946</td>\n",
       "      <td>0.001271</td>\n",
       "      <td>NaN</td>\n",
       "      <td>NaN</td>\n",
       "      <td>NaN</td>\n",
       "      <td>0.493013</td>\n",
       "    </tr>\n",
       "    <tr>\n",
       "      <th>1704</th>\n",
       "      <td>INNE</td>\n",
       "      <td>0.279135</td>\n",
       "      <td>0.593116</td>\n",
       "      <td>0.001608</td>\n",
       "      <td>0.515152</td>\n",
       "      <td>0.003207</td>\n",
       "      <td>0.554183</td>\n",
       "      <td>False</td>\n",
       "      <td>pyod</td>\n",
       "      <td>0.074137</td>\n",
       "      <td>9009</td>\n",
       "      <td>['amt']</td>\n",
       "      <td>0.494283</td>\n",
       "      <td>51946</td>\n",
       "      <td>0.001271</td>\n",
       "      <td>NaN</td>\n",
       "      <td>NaN</td>\n",
       "      <td>NaN</td>\n",
       "      <td>0.493013</td>\n",
       "    </tr>\n",
       "    <tr>\n",
       "      <th>1705</th>\n",
       "      <td>KDE</td>\n",
       "      <td>1.998652</td>\n",
       "      <td>0.783660</td>\n",
       "      <td>0.004172</td>\n",
       "      <td>0.712121</td>\n",
       "      <td>0.008295</td>\n",
       "      <td>0.747936</td>\n",
       "      <td>False</td>\n",
       "      <td>pyod</td>\n",
       "      <td>0.074137</td>\n",
       "      <td>9009</td>\n",
       "      <td>['amt']</td>\n",
       "      <td>0.494283</td>\n",
       "      <td>51946</td>\n",
       "      <td>0.001271</td>\n",
       "      <td>NaN</td>\n",
       "      <td>NaN</td>\n",
       "      <td>NaN</td>\n",
       "      <td>0.493013</td>\n",
       "    </tr>\n",
       "    <tr>\n",
       "      <th>1706</th>\n",
       "      <td>KNN</td>\n",
       "      <td>0.009961</td>\n",
       "      <td>0.767855</td>\n",
       "      <td>0.003642</td>\n",
       "      <td>0.666667</td>\n",
       "      <td>0.007245</td>\n",
       "      <td>0.717325</td>\n",
       "      <td>False</td>\n",
       "      <td>pyod</td>\n",
       "      <td>0.074137</td>\n",
       "      <td>9009</td>\n",
       "      <td>['amt']</td>\n",
       "      <td>0.494283</td>\n",
       "      <td>51946</td>\n",
       "      <td>0.001271</td>\n",
       "      <td>NaN</td>\n",
       "      <td>NaN</td>\n",
       "      <td>NaN</td>\n",
       "      <td>0.493013</td>\n",
       "    </tr>\n",
       "    <tr>\n",
       "      <th>1707</th>\n",
       "      <td>LODA</td>\n",
       "      <td>0.036694</td>\n",
       "      <td>0.994745</td>\n",
       "      <td>0.097276</td>\n",
       "      <td>0.378788</td>\n",
       "      <td>0.154799</td>\n",
       "      <td>0.687158</td>\n",
       "      <td>False</td>\n",
       "      <td>pyod</td>\n",
       "      <td>0.074137</td>\n",
       "      <td>9009</td>\n",
       "      <td>['amt']</td>\n",
       "      <td>0.494283</td>\n",
       "      <td>51946</td>\n",
       "      <td>0.001271</td>\n",
       "      <td>NaN</td>\n",
       "      <td>NaN</td>\n",
       "      <td>NaN</td>\n",
       "      <td>0.493013</td>\n",
       "    </tr>\n",
       "    <tr>\n",
       "      <th>1708</th>\n",
       "      <td>LOF</td>\n",
       "      <td>0.021173</td>\n",
       "      <td>0.435625</td>\n",
       "      <td>0.001194</td>\n",
       "      <td>0.530303</td>\n",
       "      <td>0.002382</td>\n",
       "      <td>0.482904</td>\n",
       "      <td>False</td>\n",
       "      <td>pyod</td>\n",
       "      <td>0.074137</td>\n",
       "      <td>9009</td>\n",
       "      <td>['amt']</td>\n",
       "      <td>0.494283</td>\n",
       "      <td>51946</td>\n",
       "      <td>0.001271</td>\n",
       "      <td>NaN</td>\n",
       "      <td>NaN</td>\n",
       "      <td>NaN</td>\n",
       "      <td>0.493013</td>\n",
       "    </tr>\n",
       "    <tr>\n",
       "      <th>1709</th>\n",
       "      <td>MCD</td>\n",
       "      <td>0.006088</td>\n",
       "      <td>0.787626</td>\n",
       "      <td>0.004250</td>\n",
       "      <td>0.712121</td>\n",
       "      <td>0.008449</td>\n",
       "      <td>0.749921</td>\n",
       "      <td>False</td>\n",
       "      <td>pyod</td>\n",
       "      <td>0.074137</td>\n",
       "      <td>9009</td>\n",
       "      <td>['amt']</td>\n",
       "      <td>0.494283</td>\n",
       "      <td>51946</td>\n",
       "      <td>0.001271</td>\n",
       "      <td>NaN</td>\n",
       "      <td>NaN</td>\n",
       "      <td>NaN</td>\n",
       "      <td>0.493013</td>\n",
       "    </tr>\n",
       "    <tr>\n",
       "      <th>1710</th>\n",
       "      <td>OCSVM</td>\n",
       "      <td>4.030184</td>\n",
       "      <td>0.716687</td>\n",
       "      <td>0.003053</td>\n",
       "      <td>0.681818</td>\n",
       "      <td>0.006078</td>\n",
       "      <td>0.699275</td>\n",
       "      <td>False</td>\n",
       "      <td>pyod</td>\n",
       "      <td>0.074137</td>\n",
       "      <td>9009</td>\n",
       "      <td>['amt']</td>\n",
       "      <td>0.494283</td>\n",
       "      <td>51946</td>\n",
       "      <td>0.001271</td>\n",
       "      <td>NaN</td>\n",
       "      <td>NaN</td>\n",
       "      <td>NaN</td>\n",
       "      <td>0.493013</td>\n",
       "    </tr>\n",
       "    <tr>\n",
       "      <th>1711</th>\n",
       "      <td>PCA</td>\n",
       "      <td>0.002998</td>\n",
       "      <td>0.235533</td>\n",
       "      <td>0.000479</td>\n",
       "      <td>0.287879</td>\n",
       "      <td>0.000956</td>\n",
       "      <td>0.261673</td>\n",
       "      <td>False</td>\n",
       "      <td>pyod</td>\n",
       "      <td>0.074137</td>\n",
       "      <td>9009</td>\n",
       "      <td>['amt']</td>\n",
       "      <td>0.494283</td>\n",
       "      <td>51946</td>\n",
       "      <td>0.001271</td>\n",
       "      <td>NaN</td>\n",
       "      <td>NaN</td>\n",
       "      <td>NaN</td>\n",
       "      <td>0.493013</td>\n",
       "    </tr>\n",
       "    <tr>\n",
       "      <th>1712</th>\n",
       "      <td>ROD</td>\n",
       "      <td>2.247799</td>\n",
       "      <td>0.499673</td>\n",
       "      <td>0.000732</td>\n",
       "      <td>0.287879</td>\n",
       "      <td>0.001460</td>\n",
       "      <td>0.393910</td>\n",
       "      <td>False</td>\n",
       "      <td>pyod</td>\n",
       "      <td>0.074137</td>\n",
       "      <td>9009</td>\n",
       "      <td>['amt']</td>\n",
       "      <td>0.494283</td>\n",
       "      <td>51946</td>\n",
       "      <td>0.001271</td>\n",
       "      <td>NaN</td>\n",
       "      <td>NaN</td>\n",
       "      <td>NaN</td>\n",
       "      <td>0.493013</td>\n",
       "    </tr>\n",
       "    <tr>\n",
       "      <th>3217</th>\n",
       "      <td>NeuralNetFastAI</td>\n",
       "      <td>NaN</td>\n",
       "      <td>0.964391</td>\n",
       "      <td>0.023404</td>\n",
       "      <td>0.758621</td>\n",
       "      <td>0.045408</td>\n",
       "      <td>0.879963</td>\n",
       "      <td>False</td>\n",
       "      <td>Auto_not_best</td>\n",
       "      <td>0.075408</td>\n",
       "      <td>9009</td>\n",
       "      <td>['amt']</td>\n",
       "      <td>0.503830</td>\n",
       "      <td>51953</td>\n",
       "      <td>0.001116</td>\n",
       "      <td>NaN</td>\n",
       "      <td>NaN</td>\n",
       "      <td>NaN</td>\n",
       "      <td>0.502713</td>\n",
       "    </tr>\n",
       "    <tr>\n",
       "      <th>3219</th>\n",
       "      <td>NeuralNetTorch</td>\n",
       "      <td>NaN</td>\n",
       "      <td>0.872616</td>\n",
       "      <td>0.007508</td>\n",
       "      <td>0.862069</td>\n",
       "      <td>0.014885</td>\n",
       "      <td>0.946564</td>\n",
       "      <td>False</td>\n",
       "      <td>Auto_not_best</td>\n",
       "      <td>0.075408</td>\n",
       "      <td>9009</td>\n",
       "      <td>['amt']</td>\n",
       "      <td>0.503830</td>\n",
       "      <td>51953</td>\n",
       "      <td>0.001116</td>\n",
       "      <td>NaN</td>\n",
       "      <td>NaN</td>\n",
       "      <td>NaN</td>\n",
       "      <td>0.502713</td>\n",
       "    </tr>\n",
       "    <tr>\n",
       "      <th>3398</th>\n",
       "      <td>HBOS</td>\n",
       "      <td>0.003069</td>\n",
       "      <td>0.982212</td>\n",
       "      <td>0.036105</td>\n",
       "      <td>0.434211</td>\n",
       "      <td>0.066667</td>\n",
       "      <td>0.708613</td>\n",
       "      <td>False</td>\n",
       "      <td>pyod</td>\n",
       "      <td>0.074713</td>\n",
       "      <td>9009</td>\n",
       "      <td>['amt']</td>\n",
       "      <td>0.497058</td>\n",
       "      <td>51944</td>\n",
       "      <td>0.001463</td>\n",
       "      <td>NaN</td>\n",
       "      <td>NaN</td>\n",
       "      <td>NaN</td>\n",
       "      <td>0.495595</td>\n",
       "    </tr>\n",
       "    <tr>\n",
       "      <th>3399</th>\n",
       "      <td>IForest</td>\n",
       "      <td>0.318301</td>\n",
       "      <td>0.654994</td>\n",
       "      <td>0.002620</td>\n",
       "      <td>0.618421</td>\n",
       "      <td>0.005218</td>\n",
       "      <td>0.636734</td>\n",
       "      <td>False</td>\n",
       "      <td>pyod</td>\n",
       "      <td>0.074713</td>\n",
       "      <td>9009</td>\n",
       "      <td>['amt']</td>\n",
       "      <td>0.497058</td>\n",
       "      <td>51944</td>\n",
       "      <td>0.001463</td>\n",
       "      <td>NaN</td>\n",
       "      <td>NaN</td>\n",
       "      <td>NaN</td>\n",
       "      <td>0.495595</td>\n",
       "    </tr>\n",
       "    <tr>\n",
       "      <th>3400</th>\n",
       "      <td>INNE</td>\n",
       "      <td>0.272048</td>\n",
       "      <td>0.525162</td>\n",
       "      <td>0.002066</td>\n",
       "      <td>0.671053</td>\n",
       "      <td>0.004118</td>\n",
       "      <td>0.598000</td>\n",
       "      <td>False</td>\n",
       "      <td>pyod</td>\n",
       "      <td>0.074713</td>\n",
       "      <td>9009</td>\n",
       "      <td>['amt']</td>\n",
       "      <td>0.497058</td>\n",
       "      <td>51944</td>\n",
       "      <td>0.001463</td>\n",
       "      <td>NaN</td>\n",
       "      <td>NaN</td>\n",
       "      <td>NaN</td>\n",
       "      <td>0.495595</td>\n",
       "    </tr>\n",
       "    <tr>\n",
       "      <th>3401</th>\n",
       "      <td>KDE</td>\n",
       "      <td>2.004288</td>\n",
       "      <td>0.773352</td>\n",
       "      <td>0.005329</td>\n",
       "      <td>0.828947</td>\n",
       "      <td>0.010589</td>\n",
       "      <td>0.801109</td>\n",
       "      <td>False</td>\n",
       "      <td>pyod</td>\n",
       "      <td>0.074713</td>\n",
       "      <td>9009</td>\n",
       "      <td>['amt']</td>\n",
       "      <td>0.497058</td>\n",
       "      <td>51944</td>\n",
       "      <td>0.001463</td>\n",
       "      <td>NaN</td>\n",
       "      <td>NaN</td>\n",
       "      <td>NaN</td>\n",
       "      <td>0.495595</td>\n",
       "    </tr>\n",
       "    <tr>\n",
       "      <th>3402</th>\n",
       "      <td>KNN</td>\n",
       "      <td>0.009824</td>\n",
       "      <td>0.759626</td>\n",
       "      <td>0.004551</td>\n",
       "      <td>0.750000</td>\n",
       "      <td>0.009048</td>\n",
       "      <td>0.754820</td>\n",
       "      <td>False</td>\n",
       "      <td>pyod</td>\n",
       "      <td>0.074713</td>\n",
       "      <td>9009</td>\n",
       "      <td>['amt']</td>\n",
       "      <td>0.497058</td>\n",
       "      <td>51944</td>\n",
       "      <td>0.001463</td>\n",
       "      <td>NaN</td>\n",
       "      <td>NaN</td>\n",
       "      <td>NaN</td>\n",
       "      <td>0.495595</td>\n",
       "    </tr>\n",
       "    <tr>\n",
       "      <th>3403</th>\n",
       "      <td>LODA</td>\n",
       "      <td>0.026626</td>\n",
       "      <td>0.994109</td>\n",
       "      <td>0.083333</td>\n",
       "      <td>0.302632</td>\n",
       "      <td>0.130682</td>\n",
       "      <td>0.648877</td>\n",
       "      <td>False</td>\n",
       "      <td>pyod</td>\n",
       "      <td>0.074713</td>\n",
       "      <td>9009</td>\n",
       "      <td>['amt']</td>\n",
       "      <td>0.497058</td>\n",
       "      <td>51944</td>\n",
       "      <td>0.001463</td>\n",
       "      <td>NaN</td>\n",
       "      <td>NaN</td>\n",
       "      <td>NaN</td>\n",
       "      <td>0.495595</td>\n",
       "    </tr>\n",
       "    <tr>\n",
       "      <th>3404</th>\n",
       "      <td>LOF</td>\n",
       "      <td>0.021080</td>\n",
       "      <td>0.426190</td>\n",
       "      <td>0.001275</td>\n",
       "      <td>0.500000</td>\n",
       "      <td>0.002543</td>\n",
       "      <td>0.463041</td>\n",
       "      <td>False</td>\n",
       "      <td>pyod</td>\n",
       "      <td>0.074713</td>\n",
       "      <td>9009</td>\n",
       "      <td>['amt']</td>\n",
       "      <td>0.497058</td>\n",
       "      <td>51944</td>\n",
       "      <td>0.001463</td>\n",
       "      <td>NaN</td>\n",
       "      <td>NaN</td>\n",
       "      <td>NaN</td>\n",
       "      <td>0.495595</td>\n",
       "    </tr>\n",
       "    <tr>\n",
       "      <th>3405</th>\n",
       "      <td>MCD</td>\n",
       "      <td>0.004394</td>\n",
       "      <td>0.779705</td>\n",
       "      <td>0.005568</td>\n",
       "      <td>0.842105</td>\n",
       "      <td>0.011062</td>\n",
       "      <td>0.810859</td>\n",
       "      <td>False</td>\n",
       "      <td>pyod</td>\n",
       "      <td>0.074713</td>\n",
       "      <td>9009</td>\n",
       "      <td>['amt']</td>\n",
       "      <td>0.497058</td>\n",
       "      <td>51944</td>\n",
       "      <td>0.001463</td>\n",
       "      <td>NaN</td>\n",
       "      <td>NaN</td>\n",
       "      <td>NaN</td>\n",
       "      <td>0.495595</td>\n",
       "    </tr>\n",
       "    <tr>\n",
       "      <th>3406</th>\n",
       "      <td>OCSVM</td>\n",
       "      <td>3.987208</td>\n",
       "      <td>0.680772</td>\n",
       "      <td>0.003430</td>\n",
       "      <td>0.750000</td>\n",
       "      <td>0.006828</td>\n",
       "      <td>0.715335</td>\n",
       "      <td>False</td>\n",
       "      <td>pyod</td>\n",
       "      <td>0.074713</td>\n",
       "      <td>9009</td>\n",
       "      <td>['amt']</td>\n",
       "      <td>0.497058</td>\n",
       "      <td>51944</td>\n",
       "      <td>0.001463</td>\n",
       "      <td>NaN</td>\n",
       "      <td>NaN</td>\n",
       "      <td>NaN</td>\n",
       "      <td>0.495595</td>\n",
       "    </tr>\n",
       "    <tr>\n",
       "      <th>3407</th>\n",
       "      <td>PCA</td>\n",
       "      <td>0.003932</td>\n",
       "      <td>0.236793</td>\n",
       "      <td>0.000303</td>\n",
       "      <td>0.157895</td>\n",
       "      <td>0.000605</td>\n",
       "      <td>0.197402</td>\n",
       "      <td>False</td>\n",
       "      <td>pyod</td>\n",
       "      <td>0.074713</td>\n",
       "      <td>9009</td>\n",
       "      <td>['amt']</td>\n",
       "      <td>0.497058</td>\n",
       "      <td>51944</td>\n",
       "      <td>0.001463</td>\n",
       "      <td>NaN</td>\n",
       "      <td>NaN</td>\n",
       "      <td>NaN</td>\n",
       "      <td>0.495595</td>\n",
       "    </tr>\n",
       "    <tr>\n",
       "      <th>3408</th>\n",
       "      <td>ROD</td>\n",
       "      <td>1.398115</td>\n",
       "      <td>0.499057</td>\n",
       "      <td>0.000462</td>\n",
       "      <td>0.157895</td>\n",
       "      <td>0.000921</td>\n",
       "      <td>0.328726</td>\n",
       "      <td>False</td>\n",
       "      <td>pyod</td>\n",
       "      <td>0.074713</td>\n",
       "      <td>9009</td>\n",
       "      <td>['amt']</td>\n",
       "      <td>0.497058</td>\n",
       "      <td>51944</td>\n",
       "      <td>0.001463</td>\n",
       "      <td>NaN</td>\n",
       "      <td>NaN</td>\n",
       "      <td>NaN</td>\n",
       "      <td>0.495595</td>\n",
       "    </tr>\n",
       "    <tr>\n",
       "      <th>10486</th>\n",
       "      <td>GCN</td>\n",
       "      <td>NaN</td>\n",
       "      <td>0.918906</td>\n",
       "      <td>0.015439</td>\n",
       "      <td>0.942857</td>\n",
       "      <td>0.030380</td>\n",
       "      <td>0.974102</td>\n",
       "      <td>True</td>\n",
       "      <td>Proposed</td>\n",
       "      <td>0.075671</td>\n",
       "      <td>9009</td>\n",
       "      <td>amt</td>\n",
       "      <td>0.504274</td>\n",
       "      <td>51952</td>\n",
       "      <td>0.001347</td>\n",
       "      <td>NaN</td>\n",
       "      <td>10000000.0</td>\n",
       "      <td>0.8</td>\n",
       "      <td>0.502926</td>\n",
       "    </tr>\n",
       "  </tbody>\n",
       "</table>\n",
       "</div>"
      ],
      "text/plain": [
       "                  model      time       acc       pre       rec        f1  \\\n",
       "363      KNeighborsUnif       NaN  0.875715  0.007542  0.844828  0.014950   \n",
       "364      KNeighborsDist       NaN  0.870383  0.006651  0.775862  0.013189   \n",
       "365          LightGBMXT       NaN  0.886128  0.008392  0.862069  0.016622   \n",
       "366            LightGBM       NaN  0.900814  0.009625  0.862069  0.019037   \n",
       "367    RandomForestGini       NaN  0.851481  0.005808  0.775862  0.011530   \n",
       "368    RandomForestEntr       NaN  0.851481  0.005808  0.775862  0.011530   \n",
       "369            CatBoost       NaN  0.894000  0.009011  0.862069  0.017835   \n",
       "370      ExtraTreesGini       NaN  0.860874  0.006198  0.775862  0.012298   \n",
       "371      ExtraTreesEntr       NaN  0.858911  0.006247  0.793103  0.012396   \n",
       "372     NeuralNetFastAI       NaN  0.964391  0.023404  0.758621  0.045408   \n",
       "373             XGBoost       NaN  0.898273  0.009386  0.862069  0.018570   \n",
       "374      NeuralNetTorch       NaN  0.885897  0.008375  0.862069  0.016589   \n",
       "375       LightGBMLarge       NaN  0.854888  0.006986  0.913793  0.013865   \n",
       "1702               HBOS  1.243169  0.982751  0.034753  0.469697  0.064718   \n",
       "1703            IForest  0.320199  0.752859  0.003576  0.696970  0.007115   \n",
       "1704               INNE  0.279135  0.593116  0.001608  0.515152  0.003207   \n",
       "1705                KDE  1.998652  0.783660  0.004172  0.712121  0.008295   \n",
       "1706                KNN  0.009961  0.767855  0.003642  0.666667  0.007245   \n",
       "1707               LODA  0.036694  0.994745  0.097276  0.378788  0.154799   \n",
       "1708                LOF  0.021173  0.435625  0.001194  0.530303  0.002382   \n",
       "1709                MCD  0.006088  0.787626  0.004250  0.712121  0.008449   \n",
       "1710              OCSVM  4.030184  0.716687  0.003053  0.681818  0.006078   \n",
       "1711                PCA  0.002998  0.235533  0.000479  0.287879  0.000956   \n",
       "1712                ROD  2.247799  0.499673  0.000732  0.287879  0.001460   \n",
       "3217    NeuralNetFastAI       NaN  0.964391  0.023404  0.758621  0.045408   \n",
       "3219     NeuralNetTorch       NaN  0.872616  0.007508  0.862069  0.014885   \n",
       "3398               HBOS  0.003069  0.982212  0.036105  0.434211  0.066667   \n",
       "3399            IForest  0.318301  0.654994  0.002620  0.618421  0.005218   \n",
       "3400               INNE  0.272048  0.525162  0.002066  0.671053  0.004118   \n",
       "3401                KDE  2.004288  0.773352  0.005329  0.828947  0.010589   \n",
       "3402                KNN  0.009824  0.759626  0.004551  0.750000  0.009048   \n",
       "3403               LODA  0.026626  0.994109  0.083333  0.302632  0.130682   \n",
       "3404                LOF  0.021080  0.426190  0.001275  0.500000  0.002543   \n",
       "3405                MCD  0.004394  0.779705  0.005568  0.842105  0.011062   \n",
       "3406              OCSVM  3.987208  0.680772  0.003430  0.750000  0.006828   \n",
       "3407                PCA  0.003932  0.236793  0.000303  0.157895  0.000605   \n",
       "3408                ROD  1.398115  0.499057  0.000462  0.157895  0.000921   \n",
       "10486               GCN       NaN  0.918906  0.015439  0.942857  0.030380   \n",
       "\n",
       "            auc  graph_based         method  throw_rate  train_size  \\\n",
       "363    0.929305        False  Auto_not_best    0.075408        9009   \n",
       "364    0.884344        False  Auto_not_best    0.075408        9009   \n",
       "365    0.952711        False  Auto_not_best    0.075408        9009   \n",
       "366    0.953027        False  Auto_not_best    0.075408        9009   \n",
       "367    0.913896        False  Auto_not_best    0.075408        9009   \n",
       "368    0.913896        False  Auto_not_best    0.075408        9009   \n",
       "369    0.953981        False  Auto_not_best    0.075408        9009   \n",
       "370    0.923907        False  Auto_not_best    0.075408        9009   \n",
       "371    0.918441        False  Auto_not_best    0.075408        9009   \n",
       "372    0.879963        False  Auto_not_best    0.075408        9009   \n",
       "373    0.958326        False  Auto_not_best    0.075408        9009   \n",
       "374    0.952187        False  Auto_not_best    0.075408        9009   \n",
       "375    0.953422        False  Auto_not_best    0.075408        9009   \n",
       "1702   0.726550        False           pyod    0.074137        9009   \n",
       "1703   0.724950        False           pyod    0.074137        9009   \n",
       "1704   0.554183        False           pyod    0.074137        9009   \n",
       "1705   0.747936        False           pyod    0.074137        9009   \n",
       "1706   0.717325        False           pyod    0.074137        9009   \n",
       "1707   0.687158        False           pyod    0.074137        9009   \n",
       "1708   0.482904        False           pyod    0.074137        9009   \n",
       "1709   0.749921        False           pyod    0.074137        9009   \n",
       "1710   0.699275        False           pyod    0.074137        9009   \n",
       "1711   0.261673        False           pyod    0.074137        9009   \n",
       "1712   0.393910        False           pyod    0.074137        9009   \n",
       "3217   0.879963        False  Auto_not_best    0.075408        9009   \n",
       "3219   0.946564        False  Auto_not_best    0.075408        9009   \n",
       "3398   0.708613        False           pyod    0.074713        9009   \n",
       "3399   0.636734        False           pyod    0.074713        9009   \n",
       "3400   0.598000        False           pyod    0.074713        9009   \n",
       "3401   0.801109        False           pyod    0.074713        9009   \n",
       "3402   0.754820        False           pyod    0.074713        9009   \n",
       "3403   0.648877        False           pyod    0.074713        9009   \n",
       "3404   0.463041        False           pyod    0.074713        9009   \n",
       "3405   0.810859        False           pyod    0.074713        9009   \n",
       "3406   0.715335        False           pyod    0.074713        9009   \n",
       "3407   0.197402        False           pyod    0.074713        9009   \n",
       "3408   0.328726        False           pyod    0.074713        9009   \n",
       "10486  0.974102         True       Proposed    0.075671        9009   \n",
       "\n",
       "      train_cols  train_frate  test_size  test_frate  hyper_params  \\\n",
       "363      ['amt']     0.503830      51953    0.001116           NaN   \n",
       "364      ['amt']     0.503830      51953    0.001116           NaN   \n",
       "365      ['amt']     0.503830      51953    0.001116           NaN   \n",
       "366      ['amt']     0.503830      51953    0.001116           NaN   \n",
       "367      ['amt']     0.503830      51953    0.001116           NaN   \n",
       "368      ['amt']     0.503830      51953    0.001116           NaN   \n",
       "369      ['amt']     0.503830      51953    0.001116           NaN   \n",
       "370      ['amt']     0.503830      51953    0.001116           NaN   \n",
       "371      ['amt']     0.503830      51953    0.001116           NaN   \n",
       "372      ['amt']     0.503830      51953    0.001116           NaN   \n",
       "373      ['amt']     0.503830      51953    0.001116           NaN   \n",
       "374      ['amt']     0.503830      51953    0.001116           NaN   \n",
       "375      ['amt']     0.503830      51953    0.001116           NaN   \n",
       "1702     ['amt']     0.494283      51946    0.001271           NaN   \n",
       "1703     ['amt']     0.494283      51946    0.001271           NaN   \n",
       "1704     ['amt']     0.494283      51946    0.001271           NaN   \n",
       "1705     ['amt']     0.494283      51946    0.001271           NaN   \n",
       "1706     ['amt']     0.494283      51946    0.001271           NaN   \n",
       "1707     ['amt']     0.494283      51946    0.001271           NaN   \n",
       "1708     ['amt']     0.494283      51946    0.001271           NaN   \n",
       "1709     ['amt']     0.494283      51946    0.001271           NaN   \n",
       "1710     ['amt']     0.494283      51946    0.001271           NaN   \n",
       "1711     ['amt']     0.494283      51946    0.001271           NaN   \n",
       "1712     ['amt']     0.494283      51946    0.001271           NaN   \n",
       "3217     ['amt']     0.503830      51953    0.001116           NaN   \n",
       "3219     ['amt']     0.503830      51953    0.001116           NaN   \n",
       "3398     ['amt']     0.497058      51944    0.001463           NaN   \n",
       "3399     ['amt']     0.497058      51944    0.001463           NaN   \n",
       "3400     ['amt']     0.497058      51944    0.001463           NaN   \n",
       "3401     ['amt']     0.497058      51944    0.001463           NaN   \n",
       "3402     ['amt']     0.497058      51944    0.001463           NaN   \n",
       "3403     ['amt']     0.497058      51944    0.001463           NaN   \n",
       "3404     ['amt']     0.497058      51944    0.001463           NaN   \n",
       "3405     ['amt']     0.497058      51944    0.001463           NaN   \n",
       "3406     ['amt']     0.497058      51944    0.001463           NaN   \n",
       "3407     ['amt']     0.497058      51944    0.001463           NaN   \n",
       "3408     ['amt']     0.497058      51944    0.001463           NaN   \n",
       "10486        amt     0.504274      51952    0.001347           NaN   \n",
       "\n",
       "            theta  gamma      diff  \n",
       "363           NaN    NaN  0.502713  \n",
       "364           NaN    NaN  0.502713  \n",
       "365           NaN    NaN  0.502713  \n",
       "366           NaN    NaN  0.502713  \n",
       "367           NaN    NaN  0.502713  \n",
       "368           NaN    NaN  0.502713  \n",
       "369           NaN    NaN  0.502713  \n",
       "370           NaN    NaN  0.502713  \n",
       "371           NaN    NaN  0.502713  \n",
       "372           NaN    NaN  0.502713  \n",
       "373           NaN    NaN  0.502713  \n",
       "374           NaN    NaN  0.502713  \n",
       "375           NaN    NaN  0.502713  \n",
       "1702          NaN    NaN  0.493013  \n",
       "1703          NaN    NaN  0.493013  \n",
       "1704          NaN    NaN  0.493013  \n",
       "1705          NaN    NaN  0.493013  \n",
       "1706          NaN    NaN  0.493013  \n",
       "1707          NaN    NaN  0.493013  \n",
       "1708          NaN    NaN  0.493013  \n",
       "1709          NaN    NaN  0.493013  \n",
       "1710          NaN    NaN  0.493013  \n",
       "1711          NaN    NaN  0.493013  \n",
       "1712          NaN    NaN  0.493013  \n",
       "3217          NaN    NaN  0.502713  \n",
       "3219          NaN    NaN  0.502713  \n",
       "3398          NaN    NaN  0.495595  \n",
       "3399          NaN    NaN  0.495595  \n",
       "3400          NaN    NaN  0.495595  \n",
       "3401          NaN    NaN  0.495595  \n",
       "3402          NaN    NaN  0.495595  \n",
       "3403          NaN    NaN  0.495595  \n",
       "3404          NaN    NaN  0.495595  \n",
       "3405          NaN    NaN  0.495595  \n",
       "3406          NaN    NaN  0.495595  \n",
       "3407          NaN    NaN  0.495595  \n",
       "3408          NaN    NaN  0.495595  \n",
       "10486  10000000.0    0.8  0.502926  "
      ]
     },
     "execution_count": 114,
     "metadata": {},
     "output_type": "execute_result"
    }
   ],
   "source": [
    "ex1"
   ]
  },
  {
   "cell_type": "code",
   "execution_count": 115,
   "id": "8602611d-0ac0-4829-a2f5-fe44165eb50b",
   "metadata": {},
   "outputs": [],
   "source": [
    "def max_auc_df(df):\n",
    "    filtered_df = df[(df['pre'] != 0) & (df['rec'] != 0) & (df['f1'] != 0)]\n",
    "    max_auc_df = filtered_df.groupby('model')['auc'].max().reset_index()\n",
    "    filtered_df = pd.merge(filtered_df, max_auc_df, how='inner', on=['model', 'auc'])\n",
    "    max_auc_df = filtered_df.sort_values(by='auc', ascending=False)\n",
    "    return max_auc_df"
   ]
  },
  {
   "cell_type": "code",
   "execution_count": 116,
   "id": "93aab993-36d4-4160-a236-e68928621c00",
   "metadata": {},
   "outputs": [],
   "source": [
    "import plotly.graph_objs as go\n",
    "import plotly.express as px\n",
    "import plotly.io as pio\n",
    "def plot_auc_curve(df):\n",
    "    filtered_df = df[(df['pre'] != 0) & (df['rec'] != 0) & (df['f1'] != 0)]\n",
    "    max_auc_df = filtered_df.groupby('model')['auc'].max().reset_index()\n",
    "    filtered_df = pd.merge(filtered_df, max_auc_df, how='inner', on=['model', 'auc'])\n",
    "    max_auc_df = filtered_df.sort_values(by='auc', ascending=False)\n",
    "\n",
    "    fig = px.bar(max_auc_df, x='model', y='auc',\n",
    "                 hover_data=['throw_rate', 'train_frate', 'train_size', 'test_frate', 'test_size'],\n",
    "                 labels={'auc': 'AUC', 'model': 'Model'},\n",
    "                 title='AUC Value for Models',\n",
    "                 color='model')\n",
    "\n",
    "    fig.update_traces(marker_line_color='rgb(8,48,107)', marker_line_width=1.5, opacity=0.6)\n",
    "\n",
    "    fig.update_layout(\n",
    "        xaxis=dict(tickangle=45),\n",
    "        hovermode='closest',\n",
    "    )\n",
    "\n",
    "    \n",
    "    fig.show()"
   ]
  },
  {
   "cell_type": "code",
   "execution_count": 117,
   "id": "7ae866a2-fdb1-4130-8a82-df80ceb73638",
   "metadata": {},
   "outputs": [
    {
     "data": {
      "application/vnd.plotly.v1+json": {
       "config": {
        "plotlyServerURL": "https://plot.ly"
       },
       "data": [
        {
         "alignmentgroup": "True",
         "customdata": [
          [
           0.0756713308508718,
           0.5042735042735043,
           9009,
           0.0013473975977825,
           51952
          ]
         ],
         "hovertemplate": "Model=%{x}<br>AUC=%{y}<br>throw_rate=%{customdata[0]}<br>train_frate=%{customdata[1]}<br>train_size=%{customdata[2]}<br>test_frate=%{customdata[3]}<br>test_size=%{customdata[4]}<extra></extra>",
         "legendgroup": "GCN",
         "marker": {
          "color": "#636efa",
          "line": {
           "color": "rgb(8,48,107)",
           "width": 1.5
          },
          "pattern": {
           "shape": ""
          }
         },
         "name": "GCN",
         "offsetgroup": "GCN",
         "opacity": 0.6,
         "orientation": "v",
         "showlegend": true,
         "textposition": "auto",
         "type": "bar",
         "x": [
          "GCN"
         ],
         "xaxis": "x",
         "y": [
          0.9741023586490224
         ],
         "yaxis": "y"
        },
        {
         "alignmentgroup": "True",
         "customdata": [
          [
           0.0754076309832354,
           0.5038295038295039,
           9009,
           0.0011163936635035,
           51953
          ]
         ],
         "hovertemplate": "Model=%{x}<br>AUC=%{y}<br>throw_rate=%{customdata[0]}<br>train_frate=%{customdata[1]}<br>train_size=%{customdata[2]}<br>test_frate=%{customdata[3]}<br>test_size=%{customdata[4]}<extra></extra>",
         "legendgroup": "XGBoost",
         "marker": {
          "color": "#EF553B",
          "line": {
           "color": "rgb(8,48,107)",
           "width": 1.5
          },
          "pattern": {
           "shape": ""
          }
         },
         "name": "XGBoost",
         "offsetgroup": "XGBoost",
         "opacity": 0.6,
         "orientation": "v",
         "showlegend": true,
         "textposition": "auto",
         "type": "bar",
         "x": [
          "XGBoost"
         ],
         "xaxis": "x",
         "y": [
          0.958325996458366
         ],
         "yaxis": "y"
        },
        {
         "alignmentgroup": "True",
         "customdata": [
          [
           0.0754076309832354,
           0.5038295038295039,
           9009,
           0.0011163936635035,
           51953
          ]
         ],
         "hovertemplate": "Model=%{x}<br>AUC=%{y}<br>throw_rate=%{customdata[0]}<br>train_frate=%{customdata[1]}<br>train_size=%{customdata[2]}<br>test_frate=%{customdata[3]}<br>test_size=%{customdata[4]}<extra></extra>",
         "legendgroup": "CatBoost",
         "marker": {
          "color": "#00cc96",
          "line": {
           "color": "rgb(8,48,107)",
           "width": 1.5
          },
          "pattern": {
           "shape": ""
          }
         },
         "name": "CatBoost",
         "offsetgroup": "CatBoost",
         "opacity": 0.6,
         "orientation": "v",
         "showlegend": true,
         "textposition": "auto",
         "type": "bar",
         "x": [
          "CatBoost"
         ],
         "xaxis": "x",
         "y": [
          0.9539806838078216
         ],
         "yaxis": "y"
        },
        {
         "alignmentgroup": "True",
         "customdata": [
          [
           0.0754076309832354,
           0.5038295038295039,
           9009,
           0.0011163936635035,
           51953
          ]
         ],
         "hovertemplate": "Model=%{x}<br>AUC=%{y}<br>throw_rate=%{customdata[0]}<br>train_frate=%{customdata[1]}<br>train_size=%{customdata[2]}<br>test_frate=%{customdata[3]}<br>test_size=%{customdata[4]}<extra></extra>",
         "legendgroup": "LightGBMLarge",
         "marker": {
          "color": "#ab63fa",
          "line": {
           "color": "rgb(8,48,107)",
           "width": 1.5
          },
          "pattern": {
           "shape": ""
          }
         },
         "name": "LightGBMLarge",
         "offsetgroup": "LightGBMLarge",
         "opacity": 0.6,
         "orientation": "v",
         "showlegend": true,
         "textposition": "auto",
         "type": "bar",
         "x": [
          "LightGBMLarge"
         ],
         "xaxis": "x",
         "y": [
          0.9534220292301098
         ],
         "yaxis": "y"
        },
        {
         "alignmentgroup": "True",
         "customdata": [
          [
           0.0754076309832354,
           0.5038295038295039,
           9009,
           0.0011163936635035,
           51953
          ]
         ],
         "hovertemplate": "Model=%{x}<br>AUC=%{y}<br>throw_rate=%{customdata[0]}<br>train_frate=%{customdata[1]}<br>train_size=%{customdata[2]}<br>test_frate=%{customdata[3]}<br>test_size=%{customdata[4]}<extra></extra>",
         "legendgroup": "LightGBM",
         "marker": {
          "color": "#FFA15A",
          "line": {
           "color": "rgb(8,48,107)",
           "width": 1.5
          },
          "pattern": {
           "shape": ""
          }
         },
         "name": "LightGBM",
         "offsetgroup": "LightGBM",
         "opacity": 0.6,
         "orientation": "v",
         "showlegend": true,
         "textposition": "auto",
         "type": "bar",
         "x": [
          "LightGBM"
         ],
         "xaxis": "x",
         "y": [
          0.9530273330431808
         ],
         "yaxis": "y"
        },
        {
         "alignmentgroup": "True",
         "customdata": [
          [
           0.0754076309832354,
           0.5038295038295039,
           9009,
           0.0011163936635035,
           51953
          ]
         ],
         "hovertemplate": "Model=%{x}<br>AUC=%{y}<br>throw_rate=%{customdata[0]}<br>train_frate=%{customdata[1]}<br>train_size=%{customdata[2]}<br>test_frate=%{customdata[3]}<br>test_size=%{customdata[4]}<extra></extra>",
         "legendgroup": "LightGBMXT",
         "marker": {
          "color": "#19d3f3",
          "line": {
           "color": "rgb(8,48,107)",
           "width": 1.5
          },
          "pattern": {
           "shape": ""
          }
         },
         "name": "LightGBMXT",
         "offsetgroup": "LightGBMXT",
         "opacity": 0.6,
         "orientation": "v",
         "showlegend": true,
         "textposition": "auto",
         "type": "bar",
         "x": [
          "LightGBMXT"
         ],
         "xaxis": "x",
         "y": [
          0.9527105461625096
         ],
         "yaxis": "y"
        },
        {
         "alignmentgroup": "True",
         "customdata": [
          [
           0.0754076309832354,
           0.5038295038295039,
           9009,
           0.0011163936635035,
           51953
          ]
         ],
         "hovertemplate": "Model=%{x}<br>AUC=%{y}<br>throw_rate=%{customdata[0]}<br>train_frate=%{customdata[1]}<br>train_size=%{customdata[2]}<br>test_frate=%{customdata[3]}<br>test_size=%{customdata[4]}<extra></extra>",
         "legendgroup": "NeuralNetTorch",
         "marker": {
          "color": "#FF6692",
          "line": {
           "color": "rgb(8,48,107)",
           "width": 1.5
          },
          "pattern": {
           "shape": ""
          }
         },
         "name": "NeuralNetTorch",
         "offsetgroup": "NeuralNetTorch",
         "opacity": 0.6,
         "orientation": "v",
         "showlegend": true,
         "textposition": "auto",
         "type": "bar",
         "x": [
          "NeuralNetTorch"
         ],
         "xaxis": "x",
         "y": [
          0.9521871085846422
         ],
         "yaxis": "y"
        },
        {
         "alignmentgroup": "True",
         "customdata": [
          [
           0.0754076309832354,
           0.5038295038295039,
           9009,
           0.0011163936635035,
           51953
          ]
         ],
         "hovertemplate": "Model=%{x}<br>AUC=%{y}<br>throw_rate=%{customdata[0]}<br>train_frate=%{customdata[1]}<br>train_size=%{customdata[2]}<br>test_frate=%{customdata[3]}<br>test_size=%{customdata[4]}<extra></extra>",
         "legendgroup": "KNeighborsUnif",
         "marker": {
          "color": "#B6E880",
          "line": {
           "color": "rgb(8,48,107)",
           "width": 1.5
          },
          "pattern": {
           "shape": ""
          }
         },
         "name": "KNeighborsUnif",
         "offsetgroup": "KNeighborsUnif",
         "opacity": 0.6,
         "orientation": "v",
         "showlegend": true,
         "textposition": "auto",
         "type": "bar",
         "x": [
          "KNeighborsUnif"
         ],
         "xaxis": "x",
         "y": [
          0.9293045307002537
         ],
         "yaxis": "y"
        },
        {
         "alignmentgroup": "True",
         "customdata": [
          [
           0.0754076309832354,
           0.5038295038295039,
           9009,
           0.0011163936635035,
           51953
          ]
         ],
         "hovertemplate": "Model=%{x}<br>AUC=%{y}<br>throw_rate=%{customdata[0]}<br>train_frate=%{customdata[1]}<br>train_size=%{customdata[2]}<br>test_frate=%{customdata[3]}<br>test_size=%{customdata[4]}<extra></extra>",
         "legendgroup": "ExtraTreesGini",
         "marker": {
          "color": "#FF97FF",
          "line": {
           "color": "rgb(8,48,107)",
           "width": 1.5
          },
          "pattern": {
           "shape": ""
          }
         },
         "name": "ExtraTreesGini",
         "offsetgroup": "ExtraTreesGini",
         "opacity": 0.6,
         "orientation": "v",
         "showlegend": true,
         "textposition": "auto",
         "type": "bar",
         "x": [
          "ExtraTreesGini"
         ],
         "xaxis": "x",
         "y": [
          0.9239068610024884
         ],
         "yaxis": "y"
        },
        {
         "alignmentgroup": "True",
         "customdata": [
          [
           0.0754076309832354,
           0.5038295038295039,
           9009,
           0.0011163936635035,
           51953
          ]
         ],
         "hovertemplate": "Model=%{x}<br>AUC=%{y}<br>throw_rate=%{customdata[0]}<br>train_frate=%{customdata[1]}<br>train_size=%{customdata[2]}<br>test_frate=%{customdata[3]}<br>test_size=%{customdata[4]}<extra></extra>",
         "legendgroup": "ExtraTreesEntr",
         "marker": {
          "color": "#FECB52",
          "line": {
           "color": "rgb(8,48,107)",
           "width": 1.5
          },
          "pattern": {
           "shape": ""
          }
         },
         "name": "ExtraTreesEntr",
         "offsetgroup": "ExtraTreesEntr",
         "opacity": 0.6,
         "orientation": "v",
         "showlegend": true,
         "textposition": "auto",
         "type": "bar",
         "x": [
          "ExtraTreesEntr"
         ],
         "xaxis": "x",
         "y": [
          0.9184407507201212
         ],
         "yaxis": "y"
        },
        {
         "alignmentgroup": "True",
         "customdata": [
          [
           0.0754076309832354,
           0.5038295038295039,
           9009,
           0.0011163936635035,
           51953
          ]
         ],
         "hovertemplate": "Model=%{x}<br>AUC=%{y}<br>throw_rate=%{customdata[0]}<br>train_frate=%{customdata[1]}<br>train_size=%{customdata[2]}<br>test_frate=%{customdata[3]}<br>test_size=%{customdata[4]}<extra></extra>",
         "legendgroup": "RandomForestEntr",
         "marker": {
          "color": "#636efa",
          "line": {
           "color": "rgb(8,48,107)",
           "width": 1.5
          },
          "pattern": {
           "shape": ""
          }
         },
         "name": "RandomForestEntr",
         "offsetgroup": "RandomForestEntr",
         "opacity": 0.6,
         "orientation": "v",
         "showlegend": true,
         "textposition": "auto",
         "type": "bar",
         "x": [
          "RandomForestEntr"
         ],
         "xaxis": "x",
         "y": [
          0.9138962626789504
         ],
         "yaxis": "y"
        },
        {
         "alignmentgroup": "True",
         "customdata": [
          [
           0.0754076309832354,
           0.5038295038295039,
           9009,
           0.0011163936635035,
           51953
          ]
         ],
         "hovertemplate": "Model=%{x}<br>AUC=%{y}<br>throw_rate=%{customdata[0]}<br>train_frate=%{customdata[1]}<br>train_size=%{customdata[2]}<br>test_frate=%{customdata[3]}<br>test_size=%{customdata[4]}<extra></extra>",
         "legendgroup": "RandomForestGini",
         "marker": {
          "color": "#EF553B",
          "line": {
           "color": "rgb(8,48,107)",
           "width": 1.5
          },
          "pattern": {
           "shape": ""
          }
         },
         "name": "RandomForestGini",
         "offsetgroup": "RandomForestGini",
         "opacity": 0.6,
         "orientation": "v",
         "showlegend": true,
         "textposition": "auto",
         "type": "bar",
         "x": [
          "RandomForestGini"
         ],
         "xaxis": "x",
         "y": [
          0.9138962626789504
         ],
         "yaxis": "y"
        },
        {
         "alignmentgroup": "True",
         "customdata": [
          [
           0.0754076309832354,
           0.5038295038295039,
           9009,
           0.0011163936635035,
           51953
          ]
         ],
         "hovertemplate": "Model=%{x}<br>AUC=%{y}<br>throw_rate=%{customdata[0]}<br>train_frate=%{customdata[1]}<br>train_size=%{customdata[2]}<br>test_frate=%{customdata[3]}<br>test_size=%{customdata[4]}<extra></extra>",
         "legendgroup": "KNeighborsDist",
         "marker": {
          "color": "#00cc96",
          "line": {
           "color": "rgb(8,48,107)",
           "width": 1.5
          },
          "pattern": {
           "shape": ""
          }
         },
         "name": "KNeighborsDist",
         "offsetgroup": "KNeighborsDist",
         "opacity": 0.6,
         "orientation": "v",
         "showlegend": true,
         "textposition": "auto",
         "type": "bar",
         "x": [
          "KNeighborsDist"
         ],
         "xaxis": "x",
         "y": [
          0.8843440501543234
         ],
         "yaxis": "y"
        },
        {
         "alignmentgroup": "True",
         "customdata": [
          [
           0.0754076309832354,
           0.5038295038295039,
           9009,
           0.0011163936635035,
           51953
          ]
         ],
         "hovertemplate": "Model=%{x}<br>AUC=%{y}<br>throw_rate=%{customdata[0]}<br>train_frate=%{customdata[1]}<br>train_size=%{customdata[2]}<br>test_frate=%{customdata[3]}<br>test_size=%{customdata[4]}<extra></extra>",
         "legendgroup": "NeuralNetFastAI",
         "marker": {
          "color": "#ab63fa",
          "line": {
           "color": "rgb(8,48,107)",
           "width": 1.5
          },
          "pattern": {
           "shape": ""
          }
         },
         "name": "NeuralNetFastAI",
         "offsetgroup": "NeuralNetFastAI",
         "opacity": 0.6,
         "orientation": "v",
         "showlegend": true,
         "textposition": "auto",
         "type": "bar",
         "x": [
          "NeuralNetFastAI"
         ],
         "xaxis": "x",
         "y": [
          0.8799626899143165
         ],
         "yaxis": "y"
        },
        {
         "alignmentgroup": "True",
         "customdata": [
          [
           0.0747133036930093,
           0.4970584970584971,
           9009,
           0.0014631141229015,
           51944
          ]
         ],
         "hovertemplate": "Model=%{x}<br>AUC=%{y}<br>throw_rate=%{customdata[0]}<br>train_frate=%{customdata[1]}<br>train_size=%{customdata[2]}<br>test_frate=%{customdata[3]}<br>test_size=%{customdata[4]}<extra></extra>",
         "legendgroup": "MCD",
         "marker": {
          "color": "#FFA15A",
          "line": {
           "color": "rgb(8,48,107)",
           "width": 1.5
          },
          "pattern": {
           "shape": ""
          }
         },
         "name": "MCD",
         "offsetgroup": "MCD",
         "opacity": 0.6,
         "orientation": "v",
         "showlegend": true,
         "textposition": "auto",
         "type": "bar",
         "x": [
          "MCD"
         ],
         "xaxis": "x",
         "y": [
          0.8108594488844151
         ],
         "yaxis": "y"
        },
        {
         "alignmentgroup": "True",
         "customdata": [
          [
           0.0747133036930093,
           0.4970584970584971,
           9009,
           0.0014631141229015,
           51944
          ]
         ],
         "hovertemplate": "Model=%{x}<br>AUC=%{y}<br>throw_rate=%{customdata[0]}<br>train_frate=%{customdata[1]}<br>train_size=%{customdata[2]}<br>test_frate=%{customdata[3]}<br>test_size=%{customdata[4]}<extra></extra>",
         "legendgroup": "KDE",
         "marker": {
          "color": "#19d3f3",
          "line": {
           "color": "rgb(8,48,107)",
           "width": 1.5
          },
          "pattern": {
           "shape": ""
          }
         },
         "name": "KDE",
         "offsetgroup": "KDE",
         "opacity": 0.6,
         "orientation": "v",
         "showlegend": true,
         "textposition": "auto",
         "type": "bar",
         "x": [
          "KDE"
         ],
         "xaxis": "x",
         "y": [
          0.8011089892155391
         ],
         "yaxis": "y"
        },
        {
         "alignmentgroup": "True",
         "customdata": [
          [
           0.0747133036930093,
           0.4970584970584971,
           9009,
           0.0014631141229015,
           51944
          ]
         ],
         "hovertemplate": "Model=%{x}<br>AUC=%{y}<br>throw_rate=%{customdata[0]}<br>train_frate=%{customdata[1]}<br>train_size=%{customdata[2]}<br>test_frate=%{customdata[3]}<br>test_size=%{customdata[4]}<extra></extra>",
         "legendgroup": "KNN",
         "marker": {
          "color": "#FF6692",
          "line": {
           "color": "rgb(8,48,107)",
           "width": 1.5
          },
          "pattern": {
           "shape": ""
          }
         },
         "name": "KNN",
         "offsetgroup": "KNN",
         "opacity": 0.6,
         "orientation": "v",
         "showlegend": true,
         "textposition": "auto",
         "type": "bar",
         "x": [
          "KNN"
         ],
         "xaxis": "x",
         "y": [
          0.7548199275082904
         ],
         "yaxis": "y"
        },
        {
         "alignmentgroup": "True",
         "customdata": [
          [
           0.0741366581904683,
           0.4942834942834943,
           9009,
           0.0012705501867323,
           51946
          ]
         ],
         "hovertemplate": "Model=%{x}<br>AUC=%{y}<br>throw_rate=%{customdata[0]}<br>train_frate=%{customdata[1]}<br>train_size=%{customdata[2]}<br>test_frate=%{customdata[3]}<br>test_size=%{customdata[4]}<extra></extra>",
         "legendgroup": "HBOS",
         "marker": {
          "color": "#B6E880",
          "line": {
           "color": "rgb(8,48,107)",
           "width": 1.5
          },
          "pattern": {
           "shape": ""
          }
         },
         "name": "HBOS",
         "offsetgroup": "HBOS",
         "opacity": 0.6,
         "orientation": "v",
         "showlegend": true,
         "textposition": "auto",
         "type": "bar",
         "x": [
          "HBOS"
         ],
         "xaxis": "x",
         "y": [
          0.7265504894745449
         ],
         "yaxis": "y"
        },
        {
         "alignmentgroup": "True",
         "customdata": [
          [
           0.0741366581904683,
           0.4942834942834943,
           9009,
           0.0012705501867323,
           51946
          ]
         ],
         "hovertemplate": "Model=%{x}<br>AUC=%{y}<br>throw_rate=%{customdata[0]}<br>train_frate=%{customdata[1]}<br>train_size=%{customdata[2]}<br>test_frate=%{customdata[3]}<br>test_size=%{customdata[4]}<extra></extra>",
         "legendgroup": "IForest",
         "marker": {
          "color": "#FF97FF",
          "line": {
           "color": "rgb(8,48,107)",
           "width": 1.5
          },
          "pattern": {
           "shape": ""
          }
         },
         "name": "IForest",
         "offsetgroup": "IForest",
         "opacity": 0.6,
         "orientation": "v",
         "showlegend": true,
         "textposition": "auto",
         "type": "bar",
         "x": [
          "IForest"
         ],
         "xaxis": "x",
         "y": [
          0.724949767528796
         ],
         "yaxis": "y"
        },
        {
         "alignmentgroup": "True",
         "customdata": [
          [
           0.0747133036930093,
           0.4970584970584971,
           9009,
           0.0014631141229015,
           51944
          ]
         ],
         "hovertemplate": "Model=%{x}<br>AUC=%{y}<br>throw_rate=%{customdata[0]}<br>train_frate=%{customdata[1]}<br>train_size=%{customdata[2]}<br>test_frate=%{customdata[3]}<br>test_size=%{customdata[4]}<extra></extra>",
         "legendgroup": "OCSVM",
         "marker": {
          "color": "#FECB52",
          "line": {
           "color": "rgb(8,48,107)",
           "width": 1.5
          },
          "pattern": {
           "shape": ""
          }
         },
         "name": "OCSVM",
         "offsetgroup": "OCSVM",
         "opacity": 0.6,
         "orientation": "v",
         "showlegend": true,
         "textposition": "auto",
         "type": "bar",
         "x": [
          "OCSVM"
         ],
         "xaxis": "x",
         "y": [
          0.7153350813603765
         ],
         "yaxis": "y"
        },
        {
         "alignmentgroup": "True",
         "customdata": [
          [
           0.0741366581904683,
           0.4942834942834943,
           9009,
           0.0012705501867323,
           51946
          ]
         ],
         "hovertemplate": "Model=%{x}<br>AUC=%{y}<br>throw_rate=%{customdata[0]}<br>train_frate=%{customdata[1]}<br>train_size=%{customdata[2]}<br>test_frate=%{customdata[3]}<br>test_size=%{customdata[4]}<extra></extra>",
         "legendgroup": "LODA",
         "marker": {
          "color": "#636efa",
          "line": {
           "color": "rgb(8,48,107)",
           "width": 1.5
          },
          "pattern": {
           "shape": ""
          }
         },
         "name": "LODA",
         "offsetgroup": "LODA",
         "opacity": 0.6,
         "orientation": "v",
         "showlegend": true,
         "textposition": "auto",
         "type": "bar",
         "x": [
          "LODA"
         ],
         "xaxis": "x",
         "y": [
          0.6871580103268615
         ],
         "yaxis": "y"
        },
        {
         "alignmentgroup": "True",
         "customdata": [
          [
           0.0747133036930093,
           0.4970584970584971,
           9009,
           0.0014631141229015,
           51944
          ]
         ],
         "hovertemplate": "Model=%{x}<br>AUC=%{y}<br>throw_rate=%{customdata[0]}<br>train_frate=%{customdata[1]}<br>train_size=%{customdata[2]}<br>test_frate=%{customdata[3]}<br>test_size=%{customdata[4]}<extra></extra>",
         "legendgroup": "INNE",
         "marker": {
          "color": "#EF553B",
          "line": {
           "color": "rgb(8,48,107)",
           "width": 1.5
          },
          "pattern": {
           "shape": ""
          }
         },
         "name": "INNE",
         "offsetgroup": "INNE",
         "opacity": 0.6,
         "orientation": "v",
         "showlegend": true,
         "textposition": "auto",
         "type": "bar",
         "x": [
          "INNE"
         ],
         "xaxis": "x",
         "y": [
          0.5980002881809289
         ],
         "yaxis": "y"
        },
        {
         "alignmentgroup": "True",
         "customdata": [
          [
           0.0741366581904683,
           0.4942834942834943,
           9009,
           0.0012705501867323,
           51946
          ]
         ],
         "hovertemplate": "Model=%{x}<br>AUC=%{y}<br>throw_rate=%{customdata[0]}<br>train_frate=%{customdata[1]}<br>train_size=%{customdata[2]}<br>test_frate=%{customdata[3]}<br>test_size=%{customdata[4]}<extra></extra>",
         "legendgroup": "LOF",
         "marker": {
          "color": "#00cc96",
          "line": {
           "color": "rgb(8,48,107)",
           "width": 1.5
          },
          "pattern": {
           "shape": ""
          }
         },
         "name": "LOF",
         "offsetgroup": "LOF",
         "opacity": 0.6,
         "orientation": "v",
         "showlegend": true,
         "textposition": "auto",
         "type": "bar",
         "x": [
          "LOF"
         ],
         "xaxis": "x",
         "y": [
          0.4829040209340903
         ],
         "yaxis": "y"
        },
        {
         "alignmentgroup": "True",
         "customdata": [
          [
           0.0741366581904683,
           0.4942834942834943,
           9009,
           0.0012705501867323,
           51946
          ]
         ],
         "hovertemplate": "Model=%{x}<br>AUC=%{y}<br>throw_rate=%{customdata[0]}<br>train_frate=%{customdata[1]}<br>train_size=%{customdata[2]}<br>test_frate=%{customdata[3]}<br>test_size=%{customdata[4]}<extra></extra>",
         "legendgroup": "ROD",
         "marker": {
          "color": "#ab63fa",
          "line": {
           "color": "rgb(8,48,107)",
           "width": 1.5
          },
          "pattern": {
           "shape": ""
          }
         },
         "name": "ROD",
         "offsetgroup": "ROD",
         "opacity": 0.6,
         "orientation": "v",
         "showlegend": true,
         "textposition": "auto",
         "type": "bar",
         "x": [
          "ROD"
         ],
         "xaxis": "x",
         "y": [
          0.3939104810635265
         ],
         "yaxis": "y"
        },
        {
         "alignmentgroup": "True",
         "customdata": [
          [
           0.0741366581904683,
           0.4942834942834943,
           9009,
           0.0012705501867323,
           51946
          ]
         ],
         "hovertemplate": "Model=%{x}<br>AUC=%{y}<br>throw_rate=%{customdata[0]}<br>train_frate=%{customdata[1]}<br>train_size=%{customdata[2]}<br>test_frate=%{customdata[3]}<br>test_size=%{customdata[4]}<extra></extra>",
         "legendgroup": "PCA",
         "marker": {
          "color": "#FFA15A",
          "line": {
           "color": "rgb(8,48,107)",
           "width": 1.5
          },
          "pattern": {
           "shape": ""
          }
         },
         "name": "PCA",
         "offsetgroup": "PCA",
         "opacity": 0.6,
         "orientation": "v",
         "showlegend": true,
         "textposition": "auto",
         "type": "bar",
         "x": [
          "PCA"
         ],
         "xaxis": "x",
         "y": [
          0.2616726244713908
         ],
         "yaxis": "y"
        }
       ],
       "layout": {
        "autosize": true,
        "barmode": "relative",
        "hovermode": "closest",
        "legend": {
         "title": {
          "text": "Model"
         },
         "tracegroupgap": 0
        },
        "template": {
         "data": {
          "bar": [
           {
            "error_x": {
             "color": "#2a3f5f"
            },
            "error_y": {
             "color": "#2a3f5f"
            },
            "marker": {
             "line": {
              "color": "#E5ECF6",
              "width": 0.5
             },
             "pattern": {
              "fillmode": "overlay",
              "size": 10,
              "solidity": 0.2
             }
            },
            "type": "bar"
           }
          ],
          "barpolar": [
           {
            "marker": {
             "line": {
              "color": "#E5ECF6",
              "width": 0.5
             },
             "pattern": {
              "fillmode": "overlay",
              "size": 10,
              "solidity": 0.2
             }
            },
            "type": "barpolar"
           }
          ],
          "carpet": [
           {
            "aaxis": {
             "endlinecolor": "#2a3f5f",
             "gridcolor": "white",
             "linecolor": "white",
             "minorgridcolor": "white",
             "startlinecolor": "#2a3f5f"
            },
            "baxis": {
             "endlinecolor": "#2a3f5f",
             "gridcolor": "white",
             "linecolor": "white",
             "minorgridcolor": "white",
             "startlinecolor": "#2a3f5f"
            },
            "type": "carpet"
           }
          ],
          "choropleth": [
           {
            "colorbar": {
             "outlinewidth": 0,
             "ticks": ""
            },
            "type": "choropleth"
           }
          ],
          "contour": [
           {
            "colorbar": {
             "outlinewidth": 0,
             "ticks": ""
            },
            "colorscale": [
             [
              0,
              "#0d0887"
             ],
             [
              0.1111111111111111,
              "#46039f"
             ],
             [
              0.2222222222222222,
              "#7201a8"
             ],
             [
              0.3333333333333333,
              "#9c179e"
             ],
             [
              0.4444444444444444,
              "#bd3786"
             ],
             [
              0.5555555555555556,
              "#d8576b"
             ],
             [
              0.6666666666666666,
              "#ed7953"
             ],
             [
              0.7777777777777778,
              "#fb9f3a"
             ],
             [
              0.8888888888888888,
              "#fdca26"
             ],
             [
              1,
              "#f0f921"
             ]
            ],
            "type": "contour"
           }
          ],
          "contourcarpet": [
           {
            "colorbar": {
             "outlinewidth": 0,
             "ticks": ""
            },
            "type": "contourcarpet"
           }
          ],
          "heatmap": [
           {
            "colorbar": {
             "outlinewidth": 0,
             "ticks": ""
            },
            "colorscale": [
             [
              0,
              "#0d0887"
             ],
             [
              0.1111111111111111,
              "#46039f"
             ],
             [
              0.2222222222222222,
              "#7201a8"
             ],
             [
              0.3333333333333333,
              "#9c179e"
             ],
             [
              0.4444444444444444,
              "#bd3786"
             ],
             [
              0.5555555555555556,
              "#d8576b"
             ],
             [
              0.6666666666666666,
              "#ed7953"
             ],
             [
              0.7777777777777778,
              "#fb9f3a"
             ],
             [
              0.8888888888888888,
              "#fdca26"
             ],
             [
              1,
              "#f0f921"
             ]
            ],
            "type": "heatmap"
           }
          ],
          "heatmapgl": [
           {
            "colorbar": {
             "outlinewidth": 0,
             "ticks": ""
            },
            "colorscale": [
             [
              0,
              "#0d0887"
             ],
             [
              0.1111111111111111,
              "#46039f"
             ],
             [
              0.2222222222222222,
              "#7201a8"
             ],
             [
              0.3333333333333333,
              "#9c179e"
             ],
             [
              0.4444444444444444,
              "#bd3786"
             ],
             [
              0.5555555555555556,
              "#d8576b"
             ],
             [
              0.6666666666666666,
              "#ed7953"
             ],
             [
              0.7777777777777778,
              "#fb9f3a"
             ],
             [
              0.8888888888888888,
              "#fdca26"
             ],
             [
              1,
              "#f0f921"
             ]
            ],
            "type": "heatmapgl"
           }
          ],
          "histogram": [
           {
            "marker": {
             "pattern": {
              "fillmode": "overlay",
              "size": 10,
              "solidity": 0.2
             }
            },
            "type": "histogram"
           }
          ],
          "histogram2d": [
           {
            "colorbar": {
             "outlinewidth": 0,
             "ticks": ""
            },
            "colorscale": [
             [
              0,
              "#0d0887"
             ],
             [
              0.1111111111111111,
              "#46039f"
             ],
             [
              0.2222222222222222,
              "#7201a8"
             ],
             [
              0.3333333333333333,
              "#9c179e"
             ],
             [
              0.4444444444444444,
              "#bd3786"
             ],
             [
              0.5555555555555556,
              "#d8576b"
             ],
             [
              0.6666666666666666,
              "#ed7953"
             ],
             [
              0.7777777777777778,
              "#fb9f3a"
             ],
             [
              0.8888888888888888,
              "#fdca26"
             ],
             [
              1,
              "#f0f921"
             ]
            ],
            "type": "histogram2d"
           }
          ],
          "histogram2dcontour": [
           {
            "colorbar": {
             "outlinewidth": 0,
             "ticks": ""
            },
            "colorscale": [
             [
              0,
              "#0d0887"
             ],
             [
              0.1111111111111111,
              "#46039f"
             ],
             [
              0.2222222222222222,
              "#7201a8"
             ],
             [
              0.3333333333333333,
              "#9c179e"
             ],
             [
              0.4444444444444444,
              "#bd3786"
             ],
             [
              0.5555555555555556,
              "#d8576b"
             ],
             [
              0.6666666666666666,
              "#ed7953"
             ],
             [
              0.7777777777777778,
              "#fb9f3a"
             ],
             [
              0.8888888888888888,
              "#fdca26"
             ],
             [
              1,
              "#f0f921"
             ]
            ],
            "type": "histogram2dcontour"
           }
          ],
          "mesh3d": [
           {
            "colorbar": {
             "outlinewidth": 0,
             "ticks": ""
            },
            "type": "mesh3d"
           }
          ],
          "parcoords": [
           {
            "line": {
             "colorbar": {
              "outlinewidth": 0,
              "ticks": ""
             }
            },
            "type": "parcoords"
           }
          ],
          "pie": [
           {
            "automargin": true,
            "type": "pie"
           }
          ],
          "scatter": [
           {
            "fillpattern": {
             "fillmode": "overlay",
             "size": 10,
             "solidity": 0.2
            },
            "type": "scatter"
           }
          ],
          "scatter3d": [
           {
            "line": {
             "colorbar": {
              "outlinewidth": 0,
              "ticks": ""
             }
            },
            "marker": {
             "colorbar": {
              "outlinewidth": 0,
              "ticks": ""
             }
            },
            "type": "scatter3d"
           }
          ],
          "scattercarpet": [
           {
            "marker": {
             "colorbar": {
              "outlinewidth": 0,
              "ticks": ""
             }
            },
            "type": "scattercarpet"
           }
          ],
          "scattergeo": [
           {
            "marker": {
             "colorbar": {
              "outlinewidth": 0,
              "ticks": ""
             }
            },
            "type": "scattergeo"
           }
          ],
          "scattergl": [
           {
            "marker": {
             "colorbar": {
              "outlinewidth": 0,
              "ticks": ""
             }
            },
            "type": "scattergl"
           }
          ],
          "scattermapbox": [
           {
            "marker": {
             "colorbar": {
              "outlinewidth": 0,
              "ticks": ""
             }
            },
            "type": "scattermapbox"
           }
          ],
          "scatterpolar": [
           {
            "marker": {
             "colorbar": {
              "outlinewidth": 0,
              "ticks": ""
             }
            },
            "type": "scatterpolar"
           }
          ],
          "scatterpolargl": [
           {
            "marker": {
             "colorbar": {
              "outlinewidth": 0,
              "ticks": ""
             }
            },
            "type": "scatterpolargl"
           }
          ],
          "scatterternary": [
           {
            "marker": {
             "colorbar": {
              "outlinewidth": 0,
              "ticks": ""
             }
            },
            "type": "scatterternary"
           }
          ],
          "surface": [
           {
            "colorbar": {
             "outlinewidth": 0,
             "ticks": ""
            },
            "colorscale": [
             [
              0,
              "#0d0887"
             ],
             [
              0.1111111111111111,
              "#46039f"
             ],
             [
              0.2222222222222222,
              "#7201a8"
             ],
             [
              0.3333333333333333,
              "#9c179e"
             ],
             [
              0.4444444444444444,
              "#bd3786"
             ],
             [
              0.5555555555555556,
              "#d8576b"
             ],
             [
              0.6666666666666666,
              "#ed7953"
             ],
             [
              0.7777777777777778,
              "#fb9f3a"
             ],
             [
              0.8888888888888888,
              "#fdca26"
             ],
             [
              1,
              "#f0f921"
             ]
            ],
            "type": "surface"
           }
          ],
          "table": [
           {
            "cells": {
             "fill": {
              "color": "#EBF0F8"
             },
             "line": {
              "color": "white"
             }
            },
            "header": {
             "fill": {
              "color": "#C8D4E3"
             },
             "line": {
              "color": "white"
             }
            },
            "type": "table"
           }
          ]
         },
         "layout": {
          "annotationdefaults": {
           "arrowcolor": "#2a3f5f",
           "arrowhead": 0,
           "arrowwidth": 1
          },
          "autotypenumbers": "strict",
          "coloraxis": {
           "colorbar": {
            "outlinewidth": 0,
            "ticks": ""
           }
          },
          "colorscale": {
           "diverging": [
            [
             0,
             "#8e0152"
            ],
            [
             0.1,
             "#c51b7d"
            ],
            [
             0.2,
             "#de77ae"
            ],
            [
             0.3,
             "#f1b6da"
            ],
            [
             0.4,
             "#fde0ef"
            ],
            [
             0.5,
             "#f7f7f7"
            ],
            [
             0.6,
             "#e6f5d0"
            ],
            [
             0.7,
             "#b8e186"
            ],
            [
             0.8,
             "#7fbc41"
            ],
            [
             0.9,
             "#4d9221"
            ],
            [
             1,
             "#276419"
            ]
           ],
           "sequential": [
            [
             0,
             "#0d0887"
            ],
            [
             0.1111111111111111,
             "#46039f"
            ],
            [
             0.2222222222222222,
             "#7201a8"
            ],
            [
             0.3333333333333333,
             "#9c179e"
            ],
            [
             0.4444444444444444,
             "#bd3786"
            ],
            [
             0.5555555555555556,
             "#d8576b"
            ],
            [
             0.6666666666666666,
             "#ed7953"
            ],
            [
             0.7777777777777778,
             "#fb9f3a"
            ],
            [
             0.8888888888888888,
             "#fdca26"
            ],
            [
             1,
             "#f0f921"
            ]
           ],
           "sequentialminus": [
            [
             0,
             "#0d0887"
            ],
            [
             0.1111111111111111,
             "#46039f"
            ],
            [
             0.2222222222222222,
             "#7201a8"
            ],
            [
             0.3333333333333333,
             "#9c179e"
            ],
            [
             0.4444444444444444,
             "#bd3786"
            ],
            [
             0.5555555555555556,
             "#d8576b"
            ],
            [
             0.6666666666666666,
             "#ed7953"
            ],
            [
             0.7777777777777778,
             "#fb9f3a"
            ],
            [
             0.8888888888888888,
             "#fdca26"
            ],
            [
             1,
             "#f0f921"
            ]
           ]
          },
          "colorway": [
           "#636efa",
           "#EF553B",
           "#00cc96",
           "#ab63fa",
           "#FFA15A",
           "#19d3f3",
           "#FF6692",
           "#B6E880",
           "#FF97FF",
           "#FECB52"
          ],
          "font": {
           "color": "#2a3f5f"
          },
          "geo": {
           "bgcolor": "white",
           "lakecolor": "white",
           "landcolor": "#E5ECF6",
           "showlakes": true,
           "showland": true,
           "subunitcolor": "white"
          },
          "hoverlabel": {
           "align": "left"
          },
          "hovermode": "closest",
          "mapbox": {
           "style": "light"
          },
          "paper_bgcolor": "white",
          "plot_bgcolor": "#E5ECF6",
          "polar": {
           "angularaxis": {
            "gridcolor": "white",
            "linecolor": "white",
            "ticks": ""
           },
           "bgcolor": "#E5ECF6",
           "radialaxis": {
            "gridcolor": "white",
            "linecolor": "white",
            "ticks": ""
           }
          },
          "scene": {
           "xaxis": {
            "backgroundcolor": "#E5ECF6",
            "gridcolor": "white",
            "gridwidth": 2,
            "linecolor": "white",
            "showbackground": true,
            "ticks": "",
            "zerolinecolor": "white"
           },
           "yaxis": {
            "backgroundcolor": "#E5ECF6",
            "gridcolor": "white",
            "gridwidth": 2,
            "linecolor": "white",
            "showbackground": true,
            "ticks": "",
            "zerolinecolor": "white"
           },
           "zaxis": {
            "backgroundcolor": "#E5ECF6",
            "gridcolor": "white",
            "gridwidth": 2,
            "linecolor": "white",
            "showbackground": true,
            "ticks": "",
            "zerolinecolor": "white"
           }
          },
          "shapedefaults": {
           "line": {
            "color": "#2a3f5f"
           }
          },
          "ternary": {
           "aaxis": {
            "gridcolor": "white",
            "linecolor": "white",
            "ticks": ""
           },
           "baxis": {
            "gridcolor": "white",
            "linecolor": "white",
            "ticks": ""
           },
           "bgcolor": "#E5ECF6",
           "caxis": {
            "gridcolor": "white",
            "linecolor": "white",
            "ticks": ""
           }
          },
          "title": {
           "x": 0.05
          },
          "xaxis": {
           "automargin": true,
           "gridcolor": "white",
           "linecolor": "white",
           "ticks": "",
           "title": {
            "standoff": 15
           },
           "zerolinecolor": "white",
           "zerolinewidth": 2
          },
          "yaxis": {
           "automargin": true,
           "gridcolor": "white",
           "linecolor": "white",
           "ticks": "",
           "title": {
            "standoff": 15
           },
           "zerolinecolor": "white",
           "zerolinewidth": 2
          }
         }
        },
        "title": {
         "text": "AUC Value for Models"
        },
        "xaxis": {
         "anchor": "y",
         "autorange": true,
         "categoryarray": [
          "GCN",
          "XGBoost",
          "CatBoost",
          "LightGBMLarge",
          "LightGBM",
          "LightGBMXT",
          "NeuralNetTorch",
          "KNeighborsUnif",
          "ExtraTreesGini",
          "ExtraTreesEntr",
          "RandomForestEntr",
          "RandomForestGini",
          "KNeighborsDist",
          "NeuralNetFastAI",
          "MCD",
          "KDE",
          "KNN",
          "HBOS",
          "IForest",
          "OCSVM",
          "LODA",
          "INNE",
          "LOF",
          "ROD",
          "PCA"
         ],
         "categoryorder": "array",
         "domain": [
          0,
          1
         ],
         "range": [
          -0.5,
          24.5
         ],
         "tickangle": 45,
         "title": {
          "text": "Model"
         },
         "type": "category"
        },
        "yaxis": {
         "anchor": "x",
         "autorange": true,
         "domain": [
          0,
          1
         ],
         "range": [
          0,
          1.025370903841076
         ],
         "title": {
          "text": "AUC"
         },
         "type": "linear"
        }
       }
      },
      "image/png": "[encoded data removed]",
      "text/html": [
       "<div>                            <div id=\"cb5bdfe5-02a2-418b-9c74-a15c078cc97d\" class=\"plotly-graph-div\" style=\"height:525px; width:100%;\"></div>            <script type=\"text/javascript\">                require([\"plotly\"], function(Plotly) {                    window.PLOTLYENV=window.PLOTLYENV || {};                                    if (document.getElementById(\"cb5bdfe5-02a2-418b-9c74-a15c078cc97d\")) {                    Plotly.newPlot(                        \"cb5bdfe5-02a2-418b-9c74-a15c078cc97d\",                        [{\"alignmentgroup\":\"True\",\"customdata\":[[0.0756713308508718,0.5042735042735043,9009.0,0.0013473975977825,51952.0]],\"hovertemplate\":\"Model=%{x}<br>AUC=%{y}<br>throw_rate=%{customdata[0]}<br>train_frate=%{customdata[1]}<br>train_size=%{customdata[2]}<br>test_frate=%{customdata[3]}<br>test_size=%{customdata[4]}<extra></extra>\",\"legendgroup\":\"GCN\",\"marker\":{\"color\":\"#636efa\",\"pattern\":{\"shape\":\"\"},\"line\":{\"color\":\"rgb(8,48,107)\",\"width\":1.5}},\"name\":\"GCN\",\"offsetgroup\":\"GCN\",\"orientation\":\"v\",\"showlegend\":true,\"textposition\":\"auto\",\"x\":[\"GCN\"],\"xaxis\":\"x\",\"y\":[0.9741023586490224],\"yaxis\":\"y\",\"type\":\"bar\",\"opacity\":0.6},{\"alignmentgroup\":\"True\",\"customdata\":[[0.0754076309832354,0.5038295038295039,9009.0,0.0011163936635035,51953.0]],\"hovertemplate\":\"Model=%{x}<br>AUC=%{y}<br>throw_rate=%{customdata[0]}<br>train_frate=%{customdata[1]}<br>train_size=%{customdata[2]}<br>test_frate=%{customdata[3]}<br>test_size=%{customdata[4]}<extra></extra>\",\"legendgroup\":\"XGBoost\",\"marker\":{\"color\":\"#EF553B\",\"pattern\":{\"shape\":\"\"},\"line\":{\"color\":\"rgb(8,48,107)\",\"width\":1.5}},\"name\":\"XGBoost\",\"offsetgroup\":\"XGBoost\",\"orientation\":\"v\",\"showlegend\":true,\"textposition\":\"auto\",\"x\":[\"XGBoost\"],\"xaxis\":\"x\",\"y\":[0.958325996458366],\"yaxis\":\"y\",\"type\":\"bar\",\"opacity\":0.6},{\"alignmentgroup\":\"True\",\"customdata\":[[0.0754076309832354,0.5038295038295039,9009.0,0.0011163936635035,51953.0]],\"hovertemplate\":\"Model=%{x}<br>AUC=%{y}<br>throw_rate=%{customdata[0]}<br>train_frate=%{customdata[1]}<br>train_size=%{customdata[2]}<br>test_frate=%{customdata[3]}<br>test_size=%{customdata[4]}<extra></extra>\",\"legendgroup\":\"CatBoost\",\"marker\":{\"color\":\"#00cc96\",\"pattern\":{\"shape\":\"\"},\"line\":{\"color\":\"rgb(8,48,107)\",\"width\":1.5}},\"name\":\"CatBoost\",\"offsetgroup\":\"CatBoost\",\"orientation\":\"v\",\"showlegend\":true,\"textposition\":\"auto\",\"x\":[\"CatBoost\"],\"xaxis\":\"x\",\"y\":[0.9539806838078216],\"yaxis\":\"y\",\"type\":\"bar\",\"opacity\":0.6},{\"alignmentgroup\":\"True\",\"customdata\":[[0.0754076309832354,0.5038295038295039,9009.0,0.0011163936635035,51953.0]],\"hovertemplate\":\"Model=%{x}<br>AUC=%{y}<br>throw_rate=%{customdata[0]}<br>train_frate=%{customdata[1]}<br>train_size=%{customdata[2]}<br>test_frate=%{customdata[3]}<br>test_size=%{customdata[4]}<extra></extra>\",\"legendgroup\":\"LightGBMLarge\",\"marker\":{\"color\":\"#ab63fa\",\"pattern\":{\"shape\":\"\"},\"line\":{\"color\":\"rgb(8,48,107)\",\"width\":1.5}},\"name\":\"LightGBMLarge\",\"offsetgroup\":\"LightGBMLarge\",\"orientation\":\"v\",\"showlegend\":true,\"textposition\":\"auto\",\"x\":[\"LightGBMLarge\"],\"xaxis\":\"x\",\"y\":[0.9534220292301098],\"yaxis\":\"y\",\"type\":\"bar\",\"opacity\":0.6},{\"alignmentgroup\":\"True\",\"customdata\":[[0.0754076309832354,0.5038295038295039,9009.0,0.0011163936635035,51953.0]],\"hovertemplate\":\"Model=%{x}<br>AUC=%{y}<br>throw_rate=%{customdata[0]}<br>train_frate=%{customdata[1]}<br>train_size=%{customdata[2]}<br>test_frate=%{customdata[3]}<br>test_size=%{customdata[4]}<extra></extra>\",\"legendgroup\":\"LightGBM\",\"marker\":{\"color\":\"#FFA15A\",\"pattern\":{\"shape\":\"\"},\"line\":{\"color\":\"rgb(8,48,107)\",\"width\":1.5}},\"name\":\"LightGBM\",\"offsetgroup\":\"LightGBM\",\"orientation\":\"v\",\"showlegend\":true,\"textposition\":\"auto\",\"x\":[\"LightGBM\"],\"xaxis\":\"x\",\"y\":[0.9530273330431808],\"yaxis\":\"y\",\"type\":\"bar\",\"opacity\":0.6},{\"alignmentgroup\":\"True\",\"customdata\":[[0.0754076309832354,0.5038295038295039,9009.0,0.0011163936635035,51953.0]],\"hovertemplate\":\"Model=%{x}<br>AUC=%{y}<br>throw_rate=%{customdata[0]}<br>train_frate=%{customdata[1]}<br>train_size=%{customdata[2]}<br>test_frate=%{customdata[3]}<br>test_size=%{customdata[4]}<extra></extra>\",\"legendgroup\":\"LightGBMXT\",\"marker\":{\"color\":\"#19d3f3\",\"pattern\":{\"shape\":\"\"},\"line\":{\"color\":\"rgb(8,48,107)\",\"width\":1.5}},\"name\":\"LightGBMXT\",\"offsetgroup\":\"LightGBMXT\",\"orientation\":\"v\",\"showlegend\":true,\"textposition\":\"auto\",\"x\":[\"LightGBMXT\"],\"xaxis\":\"x\",\"y\":[0.9527105461625096],\"yaxis\":\"y\",\"type\":\"bar\",\"opacity\":0.6},{\"alignmentgroup\":\"True\",\"customdata\":[[0.0754076309832354,0.5038295038295039,9009.0,0.0011163936635035,51953.0]],\"hovertemplate\":\"Model=%{x}<br>AUC=%{y}<br>throw_rate=%{customdata[0]}<br>train_frate=%{customdata[1]}<br>train_size=%{customdata[2]}<br>test_frate=%{customdata[3]}<br>test_size=%{customdata[4]}<extra></extra>\",\"legendgroup\":\"NeuralNetTorch\",\"marker\":{\"color\":\"#FF6692\",\"pattern\":{\"shape\":\"\"},\"line\":{\"color\":\"rgb(8,48,107)\",\"width\":1.5}},\"name\":\"NeuralNetTorch\",\"offsetgroup\":\"NeuralNetTorch\",\"orientation\":\"v\",\"showlegend\":true,\"textposition\":\"auto\",\"x\":[\"NeuralNetTorch\"],\"xaxis\":\"x\",\"y\":[0.9521871085846422],\"yaxis\":\"y\",\"type\":\"bar\",\"opacity\":0.6},{\"alignmentgroup\":\"True\",\"customdata\":[[0.0754076309832354,0.5038295038295039,9009.0,0.0011163936635035,51953.0]],\"hovertemplate\":\"Model=%{x}<br>AUC=%{y}<br>throw_rate=%{customdata[0]}<br>train_frate=%{customdata[1]}<br>train_size=%{customdata[2]}<br>test_frate=%{customdata[3]}<br>test_size=%{customdata[4]}<extra></extra>\",\"legendgroup\":\"KNeighborsUnif\",\"marker\":{\"color\":\"#B6E880\",\"pattern\":{\"shape\":\"\"},\"line\":{\"color\":\"rgb(8,48,107)\",\"width\":1.5}},\"name\":\"KNeighborsUnif\",\"offsetgroup\":\"KNeighborsUnif\",\"orientation\":\"v\",\"showlegend\":true,\"textposition\":\"auto\",\"x\":[\"KNeighborsUnif\"],\"xaxis\":\"x\",\"y\":[0.9293045307002537],\"yaxis\":\"y\",\"type\":\"bar\",\"opacity\":0.6},{\"alignmentgroup\":\"True\",\"customdata\":[[0.0754076309832354,0.5038295038295039,9009.0,0.0011163936635035,51953.0]],\"hovertemplate\":\"Model=%{x}<br>AUC=%{y}<br>throw_rate=%{customdata[0]}<br>train_frate=%{customdata[1]}<br>train_size=%{customdata[2]}<br>test_frate=%{customdata[3]}<br>test_size=%{customdata[4]}<extra></extra>\",\"legendgroup\":\"ExtraTreesGini\",\"marker\":{\"color\":\"#FF97FF\",\"pattern\":{\"shape\":\"\"},\"line\":{\"color\":\"rgb(8,48,107)\",\"width\":1.5}},\"name\":\"ExtraTreesGini\",\"offsetgroup\":\"ExtraTreesGini\",\"orientation\":\"v\",\"showlegend\":true,\"textposition\":\"auto\",\"x\":[\"ExtraTreesGini\"],\"xaxis\":\"x\",\"y\":[0.9239068610024884],\"yaxis\":\"y\",\"type\":\"bar\",\"opacity\":0.6},{\"alignmentgroup\":\"True\",\"customdata\":[[0.0754076309832354,0.5038295038295039,9009.0,0.0011163936635035,51953.0]],\"hovertemplate\":\"Model=%{x}<br>AUC=%{y}<br>throw_rate=%{customdata[0]}<br>train_frate=%{customdata[1]}<br>train_size=%{customdata[2]}<br>test_frate=%{customdata[3]}<br>test_size=%{customdata[4]}<extra></extra>\",\"legendgroup\":\"ExtraTreesEntr\",\"marker\":{\"color\":\"#FECB52\",\"pattern\":{\"shape\":\"\"},\"line\":{\"color\":\"rgb(8,48,107)\",\"width\":1.5}},\"name\":\"ExtraTreesEntr\",\"offsetgroup\":\"ExtraTreesEntr\",\"orientation\":\"v\",\"showlegend\":true,\"textposition\":\"auto\",\"x\":[\"ExtraTreesEntr\"],\"xaxis\":\"x\",\"y\":[0.9184407507201212],\"yaxis\":\"y\",\"type\":\"bar\",\"opacity\":0.6},{\"alignmentgroup\":\"True\",\"customdata\":[[0.0754076309832354,0.5038295038295039,9009.0,0.0011163936635035,51953.0]],\"hovertemplate\":\"Model=%{x}<br>AUC=%{y}<br>throw_rate=%{customdata[0]}<br>train_frate=%{customdata[1]}<br>train_size=%{customdata[2]}<br>test_frate=%{customdata[3]}<br>test_size=%{customdata[4]}<extra></extra>\",\"legendgroup\":\"RandomForestEntr\",\"marker\":{\"color\":\"#636efa\",\"pattern\":{\"shape\":\"\"},\"line\":{\"color\":\"rgb(8,48,107)\",\"width\":1.5}},\"name\":\"RandomForestEntr\",\"offsetgroup\":\"RandomForestEntr\",\"orientation\":\"v\",\"showlegend\":true,\"textposition\":\"auto\",\"x\":[\"RandomForestEntr\"],\"xaxis\":\"x\",\"y\":[0.9138962626789504],\"yaxis\":\"y\",\"type\":\"bar\",\"opacity\":0.6},{\"alignmentgroup\":\"True\",\"customdata\":[[0.0754076309832354,0.5038295038295039,9009.0,0.0011163936635035,51953.0]],\"hovertemplate\":\"Model=%{x}<br>AUC=%{y}<br>throw_rate=%{customdata[0]}<br>train_frate=%{customdata[1]}<br>train_size=%{customdata[2]}<br>test_frate=%{customdata[3]}<br>test_size=%{customdata[4]}<extra></extra>\",\"legendgroup\":\"RandomForestGini\",\"marker\":{\"color\":\"#EF553B\",\"pattern\":{\"shape\":\"\"},\"line\":{\"color\":\"rgb(8,48,107)\",\"width\":1.5}},\"name\":\"RandomForestGini\",\"offsetgroup\":\"RandomForestGini\",\"orientation\":\"v\",\"showlegend\":true,\"textposition\":\"auto\",\"x\":[\"RandomForestGini\"],\"xaxis\":\"x\",\"y\":[0.9138962626789504],\"yaxis\":\"y\",\"type\":\"bar\",\"opacity\":0.6},{\"alignmentgroup\":\"True\",\"customdata\":[[0.0754076309832354,0.5038295038295039,9009.0,0.0011163936635035,51953.0]],\"hovertemplate\":\"Model=%{x}<br>AUC=%{y}<br>throw_rate=%{customdata[0]}<br>train_frate=%{customdata[1]}<br>train_size=%{customdata[2]}<br>test_frate=%{customdata[3]}<br>test_size=%{customdata[4]}<extra></extra>\",\"legendgroup\":\"KNeighborsDist\",\"marker\":{\"color\":\"#00cc96\",\"pattern\":{\"shape\":\"\"},\"line\":{\"color\":\"rgb(8,48,107)\",\"width\":1.5}},\"name\":\"KNeighborsDist\",\"offsetgroup\":\"KNeighborsDist\",\"orientation\":\"v\",\"showlegend\":true,\"textposition\":\"auto\",\"x\":[\"KNeighborsDist\"],\"xaxis\":\"x\",\"y\":[0.8843440501543234],\"yaxis\":\"y\",\"type\":\"bar\",\"opacity\":0.6},{\"alignmentgroup\":\"True\",\"customdata\":[[0.0754076309832354,0.5038295038295039,9009.0,0.0011163936635035,51953.0]],\"hovertemplate\":\"Model=%{x}<br>AUC=%{y}<br>throw_rate=%{customdata[0]}<br>train_frate=%{customdata[1]}<br>train_size=%{customdata[2]}<br>test_frate=%{customdata[3]}<br>test_size=%{customdata[4]}<extra></extra>\",\"legendgroup\":\"NeuralNetFastAI\",\"marker\":{\"color\":\"#ab63fa\",\"pattern\":{\"shape\":\"\"},\"line\":{\"color\":\"rgb(8,48,107)\",\"width\":1.5}},\"name\":\"NeuralNetFastAI\",\"offsetgroup\":\"NeuralNetFastAI\",\"orientation\":\"v\",\"showlegend\":true,\"textposition\":\"auto\",\"x\":[\"NeuralNetFastAI\"],\"xaxis\":\"x\",\"y\":[0.8799626899143165],\"yaxis\":\"y\",\"type\":\"bar\",\"opacity\":0.6},{\"alignmentgroup\":\"True\",\"customdata\":[[0.0747133036930093,0.4970584970584971,9009.0,0.0014631141229015,51944.0]],\"hovertemplate\":\"Model=%{x}<br>AUC=%{y}<br>throw_rate=%{customdata[0]}<br>train_frate=%{customdata[1]}<br>train_size=%{customdata[2]}<br>test_frate=%{customdata[3]}<br>test_size=%{customdata[4]}<extra></extra>\",\"legendgroup\":\"MCD\",\"marker\":{\"color\":\"#FFA15A\",\"pattern\":{\"shape\":\"\"},\"line\":{\"color\":\"rgb(8,48,107)\",\"width\":1.5}},\"name\":\"MCD\",\"offsetgroup\":\"MCD\",\"orientation\":\"v\",\"showlegend\":true,\"textposition\":\"auto\",\"x\":[\"MCD\"],\"xaxis\":\"x\",\"y\":[0.8108594488844151],\"yaxis\":\"y\",\"type\":\"bar\",\"opacity\":0.6},{\"alignmentgroup\":\"True\",\"customdata\":[[0.0747133036930093,0.4970584970584971,9009.0,0.0014631141229015,51944.0]],\"hovertemplate\":\"Model=%{x}<br>AUC=%{y}<br>throw_rate=%{customdata[0]}<br>train_frate=%{customdata[1]}<br>train_size=%{customdata[2]}<br>test_frate=%{customdata[3]}<br>test_size=%{customdata[4]}<extra></extra>\",\"legendgroup\":\"KDE\",\"marker\":{\"color\":\"#19d3f3\",\"pattern\":{\"shape\":\"\"},\"line\":{\"color\":\"rgb(8,48,107)\",\"width\":1.5}},\"name\":\"KDE\",\"offsetgroup\":\"KDE\",\"orientation\":\"v\",\"showlegend\":true,\"textposition\":\"auto\",\"x\":[\"KDE\"],\"xaxis\":\"x\",\"y\":[0.8011089892155391],\"yaxis\":\"y\",\"type\":\"bar\",\"opacity\":0.6},{\"alignmentgroup\":\"True\",\"customdata\":[[0.0747133036930093,0.4970584970584971,9009.0,0.0014631141229015,51944.0]],\"hovertemplate\":\"Model=%{x}<br>AUC=%{y}<br>throw_rate=%{customdata[0]}<br>train_frate=%{customdata[1]}<br>train_size=%{customdata[2]}<br>test_frate=%{customdata[3]}<br>test_size=%{customdata[4]}<extra></extra>\",\"legendgroup\":\"KNN\",\"marker\":{\"color\":\"#FF6692\",\"pattern\":{\"shape\":\"\"},\"line\":{\"color\":\"rgb(8,48,107)\",\"width\":1.5}},\"name\":\"KNN\",\"offsetgroup\":\"KNN\",\"orientation\":\"v\",\"showlegend\":true,\"textposition\":\"auto\",\"x\":[\"KNN\"],\"xaxis\":\"x\",\"y\":[0.7548199275082904],\"yaxis\":\"y\",\"type\":\"bar\",\"opacity\":0.6},{\"alignmentgroup\":\"True\",\"customdata\":[[0.0741366581904683,0.4942834942834943,9009.0,0.0012705501867323,51946.0]],\"hovertemplate\":\"Model=%{x}<br>AUC=%{y}<br>throw_rate=%{customdata[0]}<br>train_frate=%{customdata[1]}<br>train_size=%{customdata[2]}<br>test_frate=%{customdata[3]}<br>test_size=%{customdata[4]}<extra></extra>\",\"legendgroup\":\"HBOS\",\"marker\":{\"color\":\"#B6E880\",\"pattern\":{\"shape\":\"\"},\"line\":{\"color\":\"rgb(8,48,107)\",\"width\":1.5}},\"name\":\"HBOS\",\"offsetgroup\":\"HBOS\",\"orientation\":\"v\",\"showlegend\":true,\"textposition\":\"auto\",\"x\":[\"HBOS\"],\"xaxis\":\"x\",\"y\":[0.7265504894745449],\"yaxis\":\"y\",\"type\":\"bar\",\"opacity\":0.6},{\"alignmentgroup\":\"True\",\"customdata\":[[0.0741366581904683,0.4942834942834943,9009.0,0.0012705501867323,51946.0]],\"hovertemplate\":\"Model=%{x}<br>AUC=%{y}<br>throw_rate=%{customdata[0]}<br>train_frate=%{customdata[1]}<br>train_size=%{customdata[2]}<br>test_frate=%{customdata[3]}<br>test_size=%{customdata[4]}<extra></extra>\",\"legendgroup\":\"IForest\",\"marker\":{\"color\":\"#FF97FF\",\"pattern\":{\"shape\":\"\"},\"line\":{\"color\":\"rgb(8,48,107)\",\"width\":1.5}},\"name\":\"IForest\",\"offsetgroup\":\"IForest\",\"orientation\":\"v\",\"showlegend\":true,\"textposition\":\"auto\",\"x\":[\"IForest\"],\"xaxis\":\"x\",\"y\":[0.724949767528796],\"yaxis\":\"y\",\"type\":\"bar\",\"opacity\":0.6},{\"alignmentgroup\":\"True\",\"customdata\":[[0.0747133036930093,0.4970584970584971,9009.0,0.0014631141229015,51944.0]],\"hovertemplate\":\"Model=%{x}<br>AUC=%{y}<br>throw_rate=%{customdata[0]}<br>train_frate=%{customdata[1]}<br>train_size=%{customdata[2]}<br>test_frate=%{customdata[3]}<br>test_size=%{customdata[4]}<extra></extra>\",\"legendgroup\":\"OCSVM\",\"marker\":{\"color\":\"#FECB52\",\"pattern\":{\"shape\":\"\"},\"line\":{\"color\":\"rgb(8,48,107)\",\"width\":1.5}},\"name\":\"OCSVM\",\"offsetgroup\":\"OCSVM\",\"orientation\":\"v\",\"showlegend\":true,\"textposition\":\"auto\",\"x\":[\"OCSVM\"],\"xaxis\":\"x\",\"y\":[0.7153350813603765],\"yaxis\":\"y\",\"type\":\"bar\",\"opacity\":0.6},{\"alignmentgroup\":\"True\",\"customdata\":[[0.0741366581904683,0.4942834942834943,9009.0,0.0012705501867323,51946.0]],\"hovertemplate\":\"Model=%{x}<br>AUC=%{y}<br>throw_rate=%{customdata[0]}<br>train_frate=%{customdata[1]}<br>train_size=%{customdata[2]}<br>test_frate=%{customdata[3]}<br>test_size=%{customdata[4]}<extra></extra>\",\"legendgroup\":\"LODA\",\"marker\":{\"color\":\"#636efa\",\"pattern\":{\"shape\":\"\"},\"line\":{\"color\":\"rgb(8,48,107)\",\"width\":1.5}},\"name\":\"LODA\",\"offsetgroup\":\"LODA\",\"orientation\":\"v\",\"showlegend\":true,\"textposition\":\"auto\",\"x\":[\"LODA\"],\"xaxis\":\"x\",\"y\":[0.6871580103268615],\"yaxis\":\"y\",\"type\":\"bar\",\"opacity\":0.6},{\"alignmentgroup\":\"True\",\"customdata\":[[0.0747133036930093,0.4970584970584971,9009.0,0.0014631141229015,51944.0]],\"hovertemplate\":\"Model=%{x}<br>AUC=%{y}<br>throw_rate=%{customdata[0]}<br>train_frate=%{customdata[1]}<br>train_size=%{customdata[2]}<br>test_frate=%{customdata[3]}<br>test_size=%{customdata[4]}<extra></extra>\",\"legendgroup\":\"INNE\",\"marker\":{\"color\":\"#EF553B\",\"pattern\":{\"shape\":\"\"},\"line\":{\"color\":\"rgb(8,48,107)\",\"width\":1.5}},\"name\":\"INNE\",\"offsetgroup\":\"INNE\",\"orientation\":\"v\",\"showlegend\":true,\"textposition\":\"auto\",\"x\":[\"INNE\"],\"xaxis\":\"x\",\"y\":[0.5980002881809289],\"yaxis\":\"y\",\"type\":\"bar\",\"opacity\":0.6},{\"alignmentgroup\":\"True\",\"customdata\":[[0.0741366581904683,0.4942834942834943,9009.0,0.0012705501867323,51946.0]],\"hovertemplate\":\"Model=%{x}<br>AUC=%{y}<br>throw_rate=%{customdata[0]}<br>train_frate=%{customdata[1]}<br>train_size=%{customdata[2]}<br>test_frate=%{customdata[3]}<br>test_size=%{customdata[4]}<extra></extra>\",\"legendgroup\":\"LOF\",\"marker\":{\"color\":\"#00cc96\",\"pattern\":{\"shape\":\"\"},\"line\":{\"color\":\"rgb(8,48,107)\",\"width\":1.5}},\"name\":\"LOF\",\"offsetgroup\":\"LOF\",\"orientation\":\"v\",\"showlegend\":true,\"textposition\":\"auto\",\"x\":[\"LOF\"],\"xaxis\":\"x\",\"y\":[0.4829040209340903],\"yaxis\":\"y\",\"type\":\"bar\",\"opacity\":0.6},{\"alignmentgroup\":\"True\",\"customdata\":[[0.0741366581904683,0.4942834942834943,9009.0,0.0012705501867323,51946.0]],\"hovertemplate\":\"Model=%{x}<br>AUC=%{y}<br>throw_rate=%{customdata[0]}<br>train_frate=%{customdata[1]}<br>train_size=%{customdata[2]}<br>test_frate=%{customdata[3]}<br>test_size=%{customdata[4]}<extra></extra>\",\"legendgroup\":\"ROD\",\"marker\":{\"color\":\"#ab63fa\",\"pattern\":{\"shape\":\"\"},\"line\":{\"color\":\"rgb(8,48,107)\",\"width\":1.5}},\"name\":\"ROD\",\"offsetgroup\":\"ROD\",\"orientation\":\"v\",\"showlegend\":true,\"textposition\":\"auto\",\"x\":[\"ROD\"],\"xaxis\":\"x\",\"y\":[0.3939104810635265],\"yaxis\":\"y\",\"type\":\"bar\",\"opacity\":0.6},{\"alignmentgroup\":\"True\",\"customdata\":[[0.0741366581904683,0.4942834942834943,9009.0,0.0012705501867323,51946.0]],\"hovertemplate\":\"Model=%{x}<br>AUC=%{y}<br>throw_rate=%{customdata[0]}<br>train_frate=%{customdata[1]}<br>train_size=%{customdata[2]}<br>test_frate=%{customdata[3]}<br>test_size=%{customdata[4]}<extra></extra>\",\"legendgroup\":\"PCA\",\"marker\":{\"color\":\"#FFA15A\",\"pattern\":{\"shape\":\"\"},\"line\":{\"color\":\"rgb(8,48,107)\",\"width\":1.5}},\"name\":\"PCA\",\"offsetgroup\":\"PCA\",\"orientation\":\"v\",\"showlegend\":true,\"textposition\":\"auto\",\"x\":[\"PCA\"],\"xaxis\":\"x\",\"y\":[0.2616726244713908],\"yaxis\":\"y\",\"type\":\"bar\",\"opacity\":0.6}],                        {\"template\":{\"data\":{\"histogram2dcontour\":[{\"type\":\"histogram2dcontour\",\"colorbar\":{\"outlinewidth\":0,\"ticks\":\"\"},\"colorscale\":[[0.0,\"#0d0887\"],[0.1111111111111111,\"#46039f\"],[0.2222222222222222,\"#7201a8\"],[0.3333333333333333,\"#9c179e\"],[0.4444444444444444,\"#bd3786\"],[0.5555555555555556,\"#d8576b\"],[0.6666666666666666,\"#ed7953\"],[0.7777777777777778,\"#fb9f3a\"],[0.8888888888888888,\"#fdca26\"],[1.0,\"#f0f921\"]]}],\"choropleth\":[{\"type\":\"choropleth\",\"colorbar\":{\"outlinewidth\":0,\"ticks\":\"\"}}],\"histogram2d\":[{\"type\":\"histogram2d\",\"colorbar\":{\"outlinewidth\":0,\"ticks\":\"\"},\"colorscale\":[[0.0,\"#0d0887\"],[0.1111111111111111,\"#46039f\"],[0.2222222222222222,\"#7201a8\"],[0.3333333333333333,\"#9c179e\"],[0.4444444444444444,\"#bd3786\"],[0.5555555555555556,\"#d8576b\"],[0.6666666666666666,\"#ed7953\"],[0.7777777777777778,\"#fb9f3a\"],[0.8888888888888888,\"#fdca26\"],[1.0,\"#f0f921\"]]}],\"heatmap\":[{\"type\":\"heatmap\",\"colorbar\":{\"outlinewidth\":0,\"ticks\":\"\"},\"colorscale\":[[0.0,\"#0d0887\"],[0.1111111111111111,\"#46039f\"],[0.2222222222222222,\"#7201a8\"],[0.3333333333333333,\"#9c179e\"],[0.4444444444444444,\"#bd3786\"],[0.5555555555555556,\"#d8576b\"],[0.6666666666666666,\"#ed7953\"],[0.7777777777777778,\"#fb9f3a\"],[0.8888888888888888,\"#fdca26\"],[1.0,\"#f0f921\"]]}],\"heatmapgl\":[{\"type\":\"heatmapgl\",\"colorbar\":{\"outlinewidth\":0,\"ticks\":\"\"},\"colorscale\":[[0.0,\"#0d0887\"],[0.1111111111111111,\"#46039f\"],[0.2222222222222222,\"#7201a8\"],[0.3333333333333333,\"#9c179e\"],[0.4444444444444444,\"#bd3786\"],[0.5555555555555556,\"#d8576b\"],[0.6666666666666666,\"#ed7953\"],[0.7777777777777778,\"#fb9f3a\"],[0.8888888888888888,\"#fdca26\"],[1.0,\"#f0f921\"]]}],\"contourcarpet\":[{\"type\":\"contourcarpet\",\"colorbar\":{\"outlinewidth\":0,\"ticks\":\"\"}}],\"contour\":[{\"type\":\"contour\",\"colorbar\":{\"outlinewidth\":0,\"ticks\":\"\"},\"colorscale\":[[0.0,\"#0d0887\"],[0.1111111111111111,\"#46039f\"],[0.2222222222222222,\"#7201a8\"],[0.3333333333333333,\"#9c179e\"],[0.4444444444444444,\"#bd3786\"],[0.5555555555555556,\"#d8576b\"],[0.6666666666666666,\"#ed7953\"],[0.7777777777777778,\"#fb9f3a\"],[0.8888888888888888,\"#fdca26\"],[1.0,\"#f0f921\"]]}],\"surface\":[{\"type\":\"surface\",\"colorbar\":{\"outlinewidth\":0,\"ticks\":\"\"},\"colorscale\":[[0.0,\"#0d0887\"],[0.1111111111111111,\"#46039f\"],[0.2222222222222222,\"#7201a8\"],[0.3333333333333333,\"#9c179e\"],[0.4444444444444444,\"#bd3786\"],[0.5555555555555556,\"#d8576b\"],[0.6666666666666666,\"#ed7953\"],[0.7777777777777778,\"#fb9f3a\"],[0.8888888888888888,\"#fdca26\"],[1.0,\"#f0f921\"]]}],\"mesh3d\":[{\"type\":\"mesh3d\",\"colorbar\":{\"outlinewidth\":0,\"ticks\":\"\"}}],\"scatter\":[{\"fillpattern\":{\"fillmode\":\"overlay\",\"size\":10,\"solidity\":0.2},\"type\":\"scatter\"}],\"parcoords\":[{\"type\":\"parcoords\",\"line\":{\"colorbar\":{\"outlinewidth\":0,\"ticks\":\"\"}}}],\"scatterpolargl\":[{\"type\":\"scatterpolargl\",\"marker\":{\"colorbar\":{\"outlinewidth\":0,\"ticks\":\"\"}}}],\"bar\":[{\"error_x\":{\"color\":\"#2a3f5f\"},\"error_y\":{\"color\":\"#2a3f5f\"},\"marker\":{\"line\":{\"color\":\"#E5ECF6\",\"width\":0.5},\"pattern\":{\"fillmode\":\"overlay\",\"size\":10,\"solidity\":0.2}},\"type\":\"bar\"}],\"scattergeo\":[{\"type\":\"scattergeo\",\"marker\":{\"colorbar\":{\"outlinewidth\":0,\"ticks\":\"\"}}}],\"scatterpolar\":[{\"type\":\"scatterpolar\",\"marker\":{\"colorbar\":{\"outlinewidth\":0,\"ticks\":\"\"}}}],\"histogram\":[{\"marker\":{\"pattern\":{\"fillmode\":\"overlay\",\"size\":10,\"solidity\":0.2}},\"type\":\"histogram\"}],\"scattergl\":[{\"type\":\"scattergl\",\"marker\":{\"colorbar\":{\"outlinewidth\":0,\"ticks\":\"\"}}}],\"scatter3d\":[{\"type\":\"scatter3d\",\"line\":{\"colorbar\":{\"outlinewidth\":0,\"ticks\":\"\"}},\"marker\":{\"colorbar\":{\"outlinewidth\":0,\"ticks\":\"\"}}}],\"scattermapbox\":[{\"type\":\"scattermapbox\",\"marker\":{\"colorbar\":{\"outlinewidth\":0,\"ticks\":\"\"}}}],\"scatterternary\":[{\"type\":\"scatterternary\",\"marker\":{\"colorbar\":{\"outlinewidth\":0,\"ticks\":\"\"}}}],\"scattercarpet\":[{\"type\":\"scattercarpet\",\"marker\":{\"colorbar\":{\"outlinewidth\":0,\"ticks\":\"\"}}}],\"carpet\":[{\"aaxis\":{\"endlinecolor\":\"#2a3f5f\",\"gridcolor\":\"white\",\"linecolor\":\"white\",\"minorgridcolor\":\"white\",\"startlinecolor\":\"#2a3f5f\"},\"baxis\":{\"endlinecolor\":\"#2a3f5f\",\"gridcolor\":\"white\",\"linecolor\":\"white\",\"minorgridcolor\":\"white\",\"startlinecolor\":\"#2a3f5f\"},\"type\":\"carpet\"}],\"table\":[{\"cells\":{\"fill\":{\"color\":\"#EBF0F8\"},\"line\":{\"color\":\"white\"}},\"header\":{\"fill\":{\"color\":\"#C8D4E3\"},\"line\":{\"color\":\"white\"}},\"type\":\"table\"}],\"barpolar\":[{\"marker\":{\"line\":{\"color\":\"#E5ECF6\",\"width\":0.5},\"pattern\":{\"fillmode\":\"overlay\",\"size\":10,\"solidity\":0.2}},\"type\":\"barpolar\"}],\"pie\":[{\"automargin\":true,\"type\":\"pie\"}]},\"layout\":{\"autotypenumbers\":\"strict\",\"colorway\":[\"#636efa\",\"#EF553B\",\"#00cc96\",\"#ab63fa\",\"#FFA15A\",\"#19d3f3\",\"#FF6692\",\"#B6E880\",\"#FF97FF\",\"#FECB52\"],\"font\":{\"color\":\"#2a3f5f\"},\"hovermode\":\"closest\",\"hoverlabel\":{\"align\":\"left\"},\"paper_bgcolor\":\"white\",\"plot_bgcolor\":\"#E5ECF6\",\"polar\":{\"bgcolor\":\"#E5ECF6\",\"angularaxis\":{\"gridcolor\":\"white\",\"linecolor\":\"white\",\"ticks\":\"\"},\"radialaxis\":{\"gridcolor\":\"white\",\"linecolor\":\"white\",\"ticks\":\"\"}},\"ternary\":{\"bgcolor\":\"#E5ECF6\",\"aaxis\":{\"gridcolor\":\"white\",\"linecolor\":\"white\",\"ticks\":\"\"},\"baxis\":{\"gridcolor\":\"white\",\"linecolor\":\"white\",\"ticks\":\"\"},\"caxis\":{\"gridcolor\":\"white\",\"linecolor\":\"white\",\"ticks\":\"\"}},\"coloraxis\":{\"colorbar\":{\"outlinewidth\":0,\"ticks\":\"\"}},\"colorscale\":{\"sequential\":[[0.0,\"#0d0887\"],[0.1111111111111111,\"#46039f\"],[0.2222222222222222,\"#7201a8\"],[0.3333333333333333,\"#9c179e\"],[0.4444444444444444,\"#bd3786\"],[0.5555555555555556,\"#d8576b\"],[0.6666666666666666,\"#ed7953\"],[0.7777777777777778,\"#fb9f3a\"],[0.8888888888888888,\"#fdca26\"],[1.0,\"#f0f921\"]],\"sequentialminus\":[[0.0,\"#0d0887\"],[0.1111111111111111,\"#46039f\"],[0.2222222222222222,\"#7201a8\"],[0.3333333333333333,\"#9c179e\"],[0.4444444444444444,\"#bd3786\"],[0.5555555555555556,\"#d8576b\"],[0.6666666666666666,\"#ed7953\"],[0.7777777777777778,\"#fb9f3a\"],[0.8888888888888888,\"#fdca26\"],[1.0,\"#f0f921\"]],\"diverging\":[[0,\"#8e0152\"],[0.1,\"#c51b7d\"],[0.2,\"#de77ae\"],[0.3,\"#f1b6da\"],[0.4,\"#fde0ef\"],[0.5,\"#f7f7f7\"],[0.6,\"#e6f5d0\"],[0.7,\"#b8e186\"],[0.8,\"#7fbc41\"],[0.9,\"#4d9221\"],[1,\"#276419\"]]},\"xaxis\":{\"gridcolor\":\"white\",\"linecolor\":\"white\",\"ticks\":\"\",\"title\":{\"standoff\":15},\"zerolinecolor\":\"white\",\"automargin\":true,\"zerolinewidth\":2},\"yaxis\":{\"gridcolor\":\"white\",\"linecolor\":\"white\",\"ticks\":\"\",\"title\":{\"standoff\":15},\"zerolinecolor\":\"white\",\"automargin\":true,\"zerolinewidth\":2},\"scene\":{\"xaxis\":{\"backgroundcolor\":\"#E5ECF6\",\"gridcolor\":\"white\",\"linecolor\":\"white\",\"showbackground\":true,\"ticks\":\"\",\"zerolinecolor\":\"white\",\"gridwidth\":2},\"yaxis\":{\"backgroundcolor\":\"#E5ECF6\",\"gridcolor\":\"white\",\"linecolor\":\"white\",\"showbackground\":true,\"ticks\":\"\",\"zerolinecolor\":\"white\",\"gridwidth\":2},\"zaxis\":{\"backgroundcolor\":\"#E5ECF6\",\"gridcolor\":\"white\",\"linecolor\":\"white\",\"showbackground\":true,\"ticks\":\"\",\"zerolinecolor\":\"white\",\"gridwidth\":2}},\"shapedefaults\":{\"line\":{\"color\":\"#2a3f5f\"}},\"annotationdefaults\":{\"arrowcolor\":\"#2a3f5f\",\"arrowhead\":0,\"arrowwidth\":1},\"geo\":{\"bgcolor\":\"white\",\"landcolor\":\"#E5ECF6\",\"subunitcolor\":\"white\",\"showland\":true,\"showlakes\":true,\"lakecolor\":\"white\"},\"title\":{\"x\":0.05},\"mapbox\":{\"style\":\"light\"}}},\"xaxis\":{\"anchor\":\"y\",\"domain\":[0.0,1.0],\"title\":{\"text\":\"Model\"},\"categoryorder\":\"array\",\"categoryarray\":[\"GCN\",\"XGBoost\",\"CatBoost\",\"LightGBMLarge\",\"LightGBM\",\"LightGBMXT\",\"NeuralNetTorch\",\"KNeighborsUnif\",\"ExtraTreesGini\",\"ExtraTreesEntr\",\"RandomForestEntr\",\"RandomForestGini\",\"KNeighborsDist\",\"NeuralNetFastAI\",\"MCD\",\"KDE\",\"KNN\",\"HBOS\",\"IForest\",\"OCSVM\",\"LODA\",\"INNE\",\"LOF\",\"ROD\",\"PCA\"],\"tickangle\":45},\"yaxis\":{\"anchor\":\"x\",\"domain\":[0.0,1.0],\"title\":{\"text\":\"AUC\"}},\"legend\":{\"title\":{\"text\":\"Model\"},\"tracegroupgap\":0},\"title\":{\"text\":\"AUC Value for Models\"},\"barmode\":\"relative\",\"hovermode\":\"closest\"},                        {\"responsive\": true}                    ).then(function(){\n",
       "                            \n",
       "var gd = document.getElementById('cb5bdfe5-02a2-418b-9c74-a15c078cc97d');\n",
       "var x = new MutationObserver(function (mutations, observer) {{\n",
       "        var display = window.getComputedStyle(gd).display;\n",
       "        if (!display || display === 'none') {{\n",
       "            console.log([gd, 'removed!']);\n",
       "            Plotly.purge(gd);\n",
       "            observer.disconnect();\n",
       "        }}\n",
       "}});\n",
       "\n",
       "// Listen for the removal of the full notebook cells\n",
       "var notebookContainer = gd.closest('#notebook-container');\n",
       "if (notebookContainer) {{\n",
       "    x.observe(notebookContainer, {childList: true});\n",
       "}}\n",
       "\n",
       "// Listen for the clearing of the current output cell\n",
       "var outputEl = gd.closest('.output');\n",
       "if (outputEl) {{\n",
       "    x.observe(outputEl, {childList: true});\n",
       "}}\n",
       "\n",
       "                        })                };                });            </script>        </div>"
      ]
     },
     "metadata": {},
     "output_type": "display_data"
    }
   ],
   "source": [
    "plot_auc_curve(ex1)"
   ]
  },
  {
   "cell_type": "markdown",
   "id": "1e4cc356-e889-47e7-92bd-76903c60ee60",
   "metadata": {},
   "source": [
    "# ex2. tr:0.4, tst:0.005"
   ]
  },
  {
   "cell_type": "code",
   "execution_count": 118,
   "id": "640c6f9b-bae0-491c-8732-a6f6ffc92f6b",
   "metadata": {},
   "outputs": [
    {
     "data": {
      "text/html": [
       "<div>\n",
       "<style scoped>\n",
       "    .dataframe tbody tr th:only-of-type {\n",
       "        vertical-align: middle;\n",
       "    }\n",
       "\n",
       "    .dataframe tbody tr th {\n",
       "        vertical-align: top;\n",
       "    }\n",
       "\n",
       "    .dataframe thead th {\n",
       "        text-align: right;\n",
       "    }\n",
       "</style>\n",
       "<table border=\"1\" class=\"dataframe\">\n",
       "  <thead>\n",
       "    <tr style=\"text-align: right;\">\n",
       "      <th></th>\n",
       "      <th>model</th>\n",
       "      <th>time</th>\n",
       "      <th>acc</th>\n",
       "      <th>pre</th>\n",
       "      <th>rec</th>\n",
       "      <th>f1</th>\n",
       "      <th>auc</th>\n",
       "      <th>graph_based</th>\n",
       "      <th>method</th>\n",
       "      <th>throw_rate</th>\n",
       "      <th>train_size</th>\n",
       "      <th>train_cols</th>\n",
       "      <th>train_frate</th>\n",
       "      <th>test_size</th>\n",
       "      <th>test_frate</th>\n",
       "      <th>hyper_params</th>\n",
       "      <th>theta</th>\n",
       "      <th>gamma</th>\n",
       "      <th>diff</th>\n",
       "    </tr>\n",
       "  </thead>\n",
       "  <tbody>\n",
       "    <tr>\n",
       "      <th>5899</th>\n",
       "      <td>GCN</td>\n",
       "      <td>NaN</td>\n",
       "      <td>0.972694</td>\n",
       "      <td>0.143617</td>\n",
       "      <td>0.9</td>\n",
       "      <td>0.247706</td>\n",
       "      <td>0.987316</td>\n",
       "      <td>True</td>\n",
       "      <td>Proposed</td>\n",
       "      <td>0.3</td>\n",
       "      <td>14014</td>\n",
       "      <td>amt</td>\n",
       "      <td>0.426431</td>\n",
       "      <td>6006</td>\n",
       "      <td>0.005000</td>\n",
       "      <td>NaN</td>\n",
       "      <td>135280.0</td>\n",
       "      <td>0.3</td>\n",
       "      <td>0.421431</td>\n",
       "    </tr>\n",
       "    <tr>\n",
       "      <th>5901</th>\n",
       "      <td>GCN</td>\n",
       "      <td>NaN</td>\n",
       "      <td>0.973193</td>\n",
       "      <td>0.145946</td>\n",
       "      <td>0.9</td>\n",
       "      <td>0.251163</td>\n",
       "      <td>0.987221</td>\n",
       "      <td>True</td>\n",
       "      <td>Proposed</td>\n",
       "      <td>0.3</td>\n",
       "      <td>14014</td>\n",
       "      <td>amt</td>\n",
       "      <td>0.426431</td>\n",
       "      <td>6006</td>\n",
       "      <td>0.005000</td>\n",
       "      <td>NaN</td>\n",
       "      <td>155280.0</td>\n",
       "      <td>0.3</td>\n",
       "      <td>0.421431</td>\n",
       "    </tr>\n",
       "    <tr>\n",
       "      <th>5900</th>\n",
       "      <td>GCN</td>\n",
       "      <td>NaN</td>\n",
       "      <td>0.973693</td>\n",
       "      <td>0.148352</td>\n",
       "      <td>0.9</td>\n",
       "      <td>0.254717</td>\n",
       "      <td>0.987143</td>\n",
       "      <td>True</td>\n",
       "      <td>Proposed</td>\n",
       "      <td>0.3</td>\n",
       "      <td>14014</td>\n",
       "      <td>amt</td>\n",
       "      <td>0.426431</td>\n",
       "      <td>6006</td>\n",
       "      <td>0.005000</td>\n",
       "      <td>NaN</td>\n",
       "      <td>145280.0</td>\n",
       "      <td>0.3</td>\n",
       "      <td>0.421431</td>\n",
       "    </tr>\n",
       "    <tr>\n",
       "      <th>5902</th>\n",
       "      <td>GCN</td>\n",
       "      <td>NaN</td>\n",
       "      <td>0.969697</td>\n",
       "      <td>0.131068</td>\n",
       "      <td>0.9</td>\n",
       "      <td>0.228814</td>\n",
       "      <td>0.986998</td>\n",
       "      <td>True</td>\n",
       "      <td>Proposed</td>\n",
       "      <td>0.3</td>\n",
       "      <td>14014</td>\n",
       "      <td>amt</td>\n",
       "      <td>0.426431</td>\n",
       "      <td>6006</td>\n",
       "      <td>0.005000</td>\n",
       "      <td>NaN</td>\n",
       "      <td>165280.0</td>\n",
       "      <td>0.3</td>\n",
       "      <td>0.421431</td>\n",
       "    </tr>\n",
       "    <tr>\n",
       "      <th>5903</th>\n",
       "      <td>GCN</td>\n",
       "      <td>NaN</td>\n",
       "      <td>0.972194</td>\n",
       "      <td>0.141361</td>\n",
       "      <td>0.9</td>\n",
       "      <td>0.244344</td>\n",
       "      <td>0.986825</td>\n",
       "      <td>True</td>\n",
       "      <td>Proposed</td>\n",
       "      <td>0.3</td>\n",
       "      <td>14014</td>\n",
       "      <td>amt</td>\n",
       "      <td>0.426431</td>\n",
       "      <td>6006</td>\n",
       "      <td>0.005000</td>\n",
       "      <td>NaN</td>\n",
       "      <td>175280.0</td>\n",
       "      <td>0.3</td>\n",
       "      <td>0.421431</td>\n",
       "    </tr>\n",
       "    <tr>\n",
       "      <th>...</th>\n",
       "      <td>...</td>\n",
       "      <td>...</td>\n",
       "      <td>...</td>\n",
       "      <td>...</td>\n",
       "      <td>...</td>\n",
       "      <td>...</td>\n",
       "      <td>...</td>\n",
       "      <td>...</td>\n",
       "      <td>...</td>\n",
       "      <td>...</td>\n",
       "      <td>...</td>\n",
       "      <td>...</td>\n",
       "      <td>...</td>\n",
       "      <td>...</td>\n",
       "      <td>...</td>\n",
       "      <td>...</td>\n",
       "      <td>...</td>\n",
       "      <td>...</td>\n",
       "      <td>...</td>\n",
       "    </tr>\n",
       "    <tr>\n",
       "      <th>1700</th>\n",
       "      <td>PCA</td>\n",
       "      <td>0.002804</td>\n",
       "      <td>0.419414</td>\n",
       "      <td>0.000866</td>\n",
       "      <td>0.1</td>\n",
       "      <td>0.001718</td>\n",
       "      <td>0.260509</td>\n",
       "      <td>False</td>\n",
       "      <td>pyod</td>\n",
       "      <td>0.3</td>\n",
       "      <td>14014</td>\n",
       "      <td>['amt']</td>\n",
       "      <td>0.426431</td>\n",
       "      <td>6006</td>\n",
       "      <td>0.004995</td>\n",
       "      <td>NaN</td>\n",
       "      <td>NaN</td>\n",
       "      <td>NaN</td>\n",
       "      <td>0.421436</td>\n",
       "    </tr>\n",
       "    <tr>\n",
       "      <th>8078</th>\n",
       "      <td>PCA</td>\n",
       "      <td>0.003726</td>\n",
       "      <td>0.419414</td>\n",
       "      <td>0.000866</td>\n",
       "      <td>0.1</td>\n",
       "      <td>0.001718</td>\n",
       "      <td>0.260509</td>\n",
       "      <td>False</td>\n",
       "      <td>pyod</td>\n",
       "      <td>0.3</td>\n",
       "      <td>14014</td>\n",
       "      <td>['amt']</td>\n",
       "      <td>0.426431</td>\n",
       "      <td>6006</td>\n",
       "      <td>0.004995</td>\n",
       "      <td>NaN</td>\n",
       "      <td>NaN</td>\n",
       "      <td>NaN</td>\n",
       "      <td>0.421436</td>\n",
       "    </tr>\n",
       "    <tr>\n",
       "      <th>1524</th>\n",
       "      <td>PCA</td>\n",
       "      <td>0.002498</td>\n",
       "      <td>0.419414</td>\n",
       "      <td>0.000866</td>\n",
       "      <td>0.1</td>\n",
       "      <td>0.001718</td>\n",
       "      <td>0.260509</td>\n",
       "      <td>False</td>\n",
       "      <td>pyod</td>\n",
       "      <td>0.3</td>\n",
       "      <td>14014</td>\n",
       "      <td>['amt']</td>\n",
       "      <td>0.426431</td>\n",
       "      <td>6006</td>\n",
       "      <td>0.004995</td>\n",
       "      <td>NaN</td>\n",
       "      <td>NaN</td>\n",
       "      <td>NaN</td>\n",
       "      <td>0.421436</td>\n",
       "    </tr>\n",
       "    <tr>\n",
       "      <th>7812</th>\n",
       "      <td>PCA</td>\n",
       "      <td>0.003347</td>\n",
       "      <td>0.419414</td>\n",
       "      <td>0.000866</td>\n",
       "      <td>0.1</td>\n",
       "      <td>0.001718</td>\n",
       "      <td>0.260509</td>\n",
       "      <td>False</td>\n",
       "      <td>pyod</td>\n",
       "      <td>0.3</td>\n",
       "      <td>14014</td>\n",
       "      <td>['amt']</td>\n",
       "      <td>0.426431</td>\n",
       "      <td>6006</td>\n",
       "      <td>0.004995</td>\n",
       "      <td>NaN</td>\n",
       "      <td>NaN</td>\n",
       "      <td>NaN</td>\n",
       "      <td>0.421436</td>\n",
       "    </tr>\n",
       "    <tr>\n",
       "      <th>10394</th>\n",
       "      <td>PCA</td>\n",
       "      <td>0.002956</td>\n",
       "      <td>0.419414</td>\n",
       "      <td>0.000866</td>\n",
       "      <td>0.1</td>\n",
       "      <td>0.001718</td>\n",
       "      <td>0.260509</td>\n",
       "      <td>False</td>\n",
       "      <td>pyod</td>\n",
       "      <td>0.3</td>\n",
       "      <td>14014</td>\n",
       "      <td>['amt']</td>\n",
       "      <td>0.426431</td>\n",
       "      <td>6006</td>\n",
       "      <td>0.004995</td>\n",
       "      <td>NaN</td>\n",
       "      <td>NaN</td>\n",
       "      <td>NaN</td>\n",
       "      <td>0.421436</td>\n",
       "    </tr>\n",
       "  </tbody>\n",
       "</table>\n",
       "<p>629 rows × 19 columns</p>\n",
       "</div>"
      ],
      "text/plain": [
       "      model      time       acc       pre  rec        f1       auc  \\\n",
       "5899    GCN       NaN  0.972694  0.143617  0.9  0.247706  0.987316   \n",
       "5901    GCN       NaN  0.973193  0.145946  0.9  0.251163  0.987221   \n",
       "5900    GCN       NaN  0.973693  0.148352  0.9  0.254717  0.987143   \n",
       "5902    GCN       NaN  0.969697  0.131068  0.9  0.228814  0.986998   \n",
       "5903    GCN       NaN  0.972194  0.141361  0.9  0.244344  0.986825   \n",
       "...     ...       ...       ...       ...  ...       ...       ...   \n",
       "1700    PCA  0.002804  0.419414  0.000866  0.1  0.001718  0.260509   \n",
       "8078    PCA  0.003726  0.419414  0.000866  0.1  0.001718  0.260509   \n",
       "1524    PCA  0.002498  0.419414  0.000866  0.1  0.001718  0.260509   \n",
       "7812    PCA  0.003347  0.419414  0.000866  0.1  0.001718  0.260509   \n",
       "10394   PCA  0.002956  0.419414  0.000866  0.1  0.001718  0.260509   \n",
       "\n",
       "       graph_based    method  throw_rate  train_size train_cols  train_frate  \\\n",
       "5899          True  Proposed         0.3       14014        amt     0.426431   \n",
       "5901          True  Proposed         0.3       14014        amt     0.426431   \n",
       "5900          True  Proposed         0.3       14014        amt     0.426431   \n",
       "5902          True  Proposed         0.3       14014        amt     0.426431   \n",
       "5903          True  Proposed         0.3       14014        amt     0.426431   \n",
       "...            ...       ...         ...         ...        ...          ...   \n",
       "1700         False      pyod         0.3       14014    ['amt']     0.426431   \n",
       "8078         False      pyod         0.3       14014    ['amt']     0.426431   \n",
       "1524         False      pyod         0.3       14014    ['amt']     0.426431   \n",
       "7812         False      pyod         0.3       14014    ['amt']     0.426431   \n",
       "10394        False      pyod         0.3       14014    ['amt']     0.426431   \n",
       "\n",
       "       test_size  test_frate  hyper_params     theta  gamma      diff  \n",
       "5899        6006    0.005000           NaN  135280.0    0.3  0.421431  \n",
       "5901        6006    0.005000           NaN  155280.0    0.3  0.421431  \n",
       "5900        6006    0.005000           NaN  145280.0    0.3  0.421431  \n",
       "5902        6006    0.005000           NaN  165280.0    0.3  0.421431  \n",
       "5903        6006    0.005000           NaN  175280.0    0.3  0.421431  \n",
       "...          ...         ...           ...       ...    ...       ...  \n",
       "1700        6006    0.004995           NaN       NaN    NaN  0.421436  \n",
       "8078        6006    0.004995           NaN       NaN    NaN  0.421436  \n",
       "1524        6006    0.004995           NaN       NaN    NaN  0.421436  \n",
       "7812        6006    0.004995           NaN       NaN    NaN  0.421436  \n",
       "10394       6006    0.004995           NaN       NaN    NaN  0.421436  \n",
       "\n",
       "[629 rows x 19 columns]"
      ]
     },
     "execution_count": 118,
     "metadata": {},
     "output_type": "execute_result"
    }
   ],
   "source": [
    "ex2 = merged_df[(merged_df['train_size'] == 14014) & (merged_df['test_size']==6006) & (merged_df['test_frate'] !=0.05)]\n",
    "ex2.sort_values(by='auc', ascending = False)"
   ]
  },
  {
   "cell_type": "markdown",
   "id": "b4f5a9bf-42cd-47ed-8148-4ff61d352d9a",
   "metadata": {},
   "source": [
    "# ex3. tr:0.26, tst:0.005"
   ]
  },
  {
   "cell_type": "code",
   "execution_count": 119,
   "id": "375214c4-ab00-4b27-8106-eaddf1dee7b8",
   "metadata": {},
   "outputs": [
    {
     "data": {
      "text/html": [
       "<div>\n",
       "<style scoped>\n",
       "    .dataframe tbody tr th:only-of-type {\n",
       "        vertical-align: middle;\n",
       "    }\n",
       "\n",
       "    .dataframe tbody tr th {\n",
       "        vertical-align: top;\n",
       "    }\n",
       "\n",
       "    .dataframe thead th {\n",
       "        text-align: right;\n",
       "    }\n",
       "</style>\n",
       "<table border=\"1\" class=\"dataframe\">\n",
       "  <thead>\n",
       "    <tr style=\"text-align: right;\">\n",
       "      <th></th>\n",
       "      <th>model</th>\n",
       "      <th>time</th>\n",
       "      <th>acc</th>\n",
       "      <th>pre</th>\n",
       "      <th>rec</th>\n",
       "      <th>f1</th>\n",
       "      <th>auc</th>\n",
       "      <th>graph_based</th>\n",
       "      <th>method</th>\n",
       "      <th>throw_rate</th>\n",
       "      <th>train_size</th>\n",
       "      <th>train_cols</th>\n",
       "      <th>train_frate</th>\n",
       "      <th>test_size</th>\n",
       "      <th>test_frate</th>\n",
       "      <th>hyper_params</th>\n",
       "      <th>theta</th>\n",
       "      <th>gamma</th>\n",
       "      <th>diff</th>\n",
       "    </tr>\n",
       "  </thead>\n",
       "  <tbody>\n",
       "    <tr>\n",
       "      <th>5890</th>\n",
       "      <td>GCN</td>\n",
       "      <td>NaN</td>\n",
       "      <td>0.977689</td>\n",
       "      <td>0.709949</td>\n",
       "      <td>0.935556</td>\n",
       "      <td>0.807287</td>\n",
       "      <td>0.990954</td>\n",
       "      <td>True</td>\n",
       "      <td>Proposed</td>\n",
       "      <td>0.2</td>\n",
       "      <td>21021</td>\n",
       "      <td>amt</td>\n",
       "      <td>0.264307</td>\n",
       "      <td>9009</td>\n",
       "      <td>0.05000</td>\n",
       "      <td>NaN</td>\n",
       "      <td>145280.0</td>\n",
       "      <td>0.3</td>\n",
       "      <td>0.214307</td>\n",
       "    </tr>\n",
       "    <tr>\n",
       "      <th>5891</th>\n",
       "      <td>GCN</td>\n",
       "      <td>NaN</td>\n",
       "      <td>0.977356</td>\n",
       "      <td>0.699029</td>\n",
       "      <td>0.960000</td>\n",
       "      <td>0.808989</td>\n",
       "      <td>0.990922</td>\n",
       "      <td>True</td>\n",
       "      <td>Proposed</td>\n",
       "      <td>0.2</td>\n",
       "      <td>21021</td>\n",
       "      <td>amt</td>\n",
       "      <td>0.264307</td>\n",
       "      <td>9009</td>\n",
       "      <td>0.05000</td>\n",
       "      <td>NaN</td>\n",
       "      <td>155280.0</td>\n",
       "      <td>0.3</td>\n",
       "      <td>0.214307</td>\n",
       "    </tr>\n",
       "    <tr>\n",
       "      <th>5889</th>\n",
       "      <td>GCN</td>\n",
       "      <td>NaN</td>\n",
       "      <td>0.976912</td>\n",
       "      <td>0.696429</td>\n",
       "      <td>0.953333</td>\n",
       "      <td>0.804878</td>\n",
       "      <td>0.990892</td>\n",
       "      <td>True</td>\n",
       "      <td>Proposed</td>\n",
       "      <td>0.2</td>\n",
       "      <td>21021</td>\n",
       "      <td>amt</td>\n",
       "      <td>0.264307</td>\n",
       "      <td>9009</td>\n",
       "      <td>0.05000</td>\n",
       "      <td>NaN</td>\n",
       "      <td>135280.0</td>\n",
       "      <td>0.3</td>\n",
       "      <td>0.214307</td>\n",
       "    </tr>\n",
       "    <tr>\n",
       "      <th>5892</th>\n",
       "      <td>GCN</td>\n",
       "      <td>NaN</td>\n",
       "      <td>0.976912</td>\n",
       "      <td>0.699670</td>\n",
       "      <td>0.942222</td>\n",
       "      <td>0.803030</td>\n",
       "      <td>0.990838</td>\n",
       "      <td>True</td>\n",
       "      <td>Proposed</td>\n",
       "      <td>0.2</td>\n",
       "      <td>21021</td>\n",
       "      <td>amt</td>\n",
       "      <td>0.264307</td>\n",
       "      <td>9009</td>\n",
       "      <td>0.05000</td>\n",
       "      <td>NaN</td>\n",
       "      <td>165280.0</td>\n",
       "      <td>0.3</td>\n",
       "      <td>0.214307</td>\n",
       "    </tr>\n",
       "    <tr>\n",
       "      <th>5893</th>\n",
       "      <td>GCN</td>\n",
       "      <td>NaN</td>\n",
       "      <td>0.974803</td>\n",
       "      <td>0.673406</td>\n",
       "      <td>0.962222</td>\n",
       "      <td>0.792315</td>\n",
       "      <td>0.990807</td>\n",
       "      <td>True</td>\n",
       "      <td>Proposed</td>\n",
       "      <td>0.2</td>\n",
       "      <td>21021</td>\n",
       "      <td>amt</td>\n",
       "      <td>0.264307</td>\n",
       "      <td>9009</td>\n",
       "      <td>0.05000</td>\n",
       "      <td>NaN</td>\n",
       "      <td>175280.0</td>\n",
       "      <td>0.3</td>\n",
       "      <td>0.214307</td>\n",
       "    </tr>\n",
       "    <tr>\n",
       "      <th>...</th>\n",
       "      <td>...</td>\n",
       "      <td>...</td>\n",
       "      <td>...</td>\n",
       "      <td>...</td>\n",
       "      <td>...</td>\n",
       "      <td>...</td>\n",
       "      <td>...</td>\n",
       "      <td>...</td>\n",
       "      <td>...</td>\n",
       "      <td>...</td>\n",
       "      <td>...</td>\n",
       "      <td>...</td>\n",
       "      <td>...</td>\n",
       "      <td>...</td>\n",
       "      <td>...</td>\n",
       "      <td>...</td>\n",
       "      <td>...</td>\n",
       "      <td>...</td>\n",
       "      <td>...</td>\n",
       "    </tr>\n",
       "    <tr>\n",
       "      <th>2222</th>\n",
       "      <td>ROD</td>\n",
       "      <td>2.968383</td>\n",
       "      <td>0.688534</td>\n",
       "      <td>0.017609</td>\n",
       "      <td>0.095556</td>\n",
       "      <td>0.029737</td>\n",
       "      <td>0.407633</td>\n",
       "      <td>False</td>\n",
       "      <td>pyod</td>\n",
       "      <td>0.2</td>\n",
       "      <td>21021</td>\n",
       "      <td>['amt']</td>\n",
       "      <td>0.264307</td>\n",
       "      <td>9009</td>\n",
       "      <td>0.04995</td>\n",
       "      <td>NaN</td>\n",
       "      <td>NaN</td>\n",
       "      <td>NaN</td>\n",
       "      <td>0.214357</td>\n",
       "    </tr>\n",
       "    <tr>\n",
       "      <th>10410</th>\n",
       "      <td>ROD</td>\n",
       "      <td>3.948951</td>\n",
       "      <td>0.688534</td>\n",
       "      <td>0.017609</td>\n",
       "      <td>0.095556</td>\n",
       "      <td>0.029737</td>\n",
       "      <td>0.407633</td>\n",
       "      <td>False</td>\n",
       "      <td>pyod</td>\n",
       "      <td>0.2</td>\n",
       "      <td>21021</td>\n",
       "      <td>['amt']</td>\n",
       "      <td>0.264307</td>\n",
       "      <td>9009</td>\n",
       "      <td>0.04995</td>\n",
       "      <td>NaN</td>\n",
       "      <td>NaN</td>\n",
       "      <td>NaN</td>\n",
       "      <td>0.214357</td>\n",
       "    </tr>\n",
       "    <tr>\n",
       "      <th>9914</th>\n",
       "      <td>ROD</td>\n",
       "      <td>4.312599</td>\n",
       "      <td>0.688534</td>\n",
       "      <td>0.017609</td>\n",
       "      <td>0.095556</td>\n",
       "      <td>0.029737</td>\n",
       "      <td>0.407633</td>\n",
       "      <td>False</td>\n",
       "      <td>pyod</td>\n",
       "      <td>0.2</td>\n",
       "      <td>21021</td>\n",
       "      <td>['amt']</td>\n",
       "      <td>0.264307</td>\n",
       "      <td>9009</td>\n",
       "      <td>0.04995</td>\n",
       "      <td>NaN</td>\n",
       "      <td>NaN</td>\n",
       "      <td>NaN</td>\n",
       "      <td>0.214357</td>\n",
       "    </tr>\n",
       "    <tr>\n",
       "      <th>4654</th>\n",
       "      <td>ROD</td>\n",
       "      <td>4.168068</td>\n",
       "      <td>0.688534</td>\n",
       "      <td>0.017609</td>\n",
       "      <td>0.095556</td>\n",
       "      <td>0.029737</td>\n",
       "      <td>0.407633</td>\n",
       "      <td>False</td>\n",
       "      <td>pyod</td>\n",
       "      <td>0.2</td>\n",
       "      <td>21021</td>\n",
       "      <td>['amt']</td>\n",
       "      <td>0.264307</td>\n",
       "      <td>9009</td>\n",
       "      <td>0.04995</td>\n",
       "      <td>NaN</td>\n",
       "      <td>NaN</td>\n",
       "      <td>NaN</td>\n",
       "      <td>0.214357</td>\n",
       "    </tr>\n",
       "    <tr>\n",
       "      <th>12799</th>\n",
       "      <td>ROD</td>\n",
       "      <td>2.938368</td>\n",
       "      <td>0.688534</td>\n",
       "      <td>0.017609</td>\n",
       "      <td>0.095556</td>\n",
       "      <td>0.029737</td>\n",
       "      <td>0.407633</td>\n",
       "      <td>False</td>\n",
       "      <td>pyod</td>\n",
       "      <td>0.2</td>\n",
       "      <td>21021</td>\n",
       "      <td>['amt']</td>\n",
       "      <td>0.264307</td>\n",
       "      <td>9009</td>\n",
       "      <td>0.04995</td>\n",
       "      <td>NaN</td>\n",
       "      <td>NaN</td>\n",
       "      <td>NaN</td>\n",
       "      <td>0.214357</td>\n",
       "    </tr>\n",
       "  </tbody>\n",
       "</table>\n",
       "<p>289 rows × 19 columns</p>\n",
       "</div>"
      ],
      "text/plain": [
       "      model      time       acc       pre       rec        f1       auc  \\\n",
       "5890    GCN       NaN  0.977689  0.709949  0.935556  0.807287  0.990954   \n",
       "5891    GCN       NaN  0.977356  0.699029  0.960000  0.808989  0.990922   \n",
       "5889    GCN       NaN  0.976912  0.696429  0.953333  0.804878  0.990892   \n",
       "5892    GCN       NaN  0.976912  0.699670  0.942222  0.803030  0.990838   \n",
       "5893    GCN       NaN  0.974803  0.673406  0.962222  0.792315  0.990807   \n",
       "...     ...       ...       ...       ...       ...       ...       ...   \n",
       "2222    ROD  2.968383  0.688534  0.017609  0.095556  0.029737  0.407633   \n",
       "10410   ROD  3.948951  0.688534  0.017609  0.095556  0.029737  0.407633   \n",
       "9914    ROD  4.312599  0.688534  0.017609  0.095556  0.029737  0.407633   \n",
       "4654    ROD  4.168068  0.688534  0.017609  0.095556  0.029737  0.407633   \n",
       "12799   ROD  2.938368  0.688534  0.017609  0.095556  0.029737  0.407633   \n",
       "\n",
       "       graph_based    method  throw_rate  train_size train_cols  train_frate  \\\n",
       "5890          True  Proposed         0.2       21021        amt     0.264307   \n",
       "5891          True  Proposed         0.2       21021        amt     0.264307   \n",
       "5889          True  Proposed         0.2       21021        amt     0.264307   \n",
       "5892          True  Proposed         0.2       21021        amt     0.264307   \n",
       "5893          True  Proposed         0.2       21021        amt     0.264307   \n",
       "...            ...       ...         ...         ...        ...          ...   \n",
       "2222         False      pyod         0.2       21021    ['amt']     0.264307   \n",
       "10410        False      pyod         0.2       21021    ['amt']     0.264307   \n",
       "9914         False      pyod         0.2       21021    ['amt']     0.264307   \n",
       "4654         False      pyod         0.2       21021    ['amt']     0.264307   \n",
       "12799        False      pyod         0.2       21021    ['amt']     0.264307   \n",
       "\n",
       "       test_size  test_frate  hyper_params     theta  gamma      diff  \n",
       "5890        9009     0.05000           NaN  145280.0    0.3  0.214307  \n",
       "5891        9009     0.05000           NaN  155280.0    0.3  0.214307  \n",
       "5889        9009     0.05000           NaN  135280.0    0.3  0.214307  \n",
       "5892        9009     0.05000           NaN  165280.0    0.3  0.214307  \n",
       "5893        9009     0.05000           NaN  175280.0    0.3  0.214307  \n",
       "...          ...         ...           ...       ...    ...       ...  \n",
       "2222        9009     0.04995           NaN       NaN    NaN  0.214357  \n",
       "10410       9009     0.04995           NaN       NaN    NaN  0.214357  \n",
       "9914        9009     0.04995           NaN       NaN    NaN  0.214357  \n",
       "4654        9009     0.04995           NaN       NaN    NaN  0.214357  \n",
       "12799       9009     0.04995           NaN       NaN    NaN  0.214357  \n",
       "\n",
       "[289 rows x 19 columns]"
      ]
     },
     "execution_count": 119,
     "metadata": {},
     "output_type": "execute_result"
    }
   ],
   "source": [
    "ex3 = merged_df[(merged_df['train_size'] == 21021) & (merged_df['test_frate'] <= 0.05) & (merged_df['test_frate'] >= 0.04)]\n",
    "ex3.sort_values(by='auc', ascending = False)"
   ]
  },
  {
   "cell_type": "markdown",
   "id": "e2c42848-d5f8-4a04-bc60-01f327f5901b",
   "metadata": {},
   "source": [
    "# ex4. tr:0.28, tst:0.005"
   ]
  },
  {
   "cell_type": "code",
   "execution_count": 120,
   "id": "f2610a60-82f1-4c6a-b773-67355c163203",
   "metadata": {},
   "outputs": [
    {
     "data": {
      "text/html": [
       "<div>\n",
       "<style scoped>\n",
       "    .dataframe tbody tr th:only-of-type {\n",
       "        vertical-align: middle;\n",
       "    }\n",
       "\n",
       "    .dataframe tbody tr th {\n",
       "        vertical-align: top;\n",
       "    }\n",
       "\n",
       "    .dataframe thead th {\n",
       "        text-align: right;\n",
       "    }\n",
       "</style>\n",
       "<table border=\"1\" class=\"dataframe\">\n",
       "  <thead>\n",
       "    <tr style=\"text-align: right;\">\n",
       "      <th></th>\n",
       "      <th>model</th>\n",
       "      <th>time</th>\n",
       "      <th>acc</th>\n",
       "      <th>pre</th>\n",
       "      <th>rec</th>\n",
       "      <th>f1</th>\n",
       "      <th>auc</th>\n",
       "      <th>graph_based</th>\n",
       "      <th>method</th>\n",
       "      <th>throw_rate</th>\n",
       "      <th>train_size</th>\n",
       "      <th>train_cols</th>\n",
       "      <th>train_frate</th>\n",
       "      <th>test_size</th>\n",
       "      <th>test_frate</th>\n",
       "      <th>hyper_params</th>\n",
       "      <th>theta</th>\n",
       "      <th>gamma</th>\n",
       "      <th>diff</th>\n",
       "    </tr>\n",
       "  </thead>\n",
       "  <tbody>\n",
       "    <tr>\n",
       "      <th>8643</th>\n",
       "      <td>GCN</td>\n",
       "      <td>NaN</td>\n",
       "      <td>0.974026</td>\n",
       "      <td>0.151292</td>\n",
       "      <td>0.911111</td>\n",
       "      <td>0.259494</td>\n",
       "      <td>0.988520</td>\n",
       "      <td>True</td>\n",
       "      <td>Proposed</td>\n",
       "      <td>0.2</td>\n",
       "      <td>21021</td>\n",
       "      <td>amt</td>\n",
       "      <td>0.283574</td>\n",
       "      <td>9009</td>\n",
       "      <td>0.005000</td>\n",
       "      <td>NaN</td>\n",
       "      <td>135280.0</td>\n",
       "      <td>0.3</td>\n",
       "      <td>0.278574</td>\n",
       "    </tr>\n",
       "    <tr>\n",
       "      <th>8644</th>\n",
       "      <td>GCN</td>\n",
       "      <td>NaN</td>\n",
       "      <td>0.976690</td>\n",
       "      <td>0.165992</td>\n",
       "      <td>0.911111</td>\n",
       "      <td>0.280822</td>\n",
       "      <td>0.988331</td>\n",
       "      <td>True</td>\n",
       "      <td>Proposed</td>\n",
       "      <td>0.2</td>\n",
       "      <td>21021</td>\n",
       "      <td>amt</td>\n",
       "      <td>0.283574</td>\n",
       "      <td>9009</td>\n",
       "      <td>0.005000</td>\n",
       "      <td>NaN</td>\n",
       "      <td>145280.0</td>\n",
       "      <td>0.3</td>\n",
       "      <td>0.278574</td>\n",
       "    </tr>\n",
       "    <tr>\n",
       "      <th>8645</th>\n",
       "      <td>GCN</td>\n",
       "      <td>NaN</td>\n",
       "      <td>0.977023</td>\n",
       "      <td>0.168033</td>\n",
       "      <td>0.911111</td>\n",
       "      <td>0.283737</td>\n",
       "      <td>0.988294</td>\n",
       "      <td>True</td>\n",
       "      <td>Proposed</td>\n",
       "      <td>0.2</td>\n",
       "      <td>21021</td>\n",
       "      <td>amt</td>\n",
       "      <td>0.283574</td>\n",
       "      <td>9009</td>\n",
       "      <td>0.005000</td>\n",
       "      <td>NaN</td>\n",
       "      <td>155280.0</td>\n",
       "      <td>0.3</td>\n",
       "      <td>0.278574</td>\n",
       "    </tr>\n",
       "    <tr>\n",
       "      <th>8646</th>\n",
       "      <td>GCN</td>\n",
       "      <td>NaN</td>\n",
       "      <td>0.977467</td>\n",
       "      <td>0.170833</td>\n",
       "      <td>0.911111</td>\n",
       "      <td>0.287719</td>\n",
       "      <td>0.988234</td>\n",
       "      <td>True</td>\n",
       "      <td>Proposed</td>\n",
       "      <td>0.2</td>\n",
       "      <td>21021</td>\n",
       "      <td>amt</td>\n",
       "      <td>0.283574</td>\n",
       "      <td>9009</td>\n",
       "      <td>0.005000</td>\n",
       "      <td>NaN</td>\n",
       "      <td>165280.0</td>\n",
       "      <td>0.3</td>\n",
       "      <td>0.278574</td>\n",
       "    </tr>\n",
       "    <tr>\n",
       "      <th>8647</th>\n",
       "      <td>GCN</td>\n",
       "      <td>NaN</td>\n",
       "      <td>0.977245</td>\n",
       "      <td>0.166667</td>\n",
       "      <td>0.888889</td>\n",
       "      <td>0.280702</td>\n",
       "      <td>0.988103</td>\n",
       "      <td>True</td>\n",
       "      <td>Proposed</td>\n",
       "      <td>0.2</td>\n",
       "      <td>21021</td>\n",
       "      <td>amt</td>\n",
       "      <td>0.283574</td>\n",
       "      <td>9009</td>\n",
       "      <td>0.005000</td>\n",
       "      <td>NaN</td>\n",
       "      <td>175280.0</td>\n",
       "      <td>0.3</td>\n",
       "      <td>0.278574</td>\n",
       "    </tr>\n",
       "    <tr>\n",
       "      <th>...</th>\n",
       "      <td>...</td>\n",
       "      <td>...</td>\n",
       "      <td>...</td>\n",
       "      <td>...</td>\n",
       "      <td>...</td>\n",
       "      <td>...</td>\n",
       "      <td>...</td>\n",
       "      <td>...</td>\n",
       "      <td>...</td>\n",
       "      <td>...</td>\n",
       "      <td>...</td>\n",
       "      <td>...</td>\n",
       "      <td>...</td>\n",
       "      <td>...</td>\n",
       "      <td>...</td>\n",
       "      <td>...</td>\n",
       "      <td>...</td>\n",
       "      <td>...</td>\n",
       "      <td>...</td>\n",
       "    </tr>\n",
       "    <tr>\n",
       "      <th>10650</th>\n",
       "      <td>ROD</td>\n",
       "      <td>5.488021</td>\n",
       "      <td>0.744145</td>\n",
       "      <td>0.000442</td>\n",
       "      <td>0.022222</td>\n",
       "      <td>0.000867</td>\n",
       "      <td>0.384996</td>\n",
       "      <td>False</td>\n",
       "      <td>pyod</td>\n",
       "      <td>0.2</td>\n",
       "      <td>21021</td>\n",
       "      <td>['amt']</td>\n",
       "      <td>0.283574</td>\n",
       "      <td>9009</td>\n",
       "      <td>0.004995</td>\n",
       "      <td>NaN</td>\n",
       "      <td>NaN</td>\n",
       "      <td>NaN</td>\n",
       "      <td>0.278579</td>\n",
       "    </tr>\n",
       "    <tr>\n",
       "      <th>6622</th>\n",
       "      <td>ROD</td>\n",
       "      <td>3.808245</td>\n",
       "      <td>0.744145</td>\n",
       "      <td>0.000442</td>\n",
       "      <td>0.022222</td>\n",
       "      <td>0.000867</td>\n",
       "      <td>0.384996</td>\n",
       "      <td>False</td>\n",
       "      <td>pyod</td>\n",
       "      <td>0.2</td>\n",
       "      <td>21021</td>\n",
       "      <td>['amt']</td>\n",
       "      <td>0.283574</td>\n",
       "      <td>9009</td>\n",
       "      <td>0.004995</td>\n",
       "      <td>NaN</td>\n",
       "      <td>NaN</td>\n",
       "      <td>NaN</td>\n",
       "      <td>0.278579</td>\n",
       "    </tr>\n",
       "    <tr>\n",
       "      <th>6637</th>\n",
       "      <td>ROD</td>\n",
       "      <td>5.004738</td>\n",
       "      <td>0.744145</td>\n",
       "      <td>0.000442</td>\n",
       "      <td>0.022222</td>\n",
       "      <td>0.000867</td>\n",
       "      <td>0.384996</td>\n",
       "      <td>False</td>\n",
       "      <td>pyod</td>\n",
       "      <td>0.2</td>\n",
       "      <td>21021</td>\n",
       "      <td>['amt']</td>\n",
       "      <td>0.283574</td>\n",
       "      <td>9009</td>\n",
       "      <td>0.004995</td>\n",
       "      <td>NaN</td>\n",
       "      <td>NaN</td>\n",
       "      <td>NaN</td>\n",
       "      <td>0.278579</td>\n",
       "    </tr>\n",
       "    <tr>\n",
       "      <th>8624</th>\n",
       "      <td>ROD</td>\n",
       "      <td>3.712778</td>\n",
       "      <td>0.744145</td>\n",
       "      <td>0.000442</td>\n",
       "      <td>0.022222</td>\n",
       "      <td>0.000867</td>\n",
       "      <td>0.384996</td>\n",
       "      <td>False</td>\n",
       "      <td>pyod</td>\n",
       "      <td>0.2</td>\n",
       "      <td>21021</td>\n",
       "      <td>['amt']</td>\n",
       "      <td>0.283574</td>\n",
       "      <td>9009</td>\n",
       "      <td>0.004995</td>\n",
       "      <td>NaN</td>\n",
       "      <td>NaN</td>\n",
       "      <td>NaN</td>\n",
       "      <td>0.278579</td>\n",
       "    </tr>\n",
       "    <tr>\n",
       "      <th>12531</th>\n",
       "      <td>ROD</td>\n",
       "      <td>3.490507</td>\n",
       "      <td>0.744145</td>\n",
       "      <td>0.000442</td>\n",
       "      <td>0.022222</td>\n",
       "      <td>0.000867</td>\n",
       "      <td>0.384996</td>\n",
       "      <td>False</td>\n",
       "      <td>pyod</td>\n",
       "      <td>0.2</td>\n",
       "      <td>21021</td>\n",
       "      <td>['amt']</td>\n",
       "      <td>0.283574</td>\n",
       "      <td>9009</td>\n",
       "      <td>0.004995</td>\n",
       "      <td>NaN</td>\n",
       "      <td>NaN</td>\n",
       "      <td>NaN</td>\n",
       "      <td>0.278579</td>\n",
       "    </tr>\n",
       "  </tbody>\n",
       "</table>\n",
       "<p>362 rows × 19 columns</p>\n",
       "</div>"
      ],
      "text/plain": [
       "      model      time       acc       pre       rec        f1       auc  \\\n",
       "8643    GCN       NaN  0.974026  0.151292  0.911111  0.259494  0.988520   \n",
       "8644    GCN       NaN  0.976690  0.165992  0.911111  0.280822  0.988331   \n",
       "8645    GCN       NaN  0.977023  0.168033  0.911111  0.283737  0.988294   \n",
       "8646    GCN       NaN  0.977467  0.170833  0.911111  0.287719  0.988234   \n",
       "8647    GCN       NaN  0.977245  0.166667  0.888889  0.280702  0.988103   \n",
       "...     ...       ...       ...       ...       ...       ...       ...   \n",
       "10650   ROD  5.488021  0.744145  0.000442  0.022222  0.000867  0.384996   \n",
       "6622    ROD  3.808245  0.744145  0.000442  0.022222  0.000867  0.384996   \n",
       "6637    ROD  5.004738  0.744145  0.000442  0.022222  0.000867  0.384996   \n",
       "8624    ROD  3.712778  0.744145  0.000442  0.022222  0.000867  0.384996   \n",
       "12531   ROD  3.490507  0.744145  0.000442  0.022222  0.000867  0.384996   \n",
       "\n",
       "       graph_based    method  throw_rate  train_size train_cols  train_frate  \\\n",
       "8643          True  Proposed         0.2       21021        amt     0.283574   \n",
       "8644          True  Proposed         0.2       21021        amt     0.283574   \n",
       "8645          True  Proposed         0.2       21021        amt     0.283574   \n",
       "8646          True  Proposed         0.2       21021        amt     0.283574   \n",
       "8647          True  Proposed         0.2       21021        amt     0.283574   \n",
       "...            ...       ...         ...         ...        ...          ...   \n",
       "10650        False      pyod         0.2       21021    ['amt']     0.283574   \n",
       "6622         False      pyod         0.2       21021    ['amt']     0.283574   \n",
       "6637         False      pyod         0.2       21021    ['amt']     0.283574   \n",
       "8624         False      pyod         0.2       21021    ['amt']     0.283574   \n",
       "12531        False      pyod         0.2       21021    ['amt']     0.283574   \n",
       "\n",
       "       test_size  test_frate  hyper_params     theta  gamma      diff  \n",
       "8643        9009    0.005000           NaN  135280.0    0.3  0.278574  \n",
       "8644        9009    0.005000           NaN  145280.0    0.3  0.278574  \n",
       "8645        9009    0.005000           NaN  155280.0    0.3  0.278574  \n",
       "8646        9009    0.005000           NaN  165280.0    0.3  0.278574  \n",
       "8647        9009    0.005000           NaN  175280.0    0.3  0.278574  \n",
       "...          ...         ...           ...       ...    ...       ...  \n",
       "10650       9009    0.004995           NaN       NaN    NaN  0.278579  \n",
       "6622        9009    0.004995           NaN       NaN    NaN  0.278579  \n",
       "6637        9009    0.004995           NaN       NaN    NaN  0.278579  \n",
       "8624        9009    0.004995           NaN       NaN    NaN  0.278579  \n",
       "12531       9009    0.004995           NaN       NaN    NaN  0.278579  \n",
       "\n",
       "[362 rows x 19 columns]"
      ]
     },
     "execution_count": 120,
     "metadata": {},
     "output_type": "execute_result"
    }
   ],
   "source": [
    "ex4 = merged_df[(merged_df['train_size'] == 21021) & (merged_df['test_frate'] <= 0.005) & (merged_df['test_frate'] >= 0.004)]\n",
    "ex4.sort_values(by='auc', ascending = False)"
   ]
  },
  {
   "cell_type": "markdown",
   "id": "c9bd58f0-5ed7-4553-a2a4-a35c689b8749",
   "metadata": {},
   "source": [
    "# ex5"
   ]
  },
  {
   "cell_type": "code",
   "execution_count": 133,
   "id": "0e557ad7-04e8-4b19-aee0-31d08e20a78f",
   "metadata": {},
   "outputs": [
    {
     "data": {
      "text/html": [
       "<div>\n",
       "<style scoped>\n",
       "    .dataframe tbody tr th:only-of-type {\n",
       "        vertical-align: middle;\n",
       "    }\n",
       "\n",
       "    .dataframe tbody tr th {\n",
       "        vertical-align: top;\n",
       "    }\n",
       "\n",
       "    .dataframe thead th {\n",
       "        text-align: right;\n",
       "    }\n",
       "</style>\n",
       "<table border=\"1\" class=\"dataframe\">\n",
       "  <thead>\n",
       "    <tr style=\"text-align: right;\">\n",
       "      <th></th>\n",
       "      <th>model</th>\n",
       "      <th>time</th>\n",
       "      <th>acc</th>\n",
       "      <th>pre</th>\n",
       "      <th>rec</th>\n",
       "      <th>f1</th>\n",
       "      <th>auc</th>\n",
       "      <th>graph_based</th>\n",
       "      <th>method</th>\n",
       "      <th>throw_rate</th>\n",
       "      <th>train_size</th>\n",
       "      <th>train_cols</th>\n",
       "      <th>train_frate</th>\n",
       "      <th>test_size</th>\n",
       "      <th>test_frate</th>\n",
       "      <th>hyper_params</th>\n",
       "      <th>theta</th>\n",
       "      <th>gamma</th>\n",
       "      <th>diff</th>\n",
       "    </tr>\n",
       "  </thead>\n",
       "  <tbody>\n",
       "    <tr>\n",
       "      <th>8643</th>\n",
       "      <td>GCN</td>\n",
       "      <td>NaN</td>\n",
       "      <td>0.974026</td>\n",
       "      <td>0.151292</td>\n",
       "      <td>0.911111</td>\n",
       "      <td>0.259494</td>\n",
       "      <td>0.988520</td>\n",
       "      <td>True</td>\n",
       "      <td>Proposed</td>\n",
       "      <td>0.2</td>\n",
       "      <td>21021</td>\n",
       "      <td>amt</td>\n",
       "      <td>0.283574</td>\n",
       "      <td>9009</td>\n",
       "      <td>0.005000</td>\n",
       "      <td>NaN</td>\n",
       "      <td>135280.0</td>\n",
       "      <td>0.3</td>\n",
       "      <td>0.278574</td>\n",
       "    </tr>\n",
       "    <tr>\n",
       "      <th>8644</th>\n",
       "      <td>GCN</td>\n",
       "      <td>NaN</td>\n",
       "      <td>0.976690</td>\n",
       "      <td>0.165992</td>\n",
       "      <td>0.911111</td>\n",
       "      <td>0.280822</td>\n",
       "      <td>0.988331</td>\n",
       "      <td>True</td>\n",
       "      <td>Proposed</td>\n",
       "      <td>0.2</td>\n",
       "      <td>21021</td>\n",
       "      <td>amt</td>\n",
       "      <td>0.283574</td>\n",
       "      <td>9009</td>\n",
       "      <td>0.005000</td>\n",
       "      <td>NaN</td>\n",
       "      <td>145280.0</td>\n",
       "      <td>0.3</td>\n",
       "      <td>0.278574</td>\n",
       "    </tr>\n",
       "    <tr>\n",
       "      <th>8645</th>\n",
       "      <td>GCN</td>\n",
       "      <td>NaN</td>\n",
       "      <td>0.977023</td>\n",
       "      <td>0.168033</td>\n",
       "      <td>0.911111</td>\n",
       "      <td>0.283737</td>\n",
       "      <td>0.988294</td>\n",
       "      <td>True</td>\n",
       "      <td>Proposed</td>\n",
       "      <td>0.2</td>\n",
       "      <td>21021</td>\n",
       "      <td>amt</td>\n",
       "      <td>0.283574</td>\n",
       "      <td>9009</td>\n",
       "      <td>0.005000</td>\n",
       "      <td>NaN</td>\n",
       "      <td>155280.0</td>\n",
       "      <td>0.3</td>\n",
       "      <td>0.278574</td>\n",
       "    </tr>\n",
       "    <tr>\n",
       "      <th>8646</th>\n",
       "      <td>GCN</td>\n",
       "      <td>NaN</td>\n",
       "      <td>0.977467</td>\n",
       "      <td>0.170833</td>\n",
       "      <td>0.911111</td>\n",
       "      <td>0.287719</td>\n",
       "      <td>0.988234</td>\n",
       "      <td>True</td>\n",
       "      <td>Proposed</td>\n",
       "      <td>0.2</td>\n",
       "      <td>21021</td>\n",
       "      <td>amt</td>\n",
       "      <td>0.283574</td>\n",
       "      <td>9009</td>\n",
       "      <td>0.005000</td>\n",
       "      <td>NaN</td>\n",
       "      <td>165280.0</td>\n",
       "      <td>0.3</td>\n",
       "      <td>0.278574</td>\n",
       "    </tr>\n",
       "    <tr>\n",
       "      <th>8647</th>\n",
       "      <td>GCN</td>\n",
       "      <td>NaN</td>\n",
       "      <td>0.977245</td>\n",
       "      <td>0.166667</td>\n",
       "      <td>0.888889</td>\n",
       "      <td>0.280702</td>\n",
       "      <td>0.988103</td>\n",
       "      <td>True</td>\n",
       "      <td>Proposed</td>\n",
       "      <td>0.2</td>\n",
       "      <td>21021</td>\n",
       "      <td>amt</td>\n",
       "      <td>0.283574</td>\n",
       "      <td>9009</td>\n",
       "      <td>0.005000</td>\n",
       "      <td>NaN</td>\n",
       "      <td>175280.0</td>\n",
       "      <td>0.3</td>\n",
       "      <td>0.278574</td>\n",
       "    </tr>\n",
       "    <tr>\n",
       "      <th>...</th>\n",
       "      <td>...</td>\n",
       "      <td>...</td>\n",
       "      <td>...</td>\n",
       "      <td>...</td>\n",
       "      <td>...</td>\n",
       "      <td>...</td>\n",
       "      <td>...</td>\n",
       "      <td>...</td>\n",
       "      <td>...</td>\n",
       "      <td>...</td>\n",
       "      <td>...</td>\n",
       "      <td>...</td>\n",
       "      <td>...</td>\n",
       "      <td>...</td>\n",
       "      <td>...</td>\n",
       "      <td>...</td>\n",
       "      <td>...</td>\n",
       "      <td>...</td>\n",
       "      <td>...</td>\n",
       "    </tr>\n",
       "    <tr>\n",
       "      <th>1700</th>\n",
       "      <td>PCA</td>\n",
       "      <td>0.002804</td>\n",
       "      <td>0.419414</td>\n",
       "      <td>0.000866</td>\n",
       "      <td>0.100000</td>\n",
       "      <td>0.001718</td>\n",
       "      <td>0.260509</td>\n",
       "      <td>False</td>\n",
       "      <td>pyod</td>\n",
       "      <td>0.3</td>\n",
       "      <td>14014</td>\n",
       "      <td>['amt']</td>\n",
       "      <td>0.426431</td>\n",
       "      <td>6006</td>\n",
       "      <td>0.004995</td>\n",
       "      <td>NaN</td>\n",
       "      <td>NaN</td>\n",
       "      <td>NaN</td>\n",
       "      <td>0.421436</td>\n",
       "    </tr>\n",
       "    <tr>\n",
       "      <th>1524</th>\n",
       "      <td>PCA</td>\n",
       "      <td>0.002498</td>\n",
       "      <td>0.419414</td>\n",
       "      <td>0.000866</td>\n",
       "      <td>0.100000</td>\n",
       "      <td>0.001718</td>\n",
       "      <td>0.260509</td>\n",
       "      <td>False</td>\n",
       "      <td>pyod</td>\n",
       "      <td>0.3</td>\n",
       "      <td>14014</td>\n",
       "      <td>['amt']</td>\n",
       "      <td>0.426431</td>\n",
       "      <td>6006</td>\n",
       "      <td>0.004995</td>\n",
       "      <td>NaN</td>\n",
       "      <td>NaN</td>\n",
       "      <td>NaN</td>\n",
       "      <td>0.421436</td>\n",
       "    </tr>\n",
       "    <tr>\n",
       "      <th>8078</th>\n",
       "      <td>PCA</td>\n",
       "      <td>0.003726</td>\n",
       "      <td>0.419414</td>\n",
       "      <td>0.000866</td>\n",
       "      <td>0.100000</td>\n",
       "      <td>0.001718</td>\n",
       "      <td>0.260509</td>\n",
       "      <td>False</td>\n",
       "      <td>pyod</td>\n",
       "      <td>0.3</td>\n",
       "      <td>14014</td>\n",
       "      <td>['amt']</td>\n",
       "      <td>0.426431</td>\n",
       "      <td>6006</td>\n",
       "      <td>0.004995</td>\n",
       "      <td>NaN</td>\n",
       "      <td>NaN</td>\n",
       "      <td>NaN</td>\n",
       "      <td>0.421436</td>\n",
       "    </tr>\n",
       "    <tr>\n",
       "      <th>6014</th>\n",
       "      <td>PCA</td>\n",
       "      <td>0.003628</td>\n",
       "      <td>0.419414</td>\n",
       "      <td>0.000866</td>\n",
       "      <td>0.100000</td>\n",
       "      <td>0.001718</td>\n",
       "      <td>0.260509</td>\n",
       "      <td>False</td>\n",
       "      <td>pyod</td>\n",
       "      <td>0.3</td>\n",
       "      <td>14014</td>\n",
       "      <td>['amt']</td>\n",
       "      <td>0.426431</td>\n",
       "      <td>6006</td>\n",
       "      <td>0.004995</td>\n",
       "      <td>NaN</td>\n",
       "      <td>NaN</td>\n",
       "      <td>NaN</td>\n",
       "      <td>0.421436</td>\n",
       "    </tr>\n",
       "    <tr>\n",
       "      <th>6741</th>\n",
       "      <td>PCA</td>\n",
       "      <td>0.003340</td>\n",
       "      <td>0.419414</td>\n",
       "      <td>0.000866</td>\n",
       "      <td>0.100000</td>\n",
       "      <td>0.001718</td>\n",
       "      <td>0.260509</td>\n",
       "      <td>False</td>\n",
       "      <td>pyod</td>\n",
       "      <td>0.3</td>\n",
       "      <td>14014</td>\n",
       "      <td>['amt']</td>\n",
       "      <td>0.426431</td>\n",
       "      <td>6006</td>\n",
       "      <td>0.004995</td>\n",
       "      <td>NaN</td>\n",
       "      <td>NaN</td>\n",
       "      <td>NaN</td>\n",
       "      <td>0.421436</td>\n",
       "    </tr>\n",
       "  </tbody>\n",
       "</table>\n",
       "<p>1030 rows × 19 columns</p>\n",
       "</div>"
      ],
      "text/plain": [
       "     model      time       acc       pre       rec        f1       auc  \\\n",
       "8643   GCN       NaN  0.974026  0.151292  0.911111  0.259494  0.988520   \n",
       "8644   GCN       NaN  0.976690  0.165992  0.911111  0.280822  0.988331   \n",
       "8645   GCN       NaN  0.977023  0.168033  0.911111  0.283737  0.988294   \n",
       "8646   GCN       NaN  0.977467  0.170833  0.911111  0.287719  0.988234   \n",
       "8647   GCN       NaN  0.977245  0.166667  0.888889  0.280702  0.988103   \n",
       "...    ...       ...       ...       ...       ...       ...       ...   \n",
       "1700   PCA  0.002804  0.419414  0.000866  0.100000  0.001718  0.260509   \n",
       "1524   PCA  0.002498  0.419414  0.000866  0.100000  0.001718  0.260509   \n",
       "8078   PCA  0.003726  0.419414  0.000866  0.100000  0.001718  0.260509   \n",
       "6014   PCA  0.003628  0.419414  0.000866  0.100000  0.001718  0.260509   \n",
       "6741   PCA  0.003340  0.419414  0.000866  0.100000  0.001718  0.260509   \n",
       "\n",
       "      graph_based    method  throw_rate  train_size train_cols  train_frate  \\\n",
       "8643         True  Proposed         0.2       21021        amt     0.283574   \n",
       "8644         True  Proposed         0.2       21021        amt     0.283574   \n",
       "8645         True  Proposed         0.2       21021        amt     0.283574   \n",
       "8646         True  Proposed         0.2       21021        amt     0.283574   \n",
       "8647         True  Proposed         0.2       21021        amt     0.283574   \n",
       "...           ...       ...         ...         ...        ...          ...   \n",
       "1700        False      pyod         0.3       14014    ['amt']     0.426431   \n",
       "1524        False      pyod         0.3       14014    ['amt']     0.426431   \n",
       "8078        False      pyod         0.3       14014    ['amt']     0.426431   \n",
       "6014        False      pyod         0.3       14014    ['amt']     0.426431   \n",
       "6741        False      pyod         0.3       14014    ['amt']     0.426431   \n",
       "\n",
       "      test_size  test_frate  hyper_params     theta  gamma      diff  \n",
       "8643       9009    0.005000           NaN  135280.0    0.3  0.278574  \n",
       "8644       9009    0.005000           NaN  145280.0    0.3  0.278574  \n",
       "8645       9009    0.005000           NaN  155280.0    0.3  0.278574  \n",
       "8646       9009    0.005000           NaN  165280.0    0.3  0.278574  \n",
       "8647       9009    0.005000           NaN  175280.0    0.3  0.278574  \n",
       "...         ...         ...           ...       ...    ...       ...  \n",
       "1700       6006    0.004995           NaN       NaN    NaN  0.421436  \n",
       "1524       6006    0.004995           NaN       NaN    NaN  0.421436  \n",
       "8078       6006    0.004995           NaN       NaN    NaN  0.421436  \n",
       "6014       6006    0.004995           NaN       NaN    NaN  0.421436  \n",
       "6741       6006    0.004995           NaN       NaN    NaN  0.421436  \n",
       "\n",
       "[1030 rows x 19 columns]"
      ]
     },
     "execution_count": 133,
     "metadata": {},
     "output_type": "execute_result"
    }
   ],
   "source": [
    "ex5 = merged_df[(merged_df['test_frate'] <= 0.0058) & (merged_df['test_frate'] >= 0.0049) & (merged_df['diff'] >= 0.0003)]\n",
    "ex5.drop_duplicates(inplace=True)\n",
    "ex5.sort_values(by='auc', ascending = False)"
   ]
  },
  {
   "cell_type": "code",
   "execution_count": 143,
   "id": "047f6e0f-2a28-4bc4-805f-df5c85369dd8",
   "metadata": {},
   "outputs": [],
   "source": [
    "gcn_df = ex5[(ex5['model'] == 'GCN') & (ex5['gamma'] == 0.8) & (ex5['theta'] == 1e7)]\n",
    "non_gcn_df = ex5[ex5['model'] != 'GCN']\n",
    "ex55 = pd.concat([gcn_df, non_gcn_df], ignore_index=True)"
   ]
  },
  {
   "cell_type": "code",
   "execution_count": 144,
   "id": "30e49fe6-71d8-4673-b838-c290b8caa1ec",
   "metadata": {},
   "outputs": [
    {
     "data": {
      "text/html": [
       "<div>\n",
       "<style scoped>\n",
       "    .dataframe tbody tr th:only-of-type {\n",
       "        vertical-align: middle;\n",
       "    }\n",
       "\n",
       "    .dataframe tbody tr th {\n",
       "        vertical-align: top;\n",
       "    }\n",
       "\n",
       "    .dataframe thead th {\n",
       "        text-align: right;\n",
       "    }\n",
       "</style>\n",
       "<table border=\"1\" class=\"dataframe\">\n",
       "  <thead>\n",
       "    <tr style=\"text-align: right;\">\n",
       "      <th></th>\n",
       "      <th>model</th>\n",
       "      <th>time</th>\n",
       "      <th>acc</th>\n",
       "      <th>pre</th>\n",
       "      <th>rec</th>\n",
       "      <th>f1</th>\n",
       "      <th>auc</th>\n",
       "      <th>graph_based</th>\n",
       "      <th>method</th>\n",
       "      <th>throw_rate</th>\n",
       "      <th>train_size</th>\n",
       "      <th>train_cols</th>\n",
       "      <th>train_frate</th>\n",
       "      <th>test_size</th>\n",
       "      <th>test_frate</th>\n",
       "      <th>hyper_params</th>\n",
       "      <th>theta</th>\n",
       "      <th>gamma</th>\n",
       "      <th>diff</th>\n",
       "    </tr>\n",
       "  </thead>\n",
       "  <tbody>\n",
       "    <tr>\n",
       "      <th>0</th>\n",
       "      <td>GCN</td>\n",
       "      <td>NaN</td>\n",
       "      <td>0.088967</td>\n",
       "      <td>0.005091</td>\n",
       "      <td>1.000000</td>\n",
       "      <td>0.010131</td>\n",
       "      <td>0.684231</td>\n",
       "      <td>True</td>\n",
       "      <td>Proposed</td>\n",
       "      <td>0.7</td>\n",
       "      <td>6006</td>\n",
       "      <td>amt</td>\n",
       "      <td>0.998002</td>\n",
       "      <td>2574</td>\n",
       "      <td>0.005000</td>\n",
       "      <td>NaN</td>\n",
       "      <td>10000000.0</td>\n",
       "      <td>0.8</td>\n",
       "      <td>0.993002</td>\n",
       "    </tr>\n",
       "    <tr>\n",
       "      <th>1</th>\n",
       "      <td>GCN</td>\n",
       "      <td>NaN</td>\n",
       "      <td>0.868798</td>\n",
       "      <td>0.036675</td>\n",
       "      <td>1.000000</td>\n",
       "      <td>0.070755</td>\n",
       "      <td>0.972189</td>\n",
       "      <td>True</td>\n",
       "      <td>Proposed</td>\n",
       "      <td>0.6</td>\n",
       "      <td>7007</td>\n",
       "      <td>amt</td>\n",
       "      <td>0.855002</td>\n",
       "      <td>3003</td>\n",
       "      <td>0.005000</td>\n",
       "      <td>NaN</td>\n",
       "      <td>10000000.0</td>\n",
       "      <td>0.8</td>\n",
       "      <td>0.850002</td>\n",
       "    </tr>\n",
       "    <tr>\n",
       "      <th>2</th>\n",
       "      <td>GCN</td>\n",
       "      <td>NaN</td>\n",
       "      <td>0.905912</td>\n",
       "      <td>0.050420</td>\n",
       "      <td>1.000000</td>\n",
       "      <td>0.096000</td>\n",
       "      <td>0.972478</td>\n",
       "      <td>True</td>\n",
       "      <td>Proposed</td>\n",
       "      <td>0.5</td>\n",
       "      <td>8409</td>\n",
       "      <td>amt</td>\n",
       "      <td>0.712094</td>\n",
       "      <td>3603</td>\n",
       "      <td>0.005000</td>\n",
       "      <td>NaN</td>\n",
       "      <td>10000000.0</td>\n",
       "      <td>0.8</td>\n",
       "      <td>0.707094</td>\n",
       "    </tr>\n",
       "    <tr>\n",
       "      <th>3</th>\n",
       "      <td>GCN</td>\n",
       "      <td>NaN</td>\n",
       "      <td>0.908526</td>\n",
       "      <td>0.046512</td>\n",
       "      <td>0.909091</td>\n",
       "      <td>0.088496</td>\n",
       "      <td>0.969702</td>\n",
       "      <td>True</td>\n",
       "      <td>Proposed</td>\n",
       "      <td>0.4</td>\n",
       "      <td>10511</td>\n",
       "      <td>amt</td>\n",
       "      <td>0.569308</td>\n",
       "      <td>4504</td>\n",
       "      <td>0.005000</td>\n",
       "      <td>NaN</td>\n",
       "      <td>10000000.0</td>\n",
       "      <td>0.8</td>\n",
       "      <td>0.564308</td>\n",
       "    </tr>\n",
       "    <tr>\n",
       "      <th>4</th>\n",
       "      <td>GCN</td>\n",
       "      <td>NaN</td>\n",
       "      <td>0.923576</td>\n",
       "      <td>0.055901</td>\n",
       "      <td>0.900000</td>\n",
       "      <td>0.105263</td>\n",
       "      <td>0.969327</td>\n",
       "      <td>True</td>\n",
       "      <td>Proposed</td>\n",
       "      <td>0.3</td>\n",
       "      <td>14014</td>\n",
       "      <td>amt</td>\n",
       "      <td>0.426431</td>\n",
       "      <td>6006</td>\n",
       "      <td>0.005000</td>\n",
       "      <td>NaN</td>\n",
       "      <td>10000000.0</td>\n",
       "      <td>0.8</td>\n",
       "      <td>0.421431</td>\n",
       "    </tr>\n",
       "    <tr>\n",
       "      <th>...</th>\n",
       "      <td>...</td>\n",
       "      <td>...</td>\n",
       "      <td>...</td>\n",
       "      <td>...</td>\n",
       "      <td>...</td>\n",
       "      <td>...</td>\n",
       "      <td>...</td>\n",
       "      <td>...</td>\n",
       "      <td>...</td>\n",
       "      <td>...</td>\n",
       "      <td>...</td>\n",
       "      <td>...</td>\n",
       "      <td>...</td>\n",
       "      <td>...</td>\n",
       "      <td>...</td>\n",
       "      <td>...</td>\n",
       "      <td>...</td>\n",
       "      <td>...</td>\n",
       "      <td>...</td>\n",
       "    </tr>\n",
       "    <tr>\n",
       "      <th>916</th>\n",
       "      <td>LOF</td>\n",
       "      <td>0.048290</td>\n",
       "      <td>0.660340</td>\n",
       "      <td>0.004926</td>\n",
       "      <td>0.333333</td>\n",
       "      <td>0.009709</td>\n",
       "      <td>0.497657</td>\n",
       "      <td>False</td>\n",
       "      <td>pyod</td>\n",
       "      <td>0.2</td>\n",
       "      <td>21021</td>\n",
       "      <td>['amt']</td>\n",
       "      <td>0.283574</td>\n",
       "      <td>9009</td>\n",
       "      <td>0.004995</td>\n",
       "      <td>NaN</td>\n",
       "      <td>NaN</td>\n",
       "      <td>NaN</td>\n",
       "      <td>0.278579</td>\n",
       "    </tr>\n",
       "    <tr>\n",
       "      <th>917</th>\n",
       "      <td>MCD</td>\n",
       "      <td>0.007908</td>\n",
       "      <td>0.908314</td>\n",
       "      <td>0.042204</td>\n",
       "      <td>0.800000</td>\n",
       "      <td>0.080178</td>\n",
       "      <td>0.854429</td>\n",
       "      <td>False</td>\n",
       "      <td>pyod</td>\n",
       "      <td>0.2</td>\n",
       "      <td>21021</td>\n",
       "      <td>['amt']</td>\n",
       "      <td>0.283574</td>\n",
       "      <td>9009</td>\n",
       "      <td>0.004995</td>\n",
       "      <td>NaN</td>\n",
       "      <td>NaN</td>\n",
       "      <td>NaN</td>\n",
       "      <td>0.278579</td>\n",
       "    </tr>\n",
       "    <tr>\n",
       "      <th>918</th>\n",
       "      <td>OCSVM</td>\n",
       "      <td>21.557708</td>\n",
       "      <td>0.902875</td>\n",
       "      <td>0.039911</td>\n",
       "      <td>0.800000</td>\n",
       "      <td>0.076030</td>\n",
       "      <td>0.851696</td>\n",
       "      <td>False</td>\n",
       "      <td>pyod</td>\n",
       "      <td>0.2</td>\n",
       "      <td>21021</td>\n",
       "      <td>['amt']</td>\n",
       "      <td>0.283574</td>\n",
       "      <td>9009</td>\n",
       "      <td>0.004995</td>\n",
       "      <td>NaN</td>\n",
       "      <td>NaN</td>\n",
       "      <td>NaN</td>\n",
       "      <td>0.278579</td>\n",
       "    </tr>\n",
       "    <tr>\n",
       "      <th>919</th>\n",
       "      <td>PCA</td>\n",
       "      <td>0.004143</td>\n",
       "      <td>0.669331</td>\n",
       "      <td>0.002037</td>\n",
       "      <td>0.133333</td>\n",
       "      <td>0.004012</td>\n",
       "      <td>0.402677</td>\n",
       "      <td>False</td>\n",
       "      <td>pyod</td>\n",
       "      <td>0.2</td>\n",
       "      <td>21021</td>\n",
       "      <td>['amt']</td>\n",
       "      <td>0.283574</td>\n",
       "      <td>9009</td>\n",
       "      <td>0.004995</td>\n",
       "      <td>NaN</td>\n",
       "      <td>NaN</td>\n",
       "      <td>NaN</td>\n",
       "      <td>0.278579</td>\n",
       "    </tr>\n",
       "    <tr>\n",
       "      <th>920</th>\n",
       "      <td>ROD</td>\n",
       "      <td>3.490507</td>\n",
       "      <td>0.744145</td>\n",
       "      <td>0.000442</td>\n",
       "      <td>0.022222</td>\n",
       "      <td>0.000867</td>\n",
       "      <td>0.384996</td>\n",
       "      <td>False</td>\n",
       "      <td>pyod</td>\n",
       "      <td>0.2</td>\n",
       "      <td>21021</td>\n",
       "      <td>['amt']</td>\n",
       "      <td>0.283574</td>\n",
       "      <td>9009</td>\n",
       "      <td>0.004995</td>\n",
       "      <td>NaN</td>\n",
       "      <td>NaN</td>\n",
       "      <td>NaN</td>\n",
       "      <td>0.278579</td>\n",
       "    </tr>\n",
       "  </tbody>\n",
       "</table>\n",
       "<p>921 rows × 19 columns</p>\n",
       "</div>"
      ],
      "text/plain": [
       "     model       time       acc       pre       rec        f1       auc  \\\n",
       "0      GCN        NaN  0.088967  0.005091  1.000000  0.010131  0.684231   \n",
       "1      GCN        NaN  0.868798  0.036675  1.000000  0.070755  0.972189   \n",
       "2      GCN        NaN  0.905912  0.050420  1.000000  0.096000  0.972478   \n",
       "3      GCN        NaN  0.908526  0.046512  0.909091  0.088496  0.969702   \n",
       "4      GCN        NaN  0.923576  0.055901  0.900000  0.105263  0.969327   \n",
       "..     ...        ...       ...       ...       ...       ...       ...   \n",
       "916    LOF   0.048290  0.660340  0.004926  0.333333  0.009709  0.497657   \n",
       "917    MCD   0.007908  0.908314  0.042204  0.800000  0.080178  0.854429   \n",
       "918  OCSVM  21.557708  0.902875  0.039911  0.800000  0.076030  0.851696   \n",
       "919    PCA   0.004143  0.669331  0.002037  0.133333  0.004012  0.402677   \n",
       "920    ROD   3.490507  0.744145  0.000442  0.022222  0.000867  0.384996   \n",
       "\n",
       "     graph_based    method  throw_rate  train_size train_cols  train_frate  \\\n",
       "0           True  Proposed         0.7        6006        amt     0.998002   \n",
       "1           True  Proposed         0.6        7007        amt     0.855002   \n",
       "2           True  Proposed         0.5        8409        amt     0.712094   \n",
       "3           True  Proposed         0.4       10511        amt     0.569308   \n",
       "4           True  Proposed         0.3       14014        amt     0.426431   \n",
       "..           ...       ...         ...         ...        ...          ...   \n",
       "916        False      pyod         0.2       21021    ['amt']     0.283574   \n",
       "917        False      pyod         0.2       21021    ['amt']     0.283574   \n",
       "918        False      pyod         0.2       21021    ['amt']     0.283574   \n",
       "919        False      pyod         0.2       21021    ['amt']     0.283574   \n",
       "920        False      pyod         0.2       21021    ['amt']     0.283574   \n",
       "\n",
       "     test_size  test_frate  hyper_params       theta  gamma      diff  \n",
       "0         2574    0.005000           NaN  10000000.0    0.8  0.993002  \n",
       "1         3003    0.005000           NaN  10000000.0    0.8  0.850002  \n",
       "2         3603    0.005000           NaN  10000000.0    0.8  0.707094  \n",
       "3         4504    0.005000           NaN  10000000.0    0.8  0.564308  \n",
       "4         6006    0.005000           NaN  10000000.0    0.8  0.421431  \n",
       "..         ...         ...           ...         ...    ...       ...  \n",
       "916       9009    0.004995           NaN         NaN    NaN  0.278579  \n",
       "917       9009    0.004995           NaN         NaN    NaN  0.278579  \n",
       "918       9009    0.004995           NaN         NaN    NaN  0.278579  \n",
       "919       9009    0.004995           NaN         NaN    NaN  0.278579  \n",
       "920       9009    0.004995           NaN         NaN    NaN  0.278579  \n",
       "\n",
       "[921 rows x 19 columns]"
      ]
     },
     "execution_count": 144,
     "metadata": {},
     "output_type": "execute_result"
    }
   ],
   "source": [
    "ex55"
   ]
  },
  {
   "cell_type": "code",
   "execution_count": null,
   "id": "f0847202-f1c1-4f86-914e-6b73f496c874",
   "metadata": {},
   "outputs": [],
   "source": []
  },
  {
   "cell_type": "code",
   "execution_count": null,
   "id": "73d502cf-fbe2-469a-ae0b-3d9742a4f85f",
   "metadata": {},
   "outputs": [],
   "source": []
  },
  {
   "cell_type": "code",
   "execution_count": 148,
   "id": "1cca1a7c-8b1a-4c72-af16-130aa8151d3c",
   "metadata": {},
   "outputs": [],
   "source": [
    "import plotly.io as pio\n",
    "def plot_auc_curve(df):\n",
    "    filtered_df = df[(df['pre'] != 0) & (df['rec'] != 0) & (df['f1'] != 0)]\n",
    "    max_auc_df = filtered_df.groupby('model')['auc'].max().reset_index()\n",
    "    filtered_df = pd.merge(filtered_df, max_auc_df, how='inner', on=['model', 'auc'])\n",
    "    max_auc_df = filtered_df.sort_values(by='auc', ascending=False)\n",
    "\n",
    "    fig = px.bar(max_auc_df, x='train_frate', y='auc',\n",
    "                 hover_data=['throw_rate', 'train_frate', 'train_size', 'test_frate', 'test_size'],\n",
    "                 labels={'auc': 'AUC', 'model': 'Model'},\n",
    "                 title='AUC Value for Models',\n",
    "                 color='model')\n",
    "\n",
    "    fig.update_traces(marker_line_color='rgb(8,48,107)', marker_line_width=1.5, opacity=0.6)\n",
    "\n",
    "    fig.update_layout(\n",
    "        xaxis=dict(tickangle=45),\n",
    "        hovermode='closest',\n",
    "    )\n",
    "\n",
    "    \n",
    "    fig.show()"
   ]
  },
  {
   "cell_type": "code",
   "execution_count": null,
   "id": "1c141a9a-0699-4191-9168-9c0020852222",
   "metadata": {},
   "outputs": [],
   "source": []
  },
  {
   "cell_type": "code",
   "execution_count": 153,
   "id": "8a50e1b6-885a-4623-ae71-e82311a27df6",
   "metadata": {},
   "outputs": [],
   "source": [
    "import plotly.graph_objects as go\n",
    "\n",
    "def plot_merged_df3(merged_df):\n",
    "\n",
    "\n",
    "    filtered_df = merged_df.sort_values(by=['train_frate', 'model', 'auc'], ascending=[True, True, False]) \\\n",
    "        .drop_duplicates(subset=['train_frate', 'model'])\n",
    "\n",
    "    label_order = filtered_df.groupby('model')['auc'].max().sort_values(ascending=False).index\n",
    "\n",
    "    fig = go.Figure()\n",
    "    for model in label_order:\n",
    "            group = filtered_df[filtered_df['model'] == model]\n",
    "            fig.add_trace(go.Scatter(\n",
    "                x=group['train_frate'],\n",
    "                y=group['auc'],\n",
    "                mode='lines+markers',\n",
    "                name=model\n",
    "            ))\n",
    "\n",
    "    fig.update_layout(\n",
    "        xaxis_title='Fraud transaction rate',\n",
    "        yaxis_title='AUC',\n",
    "        xaxis=dict(range=[0.14, 0.7]),\n",
    "        yaxis=dict(range=[0.92, 1]),\n",
    "        legend=dict(\n",
    "            x=1.05,\n",
    "            y=1,\n",
    "            traceorder='normal',\n",
    "            font=dict(\n",
    "                family='Arial',\n",
    "                size=12,\n",
    "                color='black'\n",
    "            ),\n",
    "           # bgcolor='LightSteelBlue',\n",
    "         #   bordercolor='Black',\n",
    "         #   borderwidth=1\n",
    "        )\n",
    "    )\n",
    "\n",
    "    fig.show()"
   ]
  },
  {
   "cell_type": "code",
   "execution_count": 154,
   "id": "676c87df-5208-4775-8580-2e87b75cfc8e",
   "metadata": {},
   "outputs": [
    {
     "data": {
      "application/vnd.plotly.v1+json": {
       "config": {
        "plotlyServerURL": "https://plot.ly"
       },
       "data": [
        {
         "mode": "lines+markers",
         "name": "LightGBMXT_BAG_L1",
         "type": "scatter",
         "x": [
          0.283573569287855,
          0.4264307121449978,
          0.7120941848019978
         ],
         "y": [
          0.931610392186028,
          0.9864569388665776,
          0.9735394390206106
         ]
        },
        {
         "mode": "lines+markers",
         "name": "LightGBM",
         "type": "scatter",
         "x": [
          0.0059763742481848,
          0.0059890899380745,
          0.0692878550021407,
          0.083573569287855,
          0.0978687978687978,
          0.1121534450935246,
          0.1264289078220662,
          0.1407164264307121,
          0.283573569287855,
          0.4264307121449978,
          0.7120941848019978,
          0.8550021407164264
         ],
         "y": [
          0.8715052677118452,
          0.929551167584517,
          0.9565317597550697,
          0.9577640562248996,
          0.9639985041191628,
          0.9607326129916492,
          0.9642266178020984,
          0.9660013510833456,
          0.96976176310179,
          0.9861752565818832,
          0.9747094374709436,
          0.972958500669344
         ]
        },
        {
         "mode": "lines+markers",
         "name": "CatBoost_BAG_L1",
         "type": "scatter",
         "x": [
          0.283573569287855,
          0.4264307121449978,
          0.7120941848019978
         ],
         "y": [
          0.967803312013486,
          0.9855421686746988,
          0.9786998295366496
         ]
        },
        {
         "mode": "lines+markers",
         "name": "LightGBMXT",
         "type": "scatter",
         "x": [
          0.083573569287855,
          0.0978687978687978,
          0.1121534450935246,
          0.1264289078220662,
          0.1407164264307121,
          0.283573569287855,
          0.4264307121449978,
          0.7120941848019978,
          0.8550021407164264
         ],
         "y": [
          0.9348333333333332,
          0.9499918556243168,
          0.9490151080512526,
          0.9473399769064712,
          0.9577464177698448,
          0.9322970895929396,
          0.9852465417224452,
          0.9691228885789556,
          0.9587795626952254
         ]
        },
        {
         "mode": "lines+markers",
         "name": "LightGBM_BAG_L1",
         "type": "scatter",
         "x": [
          0.283573569287855,
          0.4264307121449978,
          0.7120941848019978
         ],
         "y": [
          0.970693886657742,
          0.9849899598393574,
          0.9799085696575236
         ]
        },
        {
         "mode": "lines+markers",
         "name": "LightGBMLarge_BAG_L1",
         "type": "scatter",
         "x": [
          0.283573569287855,
          0.4264307121449978,
          0.7120941848019978
         ],
         "y": [
          0.9702154296197134,
          0.984758478357876,
          0.9791647295831396
         ]
        },
        {
         "mode": "lines+markers",
         "name": "LightGBMLarge",
         "type": "scatter",
         "x": [
          0.0059890899380745,
          0.0692878550021407,
          0.083573569287855,
          0.0978687978687978,
          0.1121534450935246,
          0.1264289078220662,
          0.1407164264307121,
          0.283573569287855,
          0.4264307121449978,
          0.7120941848019978,
          0.8550021407164264
         ],
         "y": [
          0.926201416874107,
          0.9526354646982992,
          0.9565857875948236,
          0.9628648497286428,
          0.9541551125135465,
          0.9634193483608616,
          0.9654726932421044,
          0.9703294660121968,
          0.9845939312806782,
          0.9737563923756392,
          0.9600401606425704
         ]
        },
        {
         "mode": "lines+markers",
         "name": "XGBoost_BAG_L1",
         "type": "scatter",
         "x": [
          0.283573569287855,
          0.4264307121449978,
          0.7120941848019978
         ],
         "y": [
          0.9707818930041152,
          0.9843736055332442,
          0.9747249341391602
         ]
        },
        {
         "mode": "lines+markers",
         "name": "NeuralNetTorch_BAG_L1",
         "type": "scatter",
         "x": [
          0.283573569287855,
          0.4264307121449978,
          0.7120941848019978
         ],
         "y": [
          0.9651445287322128,
          0.9820392681838466,
          0.9761971176197116
         ]
        },
        {
         "mode": "lines+markers",
         "name": "CatBoost",
         "type": "scatter",
         "x": [
          0.0692878550021407,
          0.083573569287855,
          0.0978687978687978,
          0.1121534450935246,
          0.1264289078220662,
          0.1407164264307121,
          0.283573569287855,
          0.4264307121449978,
          0.7120941848019978,
          0.8550021407164264
         ],
         "y": [
          0.9452074501710546,
          0.9514067380633646,
          0.9583271818385912,
          0.9526044654809716,
          0.9573279281088408,
          0.9633032128514056,
          0.947925033467202,
          0.9815763052208836,
          0.973748644041531,
          0.9717759928603302
         ]
        },
        {
         "mode": "lines+markers",
         "name": "XGBoost",
         "type": "scatter",
         "x": [
          0.0058835571933384,
          0.0059763742481848,
          0.0059890899380745,
          0.0692878550021407,
          0.083573569287855,
          0.0978687978687978,
          0.1121534450935246,
          0.1264289078220662,
          0.1407164264307121,
          0.283573569287855,
          0.4264307121449978,
          0.7120941848019978,
          0.8550021407164264
         ],
         "y": [
          0.9503450885500856,
          0.8730865273901834,
          0.8476767243942549,
          0.9395933270117506,
          0.9389437751004016,
          0.9559378599387006,
          0.954297547332186,
          0.9566986294492696,
          0.9626568000396648,
          0.9707980068421836,
          0.9812388442659528,
          0.9721369905470324,
          0.9636769299419904
         ]
        },
        {
         "mode": "lines+markers",
         "name": "NeuralNetTorch",
         "type": "scatter",
         "x": [
          0.0692878550021407,
          0.083573569287855,
          0.0978687978687978,
          0.1121534450935246,
          0.1264289078220662,
          0.1407164264307121,
          0.283573569287855,
          0.4264307121449978,
          0.7120941848019978,
          0.8550021407164264
         ],
         "y": [
          0.9526740449452128,
          0.9505564480142794,
          0.9580756822973606,
          0.9620169168738446,
          0.9615128771524676,
          0.9589422504834152,
          0.9632728444642767,
          0.9805667112896028,
          0.9735781806911514,
          0.9525881302989736
         ]
        },
        {
         "mode": "lines+markers",
         "name": "ExtraTreesEntr_BAG_L1",
         "type": "scatter",
         "x": [
          0.283573569287855,
          0.4264307121449978,
          0.7120941848019978
         ],
         "y": [
          0.954544102335267,
          0.9798276439089691,
          0.9599953509995351
         ]
        },
        {
         "mode": "lines+markers",
         "name": "KNeighborsUnif_BAG_L1",
         "type": "scatter",
         "x": [
          0.283573569287855,
          0.4264307121449978,
          0.7120941848019978
         ],
         "y": [
          0.957158262680351,
          0.9789909638554216,
          0.9601115760111576
         ]
        },
        {
         "mode": "lines+markers",
         "name": "ExtraTreesEntr",
         "type": "scatter",
         "x": [
          0.0058835571933384,
          0.0059763742481848,
          0.0059890899380745,
          0.0692878550021407,
          0.083573569287855,
          0.0978687978687978,
          0.1121534450935246,
          0.1264289078220662,
          0.1407164264307121,
          0.283573569287855,
          0.4264307121449978,
          0.7120941848019978,
          0.8550021407164264
         ],
         "y": [
          0.9014130432857176,
          0.9182988507564592,
          0.883055782957162,
          0.9209628638008824,
          0.924770526550647,
          0.93974397377206,
          0.9361854162682476,
          0.9292409257492846,
          0.9449929347017704,
          0.961570975259061,
          0.978951918786256,
          0.9564233689756704,
          0.9510486390004462
         ]
        },
        {
         "mode": "lines+markers",
         "name": "RandomForestGini_BAG_L1",
         "type": "scatter",
         "x": [
          0.283573569287855,
          0.4264307121449978,
          0.7120941848019978
         ],
         "y": [
          0.9525137587386584,
          0.9785837795626952,
          0.9501162250116224
         ]
        },
        {
         "mode": "lines+markers",
         "name": "RandomForestEntr_BAG_L1",
         "type": "scatter",
         "x": [
          0.283573569287855,
          0.4264307121449978,
          0.7120941848019978
         ],
         "y": [
          0.9525137587386584,
          0.9785837795626952,
          0.9501162250116224
         ]
        },
        {
         "mode": "lines+markers",
         "name": "ExtraTreesGini_BAG_L1",
         "type": "scatter",
         "x": [
          0.283573569287855,
          0.4264307121449978,
          0.7120941848019978
         ],
         "y": [
          0.953986315632902,
          0.9784024988844268,
          0.9598868743220208
         ]
        },
        {
         "mode": "lines+markers",
         "name": "ExtraTreesGini",
         "type": "scatter",
         "x": [
          0.0058835571933384,
          0.0059763742481848,
          0.0059890899380745,
          0.0692878550021407,
          0.083573569287855,
          0.0978687978687978,
          0.1121534450935246,
          0.1264289078220662,
          0.1407164264307121,
          0.283573569287855,
          0.4264307121449978,
          0.7120941848019978,
          0.8550021407164264
         ],
         "y": [
          0.9029600859318248,
          0.9087604546790669,
          0.8897009580878924,
          0.9188199557489216,
          0.9219074074074076,
          0.9366131171423552,
          0.939368386243386,
          0.9253205482202922,
          0.9496005627448064,
          0.9534967028608262,
          0.9780845604640784,
          0.9562993956299396,
          0.952454261490406
         ]
        },
        {
         "mode": "lines+markers",
         "name": "RandomForestGini",
         "type": "scatter",
         "x": [
          0.0058835571933384,
          0.0059763742481848,
          0.0059890899380745,
          0.0692878550021407,
          0.083573569287855,
          0.0978687978687978,
          0.1121534450935246,
          0.1264289078220662,
          0.1407164264307121,
          0.283573569287855,
          0.4264307121449978,
          0.7120941848019978,
          0.8550021407164264
         ],
         "y": [
          0.892117365671228,
          0.9086414762450096,
          0.8788187491559278,
          0.9101236737071744,
          0.9162986390004464,
          0.9294611656645324,
          0.9286843803786576,
          0.9131474973643257,
          0.9351467598790224,
          0.9431355049828946,
          0.977549085229808,
          0.9480241748024174,
          0.935519857206604
         ]
        },
        {
         "mode": "lines+markers",
         "name": "RandomForestEntr",
         "type": "scatter",
         "x": [
          0.0058835571933384,
          0.0059763742481848,
          0.0059890899380745,
          0.0692878550021407,
          0.083573569287855,
          0.0978687978687978,
          0.1121534450935246,
          0.1264289078220662,
          0.1407164264307121,
          0.283573569287855,
          0.4264307121449978,
          0.7120941848019978,
          0.8550021407164264
         ],
         "y": [
          0.890628779121935,
          0.909114700653889,
          0.8792919853299564,
          0.9101236737071744,
          0.9162986390004464,
          0.9294611656645324,
          0.9286843803786576,
          0.9131474973643257,
          0.9351467598790224,
          0.9431355049828946,
          0.977549085229808,
          0.9480241748024174,
          0.935519857206604
         ]
        },
        {
         "mode": "lines+markers",
         "name": "KNeighborsUnif",
         "type": "scatter",
         "x": [
          0.0058835571933384,
          0.0059763742481848,
          0.0059890899380745,
          0.0692878550021407,
          0.083573569287855,
          0.0978687978687978,
          0.1121534450935246,
          0.1264289078220662,
          0.1407164264307121,
          0.283573569287855,
          0.4264307121449978,
          0.7120941848019978,
          0.8550021407164264
         ],
         "y": [
          0.7130564621852414,
          0.7258450773774561,
          0.6860674046149835,
          0.8870262686548663,
          0.8955647032574743,
          0.904912736217398,
          0.9168881876713202,
          0.8983586023394748,
          0.9246439461549903,
          0.9587175863949626,
          0.9767626059794734,
          0.9536417170308384,
          0.9282240071396698
         ]
        },
        {
         "mode": "lines+markers",
         "name": "GCN",
         "type": "scatter",
         "x": [
          0.1407164264307121,
          0.283573569287855,
          0.4264307121449978,
          0.5693083436399962,
          0.7120941848019978,
          0.8550021407164264,
          0.998001998001998
         ],
         "y": [
          0.9755543780058504,
          0.9678392582676384,
          0.969327309236948,
          0.9697020404851732,
          0.9724779172477918,
          0.9721887550200804,
          0.6842310694769711
         ]
        },
        {
         "mode": "lines+markers",
         "name": "KNeighborsDist_BAG_L1",
         "type": "scatter",
         "x": [
          0.283573569287855,
          0.4264307121449978,
          0.7120941848019978
         ],
         "y": [
          0.9299209182408644,
          0.9624609549308344,
          0.9243685107701844
         ]
        },
        {
         "mode": "lines+markers",
         "name": "KNeighborsDist",
         "type": "scatter",
         "x": [
          0.0058835571933384,
          0.0059763742481848,
          0.0059890899380745,
          0.0692878550021407,
          0.083573569287855,
          0.0978687978687978,
          0.1121534450935246,
          0.1264289078220662,
          0.1407164264307121,
          0.283573569287855,
          0.4264307121449978,
          0.7120941848019978,
          0.8550021407164264
         ],
         "y": [
          0.713639933063,
          0.7264635902662682,
          0.6865299422612963,
          0.8745607429718875,
          0.8774809236947791,
          0.8855957717573794,
          0.8981244422132976,
          0.8783924895828105,
          0.8997431082354108,
          0.9302208835341366,
          0.9613370147255688,
          0.92155586548892,
          0.9089692101740297
         ]
        },
        {
         "mode": "lines+markers",
         "name": "NeuralNetFastAI_BAG_L1",
         "type": "scatter",
         "x": [
          0.283573569287855,
          0.4264307121449978,
          0.7120941848019978
         ],
         "y": [
          0.9136918042540532,
          0.9607318161535028,
          0.9444599411126609
         ]
        },
        {
         "mode": "lines+markers",
         "name": "NeuralNetFastAI",
         "type": "scatter",
         "x": [
          0.0692878550021407,
          0.083573569287855,
          0.0978687978687978,
          0.1121534450935246,
          0.1264289078220662,
          0.1407164264307121,
          0.283573569287855,
          0.4264307121449978,
          0.7120941848019978,
          0.8550021407164264
         ],
         "y": [
          0.8958371293817244,
          0.8760269968763945,
          0.9360474338200844,
          0.900734883980366,
          0.8992301320347407,
          0.9446021741286132,
          0.9134885219891914,
          0.9545069165551092,
          0.9577870757787076,
          0.950669344042838
         ]
        },
        {
         "mode": "lines+markers",
         "name": "IForest",
         "type": "scatter",
         "x": [
          0.0692878550021407,
          0.083573569287855,
          0.0978687978687978,
          0.1121534450935246,
          0.1264289078220662,
          0.283573569287855,
          0.4264307121449978
         ],
         "y": [
          0.8312639446675592,
          0.84440093708166,
          0.8541076936592222,
          0.8517697775227896,
          0.8687843265224158,
          0.8557675145024544,
          0.8690930388219544
         ]
        },
        {
         "mode": "lines+markers",
         "name": "MCD",
         "type": "scatter",
         "x": [
          0.0692878550021407,
          0.083573569287855,
          0.0978687978687978,
          0.1121534450935246,
          0.1264289078220662,
          0.283573569287855,
          0.4264307121449978
         ],
         "y": [
          0.8313894466755913,
          0.8443842034805892,
          0.8539905610651257,
          0.8518813348632626,
          0.8635333099051157,
          0.8544288264167782,
          0.8678380187416331
         ]
        },
        {
         "mode": "lines+markers",
         "name": "KDE",
         "type": "scatter",
         "x": [
          0.0692878550021407,
          0.083573569287855,
          0.0978687978687978,
          0.1121534450935246,
          0.1264289078220662,
          0.283573569287855,
          0.4264307121449978
         ],
         "y": [
          0.8062388442659527,
          0.8248058902275771,
          0.8347344506481337,
          0.8346732166762286,
          0.8487890958381444,
          0.8522534582775547,
          0.8675870147255689
         ]
        },
        {
         "mode": "lines+markers",
         "name": "INNE",
         "type": "scatter",
         "x": [
          0.0692878550021407,
          0.083573569287855,
          0.0978687978687978,
          0.1121534450935246,
          0.1264289078220662,
          0.283573569287855,
          0.4264307121449978
         ],
         "y": [
          0.8315149486836235,
          0.8446519410977242,
          0.8581115541543027,
          0.851970580735641,
          0.8640353431397159,
          0.8550981704596162,
          0.7876171352074967
         ]
        },
        {
         "mode": "lines+markers",
         "name": "GMM",
         "type": "scatter",
         "x": [
          0.0692878550021407,
          0.083573569287855,
          0.0978687978687978,
          0.1121534450935246,
          0.1264289078220662,
          0.283573569287855,
          0.4264307121449978
         ],
         "y": [
          0.8313894466755913,
          0.8443842034805892,
          0.8539905610651257,
          0.8464353445528144,
          0.8624037351272654,
          0.6698348951361,
          0.6684069611780454
         ]
        },
        {
         "mode": "lines+markers",
         "name": "COPOD",
         "type": "scatter",
         "x": [
          0.0692878550021407,
          0.083573569287855,
          0.0978687978687978,
          0.1121534450935246,
          0.1264289078220662,
          0.283573569287855,
          0.4264307121449978
         ],
         "y": [
          0.8417949576082107,
          0.839032797858099,
          0.8550697671013587,
          0.8480254350736278,
          0.8587986344696019,
          0.8190093708165997,
          0.8108601070950469
         ]
        },
        {
         "mode": "lines+markers",
         "name": "OCSVM",
         "type": "scatter",
         "x": [
          0.0692878550021407,
          0.083573569287855,
          0.0978687978687978,
          0.1121534450935246,
          0.1264289078220662,
          0.283573569287855,
          0.4264307121449978
         ],
         "y": [
          0.8091281793842034,
          0.8211880856760375,
          0.8348320611432141,
          0.833870003824823,
          0.8435631808825744,
          0.8516956715751897,
          0.8213855421686747
         ]
        },
        {
         "mode": "lines+markers",
         "name": "KNN",
         "type": "scatter",
         "x": [
          0.0692878550021407,
          0.083573569287855,
          0.0978687978687978,
          0.1121534450935246,
          0.1264289078220662,
          0.283573569287855,
          0.4264307121449978
         ],
         "y": [
          0.7950301204819278,
          0.7947556894243643,
          0.8111212517569888,
          0.7972409479186587,
          0.8125340127516442,
          0.8140116019634092,
          0.8026941097724231
         ]
        },
        {
         "mode": "lines+markers",
         "name": "MAD",
         "type": "scatter",
         "x": [
          0.283573569287855,
          0.4264307121449978
         ],
         "y": [
          0.7695225345827756,
          0.7767235609103078
         ]
        },
        {
         "mode": "lines+markers",
         "name": "ECOD",
         "type": "scatter",
         "x": [
          0.0692878550021407,
          0.083573569287855,
          0.0978687978687978,
          0.1121534450935246,
          0.1264289078220662,
          0.283573569287855,
          0.4264307121449978
         ],
         "y": [
          0.7131302989736725,
          0.7105488621151271,
          0.7093708515539591,
          0.7176503633581947,
          0.7211724986194087,
          0.7365015618027666,
          0.7558400267737617
         ]
        },
        {
         "mode": "lines+markers",
         "name": "PCA",
         "type": "scatter",
         "x": [
          0.0692878550021407,
          0.083573569287855,
          0.0978687978687978,
          0.1121534450935246,
          0.1264289078220662,
          0.283573569287855,
          0.4264307121449978
         ],
         "y": [
          0.7002147478804106,
          0.6804953145917001,
          0.6689204523270342,
          0.6413782112577293,
          0.6221311310808776,
          0.402677376171352,
          0.2605087014725569
         ]
        },
        {
         "mode": "lines+markers",
         "name": "LODA",
         "type": "scatter",
         "x": [
          0.0692878550021407
         ],
         "y": [
          0.5130382641677822
         ]
        },
        {
         "mode": "lines+markers",
         "name": "HBOS",
         "type": "scatter",
         "x": [
          0.0692878550021407
         ],
         "y": [
          0.5130382641677822
         ]
        },
        {
         "mode": "lines+markers",
         "name": "LOF",
         "type": "scatter",
         "x": [
          0.0692878550021407,
          0.083573569287855,
          0.0978687978687978,
          0.1121534450935246,
          0.1264289078220662,
          0.283573569287855,
          0.4264307121449978
         ],
         "y": [
          0.48125,
          0.4765963855421686,
          0.5007888148133688,
          0.4912817938420348,
          0.4966075104171896,
          0.4976572958500669,
          0.4308232931726907
         ]
        },
        {
         "mode": "lines+markers",
         "name": "ROD",
         "type": "scatter",
         "x": [
          0.0692878550021407,
          0.083573569287855,
          0.0978687978687978,
          0.1121534450935246,
          0.1264289078220662,
          0.283573569287855,
          0.4264307121449978
         ],
         "y": [
          0.468351182507809,
          0.4599631860776439,
          0.4495372042401999,
          0.4426615190922419,
          0.4322302826447111,
          0.384995537706381,
          0.3319611780455154
         ]
        }
       ],
       "layout": {
        "autosize": true,
        "legend": {
         "font": {
          "color": "black",
          "family": "Arial",
          "size": 12
         },
         "traceorder": "normal",
         "x": 1.05,
         "y": 1
        },
        "template": {
         "data": {
          "bar": [
           {
            "error_x": {
             "color": "#2a3f5f"
            },
            "error_y": {
             "color": "#2a3f5f"
            },
            "marker": {
             "line": {
              "color": "#E5ECF6",
              "width": 0.5
             },
             "pattern": {
              "fillmode": "overlay",
              "size": 10,
              "solidity": 0.2
             }
            },
            "type": "bar"
           }
          ],
          "barpolar": [
           {
            "marker": {
             "line": {
              "color": "#E5ECF6",
              "width": 0.5
             },
             "pattern": {
              "fillmode": "overlay",
              "size": 10,
              "solidity": 0.2
             }
            },
            "type": "barpolar"
           }
          ],
          "carpet": [
           {
            "aaxis": {
             "endlinecolor": "#2a3f5f",
             "gridcolor": "white",
             "linecolor": "white",
             "minorgridcolor": "white",
             "startlinecolor": "#2a3f5f"
            },
            "baxis": {
             "endlinecolor": "#2a3f5f",
             "gridcolor": "white",
             "linecolor": "white",
             "minorgridcolor": "white",
             "startlinecolor": "#2a3f5f"
            },
            "type": "carpet"
           }
          ],
          "choropleth": [
           {
            "colorbar": {
             "outlinewidth": 0,
             "ticks": ""
            },
            "type": "choropleth"
           }
          ],
          "contour": [
           {
            "colorbar": {
             "outlinewidth": 0,
             "ticks": ""
            },
            "colorscale": [
             [
              0,
              "#0d0887"
             ],
             [
              0.1111111111111111,
              "#46039f"
             ],
             [
              0.2222222222222222,
              "#7201a8"
             ],
             [
              0.3333333333333333,
              "#9c179e"
             ],
             [
              0.4444444444444444,
              "#bd3786"
             ],
             [
              0.5555555555555556,
              "#d8576b"
             ],
             [
              0.6666666666666666,
              "#ed7953"
             ],
             [
              0.7777777777777778,
              "#fb9f3a"
             ],
             [
              0.8888888888888888,
              "#fdca26"
             ],
             [
              1,
              "#f0f921"
             ]
            ],
            "type": "contour"
           }
          ],
          "contourcarpet": [
           {
            "colorbar": {
             "outlinewidth": 0,
             "ticks": ""
            },
            "type": "contourcarpet"
           }
          ],
          "heatmap": [
           {
            "colorbar": {
             "outlinewidth": 0,
             "ticks": ""
            },
            "colorscale": [
             [
              0,
              "#0d0887"
             ],
             [
              0.1111111111111111,
              "#46039f"
             ],
             [
              0.2222222222222222,
              "#7201a8"
             ],
             [
              0.3333333333333333,
              "#9c179e"
             ],
             [
              0.4444444444444444,
              "#bd3786"
             ],
             [
              0.5555555555555556,
              "#d8576b"
             ],
             [
              0.6666666666666666,
              "#ed7953"
             ],
             [
              0.7777777777777778,
              "#fb9f3a"
             ],
             [
              0.8888888888888888,
              "#fdca26"
             ],
             [
              1,
              "#f0f921"
             ]
            ],
            "type": "heatmap"
           }
          ],
          "heatmapgl": [
           {
            "colorbar": {
             "outlinewidth": 0,
             "ticks": ""
            },
            "colorscale": [
             [
              0,
              "#0d0887"
             ],
             [
              0.1111111111111111,
              "#46039f"
             ],
             [
              0.2222222222222222,
              "#7201a8"
             ],
             [
              0.3333333333333333,
              "#9c179e"
             ],
             [
              0.4444444444444444,
              "#bd3786"
             ],
             [
              0.5555555555555556,
              "#d8576b"
             ],
             [
              0.6666666666666666,
              "#ed7953"
             ],
             [
              0.7777777777777778,
              "#fb9f3a"
             ],
             [
              0.8888888888888888,
              "#fdca26"
             ],
             [
              1,
              "#f0f921"
             ]
            ],
            "type": "heatmapgl"
           }
          ],
          "histogram": [
           {
            "marker": {
             "pattern": {
              "fillmode": "overlay",
              "size": 10,
              "solidity": 0.2
             }
            },
            "type": "histogram"
           }
          ],
          "histogram2d": [
           {
            "colorbar": {
             "outlinewidth": 0,
             "ticks": ""
            },
            "colorscale": [
             [
              0,
              "#0d0887"
             ],
             [
              0.1111111111111111,
              "#46039f"
             ],
             [
              0.2222222222222222,
              "#7201a8"
             ],
             [
              0.3333333333333333,
              "#9c179e"
             ],
             [
              0.4444444444444444,
              "#bd3786"
             ],
             [
              0.5555555555555556,
              "#d8576b"
             ],
             [
              0.6666666666666666,
              "#ed7953"
             ],
             [
              0.7777777777777778,
              "#fb9f3a"
             ],
             [
              0.8888888888888888,
              "#fdca26"
             ],
             [
              1,
              "#f0f921"
             ]
            ],
            "type": "histogram2d"
           }
          ],
          "histogram2dcontour": [
           {
            "colorbar": {
             "outlinewidth": 0,
             "ticks": ""
            },
            "colorscale": [
             [
              0,
              "#0d0887"
             ],
             [
              0.1111111111111111,
              "#46039f"
             ],
             [
              0.2222222222222222,
              "#7201a8"
             ],
             [
              0.3333333333333333,
              "#9c179e"
             ],
             [
              0.4444444444444444,
              "#bd3786"
             ],
             [
              0.5555555555555556,
              "#d8576b"
             ],
             [
              0.6666666666666666,
              "#ed7953"
             ],
             [
              0.7777777777777778,
              "#fb9f3a"
             ],
             [
              0.8888888888888888,
              "#fdca26"
             ],
             [
              1,
              "#f0f921"
             ]
            ],
            "type": "histogram2dcontour"
           }
          ],
          "mesh3d": [
           {
            "colorbar": {
             "outlinewidth": 0,
             "ticks": ""
            },
            "type": "mesh3d"
           }
          ],
          "parcoords": [
           {
            "line": {
             "colorbar": {
              "outlinewidth": 0,
              "ticks": ""
             }
            },
            "type": "parcoords"
           }
          ],
          "pie": [
           {
            "automargin": true,
            "type": "pie"
           }
          ],
          "scatter": [
           {
            "fillpattern": {
             "fillmode": "overlay",
             "size": 10,
             "solidity": 0.2
            },
            "type": "scatter"
           }
          ],
          "scatter3d": [
           {
            "line": {
             "colorbar": {
              "outlinewidth": 0,
              "ticks": ""
             }
            },
            "marker": {
             "colorbar": {
              "outlinewidth": 0,
              "ticks": ""
             }
            },
            "type": "scatter3d"
           }
          ],
          "scattercarpet": [
           {
            "marker": {
             "colorbar": {
              "outlinewidth": 0,
              "ticks": ""
             }
            },
            "type": "scattercarpet"
           }
          ],
          "scattergeo": [
           {
            "marker": {
             "colorbar": {
              "outlinewidth": 0,
              "ticks": ""
             }
            },
            "type": "scattergeo"
           }
          ],
          "scattergl": [
           {
            "marker": {
             "colorbar": {
              "outlinewidth": 0,
              "ticks": ""
             }
            },
            "type": "scattergl"
           }
          ],
          "scattermapbox": [
           {
            "marker": {
             "colorbar": {
              "outlinewidth": 0,
              "ticks": ""
             }
            },
            "type": "scattermapbox"
           }
          ],
          "scatterpolar": [
           {
            "marker": {
             "colorbar": {
              "outlinewidth": 0,
              "ticks": ""
             }
            },
            "type": "scatterpolar"
           }
          ],
          "scatterpolargl": [
           {
            "marker": {
             "colorbar": {
              "outlinewidth": 0,
              "ticks": ""
             }
            },
            "type": "scatterpolargl"
           }
          ],
          "scatterternary": [
           {
            "marker": {
             "colorbar": {
              "outlinewidth": 0,
              "ticks": ""
             }
            },
            "type": "scatterternary"
           }
          ],
          "surface": [
           {
            "colorbar": {
             "outlinewidth": 0,
             "ticks": ""
            },
            "colorscale": [
             [
              0,
              "#0d0887"
             ],
             [
              0.1111111111111111,
              "#46039f"
             ],
             [
              0.2222222222222222,
              "#7201a8"
             ],
             [
              0.3333333333333333,
              "#9c179e"
             ],
             [
              0.4444444444444444,
              "#bd3786"
             ],
             [
              0.5555555555555556,
              "#d8576b"
             ],
             [
              0.6666666666666666,
              "#ed7953"
             ],
             [
              0.7777777777777778,
              "#fb9f3a"
             ],
             [
              0.8888888888888888,
              "#fdca26"
             ],
             [
              1,
              "#f0f921"
             ]
            ],
            "type": "surface"
           }
          ],
          "table": [
           {
            "cells": {
             "fill": {
              "color": "#EBF0F8"
             },
             "line": {
              "color": "white"
             }
            },
            "header": {
             "fill": {
              "color": "#C8D4E3"
             },
             "line": {
              "color": "white"
             }
            },
            "type": "table"
           }
          ]
         },
         "layout": {
          "annotationdefaults": {
           "arrowcolor": "#2a3f5f",
           "arrowhead": 0,
           "arrowwidth": 1
          },
          "autotypenumbers": "strict",
          "coloraxis": {
           "colorbar": {
            "outlinewidth": 0,
            "ticks": ""
           }
          },
          "colorscale": {
           "diverging": [
            [
             0,
             "#8e0152"
            ],
            [
             0.1,
             "#c51b7d"
            ],
            [
             0.2,
             "#de77ae"
            ],
            [
             0.3,
             "#f1b6da"
            ],
            [
             0.4,
             "#fde0ef"
            ],
            [
             0.5,
             "#f7f7f7"
            ],
            [
             0.6,
             "#e6f5d0"
            ],
            [
             0.7,
             "#b8e186"
            ],
            [
             0.8,
             "#7fbc41"
            ],
            [
             0.9,
             "#4d9221"
            ],
            [
             1,
             "#276419"
            ]
           ],
           "sequential": [
            [
             0,
             "#0d0887"
            ],
            [
             0.1111111111111111,
             "#46039f"
            ],
            [
             0.2222222222222222,
             "#7201a8"
            ],
            [
             0.3333333333333333,
             "#9c179e"
            ],
            [
             0.4444444444444444,
             "#bd3786"
            ],
            [
             0.5555555555555556,
             "#d8576b"
            ],
            [
             0.6666666666666666,
             "#ed7953"
            ],
            [
             0.7777777777777778,
             "#fb9f3a"
            ],
            [
             0.8888888888888888,
             "#fdca26"
            ],
            [
             1,
             "#f0f921"
            ]
           ],
           "sequentialminus": [
            [
             0,
             "#0d0887"
            ],
            [
             0.1111111111111111,
             "#46039f"
            ],
            [
             0.2222222222222222,
             "#7201a8"
            ],
            [
             0.3333333333333333,
             "#9c179e"
            ],
            [
             0.4444444444444444,
             "#bd3786"
            ],
            [
             0.5555555555555556,
             "#d8576b"
            ],
            [
             0.6666666666666666,
             "#ed7953"
            ],
            [
             0.7777777777777778,
             "#fb9f3a"
            ],
            [
             0.8888888888888888,
             "#fdca26"
            ],
            [
             1,
             "#f0f921"
            ]
           ]
          },
          "colorway": [
           "#636efa",
           "#EF553B",
           "#00cc96",
           "#ab63fa",
           "#FFA15A",
           "#19d3f3",
           "#FF6692",
           "#B6E880",
           "#FF97FF",
           "#FECB52"
          ],
          "font": {
           "color": "#2a3f5f"
          },
          "geo": {
           "bgcolor": "white",
           "lakecolor": "white",
           "landcolor": "#E5ECF6",
           "showlakes": true,
           "showland": true,
           "subunitcolor": "white"
          },
          "hoverlabel": {
           "align": "left"
          },
          "hovermode": "closest",
          "mapbox": {
           "style": "light"
          },
          "paper_bgcolor": "white",
          "plot_bgcolor": "#E5ECF6",
          "polar": {
           "angularaxis": {
            "gridcolor": "white",
            "linecolor": "white",
            "ticks": ""
           },
           "bgcolor": "#E5ECF6",
           "radialaxis": {
            "gridcolor": "white",
            "linecolor": "white",
            "ticks": ""
           }
          },
          "scene": {
           "xaxis": {
            "backgroundcolor": "#E5ECF6",
            "gridcolor": "white",
            "gridwidth": 2,
            "linecolor": "white",
            "showbackground": true,
            "ticks": "",
            "zerolinecolor": "white"
           },
           "yaxis": {
            "backgroundcolor": "#E5ECF6",
            "gridcolor": "white",
            "gridwidth": 2,
            "linecolor": "white",
            "showbackground": true,
            "ticks": "",
            "zerolinecolor": "white"
           },
           "zaxis": {
            "backgroundcolor": "#E5ECF6",
            "gridcolor": "white",
            "gridwidth": 2,
            "linecolor": "white",
            "showbackground": true,
            "ticks": "",
            "zerolinecolor": "white"
           }
          },
          "shapedefaults": {
           "line": {
            "color": "#2a3f5f"
           }
          },
          "ternary": {
           "aaxis": {
            "gridcolor": "white",
            "linecolor": "white",
            "ticks": ""
           },
           "baxis": {
            "gridcolor": "white",
            "linecolor": "white",
            "ticks": ""
           },
           "bgcolor": "#E5ECF6",
           "caxis": {
            "gridcolor": "white",
            "linecolor": "white",
            "ticks": ""
           }
          },
          "title": {
           "x": 0.05
          },
          "xaxis": {
           "automargin": true,
           "gridcolor": "white",
           "linecolor": "white",
           "ticks": "",
           "title": {
            "standoff": 15
           },
           "zerolinecolor": "white",
           "zerolinewidth": 2
          },
          "yaxis": {
           "automargin": true,
           "gridcolor": "white",
           "linecolor": "white",
           "ticks": "",
           "title": {
            "standoff": 15
           },
           "zerolinecolor": "white",
           "zerolinewidth": 2
          }
         }
        },
        "xaxis": {
         "range": [
          0.14,
          0.7
         ],
         "title": {
          "text": "Fraud transaction rate"
         },
         "type": "linear"
        },
        "yaxis": {
         "range": [
          0.92,
          1
         ],
         "title": {
          "text": "AUC"
         },
         "type": "linear"
        }
       }
      },
      "image/png": "[encoded data removed]",
      "text/html": [
       "<div>                            <div id=\"1e6e1f93-9772-4f13-aae0-37d525d3ec9b\" class=\"plotly-graph-div\" style=\"height:525px; width:100%;\"></div>            <script type=\"text/javascript\">                require([\"plotly\"], function(Plotly) {                    window.PLOTLYENV=window.PLOTLYENV || {};                                    if (document.getElementById(\"1e6e1f93-9772-4f13-aae0-37d525d3ec9b\")) {                    Plotly.newPlot(                        \"1e6e1f93-9772-4f13-aae0-37d525d3ec9b\",                        [{\"mode\":\"lines+markers\",\"name\":\"LightGBMXT_BAG_L1\",\"x\":[0.283573569287855,0.4264307121449978,0.7120941848019978],\"y\":[0.931610392186028,0.9864569388665776,0.9735394390206106],\"type\":\"scatter\"},{\"mode\":\"lines+markers\",\"name\":\"LightGBM\",\"x\":[0.0059763742481848,0.0059890899380745,0.0692878550021407,0.083573569287855,0.0978687978687978,0.1121534450935246,0.1264289078220662,0.1407164264307121,0.283573569287855,0.4264307121449978,0.7120941848019978,0.8550021407164264],\"y\":[0.8715052677118452,0.929551167584517,0.9565317597550697,0.9577640562248996,0.9639985041191628,0.9607326129916492,0.9642266178020984,0.9660013510833456,0.96976176310179,0.9861752565818832,0.9747094374709436,0.972958500669344],\"type\":\"scatter\"},{\"mode\":\"lines+markers\",\"name\":\"CatBoost_BAG_L1\",\"x\":[0.283573569287855,0.4264307121449978,0.7120941848019978],\"y\":[0.967803312013486,0.9855421686746988,0.9786998295366496],\"type\":\"scatter\"},{\"mode\":\"lines+markers\",\"name\":\"LightGBMXT\",\"x\":[0.083573569287855,0.0978687978687978,0.1121534450935246,0.1264289078220662,0.1407164264307121,0.283573569287855,0.4264307121449978,0.7120941848019978,0.8550021407164264],\"y\":[0.9348333333333332,0.9499918556243168,0.9490151080512526,0.9473399769064712,0.9577464177698448,0.9322970895929396,0.9852465417224452,0.9691228885789556,0.9587795626952254],\"type\":\"scatter\"},{\"mode\":\"lines+markers\",\"name\":\"LightGBM_BAG_L1\",\"x\":[0.283573569287855,0.4264307121449978,0.7120941848019978],\"y\":[0.970693886657742,0.9849899598393574,0.9799085696575236],\"type\":\"scatter\"},{\"mode\":\"lines+markers\",\"name\":\"LightGBMLarge_BAG_L1\",\"x\":[0.283573569287855,0.4264307121449978,0.7120941848019978],\"y\":[0.9702154296197134,0.984758478357876,0.9791647295831396],\"type\":\"scatter\"},{\"mode\":\"lines+markers\",\"name\":\"LightGBMLarge\",\"x\":[0.0059890899380745,0.0692878550021407,0.083573569287855,0.0978687978687978,0.1121534450935246,0.1264289078220662,0.1407164264307121,0.283573569287855,0.4264307121449978,0.7120941848019978,0.8550021407164264],\"y\":[0.926201416874107,0.9526354646982992,0.9565857875948236,0.9628648497286428,0.9541551125135465,0.9634193483608616,0.9654726932421044,0.9703294660121968,0.9845939312806782,0.9737563923756392,0.9600401606425704],\"type\":\"scatter\"},{\"mode\":\"lines+markers\",\"name\":\"XGBoost_BAG_L1\",\"x\":[0.283573569287855,0.4264307121449978,0.7120941848019978],\"y\":[0.9707818930041152,0.9843736055332442,0.9747249341391602],\"type\":\"scatter\"},{\"mode\":\"lines+markers\",\"name\":\"NeuralNetTorch_BAG_L1\",\"x\":[0.283573569287855,0.4264307121449978,0.7120941848019978],\"y\":[0.9651445287322128,0.9820392681838466,0.9761971176197116],\"type\":\"scatter\"},{\"mode\":\"lines+markers\",\"name\":\"CatBoost\",\"x\":[0.0692878550021407,0.083573569287855,0.0978687978687978,0.1121534450935246,0.1264289078220662,0.1407164264307121,0.283573569287855,0.4264307121449978,0.7120941848019978,0.8550021407164264],\"y\":[0.9452074501710546,0.9514067380633646,0.9583271818385912,0.9526044654809716,0.9573279281088408,0.9633032128514056,0.947925033467202,0.9815763052208836,0.973748644041531,0.9717759928603302],\"type\":\"scatter\"},{\"mode\":\"lines+markers\",\"name\":\"XGBoost\",\"x\":[0.0058835571933384,0.0059763742481848,0.0059890899380745,0.0692878550021407,0.083573569287855,0.0978687978687978,0.1121534450935246,0.1264289078220662,0.1407164264307121,0.283573569287855,0.4264307121449978,0.7120941848019978,0.8550021407164264],\"y\":[0.9503450885500856,0.8730865273901834,0.8476767243942549,0.9395933270117506,0.9389437751004016,0.9559378599387006,0.954297547332186,0.9566986294492696,0.9626568000396648,0.9707980068421836,0.9812388442659528,0.9721369905470324,0.9636769299419904],\"type\":\"scatter\"},{\"mode\":\"lines+markers\",\"name\":\"NeuralNetTorch\",\"x\":[0.0692878550021407,0.083573569287855,0.0978687978687978,0.1121534450935246,0.1264289078220662,0.1407164264307121,0.283573569287855,0.4264307121449978,0.7120941848019978,0.8550021407164264],\"y\":[0.9526740449452128,0.9505564480142794,0.9580756822973606,0.9620169168738446,0.9615128771524676,0.9589422504834152,0.9632728444642767,0.9805667112896028,0.9735781806911514,0.9525881302989736],\"type\":\"scatter\"},{\"mode\":\"lines+markers\",\"name\":\"ExtraTreesEntr_BAG_L1\",\"x\":[0.283573569287855,0.4264307121449978,0.7120941848019978],\"y\":[0.954544102335267,0.9798276439089691,0.9599953509995351],\"type\":\"scatter\"},{\"mode\":\"lines+markers\",\"name\":\"KNeighborsUnif_BAG_L1\",\"x\":[0.283573569287855,0.4264307121449978,0.7120941848019978],\"y\":[0.957158262680351,0.9789909638554216,0.9601115760111576],\"type\":\"scatter\"},{\"mode\":\"lines+markers\",\"name\":\"ExtraTreesEntr\",\"x\":[0.0058835571933384,0.0059763742481848,0.0059890899380745,0.0692878550021407,0.083573569287855,0.0978687978687978,0.1121534450935246,0.1264289078220662,0.1407164264307121,0.283573569287855,0.4264307121449978,0.7120941848019978,0.8550021407164264],\"y\":[0.9014130432857176,0.9182988507564592,0.883055782957162,0.9209628638008824,0.924770526550647,0.93974397377206,0.9361854162682476,0.9292409257492846,0.9449929347017704,0.961570975259061,0.978951918786256,0.9564233689756704,0.9510486390004462],\"type\":\"scatter\"},{\"mode\":\"lines+markers\",\"name\":\"RandomForestGini_BAG_L1\",\"x\":[0.283573569287855,0.4264307121449978,0.7120941848019978],\"y\":[0.9525137587386584,0.9785837795626952,0.9501162250116224],\"type\":\"scatter\"},{\"mode\":\"lines+markers\",\"name\":\"RandomForestEntr_BAG_L1\",\"x\":[0.283573569287855,0.4264307121449978,0.7120941848019978],\"y\":[0.9525137587386584,0.9785837795626952,0.9501162250116224],\"type\":\"scatter\"},{\"mode\":\"lines+markers\",\"name\":\"ExtraTreesGini_BAG_L1\",\"x\":[0.283573569287855,0.4264307121449978,0.7120941848019978],\"y\":[0.953986315632902,0.9784024988844268,0.9598868743220208],\"type\":\"scatter\"},{\"mode\":\"lines+markers\",\"name\":\"ExtraTreesGini\",\"x\":[0.0058835571933384,0.0059763742481848,0.0059890899380745,0.0692878550021407,0.083573569287855,0.0978687978687978,0.1121534450935246,0.1264289078220662,0.1407164264307121,0.283573569287855,0.4264307121449978,0.7120941848019978,0.8550021407164264],\"y\":[0.9029600859318248,0.9087604546790669,0.8897009580878924,0.9188199557489216,0.9219074074074076,0.9366131171423552,0.939368386243386,0.9253205482202922,0.9496005627448064,0.9534967028608262,0.9780845604640784,0.9562993956299396,0.952454261490406],\"type\":\"scatter\"},{\"mode\":\"lines+markers\",\"name\":\"RandomForestGini\",\"x\":[0.0058835571933384,0.0059763742481848,0.0059890899380745,0.0692878550021407,0.083573569287855,0.0978687978687978,0.1121534450935246,0.1264289078220662,0.1407164264307121,0.283573569287855,0.4264307121449978,0.7120941848019978,0.8550021407164264],\"y\":[0.892117365671228,0.9086414762450096,0.8788187491559278,0.9101236737071744,0.9162986390004464,0.9294611656645324,0.9286843803786576,0.9131474973643257,0.9351467598790224,0.9431355049828946,0.977549085229808,0.9480241748024174,0.935519857206604],\"type\":\"scatter\"},{\"mode\":\"lines+markers\",\"name\":\"RandomForestEntr\",\"x\":[0.0058835571933384,0.0059763742481848,0.0059890899380745,0.0692878550021407,0.083573569287855,0.0978687978687978,0.1121534450935246,0.1264289078220662,0.1407164264307121,0.283573569287855,0.4264307121449978,0.7120941848019978,0.8550021407164264],\"y\":[0.890628779121935,0.909114700653889,0.8792919853299564,0.9101236737071744,0.9162986390004464,0.9294611656645324,0.9286843803786576,0.9131474973643257,0.9351467598790224,0.9431355049828946,0.977549085229808,0.9480241748024174,0.935519857206604],\"type\":\"scatter\"},{\"mode\":\"lines+markers\",\"name\":\"KNeighborsUnif\",\"x\":[0.0058835571933384,0.0059763742481848,0.0059890899380745,0.0692878550021407,0.083573569287855,0.0978687978687978,0.1121534450935246,0.1264289078220662,0.1407164264307121,0.283573569287855,0.4264307121449978,0.7120941848019978,0.8550021407164264],\"y\":[0.7130564621852414,0.7258450773774561,0.6860674046149835,0.8870262686548663,0.8955647032574743,0.904912736217398,0.9168881876713202,0.8983586023394748,0.9246439461549903,0.9587175863949626,0.9767626059794734,0.9536417170308384,0.9282240071396698],\"type\":\"scatter\"},{\"mode\":\"lines+markers\",\"name\":\"GCN\",\"x\":[0.1407164264307121,0.283573569287855,0.4264307121449978,0.5693083436399962,0.7120941848019978,0.8550021407164264,0.998001998001998],\"y\":[0.9755543780058504,0.9678392582676384,0.969327309236948,0.9697020404851732,0.9724779172477918,0.9721887550200804,0.6842310694769711],\"type\":\"scatter\"},{\"mode\":\"lines+markers\",\"name\":\"KNeighborsDist_BAG_L1\",\"x\":[0.283573569287855,0.4264307121449978,0.7120941848019978],\"y\":[0.9299209182408644,0.9624609549308344,0.9243685107701844],\"type\":\"scatter\"},{\"mode\":\"lines+markers\",\"name\":\"KNeighborsDist\",\"x\":[0.0058835571933384,0.0059763742481848,0.0059890899380745,0.0692878550021407,0.083573569287855,0.0978687978687978,0.1121534450935246,0.1264289078220662,0.1407164264307121,0.283573569287855,0.4264307121449978,0.7120941848019978,0.8550021407164264],\"y\":[0.713639933063,0.7264635902662682,0.6865299422612963,0.8745607429718875,0.8774809236947791,0.8855957717573794,0.8981244422132976,0.8783924895828105,0.8997431082354108,0.9302208835341366,0.9613370147255688,0.92155586548892,0.9089692101740297],\"type\":\"scatter\"},{\"mode\":\"lines+markers\",\"name\":\"NeuralNetFastAI_BAG_L1\",\"x\":[0.283573569287855,0.4264307121449978,0.7120941848019978],\"y\":[0.9136918042540532,0.9607318161535028,0.9444599411126609],\"type\":\"scatter\"},{\"mode\":\"lines+markers\",\"name\":\"NeuralNetFastAI\",\"x\":[0.0692878550021407,0.083573569287855,0.0978687978687978,0.1121534450935246,0.1264289078220662,0.1407164264307121,0.283573569287855,0.4264307121449978,0.7120941848019978,0.8550021407164264],\"y\":[0.8958371293817244,0.8760269968763945,0.9360474338200844,0.900734883980366,0.8992301320347407,0.9446021741286132,0.9134885219891914,0.9545069165551092,0.9577870757787076,0.950669344042838],\"type\":\"scatter\"},{\"mode\":\"lines+markers\",\"name\":\"IForest\",\"x\":[0.0692878550021407,0.083573569287855,0.0978687978687978,0.1121534450935246,0.1264289078220662,0.283573569287855,0.4264307121449978],\"y\":[0.8312639446675592,0.84440093708166,0.8541076936592222,0.8517697775227896,0.8687843265224158,0.8557675145024544,0.8690930388219544],\"type\":\"scatter\"},{\"mode\":\"lines+markers\",\"name\":\"MCD\",\"x\":[0.0692878550021407,0.083573569287855,0.0978687978687978,0.1121534450935246,0.1264289078220662,0.283573569287855,0.4264307121449978],\"y\":[0.8313894466755913,0.8443842034805892,0.8539905610651257,0.8518813348632626,0.8635333099051157,0.8544288264167782,0.8678380187416331],\"type\":\"scatter\"},{\"mode\":\"lines+markers\",\"name\":\"KDE\",\"x\":[0.0692878550021407,0.083573569287855,0.0978687978687978,0.1121534450935246,0.1264289078220662,0.283573569287855,0.4264307121449978],\"y\":[0.8062388442659527,0.8248058902275771,0.8347344506481337,0.8346732166762286,0.8487890958381444,0.8522534582775547,0.8675870147255689],\"type\":\"scatter\"},{\"mode\":\"lines+markers\",\"name\":\"INNE\",\"x\":[0.0692878550021407,0.083573569287855,0.0978687978687978,0.1121534450935246,0.1264289078220662,0.283573569287855,0.4264307121449978],\"y\":[0.8315149486836235,0.8446519410977242,0.8581115541543027,0.851970580735641,0.8640353431397159,0.8550981704596162,0.7876171352074967],\"type\":\"scatter\"},{\"mode\":\"lines+markers\",\"name\":\"GMM\",\"x\":[0.0692878550021407,0.083573569287855,0.0978687978687978,0.1121534450935246,0.1264289078220662,0.283573569287855,0.4264307121449978],\"y\":[0.8313894466755913,0.8443842034805892,0.8539905610651257,0.8464353445528144,0.8624037351272654,0.6698348951361,0.6684069611780454],\"type\":\"scatter\"},{\"mode\":\"lines+markers\",\"name\":\"COPOD\",\"x\":[0.0692878550021407,0.083573569287855,0.0978687978687978,0.1121534450935246,0.1264289078220662,0.283573569287855,0.4264307121449978],\"y\":[0.8417949576082107,0.839032797858099,0.8550697671013587,0.8480254350736278,0.8587986344696019,0.8190093708165997,0.8108601070950469],\"type\":\"scatter\"},{\"mode\":\"lines+markers\",\"name\":\"OCSVM\",\"x\":[0.0692878550021407,0.083573569287855,0.0978687978687978,0.1121534450935246,0.1264289078220662,0.283573569287855,0.4264307121449978],\"y\":[0.8091281793842034,0.8211880856760375,0.8348320611432141,0.833870003824823,0.8435631808825744,0.8516956715751897,0.8213855421686747],\"type\":\"scatter\"},{\"mode\":\"lines+markers\",\"name\":\"KNN\",\"x\":[0.0692878550021407,0.083573569287855,0.0978687978687978,0.1121534450935246,0.1264289078220662,0.283573569287855,0.4264307121449978],\"y\":[0.7950301204819278,0.7947556894243643,0.8111212517569888,0.7972409479186587,0.8125340127516442,0.8140116019634092,0.8026941097724231],\"type\":\"scatter\"},{\"mode\":\"lines+markers\",\"name\":\"MAD\",\"x\":[0.283573569287855,0.4264307121449978],\"y\":[0.7695225345827756,0.7767235609103078],\"type\":\"scatter\"},{\"mode\":\"lines+markers\",\"name\":\"ECOD\",\"x\":[0.0692878550021407,0.083573569287855,0.0978687978687978,0.1121534450935246,0.1264289078220662,0.283573569287855,0.4264307121449978],\"y\":[0.7131302989736725,0.7105488621151271,0.7093708515539591,0.7176503633581947,0.7211724986194087,0.7365015618027666,0.7558400267737617],\"type\":\"scatter\"},{\"mode\":\"lines+markers\",\"name\":\"PCA\",\"x\":[0.0692878550021407,0.083573569287855,0.0978687978687978,0.1121534450935246,0.1264289078220662,0.283573569287855,0.4264307121449978],\"y\":[0.7002147478804106,0.6804953145917001,0.6689204523270342,0.6413782112577293,0.6221311310808776,0.402677376171352,0.2605087014725569],\"type\":\"scatter\"},{\"mode\":\"lines+markers\",\"name\":\"LODA\",\"x\":[0.0692878550021407],\"y\":[0.5130382641677822],\"type\":\"scatter\"},{\"mode\":\"lines+markers\",\"name\":\"HBOS\",\"x\":[0.0692878550021407],\"y\":[0.5130382641677822],\"type\":\"scatter\"},{\"mode\":\"lines+markers\",\"name\":\"LOF\",\"x\":[0.0692878550021407,0.083573569287855,0.0978687978687978,0.1121534450935246,0.1264289078220662,0.283573569287855,0.4264307121449978],\"y\":[0.48125,0.4765963855421686,0.5007888148133688,0.4912817938420348,0.4966075104171896,0.4976572958500669,0.4308232931726907],\"type\":\"scatter\"},{\"mode\":\"lines+markers\",\"name\":\"ROD\",\"x\":[0.0692878550021407,0.083573569287855,0.0978687978687978,0.1121534450935246,0.1264289078220662,0.283573569287855,0.4264307121449978],\"y\":[0.468351182507809,0.4599631860776439,0.4495372042401999,0.4426615190922419,0.4322302826447111,0.384995537706381,0.3319611780455154],\"type\":\"scatter\"}],                        {\"template\":{\"data\":{\"histogram2dcontour\":[{\"type\":\"histogram2dcontour\",\"colorbar\":{\"outlinewidth\":0,\"ticks\":\"\"},\"colorscale\":[[0.0,\"#0d0887\"],[0.1111111111111111,\"#46039f\"],[0.2222222222222222,\"#7201a8\"],[0.3333333333333333,\"#9c179e\"],[0.4444444444444444,\"#bd3786\"],[0.5555555555555556,\"#d8576b\"],[0.6666666666666666,\"#ed7953\"],[0.7777777777777778,\"#fb9f3a\"],[0.8888888888888888,\"#fdca26\"],[1.0,\"#f0f921\"]]}],\"choropleth\":[{\"type\":\"choropleth\",\"colorbar\":{\"outlinewidth\":0,\"ticks\":\"\"}}],\"histogram2d\":[{\"type\":\"histogram2d\",\"colorbar\":{\"outlinewidth\":0,\"ticks\":\"\"},\"colorscale\":[[0.0,\"#0d0887\"],[0.1111111111111111,\"#46039f\"],[0.2222222222222222,\"#7201a8\"],[0.3333333333333333,\"#9c179e\"],[0.4444444444444444,\"#bd3786\"],[0.5555555555555556,\"#d8576b\"],[0.6666666666666666,\"#ed7953\"],[0.7777777777777778,\"#fb9f3a\"],[0.8888888888888888,\"#fdca26\"],[1.0,\"#f0f921\"]]}],\"heatmap\":[{\"type\":\"heatmap\",\"colorbar\":{\"outlinewidth\":0,\"ticks\":\"\"},\"colorscale\":[[0.0,\"#0d0887\"],[0.1111111111111111,\"#46039f\"],[0.2222222222222222,\"#7201a8\"],[0.3333333333333333,\"#9c179e\"],[0.4444444444444444,\"#bd3786\"],[0.5555555555555556,\"#d8576b\"],[0.6666666666666666,\"#ed7953\"],[0.7777777777777778,\"#fb9f3a\"],[0.8888888888888888,\"#fdca26\"],[1.0,\"#f0f921\"]]}],\"heatmapgl\":[{\"type\":\"heatmapgl\",\"colorbar\":{\"outlinewidth\":0,\"ticks\":\"\"},\"colorscale\":[[0.0,\"#0d0887\"],[0.1111111111111111,\"#46039f\"],[0.2222222222222222,\"#7201a8\"],[0.3333333333333333,\"#9c179e\"],[0.4444444444444444,\"#bd3786\"],[0.5555555555555556,\"#d8576b\"],[0.6666666666666666,\"#ed7953\"],[0.7777777777777778,\"#fb9f3a\"],[0.8888888888888888,\"#fdca26\"],[1.0,\"#f0f921\"]]}],\"contourcarpet\":[{\"type\":\"contourcarpet\",\"colorbar\":{\"outlinewidth\":0,\"ticks\":\"\"}}],\"contour\":[{\"type\":\"contour\",\"colorbar\":{\"outlinewidth\":0,\"ticks\":\"\"},\"colorscale\":[[0.0,\"#0d0887\"],[0.1111111111111111,\"#46039f\"],[0.2222222222222222,\"#7201a8\"],[0.3333333333333333,\"#9c179e\"],[0.4444444444444444,\"#bd3786\"],[0.5555555555555556,\"#d8576b\"],[0.6666666666666666,\"#ed7953\"],[0.7777777777777778,\"#fb9f3a\"],[0.8888888888888888,\"#fdca26\"],[1.0,\"#f0f921\"]]}],\"surface\":[{\"type\":\"surface\",\"colorbar\":{\"outlinewidth\":0,\"ticks\":\"\"},\"colorscale\":[[0.0,\"#0d0887\"],[0.1111111111111111,\"#46039f\"],[0.2222222222222222,\"#7201a8\"],[0.3333333333333333,\"#9c179e\"],[0.4444444444444444,\"#bd3786\"],[0.5555555555555556,\"#d8576b\"],[0.6666666666666666,\"#ed7953\"],[0.7777777777777778,\"#fb9f3a\"],[0.8888888888888888,\"#fdca26\"],[1.0,\"#f0f921\"]]}],\"mesh3d\":[{\"type\":\"mesh3d\",\"colorbar\":{\"outlinewidth\":0,\"ticks\":\"\"}}],\"scatter\":[{\"fillpattern\":{\"fillmode\":\"overlay\",\"size\":10,\"solidity\":0.2},\"type\":\"scatter\"}],\"parcoords\":[{\"type\":\"parcoords\",\"line\":{\"colorbar\":{\"outlinewidth\":0,\"ticks\":\"\"}}}],\"scatterpolargl\":[{\"type\":\"scatterpolargl\",\"marker\":{\"colorbar\":{\"outlinewidth\":0,\"ticks\":\"\"}}}],\"bar\":[{\"error_x\":{\"color\":\"#2a3f5f\"},\"error_y\":{\"color\":\"#2a3f5f\"},\"marker\":{\"line\":{\"color\":\"#E5ECF6\",\"width\":0.5},\"pattern\":{\"fillmode\":\"overlay\",\"size\":10,\"solidity\":0.2}},\"type\":\"bar\"}],\"scattergeo\":[{\"type\":\"scattergeo\",\"marker\":{\"colorbar\":{\"outlinewidth\":0,\"ticks\":\"\"}}}],\"scatterpolar\":[{\"type\":\"scatterpolar\",\"marker\":{\"colorbar\":{\"outlinewidth\":0,\"ticks\":\"\"}}}],\"histogram\":[{\"marker\":{\"pattern\":{\"fillmode\":\"overlay\",\"size\":10,\"solidity\":0.2}},\"type\":\"histogram\"}],\"scattergl\":[{\"type\":\"scattergl\",\"marker\":{\"colorbar\":{\"outlinewidth\":0,\"ticks\":\"\"}}}],\"scatter3d\":[{\"type\":\"scatter3d\",\"line\":{\"colorbar\":{\"outlinewidth\":0,\"ticks\":\"\"}},\"marker\":{\"colorbar\":{\"outlinewidth\":0,\"ticks\":\"\"}}}],\"scattermapbox\":[{\"type\":\"scattermapbox\",\"marker\":{\"colorbar\":{\"outlinewidth\":0,\"ticks\":\"\"}}}],\"scatterternary\":[{\"type\":\"scatterternary\",\"marker\":{\"colorbar\":{\"outlinewidth\":0,\"ticks\":\"\"}}}],\"scattercarpet\":[{\"type\":\"scattercarpet\",\"marker\":{\"colorbar\":{\"outlinewidth\":0,\"ticks\":\"\"}}}],\"carpet\":[{\"aaxis\":{\"endlinecolor\":\"#2a3f5f\",\"gridcolor\":\"white\",\"linecolor\":\"white\",\"minorgridcolor\":\"white\",\"startlinecolor\":\"#2a3f5f\"},\"baxis\":{\"endlinecolor\":\"#2a3f5f\",\"gridcolor\":\"white\",\"linecolor\":\"white\",\"minorgridcolor\":\"white\",\"startlinecolor\":\"#2a3f5f\"},\"type\":\"carpet\"}],\"table\":[{\"cells\":{\"fill\":{\"color\":\"#EBF0F8\"},\"line\":{\"color\":\"white\"}},\"header\":{\"fill\":{\"color\":\"#C8D4E3\"},\"line\":{\"color\":\"white\"}},\"type\":\"table\"}],\"barpolar\":[{\"marker\":{\"line\":{\"color\":\"#E5ECF6\",\"width\":0.5},\"pattern\":{\"fillmode\":\"overlay\",\"size\":10,\"solidity\":0.2}},\"type\":\"barpolar\"}],\"pie\":[{\"automargin\":true,\"type\":\"pie\"}]},\"layout\":{\"autotypenumbers\":\"strict\",\"colorway\":[\"#636efa\",\"#EF553B\",\"#00cc96\",\"#ab63fa\",\"#FFA15A\",\"#19d3f3\",\"#FF6692\",\"#B6E880\",\"#FF97FF\",\"#FECB52\"],\"font\":{\"color\":\"#2a3f5f\"},\"hovermode\":\"closest\",\"hoverlabel\":{\"align\":\"left\"},\"paper_bgcolor\":\"white\",\"plot_bgcolor\":\"#E5ECF6\",\"polar\":{\"bgcolor\":\"#E5ECF6\",\"angularaxis\":{\"gridcolor\":\"white\",\"linecolor\":\"white\",\"ticks\":\"\"},\"radialaxis\":{\"gridcolor\":\"white\",\"linecolor\":\"white\",\"ticks\":\"\"}},\"ternary\":{\"bgcolor\":\"#E5ECF6\",\"aaxis\":{\"gridcolor\":\"white\",\"linecolor\":\"white\",\"ticks\":\"\"},\"baxis\":{\"gridcolor\":\"white\",\"linecolor\":\"white\",\"ticks\":\"\"},\"caxis\":{\"gridcolor\":\"white\",\"linecolor\":\"white\",\"ticks\":\"\"}},\"coloraxis\":{\"colorbar\":{\"outlinewidth\":0,\"ticks\":\"\"}},\"colorscale\":{\"sequential\":[[0.0,\"#0d0887\"],[0.1111111111111111,\"#46039f\"],[0.2222222222222222,\"#7201a8\"],[0.3333333333333333,\"#9c179e\"],[0.4444444444444444,\"#bd3786\"],[0.5555555555555556,\"#d8576b\"],[0.6666666666666666,\"#ed7953\"],[0.7777777777777778,\"#fb9f3a\"],[0.8888888888888888,\"#fdca26\"],[1.0,\"#f0f921\"]],\"sequentialminus\":[[0.0,\"#0d0887\"],[0.1111111111111111,\"#46039f\"],[0.2222222222222222,\"#7201a8\"],[0.3333333333333333,\"#9c179e\"],[0.4444444444444444,\"#bd3786\"],[0.5555555555555556,\"#d8576b\"],[0.6666666666666666,\"#ed7953\"],[0.7777777777777778,\"#fb9f3a\"],[0.8888888888888888,\"#fdca26\"],[1.0,\"#f0f921\"]],\"diverging\":[[0,\"#8e0152\"],[0.1,\"#c51b7d\"],[0.2,\"#de77ae\"],[0.3,\"#f1b6da\"],[0.4,\"#fde0ef\"],[0.5,\"#f7f7f7\"],[0.6,\"#e6f5d0\"],[0.7,\"#b8e186\"],[0.8,\"#7fbc41\"],[0.9,\"#4d9221\"],[1,\"#276419\"]]},\"xaxis\":{\"gridcolor\":\"white\",\"linecolor\":\"white\",\"ticks\":\"\",\"title\":{\"standoff\":15},\"zerolinecolor\":\"white\",\"automargin\":true,\"zerolinewidth\":2},\"yaxis\":{\"gridcolor\":\"white\",\"linecolor\":\"white\",\"ticks\":\"\",\"title\":{\"standoff\":15},\"zerolinecolor\":\"white\",\"automargin\":true,\"zerolinewidth\":2},\"scene\":{\"xaxis\":{\"backgroundcolor\":\"#E5ECF6\",\"gridcolor\":\"white\",\"linecolor\":\"white\",\"showbackground\":true,\"ticks\":\"\",\"zerolinecolor\":\"white\",\"gridwidth\":2},\"yaxis\":{\"backgroundcolor\":\"#E5ECF6\",\"gridcolor\":\"white\",\"linecolor\":\"white\",\"showbackground\":true,\"ticks\":\"\",\"zerolinecolor\":\"white\",\"gridwidth\":2},\"zaxis\":{\"backgroundcolor\":\"#E5ECF6\",\"gridcolor\":\"white\",\"linecolor\":\"white\",\"showbackground\":true,\"ticks\":\"\",\"zerolinecolor\":\"white\",\"gridwidth\":2}},\"shapedefaults\":{\"line\":{\"color\":\"#2a3f5f\"}},\"annotationdefaults\":{\"arrowcolor\":\"#2a3f5f\",\"arrowhead\":0,\"arrowwidth\":1},\"geo\":{\"bgcolor\":\"white\",\"landcolor\":\"#E5ECF6\",\"subunitcolor\":\"white\",\"showland\":true,\"showlakes\":true,\"lakecolor\":\"white\"},\"title\":{\"x\":0.05},\"mapbox\":{\"style\":\"light\"}}},\"xaxis\":{\"title\":{\"text\":\"Fraud transaction rate\"},\"range\":[0.14,0.7]},\"yaxis\":{\"title\":{\"text\":\"AUC\"},\"range\":[0.92,1]},\"legend\":{\"font\":{\"family\":\"Arial\",\"size\":12,\"color\":\"black\"},\"x\":1.05,\"y\":1,\"traceorder\":\"normal\"}},                        {\"responsive\": true}                    ).then(function(){\n",
       "                            \n",
       "var gd = document.getElementById('1e6e1f93-9772-4f13-aae0-37d525d3ec9b');\n",
       "var x = new MutationObserver(function (mutations, observer) {{\n",
       "        var display = window.getComputedStyle(gd).display;\n",
       "        if (!display || display === 'none') {{\n",
       "            console.log([gd, 'removed!']);\n",
       "            Plotly.purge(gd);\n",
       "            observer.disconnect();\n",
       "        }}\n",
       "}});\n",
       "\n",
       "// Listen for the removal of the full notebook cells\n",
       "var notebookContainer = gd.closest('#notebook-container');\n",
       "if (notebookContainer) {{\n",
       "    x.observe(notebookContainer, {childList: true});\n",
       "}}\n",
       "\n",
       "// Listen for the clearing of the current output cell\n",
       "var outputEl = gd.closest('.output');\n",
       "if (outputEl) {{\n",
       "    x.observe(outputEl, {childList: true});\n",
       "}}\n",
       "\n",
       "                        })                };                });            </script>        </div>"
      ]
     },
     "metadata": {},
     "output_type": "display_data"
    }
   ],
   "source": [
    "plot_merged_df3(ex55)"
   ]
  },
  {
   "cell_type": "markdown",
   "id": "d40f1cba-747d-44fb-8c36-fefb59cbec1c",
   "metadata": {},
   "source": [
    "> gcn이 맨날 높진 앝ㄶ당 두둥"
   ]
  },
  {
   "cell_type": "markdown",
   "id": "ecdfebc5-a583-43f1-8119-4276f24b6756",
   "metadata": {},
   "source": [
    "# ex6"
   ]
  },
  {
   "cell_type": "code",
   "execution_count": 155,
   "id": "59e14940-7e13-4afd-a50c-7fc4c0bb06e0",
   "metadata": {},
   "outputs": [
    {
     "data": {
      "text/html": [
       "<div>\n",
       "<style scoped>\n",
       "    .dataframe tbody tr th:only-of-type {\n",
       "        vertical-align: middle;\n",
       "    }\n",
       "\n",
       "    .dataframe tbody tr th {\n",
       "        vertical-align: top;\n",
       "    }\n",
       "\n",
       "    .dataframe thead th {\n",
       "        text-align: right;\n",
       "    }\n",
       "</style>\n",
       "<table border=\"1\" class=\"dataframe\">\n",
       "  <thead>\n",
       "    <tr style=\"text-align: right;\">\n",
       "      <th></th>\n",
       "      <th>model</th>\n",
       "      <th>time</th>\n",
       "      <th>acc</th>\n",
       "      <th>pre</th>\n",
       "      <th>rec</th>\n",
       "      <th>f1</th>\n",
       "      <th>auc</th>\n",
       "      <th>graph_based</th>\n",
       "      <th>method</th>\n",
       "      <th>throw_rate</th>\n",
       "      <th>train_size</th>\n",
       "      <th>train_cols</th>\n",
       "      <th>train_frate</th>\n",
       "      <th>test_size</th>\n",
       "      <th>test_frate</th>\n",
       "      <th>hyper_params</th>\n",
       "      <th>theta</th>\n",
       "      <th>gamma</th>\n",
       "      <th>diff</th>\n",
       "    </tr>\n",
       "  </thead>\n",
       "  <tbody>\n",
       "    <tr>\n",
       "      <th>8345</th>\n",
       "      <td>LightGBMLarge</td>\n",
       "      <td>NaN</td>\n",
       "      <td>0.986219</td>\n",
       "      <td>0.099206</td>\n",
       "      <td>0.833333</td>\n",
       "      <td>0.177305</td>\n",
       "      <td>0.986075</td>\n",
       "      <td>False</td>\n",
       "      <td>Autogluon</td>\n",
       "      <td>0.107023</td>\n",
       "      <td>39284</td>\n",
       "      <td>['amt']</td>\n",
       "      <td>0.152123</td>\n",
       "      <td>16835</td>\n",
       "      <td>0.001782</td>\n",
       "      <td>NaN</td>\n",
       "      <td>NaN</td>\n",
       "      <td>NaN</td>\n",
       "      <td>0.150341</td>\n",
       "    </tr>\n",
       "    <tr>\n",
       "      <th>5998</th>\n",
       "      <td>GCN</td>\n",
       "      <td>NaN</td>\n",
       "      <td>0.947098</td>\n",
       "      <td>0.032544</td>\n",
       "      <td>0.970588</td>\n",
       "      <td>0.062977</td>\n",
       "      <td>0.985970</td>\n",
       "      <td>True</td>\n",
       "      <td>Proposed</td>\n",
       "      <td>0.098821</td>\n",
       "      <td>9009</td>\n",
       "      <td>amt</td>\n",
       "      <td>0.498501</td>\n",
       "      <td>37125</td>\n",
       "      <td>0.001832</td>\n",
       "      <td>NaN</td>\n",
       "      <td>11406996.0</td>\n",
       "      <td>0.9</td>\n",
       "      <td>0.496670</td>\n",
       "    </tr>\n",
       "    <tr>\n",
       "      <th>8336</th>\n",
       "      <td>LightGBM</td>\n",
       "      <td>NaN</td>\n",
       "      <td>0.986219</td>\n",
       "      <td>0.099206</td>\n",
       "      <td>0.833333</td>\n",
       "      <td>0.177305</td>\n",
       "      <td>0.985903</td>\n",
       "      <td>False</td>\n",
       "      <td>Autogluon</td>\n",
       "      <td>0.107023</td>\n",
       "      <td>39284</td>\n",
       "      <td>['amt']</td>\n",
       "      <td>0.152123</td>\n",
       "      <td>16835</td>\n",
       "      <td>0.001782</td>\n",
       "      <td>NaN</td>\n",
       "      <td>NaN</td>\n",
       "      <td>NaN</td>\n",
       "      <td>0.150341</td>\n",
       "    </tr>\n",
       "    <tr>\n",
       "      <th>1180</th>\n",
       "      <td>NeuralNetTorch</td>\n",
       "      <td>NaN</td>\n",
       "      <td>0.982002</td>\n",
       "      <td>0.080000</td>\n",
       "      <td>0.866667</td>\n",
       "      <td>0.146479</td>\n",
       "      <td>0.985676</td>\n",
       "      <td>False</td>\n",
       "      <td>Autogluon</td>\n",
       "      <td>0.107023</td>\n",
       "      <td>39284</td>\n",
       "      <td>['amt']</td>\n",
       "      <td>0.152123</td>\n",
       "      <td>16835</td>\n",
       "      <td>0.001782</td>\n",
       "      <td>NaN</td>\n",
       "      <td>NaN</td>\n",
       "      <td>NaN</td>\n",
       "      <td>0.150341</td>\n",
       "    </tr>\n",
       "    <tr>\n",
       "      <th>5953</th>\n",
       "      <td>CatBoost</td>\n",
       "      <td>NaN</td>\n",
       "      <td>0.984634</td>\n",
       "      <td>0.087542</td>\n",
       "      <td>0.812500</td>\n",
       "      <td>0.158055</td>\n",
       "      <td>0.985574</td>\n",
       "      <td>False</td>\n",
       "      <td>Autogluon</td>\n",
       "      <td>0.099945</td>\n",
       "      <td>42066</td>\n",
       "      <td>['amt']</td>\n",
       "      <td>0.142015</td>\n",
       "      <td>18027</td>\n",
       "      <td>0.001775</td>\n",
       "      <td>NaN</td>\n",
       "      <td>NaN</td>\n",
       "      <td>NaN</td>\n",
       "      <td>0.140240</td>\n",
       "    </tr>\n",
       "    <tr>\n",
       "      <th>...</th>\n",
       "      <td>...</td>\n",
       "      <td>...</td>\n",
       "      <td>...</td>\n",
       "      <td>...</td>\n",
       "      <td>...</td>\n",
       "      <td>...</td>\n",
       "      <td>...</td>\n",
       "      <td>...</td>\n",
       "      <td>...</td>\n",
       "      <td>...</td>\n",
       "      <td>...</td>\n",
       "      <td>...</td>\n",
       "      <td>...</td>\n",
       "      <td>...</td>\n",
       "      <td>...</td>\n",
       "      <td>...</td>\n",
       "      <td>...</td>\n",
       "      <td>...</td>\n",
       "      <td>...</td>\n",
       "    </tr>\n",
       "    <tr>\n",
       "      <th>2892</th>\n",
       "      <td>PCA</td>\n",
       "      <td>0.003428</td>\n",
       "      <td>0.233595</td>\n",
       "      <td>0.000588</td>\n",
       "      <td>0.265306</td>\n",
       "      <td>0.001173</td>\n",
       "      <td>0.249424</td>\n",
       "      <td>False</td>\n",
       "      <td>pyod</td>\n",
       "      <td>0.119668</td>\n",
       "      <td>9009</td>\n",
       "      <td>['amt']</td>\n",
       "      <td>0.497835</td>\n",
       "      <td>28879</td>\n",
       "      <td>0.001697</td>\n",
       "      <td>NaN</td>\n",
       "      <td>NaN</td>\n",
       "      <td>NaN</td>\n",
       "      <td>0.496139</td>\n",
       "    </tr>\n",
       "    <tr>\n",
       "      <th>10660</th>\n",
       "      <td>PCA</td>\n",
       "      <td>0.003260</td>\n",
       "      <td>0.216723</td>\n",
       "      <td>0.000383</td>\n",
       "      <td>0.234940</td>\n",
       "      <td>0.000766</td>\n",
       "      <td>0.225820</td>\n",
       "      <td>False</td>\n",
       "      <td>pyod</td>\n",
       "      <td>0.033507</td>\n",
       "      <td>9009</td>\n",
       "      <td>['amt']</td>\n",
       "      <td>0.498390</td>\n",
       "      <td>129949</td>\n",
       "      <td>0.001277</td>\n",
       "      <td>NaN</td>\n",
       "      <td>NaN</td>\n",
       "      <td>NaN</td>\n",
       "      <td>0.497113</td>\n",
       "    </tr>\n",
       "    <tr>\n",
       "      <th>4179</th>\n",
       "      <td>PCA</td>\n",
       "      <td>0.002809</td>\n",
       "      <td>0.219777</td>\n",
       "      <td>0.000355</td>\n",
       "      <td>0.200000</td>\n",
       "      <td>0.000710</td>\n",
       "      <td>0.209902</td>\n",
       "      <td>False</td>\n",
       "      <td>pyod</td>\n",
       "      <td>0.062054</td>\n",
       "      <td>9009</td>\n",
       "      <td>['amt']</td>\n",
       "      <td>0.499611</td>\n",
       "      <td>64975</td>\n",
       "      <td>0.001385</td>\n",
       "      <td>NaN</td>\n",
       "      <td>NaN</td>\n",
       "      <td>NaN</td>\n",
       "      <td>0.498226</td>\n",
       "    </tr>\n",
       "    <tr>\n",
       "      <th>3407</th>\n",
       "      <td>PCA</td>\n",
       "      <td>0.003932</td>\n",
       "      <td>0.236793</td>\n",
       "      <td>0.000303</td>\n",
       "      <td>0.157895</td>\n",
       "      <td>0.000605</td>\n",
       "      <td>0.197402</td>\n",
       "      <td>False</td>\n",
       "      <td>pyod</td>\n",
       "      <td>0.074713</td>\n",
       "      <td>9009</td>\n",
       "      <td>['amt']</td>\n",
       "      <td>0.497058</td>\n",
       "      <td>51944</td>\n",
       "      <td>0.001463</td>\n",
       "      <td>NaN</td>\n",
       "      <td>NaN</td>\n",
       "      <td>NaN</td>\n",
       "      <td>0.495595</td>\n",
       "    </tr>\n",
       "    <tr>\n",
       "      <th>5130</th>\n",
       "      <td>PCA</td>\n",
       "      <td>0.002726</td>\n",
       "      <td>0.224427</td>\n",
       "      <td>0.000358</td>\n",
       "      <td>0.156863</td>\n",
       "      <td>0.000714</td>\n",
       "      <td>0.190705</td>\n",
       "      <td>False</td>\n",
       "      <td>pyod</td>\n",
       "      <td>0.120173</td>\n",
       "      <td>9009</td>\n",
       "      <td>['amt']</td>\n",
       "      <td>0.499722</td>\n",
       "      <td>28878</td>\n",
       "      <td>0.001766</td>\n",
       "      <td>NaN</td>\n",
       "      <td>NaN</td>\n",
       "      <td>NaN</td>\n",
       "      <td>0.497956</td>\n",
       "    </tr>\n",
       "  </tbody>\n",
       "</table>\n",
       "<p>811 rows × 19 columns</p>\n",
       "</div>"
      ],
      "text/plain": [
       "                model      time       acc       pre       rec        f1  \\\n",
       "8345    LightGBMLarge       NaN  0.986219  0.099206  0.833333  0.177305   \n",
       "5998              GCN       NaN  0.947098  0.032544  0.970588  0.062977   \n",
       "8336         LightGBM       NaN  0.986219  0.099206  0.833333  0.177305   \n",
       "1180   NeuralNetTorch       NaN  0.982002  0.080000  0.866667  0.146479   \n",
       "5953         CatBoost       NaN  0.984634  0.087542  0.812500  0.158055   \n",
       "...               ...       ...       ...       ...       ...       ...   \n",
       "2892              PCA  0.003428  0.233595  0.000588  0.265306  0.001173   \n",
       "10660             PCA  0.003260  0.216723  0.000383  0.234940  0.000766   \n",
       "4179              PCA  0.002809  0.219777  0.000355  0.200000  0.000710   \n",
       "3407              PCA  0.003932  0.236793  0.000303  0.157895  0.000605   \n",
       "5130              PCA  0.002726  0.224427  0.000358  0.156863  0.000714   \n",
       "\n",
       "            auc  graph_based     method  throw_rate  train_size train_cols  \\\n",
       "8345   0.986075        False  Autogluon    0.107023       39284    ['amt']   \n",
       "5998   0.985970         True   Proposed    0.098821        9009        amt   \n",
       "8336   0.985903        False  Autogluon    0.107023       39284    ['amt']   \n",
       "1180   0.985676        False  Autogluon    0.107023       39284    ['amt']   \n",
       "5953   0.985574        False  Autogluon    0.099945       42066    ['amt']   \n",
       "...         ...          ...        ...         ...         ...        ...   \n",
       "2892   0.249424        False       pyod    0.119668        9009    ['amt']   \n",
       "10660  0.225820        False       pyod    0.033507        9009    ['amt']   \n",
       "4179   0.209902        False       pyod    0.062054        9009    ['amt']   \n",
       "3407   0.197402        False       pyod    0.074713        9009    ['amt']   \n",
       "5130   0.190705        False       pyod    0.120173        9009    ['amt']   \n",
       "\n",
       "       train_frate  test_size  test_frate  hyper_params       theta  gamma  \\\n",
       "8345      0.152123      16835    0.001782           NaN         NaN    NaN   \n",
       "5998      0.498501      37125    0.001832           NaN  11406996.0    0.9   \n",
       "8336      0.152123      16835    0.001782           NaN         NaN    NaN   \n",
       "1180      0.152123      16835    0.001782           NaN         NaN    NaN   \n",
       "5953      0.142015      18027    0.001775           NaN         NaN    NaN   \n",
       "...            ...        ...         ...           ...         ...    ...   \n",
       "2892      0.497835      28879    0.001697           NaN         NaN    NaN   \n",
       "10660     0.498390     129949    0.001277           NaN         NaN    NaN   \n",
       "4179      0.499611      64975    0.001385           NaN         NaN    NaN   \n",
       "3407      0.497058      51944    0.001463           NaN         NaN    NaN   \n",
       "5130      0.499722      28878    0.001766           NaN         NaN    NaN   \n",
       "\n",
       "           diff  \n",
       "8345   0.150341  \n",
       "5998   0.496670  \n",
       "8336   0.150341  \n",
       "1180   0.150341  \n",
       "5953   0.140240  \n",
       "...         ...  \n",
       "2892   0.496139  \n",
       "10660  0.497113  \n",
       "4179   0.498226  \n",
       "3407   0.495595  \n",
       "5130   0.497956  \n",
       "\n",
       "[811 rows x 19 columns]"
      ]
     },
     "execution_count": 155,
     "metadata": {},
     "output_type": "execute_result"
    }
   ],
   "source": [
    "ex6 = merged_df[(merged_df['test_frate'] < 0.002) & (merged_df['test_frate'] >= 0.001) & (merged_df['diff'] >= 0.0003)]\n",
    "ex6.drop_duplicates(inplace=True)\n",
    "ex6.sort_values(by='auc', ascending = False)"
   ]
  },
  {
   "cell_type": "code",
   "execution_count": 156,
   "id": "56cc5237-f998-4dfa-9a3a-c1b554067334",
   "metadata": {},
   "outputs": [],
   "source": [
    "gcn_df = ex6[(ex6['model'] == 'GCN') & (ex6['gamma'] == 0.8) & (ex6['theta'] == 1e7)]\n",
    "non_gcn_df = ex6[ex6['model'] != 'GCN']\n",
    "ex66 = pd.concat([gcn_df, non_gcn_df], ignore_index=True)"
   ]
  },
  {
   "cell_type": "code",
   "execution_count": 157,
   "id": "a4a845fe-5e05-4b51-9e7a-6acf93afc8df",
   "metadata": {},
   "outputs": [
    {
     "data": {
      "text/html": [
       "<div>\n",
       "<style scoped>\n",
       "    .dataframe tbody tr th:only-of-type {\n",
       "        vertical-align: middle;\n",
       "    }\n",
       "\n",
       "    .dataframe tbody tr th {\n",
       "        vertical-align: top;\n",
       "    }\n",
       "\n",
       "    .dataframe thead th {\n",
       "        text-align: right;\n",
       "    }\n",
       "</style>\n",
       "<table border=\"1\" class=\"dataframe\">\n",
       "  <thead>\n",
       "    <tr style=\"text-align: right;\">\n",
       "      <th></th>\n",
       "      <th>model</th>\n",
       "      <th>time</th>\n",
       "      <th>acc</th>\n",
       "      <th>pre</th>\n",
       "      <th>rec</th>\n",
       "      <th>f1</th>\n",
       "      <th>auc</th>\n",
       "      <th>graph_based</th>\n",
       "      <th>method</th>\n",
       "      <th>throw_rate</th>\n",
       "      <th>train_size</th>\n",
       "      <th>train_cols</th>\n",
       "      <th>train_frate</th>\n",
       "      <th>test_size</th>\n",
       "      <th>test_frate</th>\n",
       "      <th>hyper_params</th>\n",
       "      <th>theta</th>\n",
       "      <th>gamma</th>\n",
       "      <th>diff</th>\n",
       "    </tr>\n",
       "  </thead>\n",
       "  <tbody>\n",
       "    <tr>\n",
       "      <th>0</th>\n",
       "      <td>GCN</td>\n",
       "      <td>NaN</td>\n",
       "      <td>0.808770</td>\n",
       "      <td>0.007758</td>\n",
       "      <td>0.975000</td>\n",
       "      <td>0.015394</td>\n",
       "      <td>0.958392</td>\n",
       "      <td>True</td>\n",
       "      <td>Proposed</td>\n",
       "      <td>0.146142</td>\n",
       "      <td>5004</td>\n",
       "      <td>amt</td>\n",
       "      <td>0.900080</td>\n",
       "      <td>26089</td>\n",
       "      <td>0.001533</td>\n",
       "      <td>NaN</td>\n",
       "      <td>10000000.0</td>\n",
       "      <td>0.8</td>\n",
       "      <td>0.898547</td>\n",
       "    </tr>\n",
       "    <tr>\n",
       "      <th>1</th>\n",
       "      <td>GCN</td>\n",
       "      <td>NaN</td>\n",
       "      <td>0.876793</td>\n",
       "      <td>0.011087</td>\n",
       "      <td>0.972973</td>\n",
       "      <td>0.021924</td>\n",
       "      <td>0.972643</td>\n",
       "      <td>True</td>\n",
       "      <td>Proposed</td>\n",
       "      <td>0.143218</td>\n",
       "      <td>5630</td>\n",
       "      <td>amt</td>\n",
       "      <td>0.799822</td>\n",
       "      <td>26070</td>\n",
       "      <td>0.001419</td>\n",
       "      <td>NaN</td>\n",
       "      <td>10000000.0</td>\n",
       "      <td>0.8</td>\n",
       "      <td>0.798403</td>\n",
       "    </tr>\n",
       "    <tr>\n",
       "      <th>2</th>\n",
       "      <td>GCN</td>\n",
       "      <td>NaN</td>\n",
       "      <td>0.905148</td>\n",
       "      <td>0.015544</td>\n",
       "      <td>0.975000</td>\n",
       "      <td>0.030600</td>\n",
       "      <td>0.952527</td>\n",
       "      <td>True</td>\n",
       "      <td>Proposed</td>\n",
       "      <td>0.140461</td>\n",
       "      <td>6435</td>\n",
       "      <td>amt</td>\n",
       "      <td>0.702875</td>\n",
       "      <td>26051</td>\n",
       "      <td>0.001535</td>\n",
       "      <td>NaN</td>\n",
       "      <td>10000000.0</td>\n",
       "      <td>0.8</td>\n",
       "      <td>0.701339</td>\n",
       "    </tr>\n",
       "    <tr>\n",
       "      <th>3</th>\n",
       "      <td>GCN</td>\n",
       "      <td>NaN</td>\n",
       "      <td>0.907249</td>\n",
       "      <td>0.018308</td>\n",
       "      <td>1.000000</td>\n",
       "      <td>0.035957</td>\n",
       "      <td>0.968529</td>\n",
       "      <td>True</td>\n",
       "      <td>Proposed</td>\n",
       "      <td>0.135638</td>\n",
       "      <td>7507</td>\n",
       "      <td>amt</td>\n",
       "      <td>0.599707</td>\n",
       "      <td>26016</td>\n",
       "      <td>0.001730</td>\n",
       "      <td>NaN</td>\n",
       "      <td>10000000.0</td>\n",
       "      <td>0.8</td>\n",
       "      <td>0.597977</td>\n",
       "    </tr>\n",
       "    <tr>\n",
       "      <th>4</th>\n",
       "      <td>GCN</td>\n",
       "      <td>NaN</td>\n",
       "      <td>0.933698</td>\n",
       "      <td>0.018296</td>\n",
       "      <td>0.941176</td>\n",
       "      <td>0.035895</td>\n",
       "      <td>0.970539</td>\n",
       "      <td>True</td>\n",
       "      <td>Proposed</td>\n",
       "      <td>0.122217</td>\n",
       "      <td>11261</td>\n",
       "      <td>amt</td>\n",
       "      <td>0.400586</td>\n",
       "      <td>25927</td>\n",
       "      <td>0.001311</td>\n",
       "      <td>NaN</td>\n",
       "      <td>10000000.0</td>\n",
       "      <td>0.8</td>\n",
       "      <td>0.399275</td>\n",
       "    </tr>\n",
       "    <tr>\n",
       "      <th>...</th>\n",
       "      <td>...</td>\n",
       "      <td>...</td>\n",
       "      <td>...</td>\n",
       "      <td>...</td>\n",
       "      <td>...</td>\n",
       "      <td>...</td>\n",
       "      <td>...</td>\n",
       "      <td>...</td>\n",
       "      <td>...</td>\n",
       "      <td>...</td>\n",
       "      <td>...</td>\n",
       "      <td>...</td>\n",
       "      <td>...</td>\n",
       "      <td>...</td>\n",
       "      <td>...</td>\n",
       "      <td>...</td>\n",
       "      <td>...</td>\n",
       "      <td>...</td>\n",
       "      <td>...</td>\n",
       "    </tr>\n",
       "    <tr>\n",
       "      <th>794</th>\n",
       "      <td>OCSVM</td>\n",
       "      <td>4.652213</td>\n",
       "      <td>0.754870</td>\n",
       "      <td>0.004325</td>\n",
       "      <td>0.704082</td>\n",
       "      <td>0.008598</td>\n",
       "      <td>0.729514</td>\n",
       "      <td>False</td>\n",
       "      <td>pyod</td>\n",
       "      <td>0.033481</td>\n",
       "      <td>10010</td>\n",
       "      <td>['amt']</td>\n",
       "      <td>0.448152</td>\n",
       "      <td>129829</td>\n",
       "      <td>0.001510</td>\n",
       "      <td>NaN</td>\n",
       "      <td>NaN</td>\n",
       "      <td>NaN</td>\n",
       "      <td>0.446642</td>\n",
       "    </tr>\n",
       "    <tr>\n",
       "      <th>795</th>\n",
       "      <td>PCA</td>\n",
       "      <td>0.002185</td>\n",
       "      <td>0.372321</td>\n",
       "      <td>0.000749</td>\n",
       "      <td>0.311224</td>\n",
       "      <td>0.001495</td>\n",
       "      <td>0.341819</td>\n",
       "      <td>False</td>\n",
       "      <td>pyod</td>\n",
       "      <td>0.033481</td>\n",
       "      <td>10010</td>\n",
       "      <td>['amt']</td>\n",
       "      <td>0.448152</td>\n",
       "      <td>129829</td>\n",
       "      <td>0.001510</td>\n",
       "      <td>NaN</td>\n",
       "      <td>NaN</td>\n",
       "      <td>NaN</td>\n",
       "      <td>0.446642</td>\n",
       "    </tr>\n",
       "    <tr>\n",
       "      <th>796</th>\n",
       "      <td>ROD</td>\n",
       "      <td>1.469945</td>\n",
       "      <td>0.553289</td>\n",
       "      <td>0.000984</td>\n",
       "      <td>0.290816</td>\n",
       "      <td>0.001962</td>\n",
       "      <td>0.422251</td>\n",
       "      <td>False</td>\n",
       "      <td>pyod</td>\n",
       "      <td>0.033481</td>\n",
       "      <td>10010</td>\n",
       "      <td>['amt']</td>\n",
       "      <td>0.448152</td>\n",
       "      <td>129829</td>\n",
       "      <td>0.001510</td>\n",
       "      <td>NaN</td>\n",
       "      <td>NaN</td>\n",
       "      <td>NaN</td>\n",
       "      <td>0.446642</td>\n",
       "    </tr>\n",
       "    <tr>\n",
       "      <th>797</th>\n",
       "      <td>NeuralNetTorch</td>\n",
       "      <td>NaN</td>\n",
       "      <td>0.887741</td>\n",
       "      <td>0.011663</td>\n",
       "      <td>0.934783</td>\n",
       "      <td>0.023038</td>\n",
       "      <td>0.967554</td>\n",
       "      <td>False</td>\n",
       "      <td>Auto_not_best</td>\n",
       "      <td>0.062595</td>\n",
       "      <td>9009</td>\n",
       "      <td>['amt']</td>\n",
       "      <td>0.503830</td>\n",
       "      <td>64975</td>\n",
       "      <td>0.001416</td>\n",
       "      <td>NaN</td>\n",
       "      <td>NaN</td>\n",
       "      <td>NaN</td>\n",
       "      <td>0.502414</td>\n",
       "    </tr>\n",
       "    <tr>\n",
       "      <th>798</th>\n",
       "      <td>NeuralNetTorch</td>\n",
       "      <td>NaN</td>\n",
       "      <td>0.872970</td>\n",
       "      <td>0.009819</td>\n",
       "      <td>0.898352</td>\n",
       "      <td>0.019425</td>\n",
       "      <td>0.958730</td>\n",
       "      <td>False</td>\n",
       "      <td>Auto_not_best</td>\n",
       "      <td>0.018233</td>\n",
       "      <td>9009</td>\n",
       "      <td>['amt']</td>\n",
       "      <td>0.503830</td>\n",
       "      <td>259892</td>\n",
       "      <td>0.001401</td>\n",
       "      <td>NaN</td>\n",
       "      <td>NaN</td>\n",
       "      <td>NaN</td>\n",
       "      <td>0.502429</td>\n",
       "    </tr>\n",
       "  </tbody>\n",
       "</table>\n",
       "<p>799 rows × 19 columns</p>\n",
       "</div>"
      ],
      "text/plain": [
       "              model      time       acc       pre       rec        f1  \\\n",
       "0               GCN       NaN  0.808770  0.007758  0.975000  0.015394   \n",
       "1               GCN       NaN  0.876793  0.011087  0.972973  0.021924   \n",
       "2               GCN       NaN  0.905148  0.015544  0.975000  0.030600   \n",
       "3               GCN       NaN  0.907249  0.018308  1.000000  0.035957   \n",
       "4               GCN       NaN  0.933698  0.018296  0.941176  0.035895   \n",
       "..              ...       ...       ...       ...       ...       ...   \n",
       "794           OCSVM  4.652213  0.754870  0.004325  0.704082  0.008598   \n",
       "795             PCA  0.002185  0.372321  0.000749  0.311224  0.001495   \n",
       "796             ROD  1.469945  0.553289  0.000984  0.290816  0.001962   \n",
       "797  NeuralNetTorch       NaN  0.887741  0.011663  0.934783  0.023038   \n",
       "798  NeuralNetTorch       NaN  0.872970  0.009819  0.898352  0.019425   \n",
       "\n",
       "          auc  graph_based         method  throw_rate  train_size train_cols  \\\n",
       "0    0.958392         True       Proposed    0.146142        5004        amt   \n",
       "1    0.972643         True       Proposed    0.143218        5630        amt   \n",
       "2    0.952527         True       Proposed    0.140461        6435        amt   \n",
       "3    0.968529         True       Proposed    0.135638        7507        amt   \n",
       "4    0.970539         True       Proposed    0.122217       11261        amt   \n",
       "..        ...          ...            ...         ...         ...        ...   \n",
       "794  0.729514        False           pyod    0.033481       10010    ['amt']   \n",
       "795  0.341819        False           pyod    0.033481       10010    ['amt']   \n",
       "796  0.422251        False           pyod    0.033481       10010    ['amt']   \n",
       "797  0.967554        False  Auto_not_best    0.062595        9009    ['amt']   \n",
       "798  0.958730        False  Auto_not_best    0.018233        9009    ['amt']   \n",
       "\n",
       "     train_frate  test_size  test_frate  hyper_params       theta  gamma  \\\n",
       "0       0.900080      26089    0.001533           NaN  10000000.0    0.8   \n",
       "1       0.799822      26070    0.001419           NaN  10000000.0    0.8   \n",
       "2       0.702875      26051    0.001535           NaN  10000000.0    0.8   \n",
       "3       0.599707      26016    0.001730           NaN  10000000.0    0.8   \n",
       "4       0.400586      25927    0.001311           NaN  10000000.0    0.8   \n",
       "..           ...        ...         ...           ...         ...    ...   \n",
       "794     0.448152     129829    0.001510           NaN         NaN    NaN   \n",
       "795     0.448152     129829    0.001510           NaN         NaN    NaN   \n",
       "796     0.448152     129829    0.001510           NaN         NaN    NaN   \n",
       "797     0.503830      64975    0.001416           NaN         NaN    NaN   \n",
       "798     0.503830     259892    0.001401           NaN         NaN    NaN   \n",
       "\n",
       "         diff  \n",
       "0    0.898547  \n",
       "1    0.798403  \n",
       "2    0.701339  \n",
       "3    0.597977  \n",
       "4    0.399275  \n",
       "..        ...  \n",
       "794  0.446642  \n",
       "795  0.446642  \n",
       "796  0.446642  \n",
       "797  0.502414  \n",
       "798  0.502429  \n",
       "\n",
       "[799 rows x 19 columns]"
      ]
     },
     "execution_count": 157,
     "metadata": {},
     "output_type": "execute_result"
    }
   ],
   "source": [
    "ex66"
   ]
  },
  {
   "cell_type": "code",
   "execution_count": null,
   "id": "0d460c25-2651-4fb3-8a11-28a74301be27",
   "metadata": {},
   "outputs": [],
   "source": []
  },
  {
   "cell_type": "code",
   "execution_count": null,
   "id": "f8ff4e88-3e60-4c99-9506-018b1c9ee883",
   "metadata": {},
   "outputs": [],
   "source": []
  },
  {
   "cell_type": "code",
   "execution_count": null,
   "id": "f3e466f7-fbf8-4a4a-8d3e-3278c8c04ae9",
   "metadata": {},
   "outputs": [],
   "source": []
  },
  {
   "cell_type": "code",
   "execution_count": 162,
   "id": "cc5899fa-9658-4640-85ab-3c56608fae4e",
   "metadata": {},
   "outputs": [
    {
     "data": {
      "application/vnd.plotly.v1+json": {
       "config": {
        "plotlyServerURL": "https://plot.ly"
       },
       "data": [
        {
         "mode": "lines+markers",
         "name": "LightGBMLarge",
         "type": "scatter",
         "visible": true,
         "x": [
          0.0401200582531168,
          0.0501165501165501,
          0.0603263403263403,
          0.0707070707070707,
          0.08112812133698,
          0.0911706527602949,
          0.091863800388613,
          0.1004773004773004,
          0.142014928921219,
          0.1521230017309846,
          0.2015362756415948,
          0.303030303030303,
          0.4028061451025664,
          0.4991674991674991,
          0.5007215007215007,
          0.5028305028305028,
          0.5038295038295039,
          0.605568136406021,
          0.6993006993006993,
          0.7946714031971581,
          0.9016786570743404
         ],
         "y": [
          0.974090265602644,
          0.9778752925442996,
          0.9542567021164998,
          0.9664377109856808,
          0.9459119312060488,
          0.977874480083138,
          0.9737813732659092,
          0.9799732149996002,
          0.982494269241456,
          0.9860745809778836,
          0.9454609230552212,
          0.964246957600186,
          0.9564691033665612,
          0.9528418185304368,
          0.9663526216121264,
          0.9685948249279616,
          0.9694038728033062,
          0.9617754418389742,
          0.9535651573660572,
          0.967254457406834,
          0.9559604259458352
         ]
        },
        {
         "mode": "lines+markers",
         "name": "LightGBM",
         "type": "scatter",
         "x": [
          0.0198734598734598,
          0.0298501498501498,
          0.0401200582531168,
          0.0501165501165501,
          0.0603263403263403,
          0.0707070707070707,
          0.08112812133698,
          0.0911706527602949,
          0.091863800388613,
          0.1004773004773004,
          0.142014928921219,
          0.1521230017309846,
          0.2015362756415948,
          0.303030303030303,
          0.4028061451025664,
          0.4991674991674991,
          0.5007215007215007,
          0.5028305028305028,
          0.5038295038295039,
          0.605568136406021,
          0.6993006993006993,
          0.7946714031971581,
          0.9016786570743404
         ],
         "y": [
          0.979878700957752,
          0.9438445900437789,
          0.9759694345364044,
          0.9773570712136408,
          0.9536511911701632,
          0.9665357291689785,
          0.956389811169223,
          0.9777826047804362,
          0.9741260212541508,
          0.9801536139761732,
          0.9825871769936092,
          0.9859030050580184,
          0.9504233146760844,
          0.964840810039732,
          0.9588997600550032,
          0.9544690047851676,
          0.9664100323042252,
          0.9682479239103852,
          0.9725055492194302,
          0.9647841823572446,
          0.957330627102227,
          0.9686186352495116,
          0.9652101571699176
         ]
        },
        {
         "mode": "lines+markers",
         "name": "NeuralNetTorch",
         "type": "scatter",
         "x": [
          0.0198734598734598,
          0.0298501498501498,
          0.0401200582531168,
          0.0501165501165501,
          0.0603263403263403,
          0.0707070707070707,
          0.08112812133698,
          0.0911706527602949,
          0.091863800388613,
          0.1004773004773004,
          0.142014928921219,
          0.1521230017309846,
          0.2015362756415948,
          0.303030303030303,
          0.4028061451025664,
          0.4991674991674991,
          0.5007215007215007,
          0.5028305028305028,
          0.5038295038295039,
          0.605568136406021,
          0.6993006993006993,
          0.7946714031971581,
          0.9016786570743404
         ],
         "y": [
          0.9765248135003592,
          0.9477829529922148,
          0.9766451544646636,
          0.9680276941936922,
          0.9322664301278876,
          0.9669857497589616,
          0.9552408375937788,
          0.9749655011280584,
          0.9700185675885236,
          0.9784200847525384,
          0.984232599333148,
          0.9856758901120698,
          0.9435748363922154,
          0.9584672105938272,
          0.958330608937208,
          0.93401220467846,
          0.969849961012142,
          0.9662143662211448,
          0.9691855830666029,
          0.9139443995225444,
          0.9333915594153224,
          0.9415098860510271,
          0.922902694585232
         ]
        },
        {
         "mode": "lines+markers",
         "name": "CatBoost",
         "type": "scatter",
         "x": [
          0.0198734598734598,
          0.0298501498501498,
          0.0401200582531168,
          0.0501165501165501,
          0.0603263403263403,
          0.0707070707070707,
          0.08112812133698,
          0.0911706527602949,
          0.091863800388613,
          0.1004773004773004,
          0.142014928921219,
          0.1521230017309846,
          0.2015362756415948,
          0.303030303030303,
          0.4028061451025664,
          0.4991674991674991,
          0.5007215007215007,
          0.5028305028305028,
          0.5038295038295039,
          0.605568136406021,
          0.6993006993006993,
          0.7946714031971581,
          0.9016786570743404
         ],
         "y": [
          0.9599046029353774,
          0.9210111229967712,
          0.942605369485924,
          0.9704711356291096,
          0.9297653777870434,
          0.9661584516332664,
          0.940662891030538,
          0.9686035927502477,
          0.9532915538070176,
          0.9794919844886864,
          0.985574117810503,
          0.9818139442626204,
          0.9532288292282346,
          0.9458087770140348,
          0.9579070891759248,
          0.9576457433682912,
          0.9711768335004242,
          0.9667280721341456,
          0.9684995646468736,
          0.9562538985791844,
          0.9203044235343232,
          0.9693208797948722,
          0.9715127391252408
         ]
        },
        {
         "mode": "lines+markers",
         "name": "GCN",
         "type": "scatter",
         "x": [
          0.0200111000111,
          0.03008991008991,
          0.0399069370937377,
          0.0606993006993007,
          0.0701942501942502,
          0.0801513160231591,
          0.089951847189754,
          0.0999444999444999,
          0.1987834117751531,
          0.1996714323772311,
          0.2010922653405559,
          0.299034299034299,
          0.3036297036297036,
          0.4005860935973714,
          0.4031613533433976,
          0.4967254967254967,
          0.4977244977244977,
          0.4992784992784992,
          0.5026085026085026,
          0.5028305028305028,
          0.5042735042735043,
          0.5997069401891568,
          0.6015718662581591,
          0.6972804972804972,
          0.7028749028749028,
          0.7998223801065719,
          0.8033747779751332,
          0.8972821742605915,
          0.9000799360511591
         ],
         "y": [
          0.9492864471714084,
          0.9751843709666173,
          0.9678422153958128,
          0.9796725807584864,
          0.9843761809799008,
          0.9834676109352142,
          0.9509039782171776,
          0.980787268121054,
          0.9729983870675784,
          0.9816791770920212,
          0.9768658653967932,
          0.955166806659344,
          0.9650960430698332,
          0.9705388238020268,
          0.9633614743695856,
          0.9737635277423986,
          0.980289756113678,
          0.9719339870488946,
          0.9770063392682136,
          0.977288239523064,
          0.9741023586490224,
          0.9685285724675814,
          0.9738163790387512,
          0.9754487071919004,
          0.9525268155780248,
          0.9726433497608544,
          0.9757151518256652,
          0.9747747544315232,
          0.9583923567123498
         ]
        },
        {
         "mode": "lines+markers",
         "name": "XGBoost",
         "type": "scatter",
         "x": [
          0.0198734598734598,
          0.0298501498501498,
          0.0401200582531168,
          0.0501165501165501,
          0.0603263403263403,
          0.0707070707070707,
          0.08112812133698,
          0.0911706527602949,
          0.091863800388613,
          0.1004773004773004,
          0.142014928921219,
          0.1521230017309846,
          0.2015362756415948,
          0.303030303030303,
          0.4028061451025664,
          0.4991674991674991,
          0.5007215007215007,
          0.5028305028305028,
          0.5038295038295039,
          0.605568136406021,
          0.6993006993006993,
          0.7946714031971581,
          0.9016786570743404
         ],
         "y": [
          0.9649404983767376,
          0.9447199193756068,
          0.9635885829151803,
          0.961841775325978,
          0.9433794150179994,
          0.9557352350093826,
          0.9473773775244364,
          0.9783022174195576,
          0.9615583238558202,
          0.9805923682737668,
          0.9842456237843844,
          0.981731627491818,
          0.956875053528336,
          0.9642557091098214,
          0.955367456642474,
          0.9596553678910248,
          0.9705873028114104,
          0.9667413633608728,
          0.971515869032486,
          0.9668591890955296,
          0.9528817333062344,
          0.959574976284177,
          0.9601371183808598
         ]
        },
        {
         "mode": "lines+markers",
         "name": "LightGBMXT",
         "type": "scatter",
         "x": [
          0.0603263403263403,
          0.0707070707070707,
          0.08112812133698,
          0.0911706527602949,
          0.091863800388613,
          0.1004773004773004,
          0.142014928921219,
          0.1521230017309846,
          0.2015362756415948,
          0.303030303030303,
          0.4028061451025664,
          0.4991674991674991,
          0.5007215007215007,
          0.5028305028305028,
          0.5038295038295039,
          0.605568136406021,
          0.6993006993006993,
          0.7946714031971581,
          0.9016786570743404
         ],
         "y": [
          0.923695661699972,
          0.9362561245952896,
          0.9478266831208008,
          0.9434194162328448,
          0.9494445171912036,
          0.9634194850883504,
          0.979718324534593,
          0.9782991173261928,
          0.9433865425984796,
          0.9300691869347464,
          0.8997268669048283,
          0.9423497757473698,
          0.971227817622512,
          0.9650360989717908,
          0.9684252480286476,
          0.9511732316814908,
          0.9317312921246478,
          0.9454539837685064,
          0.9614229765013056
         ]
        },
        {
         "mode": "lines+markers",
         "name": "NeuralNetFastAI",
         "type": "scatter",
         "x": [
          0.0198734598734598,
          0.0298501498501498,
          0.0401200582531168,
          0.0501165501165501,
          0.0603263403263403,
          0.0707070707070707,
          0.08112812133698,
          0.0911706527602949,
          0.091863800388613,
          0.1004773004773004,
          0.142014928921219,
          0.1521230017309846,
          0.2015362756415948,
          0.303030303030303,
          0.4028061451025664,
          0.4991674991674991,
          0.5007215007215007,
          0.5028305028305028,
          0.5038295038295039,
          0.605568136406021,
          0.6993006993006993,
          0.7946714031971581,
          0.9016786570743404
         ],
         "y": [
          0.9551671609379812,
          0.933157400804263,
          0.9276582935332408,
          0.9255279728073108,
          0.9073833827081476,
          0.9272939337224472,
          0.8962679477385359,
          0.9546689690252456,
          0.9481777427285528,
          0.95869712960742,
          0.9775484509585995,
          0.9796479222453636,
          0.7924208914168258,
          0.885792174150041,
          0.8835206727177981,
          0.8730075695683346,
          0.9027642819807544,
          0.9018728667581104,
          0.9208076720258024,
          0.8841727311231758,
          0.8934760238543835,
          0.7987575847308528,
          0.9231928019249476
         ]
        },
        {
         "mode": "lines+markers",
         "name": "ExtraTreesEntr",
         "type": "scatter",
         "x": [
          0.0198734598734598,
          0.0298501498501498,
          0.0401200582531168,
          0.0501165501165501,
          0.0603263403263403,
          0.0707070707070707,
          0.08112812133698,
          0.0911706527602949,
          0.091863800388613,
          0.1004773004773004,
          0.142014928921219,
          0.1521230017309846,
          0.2015362756415948,
          0.303030303030303,
          0.4028061451025664,
          0.4991674991674991,
          0.5007215007215007,
          0.5028305028305028,
          0.5038295038295039,
          0.605568136406021,
          0.6993006993006993,
          0.7946714031971581,
          0.9016786570743404
         ],
         "y": [
          0.8676001101981946,
          0.7953047928923753,
          0.9417174243798238,
          0.9473998384041012,
          0.8458994559696605,
          0.8768731336474848,
          0.8925835194217547,
          0.9474023018718224,
          0.9401805852468592,
          0.9648786679459502,
          0.9730524103917756,
          0.9748537141723694,
          0.9211584287607122,
          0.9525074325321118,
          0.9402059445332762,
          0.9499172599496476,
          0.9515329511666368,
          0.953048077025317,
          0.955635922151503,
          0.95375380231797,
          0.9389212061954016,
          0.9503663049203082,
          0.9405429273537091
         ]
        },
        {
         "mode": "lines+markers",
         "name": "ExtraTreesGini",
         "type": "scatter",
         "x": [
          0.0198734598734598,
          0.0298501498501498,
          0.0401200582531168,
          0.0501165501165501,
          0.0603263403263403,
          0.0707070707070707,
          0.08112812133698,
          0.0911706527602949,
          0.091863800388613,
          0.1004773004773004,
          0.142014928921219,
          0.1521230017309846,
          0.2015362756415948,
          0.303030303030303,
          0.4028061451025664,
          0.4991674991674991,
          0.5007215007215007,
          0.5028305028305028,
          0.5038295038295039,
          0.605568136406021,
          0.6993006993006993,
          0.7946714031971581,
          0.9016786570743404
         ],
         "y": [
          0.8798900448895587,
          0.7955833630474831,
          0.954682052677186,
          0.9334064694082248,
          0.8457660045439879,
          0.8774797367441196,
          0.8921948149889328,
          0.9474260312546394,
          0.9331570491364308,
          0.965148017110418,
          0.9604204292859126,
          0.9745789943469204,
          0.9202497065387696,
          0.9520604804328744,
          0.940706242730816,
          0.9494441619287394,
          0.951483252358551,
          0.95332453454124,
          0.9558613246998516,
          0.9538362019175232,
          0.9377630930866598,
          0.9499040441600304,
          0.9401965050598132
         ]
        },
        {
         "mode": "lines+markers",
         "name": "RandomForestGini",
         "type": "scatter",
         "x": [
          0.0198734598734598,
          0.0298501498501498,
          0.0401200582531168,
          0.0501165501165501,
          0.0603263403263403,
          0.0707070707070707,
          0.08112812133698,
          0.0911706527602949,
          0.091863800388613,
          0.1004773004773004,
          0.142014928921219,
          0.1521230017309846,
          0.2015362756415948,
          0.303030303030303,
          0.4028061451025664,
          0.4991674991674991,
          0.5007215007215007,
          0.5028305028305028,
          0.5038295038295039,
          0.605568136406021,
          0.6993006993006993,
          0.7946714031971581,
          0.9016786570743404
         ],
         "y": [
          0.8654683963461735,
          0.781298904538341,
          0.9406795991778006,
          0.9038420818009584,
          0.8177139837175981,
          0.8628509852368587,
          0.8895008178096414,
          0.9339161026374906,
          0.9328499188587552,
          0.963540917086432,
          0.9585805084745764,
          0.9734920162650004,
          0.91814446857068,
          0.950147650469706,
          0.9184954794838112,
          0.9429036338929924,
          0.9513577200243354,
          0.949221532850596,
          0.9531154405689438,
          0.94859805167302,
          0.9359087388560224,
          0.9414496075492796,
          0.926059745046844
         ]
        },
        {
         "mode": "lines+markers",
         "name": "RandomForestEntr",
         "type": "scatter",
         "x": [
          0.0198734598734598,
          0.0298501498501498,
          0.0401200582531168,
          0.0501165501165501,
          0.0603263403263403,
          0.0707070707070707,
          0.08112812133698,
          0.0911706527602949,
          0.091863800388613,
          0.1004773004773004,
          0.142014928921219,
          0.1521230017309846,
          0.2015362756415948,
          0.303030303030303,
          0.4028061451025664,
          0.4991674991674991,
          0.5007215007215007,
          0.5028305028305028,
          0.5038295038295039,
          0.605568136406021,
          0.6993006993006993,
          0.7946714031971581,
          0.9016786570743404
         ],
         "y": [
          0.8654683963461735,
          0.781298904538341,
          0.9406795991778006,
          0.9038420818009584,
          0.8177139837175981,
          0.8628509852368587,
          0.8895008178096414,
          0.9339161026374906,
          0.9327513429133458,
          0.963540917086432,
          0.9585805084745764,
          0.9734920162650004,
          0.91814446857068,
          0.950147650469706,
          0.9184954794838112,
          0.9429036338929924,
          0.9513577200243354,
          0.949221532850596,
          0.9531154405689438,
          0.94859805167302,
          0.9359087388560224,
          0.9414496075492796,
          0.926059745046844
         ]
        },
        {
         "mode": "lines+markers",
         "name": "KNeighborsUnif",
         "type": "scatter",
         "x": [
          0.0198734598734598,
          0.0298501498501498,
          0.0401200582531168,
          0.0501165501165501,
          0.0603263403263403,
          0.0707070707070707,
          0.08112812133698,
          0.0911706527602949,
          0.091863800388613,
          0.1004773004773004,
          0.142014928921219,
          0.1521230017309846,
          0.2015362756415948,
          0.303030303030303,
          0.4028061451025664,
          0.4991674991674991,
          0.5007215007215007,
          0.5028305028305028,
          0.5038295038295039,
          0.605568136406021,
          0.6993006993006993,
          0.7946714031971581,
          0.9016786570743404
         ],
         "y": [
          0.8506483597214796,
          0.7483644836671223,
          0.8972672702174395,
          0.8838884709684609,
          0.8171151121456732,
          0.8602445646143262,
          0.888589963957611,
          0.9330125607533044,
          0.9345290203169436,
          0.9446949708163428,
          0.9549927063073076,
          0.9679281959734208,
          0.8902228290166404,
          0.9262297746361248,
          0.9252594120455956,
          0.9311835161812028,
          0.9497365106295468,
          0.9657824013525153,
          0.9561517236304772,
          0.9517534942820838,
          0.92916513319674,
          0.9356719131567626,
          0.9177690745575864
         ]
        },
        {
         "mode": "lines+markers",
         "name": "KNeighborsDist",
         "type": "scatter",
         "x": [
          0.0198734598734598,
          0.0298501498501498,
          0.0401200582531168,
          0.0501165501165501,
          0.0603263403263403,
          0.0707070707070707,
          0.08112812133698,
          0.0911706527602949,
          0.091863800388613,
          0.1004773004773004,
          0.142014928921219,
          0.1521230017309846,
          0.2015362756415948,
          0.303030303030303,
          0.4028061451025664,
          0.4991674991674991,
          0.5007215007215007,
          0.5028305028305028,
          0.5038295038295039,
          0.605568136406021,
          0.6993006993006993,
          0.7946714031971581,
          0.9016786570743404
         ],
         "y": [
          0.850200679555534,
          0.7186088577880787,
          0.881323932450678,
          0.865052797280731,
          0.8167280366174777,
          0.8594468568835889,
          0.8697258623729212,
          0.9359434437540616,
          0.9116833093269028,
          0.9307402854401536,
          0.9338244998610724,
          0.9456134087077258,
          0.8942752389253023,
          0.8919769910309528,
          0.8883334423091784,
          0.9248383755439584,
          0.9334091668594636,
          0.9191959871128268,
          0.9387299952172474,
          0.9274159639598014,
          0.9071110891390046,
          0.9192641049810388,
          0.8976859673373265
         ]
        },
        {
         "mode": "lines+markers",
         "name": "HBOS",
         "type": "scatter",
         "x": [
          0.4481518481518481,
          0.4486513486513486,
          0.4503496503496503,
          0.4507492507492507,
          0.4527472527472527,
          0.4942834942834943,
          0.4970584970584971,
          0.4978354978354978
         ],
         "y": [
          0.7296040966200185,
          0.7779415458234742,
          0.8589428478824547,
          0.7979358541213495,
          0.75869383714819,
          0.7265504894745449,
          0.7086125508882873,
          0.7065333729745801
         ]
        },
        {
         "mode": "lines+markers",
         "name": "LODA",
         "type": "scatter",
         "x": [
          0.4481518481518481,
          0.4486513486513486,
          0.4503496503496503,
          0.4507492507492507,
          0.4527472527472527,
          0.4942834942834943,
          0.4970584970584971,
          0.4978354978354978
         ],
         "y": [
          0.6892398705796915,
          0.7528041474755905,
          0.8589428478824547,
          0.7314874809089648,
          0.7480447282866497,
          0.6871580103268615,
          0.6488769061544892,
          0.6610107102154076
         ]
        },
        {
         "mode": "lines+markers",
         "name": "MCD",
         "type": "scatter",
         "x": [
          0.4468531468531468,
          0.4469530469530469,
          0.4474525474525475,
          0.448051948051948,
          0.4481518481518481,
          0.4483516483516483,
          0.4484515484515484,
          0.4485514485514486,
          0.4486513486513486,
          0.4492507492507492,
          0.4497502497502497,
          0.4501498501498501,
          0.4503496503496503,
          0.4506493506493506,
          0.4507492507492507,
          0.4516483516483516,
          0.4527472527472527,
          0.4529470529470529,
          0.453046953046953,
          0.4942834942834943,
          0.4970584970584971,
          0.4978354978354978,
          0.4983904983904983,
          0.4989454989454989,
          0.4996114996114996,
          0.4997224997224997,
          0.4998334998334998
         ],
         "y": [
          0.8133402896571427,
          0.784835379783339,
          0.8206854914671042,
          0.7740513798111838,
          0.758921063970704,
          0.7609758215464175,
          0.7826246831669585,
          0.7870602877624032,
          0.7573055131185443,
          0.8112461419753086,
          0.7942843621928714,
          0.7828460399703923,
          0.797010047536733,
          0.7961098402097311,
          0.8365807377238859,
          0.8354060982926963,
          0.811445015783096,
          0.8293512866959936,
          0.803559553478042,
          0.749921438751431,
          0.8108594488844151,
          0.7570278267394367,
          0.7761371414322833,
          0.7424018963492648,
          0.7910996378207598,
          0.8097290326266837,
          0.7511716423984613
         ]
        },
        {
         "mode": "lines+markers",
         "name": "KDE",
         "type": "scatter",
         "x": [
          0.4468531468531468,
          0.4469530469530469,
          0.4474525474525475,
          0.448051948051948,
          0.4481518481518481,
          0.4483516483516483,
          0.4484515484515484,
          0.4485514485514486,
          0.4486513486513486,
          0.4492507492507492,
          0.4497502497502497,
          0.4501498501498501,
          0.4503496503496503,
          0.4506493506493506,
          0.4507492507492507,
          0.4516483516483516,
          0.4527472527472527,
          0.4529470529470529,
          0.453046953046953,
          0.4942834942834943,
          0.4970584970584971,
          0.4978354978354978,
          0.4983904983904983,
          0.4989454989454989,
          0.4996114996114996,
          0.4997224997224997,
          0.4998334998334998
         ],
         "y": [
          0.8008476495406388,
          0.7845827259538012,
          0.8026420314624286,
          0.7733376452432825,
          0.7540326757626751,
          0.7597504968836231,
          0.7752219965112802,
          0.7635409002646317,
          0.7530644348051055,
          0.8014371141975307,
          0.7770556133824996,
          0.7821829509005676,
          0.796091724286949,
          0.7884226391010447,
          0.833306335909659,
          0.8354060982926963,
          0.811445015783096,
          0.8239022313146175,
          0.7976774046718231,
          0.7479360879418706,
          0.8011089892155391,
          0.7532123567429052,
          0.7746038127220516,
          0.7400691413849309,
          0.785582183863759,
          0.8071793396305343,
          0.743961864860581
         ]
        },
        {
         "mode": "lines+markers",
         "name": "IForest",
         "type": "scatter",
         "x": [
          0.4468531468531468,
          0.4469530469530469,
          0.4474525474525475,
          0.448051948051948,
          0.4481518481518481,
          0.4483516483516483,
          0.4484515484515484,
          0.4485514485514486,
          0.4486513486513486,
          0.4492507492507492,
          0.4497502497502497,
          0.4501498501498501,
          0.4503496503496503,
          0.4506493506493506,
          0.4507492507492507,
          0.4516483516483516,
          0.4527472527472527,
          0.4529470529470529,
          0.453046953046953,
          0.4942834942834943,
          0.4970584970584971,
          0.4978354978354978,
          0.4983904983904983,
          0.4989454989454989,
          0.4996114996114996,
          0.4997224997224997,
          0.4998334998334998
         ],
         "y": [
          0.7501885697960833,
          0.785871067618925,
          0.8224218035402608,
          0.7101806463326071,
          0.7519074453043814,
          0.7294708671825252,
          0.7584094396488773,
          0.7805739930486177,
          0.7215470068845528,
          0.7837094907407407,
          0.7755170769265397,
          0.770787071305206,
          0.7983335133967157,
          0.7920207602107932,
          0.8352038691164901,
          0.8251501266965185,
          0.7802713387589326,
          0.8287670461508566,
          0.7769549055434319,
          0.724949767528796,
          0.6367342403591303,
          0.6395708127163456,
          0.7167639838844989,
          0.6168761063497905,
          0.7622340379988526,
          0.809989205381393,
          0.6636245732180112
         ]
        },
        {
         "mode": "lines+markers",
         "name": "INNE",
         "type": "scatter",
         "x": [
          0.4468531468531468,
          0.4469530469530469,
          0.4474525474525475,
          0.448051948051948,
          0.4481518481518481,
          0.4483516483516483,
          0.4484515484515484,
          0.4485514485514486,
          0.4486513486513486,
          0.4492507492507492,
          0.4497502497502497,
          0.4501498501498501,
          0.4503496503496503,
          0.4506493506493506,
          0.4507492507492507,
          0.4516483516483516,
          0.4527472527472527,
          0.4529470529470529,
          0.453046953046953,
          0.4942834942834943,
          0.4970584970584971,
          0.4978354978354978,
          0.4983904983904983,
          0.4989454989454989,
          0.4996114996114996,
          0.4997224997224997,
          0.4998334998334998
         ],
         "y": [
          0.6409774796274941,
          0.7031922728635512,
          0.6842771834975453,
          0.5541144698620188,
          0.6103834616626499,
          0.6568782200953245,
          0.6420491265871683,
          0.6894231945436421,
          0.6093423952351368,
          0.5894579475308642,
          0.5528581444897859,
          0.5386572624266925,
          0.727136452031115,
          0.6385132439936053,
          0.6200074050076364,
          0.5281422472144122,
          0.5894290242437381,
          0.8190845120099236,
          0.5441780567643298,
          0.5541833134739842,
          0.5980002881809289,
          0.5284631230223619,
          0.45234178664683,
          0.6127972904288694,
          0.4944868271214885,
          0.4793881961151616,
          0.5388446577818904
         ]
        },
        {
         "mode": "lines+markers",
         "name": "MAD",
         "type": "scatter",
         "x": [
          0.4474525474525475,
          0.4481518481518481,
          0.4483516483516483,
          0.4485514485514486,
          0.4501498501498501,
          0.4503496503496503,
          0.4506493506493506,
          0.4527472527472527,
          0.453046953046953
         ],
         "y": [
          0.7288890553327478,
          0.7213632496575497,
          0.7004707128109141,
          0.7497749894445027,
          0.8013389891628234,
          0.7522215319792567,
          0.7467588177870725,
          0.7525565144460421,
          0.7389632536187906
         ]
        },
        {
         "mode": "lines+markers",
         "name": "KNN",
         "type": "scatter",
         "x": [
          0.4468531468531468,
          0.4469530469530469,
          0.4474525474525475,
          0.448051948051948,
          0.4481518481518481,
          0.4483516483516483,
          0.4484515484515484,
          0.4485514485514486,
          0.4486513486513486,
          0.4492507492507492,
          0.4497502497502497,
          0.4501498501498501,
          0.4503496503496503,
          0.4506493506493506,
          0.4507492507492507,
          0.4516483516483516,
          0.4527472527472527,
          0.4529470529470529,
          0.453046953046953,
          0.4942834942834943,
          0.4970584970584971,
          0.4978354978354978,
          0.4983904983904983,
          0.4989454989454989,
          0.4996114996114996,
          0.4997224997224997,
          0.4998334998334998
         ],
         "y": [
          0.7833868703162399,
          0.7490533337969937,
          0.7622529159829228,
          0.7299791212781409,
          0.7244323535343183,
          0.7263448420585455,
          0.7398618168529572,
          0.757747394128453,
          0.7422689627345339,
          0.7605324074074075,
          0.7550391191845169,
          0.7682580804342463,
          0.7772188310285221,
          0.7611872953533004,
          0.783623362799093,
          0.7984062520144994,
          0.7737984960586357,
          0.7772414631926409,
          0.7641668711181127,
          0.7173252377280904,
          0.7548199275082904,
          0.7279024825330758,
          0.7331424818573431,
          0.7238748094011254,
          0.7597214730334866,
          0.777949185710292,
          0.7296772521451551
         ]
        },
        {
         "mode": "lines+markers",
         "name": "OCSVM",
         "type": "scatter",
         "x": [
          0.4468531468531468,
          0.4469530469530469,
          0.4474525474525475,
          0.448051948051948,
          0.4481518481518481,
          0.4483516483516483,
          0.4484515484515484,
          0.4485514485514486,
          0.4486513486513486,
          0.4492507492507492,
          0.4497502497502497,
          0.4501498501498501,
          0.4503496503496503,
          0.4506493506493506,
          0.4507492507492507,
          0.4516483516483516,
          0.4527472527472527,
          0.4529470529470529,
          0.453046953046953,
          0.4942834942834943,
          0.4970584970584971,
          0.4978354978354978,
          0.4983904983904983,
          0.4989454989454989,
          0.4996114996114996,
          0.4997224997224997,
          0.4998334998334998
         ],
         "y": [
          0.7684554522365336,
          0.7378208264058388,
          0.7193750865318925,
          0.7007477759622367,
          0.7295141448771312,
          0.6953512436562918,
          0.7130025940952248,
          0.7164672392164431,
          0.747162490424133,
          0.7219521604938272,
          0.7414729322479139,
          0.7520355292376018,
          0.7611279170267934,
          0.7312450289911481,
          0.7670199472393207,
          0.7745260657631792,
          0.7320300970352663,
          0.7528946602983951,
          0.6782972637940163,
          0.6992745496600546,
          0.7153350813603765,
          0.7166011878216426,
          0.6979312037916118,
          0.7021088560562245,
          0.7075698029847679,
          0.7620306942633438,
          0.688183011827805
         ]
        },
        {
         "mode": "lines+markers",
         "name": "ECOD",
         "type": "scatter",
         "x": [
          0.4468531468531468,
          0.4469530469530469,
          0.4474525474525475,
          0.448051948051948,
          0.4481518481518481,
          0.4483516483516483,
          0.4484515484515484,
          0.4485514485514486,
          0.4486513486513486,
          0.4492507492507492,
          0.4497502497502497,
          0.4501498501498501,
          0.4503496503496503,
          0.4506493506493506,
          0.4507492507492507,
          0.4516483516483516,
          0.4527472527472527,
          0.4529470529470529,
          0.453046953046953,
          0.4978354978354978,
          0.4989454989454989
         ],
         "y": [
          0.7407187078657558,
          0.687279634012126,
          0.7158508269611815,
          0.7153140885984023,
          0.6702217579077637,
          0.6721922457210119,
          0.6784032563071034,
          0.695057695612106,
          0.6556530819971184,
          0.7204378858024691,
          0.7189690496322221,
          0.6920965476664958,
          0.717359010371651,
          0.7106193354674207,
          0.7362428842504745,
          0.7278355474231764,
          0.6968009239792102,
          0.7299932295054323,
          0.7171540681533515,
          0.7055572072741689,
          0.688096114411904
         ]
        },
        {
         "mode": "lines+markers",
         "name": "GMM",
         "type": "scatter",
         "x": [
          0.4468531468531468,
          0.4469530469530469,
          0.4474525474525475,
          0.448051948051948,
          0.4481518481518481,
          0.4483516483516483,
          0.4484515484515484,
          0.4485514485514486,
          0.4486513486513486,
          0.4492507492507492,
          0.4497502497502497,
          0.4501498501498501,
          0.4503496503496503,
          0.4506493506493506,
          0.4507492507492507,
          0.4516483516483516,
          0.4527472527472527,
          0.4529470529470529,
          0.453046953046953,
          0.4978354978354978,
          0.4989454989454989
         ],
         "y": [
          0.6558461862738607,
          0.6525634196650303,
          0.5787752304301741,
          0.6675301833696441,
          0.6622083387056428,
          0.6001513565405323,
          0.6297193028376986,
          0.6766189370461899,
          0.708067459425706,
          0.6239776234567901,
          0.6451198659830488,
          0.7286352464461272,
          0.6507603176318064,
          0.6523595650609285,
          0.6236751978525478,
          0.6736610087125551,
          0.6471488955815867,
          0.6755823285689377,
          0.6426746930000129,
          0.5978937048284454,
          0.6610665650139333
         ]
        },
        {
         "mode": "lines+markers",
         "name": "LOF",
         "type": "scatter",
         "x": [
          0.4468531468531468,
          0.4469530469530469,
          0.4474525474525475,
          0.448051948051948,
          0.4481518481518481,
          0.4483516483516483,
          0.4484515484515484,
          0.4485514485514486,
          0.4486513486513486,
          0.4492507492507492,
          0.4497502497502497,
          0.4501498501498501,
          0.4503496503496503,
          0.4506493506493506,
          0.4507492507492507,
          0.4516483516483516,
          0.4527472527472527,
          0.4529470529470529,
          0.453046953046953,
          0.4942834942834943,
          0.4970584970584971,
          0.4978354978354978,
          0.4983904983904983,
          0.4989454989454989,
          0.4996114996114996,
          0.4997224997224997,
          0.4998334998334998
         ],
         "y": [
          0.5120162074215497,
          0.4993306783289802,
          0.5358122876422244,
          0.3928342864923748,
          0.5145851309906758,
          0.4917169982440229,
          0.5244150956995427,
          0.5106572855171404,
          0.5182232604339969,
          0.5098861882716049,
          0.5211069053864843,
          0.519023183207121,
          0.4926331568712186,
          0.5167889294532036,
          0.4813717776646457,
          0.491903571800479,
          0.4936419055184031,
          0.5146326840327002,
          0.470568272794184,
          0.4829040209340903,
          0.4630407958664301,
          0.5470474349989736,
          0.5228157028381667,
          0.5286612510296721,
          0.5014264553526324,
          0.4771456089981002,
          0.5265911417837239
         ]
        },
        {
         "mode": "lines+markers",
         "name": "ROD",
         "type": "scatter",
         "x": [
          0.4468531468531468,
          0.4469530469530469,
          0.4474525474525475,
          0.448051948051948,
          0.4481518481518481,
          0.4483516483516483,
          0.4484515484515484,
          0.4485514485514486,
          0.4486513486513486,
          0.4492507492507492,
          0.4497502497502497,
          0.4501498501498501,
          0.4503496503496503,
          0.4506493506493506,
          0.4507492507492507,
          0.4516483516483516,
          0.4527472527472527,
          0.4529470529470529,
          0.453046953046953,
          0.4942834942834943,
          0.4970584970584971,
          0.4978354978354978,
          0.4983904983904983,
          0.4989454989454989,
          0.4996114996114996,
          0.4997224997224997,
          0.4998334998334998
         ],
         "y": [
          0.3765830281957573,
          0.3938951621417479,
          0.370193082441913,
          0.3950004538852578,
          0.4222512510593091,
          0.4260474355016113,
          0.4079208734570887,
          0.3975021765668322,
          0.4302581030561572,
          0.3611979166666666,
          0.3757480874286771,
          0.3906745240942132,
          0.3548441551426102,
          0.393010593191803,
          0.3345675012727356,
          0.3432012813456112,
          0.3572262832976096,
          0.3362213985509524,
          0.3765313682321191,
          0.3939104810635265,
          0.3287256517556712,
          0.3620367814139182,
          0.3552733622360735,
          0.3975826804774173,
          0.3386846814449496,
          0.3183065712495842,
          0.3748361414195936
         ]
        },
        {
         "mode": "lines+markers",
         "name": "PCA",
         "type": "scatter",
         "x": [
          0.4468531468531468,
          0.4469530469530469,
          0.4474525474525475,
          0.448051948051948,
          0.4481518481518481,
          0.4483516483516483,
          0.4484515484515484,
          0.4485514485514486,
          0.4486513486513486,
          0.4492507492507492,
          0.4497502497502497,
          0.4501498501498501,
          0.4503496503496503,
          0.4506493506493506,
          0.4507492507492507,
          0.4516483516483516,
          0.4527472527472527,
          0.4529470529470529,
          0.453046953046953,
          0.4942834942834943,
          0.4970584970584971,
          0.4978354978354978,
          0.4983904983904983,
          0.4989454989454989,
          0.4996114996114996,
          0.4997224997224997,
          0.4998334998334998
         ],
         "y": [
          0.2866840110232764,
          0.3148182337450199,
          0.2795190075104009,
          0.3228814905591867,
          0.3418186892446919,
          0.3348021148910715,
          0.3112778969556842,
          0.3102418455421364,
          0.3508289222971505,
          0.2818094135802469,
          0.2999078024756161,
          0.3124228966197878,
          0.2997920267934313,
          0.3043417823071974,
          0.2633405840699773,
          0.2553467914292656,
          0.2864338871025468,
          0.2612002132403763,
          0.2862169595702646,
          0.2616726244713908,
          0.1974019068647944,
          0.2494237861637891,
          0.2258199715948466,
          0.2601429272481904,
          0.2099021345457347,
          0.1907045886311648,
          0.2496380117635467
         ]
        }
       ],
       "layout": {
        "autosize": true,
        "legend": {
         "font": {
          "color": "black",
          "family": "Arial",
          "size": 12
         },
         "traceorder": "normal",
         "x": 1.05,
         "y": 1
        },
        "template": {
         "data": {
          "bar": [
           {
            "error_x": {
             "color": "#2a3f5f"
            },
            "error_y": {
             "color": "#2a3f5f"
            },
            "marker": {
             "line": {
              "color": "#E5ECF6",
              "width": 0.5
             },
             "pattern": {
              "fillmode": "overlay",
              "size": 10,
              "solidity": 0.2
             }
            },
            "type": "bar"
           }
          ],
          "barpolar": [
           {
            "marker": {
             "line": {
              "color": "#E5ECF6",
              "width": 0.5
             },
             "pattern": {
              "fillmode": "overlay",
              "size": 10,
              "solidity": 0.2
             }
            },
            "type": "barpolar"
           }
          ],
          "carpet": [
           {
            "aaxis": {
             "endlinecolor": "#2a3f5f",
             "gridcolor": "white",
             "linecolor": "white",
             "minorgridcolor": "white",
             "startlinecolor": "#2a3f5f"
            },
            "baxis": {
             "endlinecolor": "#2a3f5f",
             "gridcolor": "white",
             "linecolor": "white",
             "minorgridcolor": "white",
             "startlinecolor": "#2a3f5f"
            },
            "type": "carpet"
           }
          ],
          "choropleth": [
           {
            "colorbar": {
             "outlinewidth": 0,
             "ticks": ""
            },
            "type": "choropleth"
           }
          ],
          "contour": [
           {
            "colorbar": {
             "outlinewidth": 0,
             "ticks": ""
            },
            "colorscale": [
             [
              0,
              "#0d0887"
             ],
             [
              0.1111111111111111,
              "#46039f"
             ],
             [
              0.2222222222222222,
              "#7201a8"
             ],
             [
              0.3333333333333333,
              "#9c179e"
             ],
             [
              0.4444444444444444,
              "#bd3786"
             ],
             [
              0.5555555555555556,
              "#d8576b"
             ],
             [
              0.6666666666666666,
              "#ed7953"
             ],
             [
              0.7777777777777778,
              "#fb9f3a"
             ],
             [
              0.8888888888888888,
              "#fdca26"
             ],
             [
              1,
              "#f0f921"
             ]
            ],
            "type": "contour"
           }
          ],
          "contourcarpet": [
           {
            "colorbar": {
             "outlinewidth": 0,
             "ticks": ""
            },
            "type": "contourcarpet"
           }
          ],
          "heatmap": [
           {
            "colorbar": {
             "outlinewidth": 0,
             "ticks": ""
            },
            "colorscale": [
             [
              0,
              "#0d0887"
             ],
             [
              0.1111111111111111,
              "#46039f"
             ],
             [
              0.2222222222222222,
              "#7201a8"
             ],
             [
              0.3333333333333333,
              "#9c179e"
             ],
             [
              0.4444444444444444,
              "#bd3786"
             ],
             [
              0.5555555555555556,
              "#d8576b"
             ],
             [
              0.6666666666666666,
              "#ed7953"
             ],
             [
              0.7777777777777778,
              "#fb9f3a"
             ],
             [
              0.8888888888888888,
              "#fdca26"
             ],
             [
              1,
              "#f0f921"
             ]
            ],
            "type": "heatmap"
           }
          ],
          "heatmapgl": [
           {
            "colorbar": {
             "outlinewidth": 0,
             "ticks": ""
            },
            "colorscale": [
             [
              0,
              "#0d0887"
             ],
             [
              0.1111111111111111,
              "#46039f"
             ],
             [
              0.2222222222222222,
              "#7201a8"
             ],
             [
              0.3333333333333333,
              "#9c179e"
             ],
             [
              0.4444444444444444,
              "#bd3786"
             ],
             [
              0.5555555555555556,
              "#d8576b"
             ],
             [
              0.6666666666666666,
              "#ed7953"
             ],
             [
              0.7777777777777778,
              "#fb9f3a"
             ],
             [
              0.8888888888888888,
              "#fdca26"
             ],
             [
              1,
              "#f0f921"
             ]
            ],
            "type": "heatmapgl"
           }
          ],
          "histogram": [
           {
            "marker": {
             "pattern": {
              "fillmode": "overlay",
              "size": 10,
              "solidity": 0.2
             }
            },
            "type": "histogram"
           }
          ],
          "histogram2d": [
           {
            "colorbar": {
             "outlinewidth": 0,
             "ticks": ""
            },
            "colorscale": [
             [
              0,
              "#0d0887"
             ],
             [
              0.1111111111111111,
              "#46039f"
             ],
             [
              0.2222222222222222,
              "#7201a8"
             ],
             [
              0.3333333333333333,
              "#9c179e"
             ],
             [
              0.4444444444444444,
              "#bd3786"
             ],
             [
              0.5555555555555556,
              "#d8576b"
             ],
             [
              0.6666666666666666,
              "#ed7953"
             ],
             [
              0.7777777777777778,
              "#fb9f3a"
             ],
             [
              0.8888888888888888,
              "#fdca26"
             ],
             [
              1,
              "#f0f921"
             ]
            ],
            "type": "histogram2d"
           }
          ],
          "histogram2dcontour": [
           {
            "colorbar": {
             "outlinewidth": 0,
             "ticks": ""
            },
            "colorscale": [
             [
              0,
              "#0d0887"
             ],
             [
              0.1111111111111111,
              "#46039f"
             ],
             [
              0.2222222222222222,
              "#7201a8"
             ],
             [
              0.3333333333333333,
              "#9c179e"
             ],
             [
              0.4444444444444444,
              "#bd3786"
             ],
             [
              0.5555555555555556,
              "#d8576b"
             ],
             [
              0.6666666666666666,
              "#ed7953"
             ],
             [
              0.7777777777777778,
              "#fb9f3a"
             ],
             [
              0.8888888888888888,
              "#fdca26"
             ],
             [
              1,
              "#f0f921"
             ]
            ],
            "type": "histogram2dcontour"
           }
          ],
          "mesh3d": [
           {
            "colorbar": {
             "outlinewidth": 0,
             "ticks": ""
            },
            "type": "mesh3d"
           }
          ],
          "parcoords": [
           {
            "line": {
             "colorbar": {
              "outlinewidth": 0,
              "ticks": ""
             }
            },
            "type": "parcoords"
           }
          ],
          "pie": [
           {
            "automargin": true,
            "type": "pie"
           }
          ],
          "scatter": [
           {
            "fillpattern": {
             "fillmode": "overlay",
             "size": 10,
             "solidity": 0.2
            },
            "type": "scatter"
           }
          ],
          "scatter3d": [
           {
            "line": {
             "colorbar": {
              "outlinewidth": 0,
              "ticks": ""
             }
            },
            "marker": {
             "colorbar": {
              "outlinewidth": 0,
              "ticks": ""
             }
            },
            "type": "scatter3d"
           }
          ],
          "scattercarpet": [
           {
            "marker": {
             "colorbar": {
              "outlinewidth": 0,
              "ticks": ""
             }
            },
            "type": "scattercarpet"
           }
          ],
          "scattergeo": [
           {
            "marker": {
             "colorbar": {
              "outlinewidth": 0,
              "ticks": ""
             }
            },
            "type": "scattergeo"
           }
          ],
          "scattergl": [
           {
            "marker": {
             "colorbar": {
              "outlinewidth": 0,
              "ticks": ""
             }
            },
            "type": "scattergl"
           }
          ],
          "scattermapbox": [
           {
            "marker": {
             "colorbar": {
              "outlinewidth": 0,
              "ticks": ""
             }
            },
            "type": "scattermapbox"
           }
          ],
          "scatterpolar": [
           {
            "marker": {
             "colorbar": {
              "outlinewidth": 0,
              "ticks": ""
             }
            },
            "type": "scatterpolar"
           }
          ],
          "scatterpolargl": [
           {
            "marker": {
             "colorbar": {
              "outlinewidth": 0,
              "ticks": ""
             }
            },
            "type": "scatterpolargl"
           }
          ],
          "scatterternary": [
           {
            "marker": {
             "colorbar": {
              "outlinewidth": 0,
              "ticks": ""
             }
            },
            "type": "scatterternary"
           }
          ],
          "surface": [
           {
            "colorbar": {
             "outlinewidth": 0,
             "ticks": ""
            },
            "colorscale": [
             [
              0,
              "#0d0887"
             ],
             [
              0.1111111111111111,
              "#46039f"
             ],
             [
              0.2222222222222222,
              "#7201a8"
             ],
             [
              0.3333333333333333,
              "#9c179e"
             ],
             [
              0.4444444444444444,
              "#bd3786"
             ],
             [
              0.5555555555555556,
              "#d8576b"
             ],
             [
              0.6666666666666666,
              "#ed7953"
             ],
             [
              0.7777777777777778,
              "#fb9f3a"
             ],
             [
              0.8888888888888888,
              "#fdca26"
             ],
             [
              1,
              "#f0f921"
             ]
            ],
            "type": "surface"
           }
          ],
          "table": [
           {
            "cells": {
             "fill": {
              "color": "#EBF0F8"
             },
             "line": {
              "color": "white"
             }
            },
            "header": {
             "fill": {
              "color": "#C8D4E3"
             },
             "line": {
              "color": "white"
             }
            },
            "type": "table"
           }
          ]
         },
         "layout": {
          "annotationdefaults": {
           "arrowcolor": "#2a3f5f",
           "arrowhead": 0,
           "arrowwidth": 1
          },
          "autotypenumbers": "strict",
          "coloraxis": {
           "colorbar": {
            "outlinewidth": 0,
            "ticks": ""
           }
          },
          "colorscale": {
           "diverging": [
            [
             0,
             "#8e0152"
            ],
            [
             0.1,
             "#c51b7d"
            ],
            [
             0.2,
             "#de77ae"
            ],
            [
             0.3,
             "#f1b6da"
            ],
            [
             0.4,
             "#fde0ef"
            ],
            [
             0.5,
             "#f7f7f7"
            ],
            [
             0.6,
             "#e6f5d0"
            ],
            [
             0.7,
             "#b8e186"
            ],
            [
             0.8,
             "#7fbc41"
            ],
            [
             0.9,
             "#4d9221"
            ],
            [
             1,
             "#276419"
            ]
           ],
           "sequential": [
            [
             0,
             "#0d0887"
            ],
            [
             0.1111111111111111,
             "#46039f"
            ],
            [
             0.2222222222222222,
             "#7201a8"
            ],
            [
             0.3333333333333333,
             "#9c179e"
            ],
            [
             0.4444444444444444,
             "#bd3786"
            ],
            [
             0.5555555555555556,
             "#d8576b"
            ],
            [
             0.6666666666666666,
             "#ed7953"
            ],
            [
             0.7777777777777778,
             "#fb9f3a"
            ],
            [
             0.8888888888888888,
             "#fdca26"
            ],
            [
             1,
             "#f0f921"
            ]
           ],
           "sequentialminus": [
            [
             0,
             "#0d0887"
            ],
            [
             0.1111111111111111,
             "#46039f"
            ],
            [
             0.2222222222222222,
             "#7201a8"
            ],
            [
             0.3333333333333333,
             "#9c179e"
            ],
            [
             0.4444444444444444,
             "#bd3786"
            ],
            [
             0.5555555555555556,
             "#d8576b"
            ],
            [
             0.6666666666666666,
             "#ed7953"
            ],
            [
             0.7777777777777778,
             "#fb9f3a"
            ],
            [
             0.8888888888888888,
             "#fdca26"
            ],
            [
             1,
             "#f0f921"
            ]
           ]
          },
          "colorway": [
           "#636efa",
           "#EF553B",
           "#00cc96",
           "#ab63fa",
           "#FFA15A",
           "#19d3f3",
           "#FF6692",
           "#B6E880",
           "#FF97FF",
           "#FECB52"
          ],
          "font": {
           "color": "#2a3f5f"
          },
          "geo": {
           "bgcolor": "white",
           "lakecolor": "white",
           "landcolor": "#E5ECF6",
           "showlakes": true,
           "showland": true,
           "subunitcolor": "white"
          },
          "hoverlabel": {
           "align": "left"
          },
          "hovermode": "closest",
          "mapbox": {
           "style": "light"
          },
          "paper_bgcolor": "white",
          "plot_bgcolor": "#E5ECF6",
          "polar": {
           "angularaxis": {
            "gridcolor": "white",
            "linecolor": "white",
            "ticks": ""
           },
           "bgcolor": "#E5ECF6",
           "radialaxis": {
            "gridcolor": "white",
            "linecolor": "white",
            "ticks": ""
           }
          },
          "scene": {
           "xaxis": {
            "backgroundcolor": "#E5ECF6",
            "gridcolor": "white",
            "gridwidth": 2,
            "linecolor": "white",
            "showbackground": true,
            "ticks": "",
            "zerolinecolor": "white"
           },
           "yaxis": {
            "backgroundcolor": "#E5ECF6",
            "gridcolor": "white",
            "gridwidth": 2,
            "linecolor": "white",
            "showbackground": true,
            "ticks": "",
            "zerolinecolor": "white"
           },
           "zaxis": {
            "backgroundcolor": "#E5ECF6",
            "gridcolor": "white",
            "gridwidth": 2,
            "linecolor": "white",
            "showbackground": true,
            "ticks": "",
            "zerolinecolor": "white"
           }
          },
          "shapedefaults": {
           "line": {
            "color": "#2a3f5f"
           }
          },
          "ternary": {
           "aaxis": {
            "gridcolor": "white",
            "linecolor": "white",
            "ticks": ""
           },
           "baxis": {
            "gridcolor": "white",
            "linecolor": "white",
            "ticks": ""
           },
           "bgcolor": "#E5ECF6",
           "caxis": {
            "gridcolor": "white",
            "linecolor": "white",
            "ticks": ""
           }
          },
          "title": {
           "x": 0.05
          },
          "xaxis": {
           "automargin": true,
           "gridcolor": "white",
           "linecolor": "white",
           "ticks": "",
           "title": {
            "standoff": 15
           },
           "zerolinecolor": "white",
           "zerolinewidth": 2
          },
          "yaxis": {
           "automargin": true,
           "gridcolor": "white",
           "linecolor": "white",
           "ticks": "",
           "title": {
            "standoff": 15
           },
           "zerolinecolor": "white",
           "zerolinewidth": 2
          }
         }
        },
        "xaxis": {
         "range": [
          0.2,
          0.9
         ],
         "title": {
          "text": "Fraud transaction rate in train data"
         },
         "type": "linear"
        },
        "yaxis": {
         "range": [
          0.92,
          1
         ],
         "title": {
          "text": "AUC"
         },
         "type": "linear"
        }
       }
      },
      "image/png": "[encoded data removed]",
      "text/html": [
       "<div>                            <div id=\"75dc1cba-6847-49f1-8870-2fd2ff319eaa\" class=\"plotly-graph-div\" style=\"height:525px; width:100%;\"></div>            <script type=\"text/javascript\">                require([\"plotly\"], function(Plotly) {                    window.PLOTLYENV=window.PLOTLYENV || {};                                    if (document.getElementById(\"75dc1cba-6847-49f1-8870-2fd2ff319eaa\")) {                    Plotly.newPlot(                        \"75dc1cba-6847-49f1-8870-2fd2ff319eaa\",                        [{\"mode\":\"lines+markers\",\"name\":\"LightGBMLarge\",\"x\":[0.0401200582531168,0.0501165501165501,0.0603263403263403,0.0707070707070707,0.08112812133698,0.0911706527602949,0.091863800388613,0.1004773004773004,0.142014928921219,0.1521230017309846,0.2015362756415948,0.303030303030303,0.4028061451025664,0.4991674991674991,0.5007215007215007,0.5028305028305028,0.5038295038295039,0.605568136406021,0.6993006993006993,0.7946714031971581,0.9016786570743404],\"y\":[0.974090265602644,0.9778752925442996,0.9542567021164998,0.9664377109856808,0.9459119312060488,0.977874480083138,0.9737813732659092,0.9799732149996002,0.982494269241456,0.9860745809778836,0.9454609230552212,0.964246957600186,0.9564691033665612,0.9528418185304368,0.9663526216121264,0.9685948249279616,0.9694038728033062,0.9617754418389742,0.9535651573660572,0.967254457406834,0.9559604259458352],\"type\":\"scatter\"},{\"mode\":\"lines+markers\",\"name\":\"LightGBM\",\"x\":[0.0198734598734598,0.0298501498501498,0.0401200582531168,0.0501165501165501,0.0603263403263403,0.0707070707070707,0.08112812133698,0.0911706527602949,0.091863800388613,0.1004773004773004,0.142014928921219,0.1521230017309846,0.2015362756415948,0.303030303030303,0.4028061451025664,0.4991674991674991,0.5007215007215007,0.5028305028305028,0.5038295038295039,0.605568136406021,0.6993006993006993,0.7946714031971581,0.9016786570743404],\"y\":[0.979878700957752,0.9438445900437789,0.9759694345364044,0.9773570712136408,0.9536511911701632,0.9665357291689785,0.956389811169223,0.9777826047804362,0.9741260212541508,0.9801536139761732,0.9825871769936092,0.9859030050580184,0.9504233146760844,0.964840810039732,0.9588997600550032,0.9544690047851676,0.9664100323042252,0.9682479239103852,0.9725055492194302,0.9647841823572446,0.957330627102227,0.9686186352495116,0.9652101571699176],\"type\":\"scatter\"},{\"mode\":\"lines+markers\",\"name\":\"NeuralNetTorch\",\"x\":[0.0198734598734598,0.0298501498501498,0.0401200582531168,0.0501165501165501,0.0603263403263403,0.0707070707070707,0.08112812133698,0.0911706527602949,0.091863800388613,0.1004773004773004,0.142014928921219,0.1521230017309846,0.2015362756415948,0.303030303030303,0.4028061451025664,0.4991674991674991,0.5007215007215007,0.5028305028305028,0.5038295038295039,0.605568136406021,0.6993006993006993,0.7946714031971581,0.9016786570743404],\"y\":[0.9765248135003592,0.9477829529922148,0.9766451544646636,0.9680276941936922,0.9322664301278876,0.9669857497589616,0.9552408375937788,0.9749655011280584,0.9700185675885236,0.9784200847525384,0.984232599333148,0.9856758901120698,0.9435748363922154,0.9584672105938272,0.958330608937208,0.93401220467846,0.969849961012142,0.9662143662211448,0.9691855830666029,0.9139443995225444,0.9333915594153224,0.9415098860510271,0.922902694585232],\"type\":\"scatter\"},{\"mode\":\"lines+markers\",\"name\":\"CatBoost\",\"x\":[0.0198734598734598,0.0298501498501498,0.0401200582531168,0.0501165501165501,0.0603263403263403,0.0707070707070707,0.08112812133698,0.0911706527602949,0.091863800388613,0.1004773004773004,0.142014928921219,0.1521230017309846,0.2015362756415948,0.303030303030303,0.4028061451025664,0.4991674991674991,0.5007215007215007,0.5028305028305028,0.5038295038295039,0.605568136406021,0.6993006993006993,0.7946714031971581,0.9016786570743404],\"y\":[0.9599046029353774,0.9210111229967712,0.942605369485924,0.9704711356291096,0.9297653777870434,0.9661584516332664,0.940662891030538,0.9686035927502477,0.9532915538070176,0.9794919844886864,0.985574117810503,0.9818139442626204,0.9532288292282346,0.9458087770140348,0.9579070891759248,0.9576457433682912,0.9711768335004242,0.9667280721341456,0.9684995646468736,0.9562538985791844,0.9203044235343232,0.9693208797948722,0.9715127391252408],\"type\":\"scatter\"},{\"mode\":\"lines+markers\",\"name\":\"GCN\",\"x\":[0.0200111000111,0.03008991008991,0.0399069370937377,0.0606993006993007,0.0701942501942502,0.0801513160231591,0.089951847189754,0.0999444999444999,0.1987834117751531,0.1996714323772311,0.2010922653405559,0.299034299034299,0.3036297036297036,0.4005860935973714,0.4031613533433976,0.4967254967254967,0.4977244977244977,0.4992784992784992,0.5026085026085026,0.5028305028305028,0.5042735042735043,0.5997069401891568,0.6015718662581591,0.6972804972804972,0.7028749028749028,0.7998223801065719,0.8033747779751332,0.8972821742605915,0.9000799360511591],\"y\":[0.9492864471714084,0.9751843709666173,0.9678422153958128,0.9796725807584864,0.9843761809799008,0.9834676109352142,0.9509039782171776,0.980787268121054,0.9729983870675784,0.9816791770920212,0.9768658653967932,0.955166806659344,0.9650960430698332,0.9705388238020268,0.9633614743695856,0.9737635277423986,0.980289756113678,0.9719339870488946,0.9770063392682136,0.977288239523064,0.9741023586490224,0.9685285724675814,0.9738163790387512,0.9754487071919004,0.9525268155780248,0.9726433497608544,0.9757151518256652,0.9747747544315232,0.9583923567123498],\"type\":\"scatter\"},{\"mode\":\"lines+markers\",\"name\":\"XGBoost\",\"x\":[0.0198734598734598,0.0298501498501498,0.0401200582531168,0.0501165501165501,0.0603263403263403,0.0707070707070707,0.08112812133698,0.0911706527602949,0.091863800388613,0.1004773004773004,0.142014928921219,0.1521230017309846,0.2015362756415948,0.303030303030303,0.4028061451025664,0.4991674991674991,0.5007215007215007,0.5028305028305028,0.5038295038295039,0.605568136406021,0.6993006993006993,0.7946714031971581,0.9016786570743404],\"y\":[0.9649404983767376,0.9447199193756068,0.9635885829151803,0.961841775325978,0.9433794150179994,0.9557352350093826,0.9473773775244364,0.9783022174195576,0.9615583238558202,0.9805923682737668,0.9842456237843844,0.981731627491818,0.956875053528336,0.9642557091098214,0.955367456642474,0.9596553678910248,0.9705873028114104,0.9667413633608728,0.971515869032486,0.9668591890955296,0.9528817333062344,0.959574976284177,0.9601371183808598],\"type\":\"scatter\"},{\"mode\":\"lines+markers\",\"name\":\"LightGBMXT\",\"x\":[0.0603263403263403,0.0707070707070707,0.08112812133698,0.0911706527602949,0.091863800388613,0.1004773004773004,0.142014928921219,0.1521230017309846,0.2015362756415948,0.303030303030303,0.4028061451025664,0.4991674991674991,0.5007215007215007,0.5028305028305028,0.5038295038295039,0.605568136406021,0.6993006993006993,0.7946714031971581,0.9016786570743404],\"y\":[0.923695661699972,0.9362561245952896,0.9478266831208008,0.9434194162328448,0.9494445171912036,0.9634194850883504,0.979718324534593,0.9782991173261928,0.9433865425984796,0.9300691869347464,0.8997268669048283,0.9423497757473698,0.971227817622512,0.9650360989717908,0.9684252480286476,0.9511732316814908,0.9317312921246478,0.9454539837685064,0.9614229765013056],\"type\":\"scatter\"},{\"mode\":\"lines+markers\",\"name\":\"NeuralNetFastAI\",\"x\":[0.0198734598734598,0.0298501498501498,0.0401200582531168,0.0501165501165501,0.0603263403263403,0.0707070707070707,0.08112812133698,0.0911706527602949,0.091863800388613,0.1004773004773004,0.142014928921219,0.1521230017309846,0.2015362756415948,0.303030303030303,0.4028061451025664,0.4991674991674991,0.5007215007215007,0.5028305028305028,0.5038295038295039,0.605568136406021,0.6993006993006993,0.7946714031971581,0.9016786570743404],\"y\":[0.9551671609379812,0.933157400804263,0.9276582935332408,0.9255279728073108,0.9073833827081476,0.9272939337224472,0.8962679477385359,0.9546689690252456,0.9481777427285528,0.95869712960742,0.9775484509585995,0.9796479222453636,0.7924208914168258,0.885792174150041,0.8835206727177981,0.8730075695683346,0.9027642819807544,0.9018728667581104,0.9208076720258024,0.8841727311231758,0.8934760238543835,0.7987575847308528,0.9231928019249476],\"type\":\"scatter\"},{\"mode\":\"lines+markers\",\"name\":\"ExtraTreesEntr\",\"x\":[0.0198734598734598,0.0298501498501498,0.0401200582531168,0.0501165501165501,0.0603263403263403,0.0707070707070707,0.08112812133698,0.0911706527602949,0.091863800388613,0.1004773004773004,0.142014928921219,0.1521230017309846,0.2015362756415948,0.303030303030303,0.4028061451025664,0.4991674991674991,0.5007215007215007,0.5028305028305028,0.5038295038295039,0.605568136406021,0.6993006993006993,0.7946714031971581,0.9016786570743404],\"y\":[0.8676001101981946,0.7953047928923753,0.9417174243798238,0.9473998384041012,0.8458994559696605,0.8768731336474848,0.8925835194217547,0.9474023018718224,0.9401805852468592,0.9648786679459502,0.9730524103917756,0.9748537141723694,0.9211584287607122,0.9525074325321118,0.9402059445332762,0.9499172599496476,0.9515329511666368,0.953048077025317,0.955635922151503,0.95375380231797,0.9389212061954016,0.9503663049203082,0.9405429273537091],\"type\":\"scatter\"},{\"mode\":\"lines+markers\",\"name\":\"ExtraTreesGini\",\"x\":[0.0198734598734598,0.0298501498501498,0.0401200582531168,0.0501165501165501,0.0603263403263403,0.0707070707070707,0.08112812133698,0.0911706527602949,0.091863800388613,0.1004773004773004,0.142014928921219,0.1521230017309846,0.2015362756415948,0.303030303030303,0.4028061451025664,0.4991674991674991,0.5007215007215007,0.5028305028305028,0.5038295038295039,0.605568136406021,0.6993006993006993,0.7946714031971581,0.9016786570743404],\"y\":[0.8798900448895587,0.7955833630474831,0.954682052677186,0.9334064694082248,0.8457660045439879,0.8774797367441196,0.8921948149889328,0.9474260312546394,0.9331570491364308,0.965148017110418,0.9604204292859126,0.9745789943469204,0.9202497065387696,0.9520604804328744,0.940706242730816,0.9494441619287394,0.951483252358551,0.95332453454124,0.9558613246998516,0.9538362019175232,0.9377630930866598,0.9499040441600304,0.9401965050598132],\"type\":\"scatter\"},{\"mode\":\"lines+markers\",\"name\":\"RandomForestGini\",\"x\":[0.0198734598734598,0.0298501498501498,0.0401200582531168,0.0501165501165501,0.0603263403263403,0.0707070707070707,0.08112812133698,0.0911706527602949,0.091863800388613,0.1004773004773004,0.142014928921219,0.1521230017309846,0.2015362756415948,0.303030303030303,0.4028061451025664,0.4991674991674991,0.5007215007215007,0.5028305028305028,0.5038295038295039,0.605568136406021,0.6993006993006993,0.7946714031971581,0.9016786570743404],\"y\":[0.8654683963461735,0.781298904538341,0.9406795991778006,0.9038420818009584,0.8177139837175981,0.8628509852368587,0.8895008178096414,0.9339161026374906,0.9328499188587552,0.963540917086432,0.9585805084745764,0.9734920162650004,0.91814446857068,0.950147650469706,0.9184954794838112,0.9429036338929924,0.9513577200243354,0.949221532850596,0.9531154405689438,0.94859805167302,0.9359087388560224,0.9414496075492796,0.926059745046844],\"type\":\"scatter\"},{\"mode\":\"lines+markers\",\"name\":\"RandomForestEntr\",\"x\":[0.0198734598734598,0.0298501498501498,0.0401200582531168,0.0501165501165501,0.0603263403263403,0.0707070707070707,0.08112812133698,0.0911706527602949,0.091863800388613,0.1004773004773004,0.142014928921219,0.1521230017309846,0.2015362756415948,0.303030303030303,0.4028061451025664,0.4991674991674991,0.5007215007215007,0.5028305028305028,0.5038295038295039,0.605568136406021,0.6993006993006993,0.7946714031971581,0.9016786570743404],\"y\":[0.8654683963461735,0.781298904538341,0.9406795991778006,0.9038420818009584,0.8177139837175981,0.8628509852368587,0.8895008178096414,0.9339161026374906,0.9327513429133458,0.963540917086432,0.9585805084745764,0.9734920162650004,0.91814446857068,0.950147650469706,0.9184954794838112,0.9429036338929924,0.9513577200243354,0.949221532850596,0.9531154405689438,0.94859805167302,0.9359087388560224,0.9414496075492796,0.926059745046844],\"type\":\"scatter\"},{\"mode\":\"lines+markers\",\"name\":\"KNeighborsUnif\",\"x\":[0.0198734598734598,0.0298501498501498,0.0401200582531168,0.0501165501165501,0.0603263403263403,0.0707070707070707,0.08112812133698,0.0911706527602949,0.091863800388613,0.1004773004773004,0.142014928921219,0.1521230017309846,0.2015362756415948,0.303030303030303,0.4028061451025664,0.4991674991674991,0.5007215007215007,0.5028305028305028,0.5038295038295039,0.605568136406021,0.6993006993006993,0.7946714031971581,0.9016786570743404],\"y\":[0.8506483597214796,0.7483644836671223,0.8972672702174395,0.8838884709684609,0.8171151121456732,0.8602445646143262,0.888589963957611,0.9330125607533044,0.9345290203169436,0.9446949708163428,0.9549927063073076,0.9679281959734208,0.8902228290166404,0.9262297746361248,0.9252594120455956,0.9311835161812028,0.9497365106295468,0.9657824013525153,0.9561517236304772,0.9517534942820838,0.92916513319674,0.9356719131567626,0.9177690745575864],\"type\":\"scatter\"},{\"mode\":\"lines+markers\",\"name\":\"KNeighborsDist\",\"x\":[0.0198734598734598,0.0298501498501498,0.0401200582531168,0.0501165501165501,0.0603263403263403,0.0707070707070707,0.08112812133698,0.0911706527602949,0.091863800388613,0.1004773004773004,0.142014928921219,0.1521230017309846,0.2015362756415948,0.303030303030303,0.4028061451025664,0.4991674991674991,0.5007215007215007,0.5028305028305028,0.5038295038295039,0.605568136406021,0.6993006993006993,0.7946714031971581,0.9016786570743404],\"y\":[0.850200679555534,0.7186088577880787,0.881323932450678,0.865052797280731,0.8167280366174777,0.8594468568835889,0.8697258623729212,0.9359434437540616,0.9116833093269028,0.9307402854401536,0.9338244998610724,0.9456134087077258,0.8942752389253023,0.8919769910309528,0.8883334423091784,0.9248383755439584,0.9334091668594636,0.9191959871128268,0.9387299952172474,0.9274159639598014,0.9071110891390046,0.9192641049810388,0.8976859673373265],\"type\":\"scatter\"},{\"mode\":\"lines+markers\",\"name\":\"HBOS\",\"x\":[0.4481518481518481,0.4486513486513486,0.4503496503496503,0.4507492507492507,0.4527472527472527,0.4942834942834943,0.4970584970584971,0.4978354978354978],\"y\":[0.7296040966200185,0.7779415458234742,0.8589428478824547,0.7979358541213495,0.75869383714819,0.7265504894745449,0.7086125508882873,0.7065333729745801],\"type\":\"scatter\"},{\"mode\":\"lines+markers\",\"name\":\"LODA\",\"x\":[0.4481518481518481,0.4486513486513486,0.4503496503496503,0.4507492507492507,0.4527472527472527,0.4942834942834943,0.4970584970584971,0.4978354978354978],\"y\":[0.6892398705796915,0.7528041474755905,0.8589428478824547,0.7314874809089648,0.7480447282866497,0.6871580103268615,0.6488769061544892,0.6610107102154076],\"type\":\"scatter\"},{\"mode\":\"lines+markers\",\"name\":\"MCD\",\"x\":[0.4468531468531468,0.4469530469530469,0.4474525474525475,0.448051948051948,0.4481518481518481,0.4483516483516483,0.4484515484515484,0.4485514485514486,0.4486513486513486,0.4492507492507492,0.4497502497502497,0.4501498501498501,0.4503496503496503,0.4506493506493506,0.4507492507492507,0.4516483516483516,0.4527472527472527,0.4529470529470529,0.453046953046953,0.4942834942834943,0.4970584970584971,0.4978354978354978,0.4983904983904983,0.4989454989454989,0.4996114996114996,0.4997224997224997,0.4998334998334998],\"y\":[0.8133402896571427,0.784835379783339,0.8206854914671042,0.7740513798111838,0.758921063970704,0.7609758215464175,0.7826246831669585,0.7870602877624032,0.7573055131185443,0.8112461419753086,0.7942843621928714,0.7828460399703923,0.797010047536733,0.7961098402097311,0.8365807377238859,0.8354060982926963,0.811445015783096,0.8293512866959936,0.803559553478042,0.749921438751431,0.8108594488844151,0.7570278267394367,0.7761371414322833,0.7424018963492648,0.7910996378207598,0.8097290326266837,0.7511716423984613],\"type\":\"scatter\"},{\"mode\":\"lines+markers\",\"name\":\"KDE\",\"x\":[0.4468531468531468,0.4469530469530469,0.4474525474525475,0.448051948051948,0.4481518481518481,0.4483516483516483,0.4484515484515484,0.4485514485514486,0.4486513486513486,0.4492507492507492,0.4497502497502497,0.4501498501498501,0.4503496503496503,0.4506493506493506,0.4507492507492507,0.4516483516483516,0.4527472527472527,0.4529470529470529,0.453046953046953,0.4942834942834943,0.4970584970584971,0.4978354978354978,0.4983904983904983,0.4989454989454989,0.4996114996114996,0.4997224997224997,0.4998334998334998],\"y\":[0.8008476495406388,0.7845827259538012,0.8026420314624286,0.7733376452432825,0.7540326757626751,0.7597504968836231,0.7752219965112802,0.7635409002646317,0.7530644348051055,0.8014371141975307,0.7770556133824996,0.7821829509005676,0.796091724286949,0.7884226391010447,0.833306335909659,0.8354060982926963,0.811445015783096,0.8239022313146175,0.7976774046718231,0.7479360879418706,0.8011089892155391,0.7532123567429052,0.7746038127220516,0.7400691413849309,0.785582183863759,0.8071793396305343,0.743961864860581],\"type\":\"scatter\"},{\"mode\":\"lines+markers\",\"name\":\"IForest\",\"x\":[0.4468531468531468,0.4469530469530469,0.4474525474525475,0.448051948051948,0.4481518481518481,0.4483516483516483,0.4484515484515484,0.4485514485514486,0.4486513486513486,0.4492507492507492,0.4497502497502497,0.4501498501498501,0.4503496503496503,0.4506493506493506,0.4507492507492507,0.4516483516483516,0.4527472527472527,0.4529470529470529,0.453046953046953,0.4942834942834943,0.4970584970584971,0.4978354978354978,0.4983904983904983,0.4989454989454989,0.4996114996114996,0.4997224997224997,0.4998334998334998],\"y\":[0.7501885697960833,0.785871067618925,0.8224218035402608,0.7101806463326071,0.7519074453043814,0.7294708671825252,0.7584094396488773,0.7805739930486177,0.7215470068845528,0.7837094907407407,0.7755170769265397,0.770787071305206,0.7983335133967157,0.7920207602107932,0.8352038691164901,0.8251501266965185,0.7802713387589326,0.8287670461508566,0.7769549055434319,0.724949767528796,0.6367342403591303,0.6395708127163456,0.7167639838844989,0.6168761063497905,0.7622340379988526,0.809989205381393,0.6636245732180112],\"type\":\"scatter\"},{\"mode\":\"lines+markers\",\"name\":\"INNE\",\"x\":[0.4468531468531468,0.4469530469530469,0.4474525474525475,0.448051948051948,0.4481518481518481,0.4483516483516483,0.4484515484515484,0.4485514485514486,0.4486513486513486,0.4492507492507492,0.4497502497502497,0.4501498501498501,0.4503496503496503,0.4506493506493506,0.4507492507492507,0.4516483516483516,0.4527472527472527,0.4529470529470529,0.453046953046953,0.4942834942834943,0.4970584970584971,0.4978354978354978,0.4983904983904983,0.4989454989454989,0.4996114996114996,0.4997224997224997,0.4998334998334998],\"y\":[0.6409774796274941,0.7031922728635512,0.6842771834975453,0.5541144698620188,0.6103834616626499,0.6568782200953245,0.6420491265871683,0.6894231945436421,0.6093423952351368,0.5894579475308642,0.5528581444897859,0.5386572624266925,0.727136452031115,0.6385132439936053,0.6200074050076364,0.5281422472144122,0.5894290242437381,0.8190845120099236,0.5441780567643298,0.5541833134739842,0.5980002881809289,0.5284631230223619,0.45234178664683,0.6127972904288694,0.4944868271214885,0.4793881961151616,0.5388446577818904],\"type\":\"scatter\"},{\"mode\":\"lines+markers\",\"name\":\"MAD\",\"x\":[0.4474525474525475,0.4481518481518481,0.4483516483516483,0.4485514485514486,0.4501498501498501,0.4503496503496503,0.4506493506493506,0.4527472527472527,0.453046953046953],\"y\":[0.7288890553327478,0.7213632496575497,0.7004707128109141,0.7497749894445027,0.8013389891628234,0.7522215319792567,0.7467588177870725,0.7525565144460421,0.7389632536187906],\"type\":\"scatter\"},{\"mode\":\"lines+markers\",\"name\":\"KNN\",\"x\":[0.4468531468531468,0.4469530469530469,0.4474525474525475,0.448051948051948,0.4481518481518481,0.4483516483516483,0.4484515484515484,0.4485514485514486,0.4486513486513486,0.4492507492507492,0.4497502497502497,0.4501498501498501,0.4503496503496503,0.4506493506493506,0.4507492507492507,0.4516483516483516,0.4527472527472527,0.4529470529470529,0.453046953046953,0.4942834942834943,0.4970584970584971,0.4978354978354978,0.4983904983904983,0.4989454989454989,0.4996114996114996,0.4997224997224997,0.4998334998334998],\"y\":[0.7833868703162399,0.7490533337969937,0.7622529159829228,0.7299791212781409,0.7244323535343183,0.7263448420585455,0.7398618168529572,0.757747394128453,0.7422689627345339,0.7605324074074075,0.7550391191845169,0.7682580804342463,0.7772188310285221,0.7611872953533004,0.783623362799093,0.7984062520144994,0.7737984960586357,0.7772414631926409,0.7641668711181127,0.7173252377280904,0.7548199275082904,0.7279024825330758,0.7331424818573431,0.7238748094011254,0.7597214730334866,0.777949185710292,0.7296772521451551],\"type\":\"scatter\"},{\"mode\":\"lines+markers\",\"name\":\"OCSVM\",\"x\":[0.4468531468531468,0.4469530469530469,0.4474525474525475,0.448051948051948,0.4481518481518481,0.4483516483516483,0.4484515484515484,0.4485514485514486,0.4486513486513486,0.4492507492507492,0.4497502497502497,0.4501498501498501,0.4503496503496503,0.4506493506493506,0.4507492507492507,0.4516483516483516,0.4527472527472527,0.4529470529470529,0.453046953046953,0.4942834942834943,0.4970584970584971,0.4978354978354978,0.4983904983904983,0.4989454989454989,0.4996114996114996,0.4997224997224997,0.4998334998334998],\"y\":[0.7684554522365336,0.7378208264058388,0.7193750865318925,0.7007477759622367,0.7295141448771312,0.6953512436562918,0.7130025940952248,0.7164672392164431,0.747162490424133,0.7219521604938272,0.7414729322479139,0.7520355292376018,0.7611279170267934,0.7312450289911481,0.7670199472393207,0.7745260657631792,0.7320300970352663,0.7528946602983951,0.6782972637940163,0.6992745496600546,0.7153350813603765,0.7166011878216426,0.6979312037916118,0.7021088560562245,0.7075698029847679,0.7620306942633438,0.688183011827805],\"type\":\"scatter\"},{\"mode\":\"lines+markers\",\"name\":\"ECOD\",\"x\":[0.4468531468531468,0.4469530469530469,0.4474525474525475,0.448051948051948,0.4481518481518481,0.4483516483516483,0.4484515484515484,0.4485514485514486,0.4486513486513486,0.4492507492507492,0.4497502497502497,0.4501498501498501,0.4503496503496503,0.4506493506493506,0.4507492507492507,0.4516483516483516,0.4527472527472527,0.4529470529470529,0.453046953046953,0.4978354978354978,0.4989454989454989],\"y\":[0.7407187078657558,0.687279634012126,0.7158508269611815,0.7153140885984023,0.6702217579077637,0.6721922457210119,0.6784032563071034,0.695057695612106,0.6556530819971184,0.7204378858024691,0.7189690496322221,0.6920965476664958,0.717359010371651,0.7106193354674207,0.7362428842504745,0.7278355474231764,0.6968009239792102,0.7299932295054323,0.7171540681533515,0.7055572072741689,0.688096114411904],\"type\":\"scatter\"},{\"mode\":\"lines+markers\",\"name\":\"GMM\",\"x\":[0.4468531468531468,0.4469530469530469,0.4474525474525475,0.448051948051948,0.4481518481518481,0.4483516483516483,0.4484515484515484,0.4485514485514486,0.4486513486513486,0.4492507492507492,0.4497502497502497,0.4501498501498501,0.4503496503496503,0.4506493506493506,0.4507492507492507,0.4516483516483516,0.4527472527472527,0.4529470529470529,0.453046953046953,0.4978354978354978,0.4989454989454989],\"y\":[0.6558461862738607,0.6525634196650303,0.5787752304301741,0.6675301833696441,0.6622083387056428,0.6001513565405323,0.6297193028376986,0.6766189370461899,0.708067459425706,0.6239776234567901,0.6451198659830488,0.7286352464461272,0.6507603176318064,0.6523595650609285,0.6236751978525478,0.6736610087125551,0.6471488955815867,0.6755823285689377,0.6426746930000129,0.5978937048284454,0.6610665650139333],\"type\":\"scatter\"},{\"mode\":\"lines+markers\",\"name\":\"LOF\",\"x\":[0.4468531468531468,0.4469530469530469,0.4474525474525475,0.448051948051948,0.4481518481518481,0.4483516483516483,0.4484515484515484,0.4485514485514486,0.4486513486513486,0.4492507492507492,0.4497502497502497,0.4501498501498501,0.4503496503496503,0.4506493506493506,0.4507492507492507,0.4516483516483516,0.4527472527472527,0.4529470529470529,0.453046953046953,0.4942834942834943,0.4970584970584971,0.4978354978354978,0.4983904983904983,0.4989454989454989,0.4996114996114996,0.4997224997224997,0.4998334998334998],\"y\":[0.5120162074215497,0.4993306783289802,0.5358122876422244,0.3928342864923748,0.5145851309906758,0.4917169982440229,0.5244150956995427,0.5106572855171404,0.5182232604339969,0.5098861882716049,0.5211069053864843,0.519023183207121,0.4926331568712186,0.5167889294532036,0.4813717776646457,0.491903571800479,0.4936419055184031,0.5146326840327002,0.470568272794184,0.4829040209340903,0.4630407958664301,0.5470474349989736,0.5228157028381667,0.5286612510296721,0.5014264553526324,0.4771456089981002,0.5265911417837239],\"type\":\"scatter\"},{\"mode\":\"lines+markers\",\"name\":\"ROD\",\"x\":[0.4468531468531468,0.4469530469530469,0.4474525474525475,0.448051948051948,0.4481518481518481,0.4483516483516483,0.4484515484515484,0.4485514485514486,0.4486513486513486,0.4492507492507492,0.4497502497502497,0.4501498501498501,0.4503496503496503,0.4506493506493506,0.4507492507492507,0.4516483516483516,0.4527472527472527,0.4529470529470529,0.453046953046953,0.4942834942834943,0.4970584970584971,0.4978354978354978,0.4983904983904983,0.4989454989454989,0.4996114996114996,0.4997224997224997,0.4998334998334998],\"y\":[0.3765830281957573,0.3938951621417479,0.370193082441913,0.3950004538852578,0.4222512510593091,0.4260474355016113,0.4079208734570887,0.3975021765668322,0.4302581030561572,0.3611979166666666,0.3757480874286771,0.3906745240942132,0.3548441551426102,0.393010593191803,0.3345675012727356,0.3432012813456112,0.3572262832976096,0.3362213985509524,0.3765313682321191,0.3939104810635265,0.3287256517556712,0.3620367814139182,0.3552733622360735,0.3975826804774173,0.3386846814449496,0.3183065712495842,0.3748361414195936],\"type\":\"scatter\"},{\"mode\":\"lines+markers\",\"name\":\"PCA\",\"x\":[0.4468531468531468,0.4469530469530469,0.4474525474525475,0.448051948051948,0.4481518481518481,0.4483516483516483,0.4484515484515484,0.4485514485514486,0.4486513486513486,0.4492507492507492,0.4497502497502497,0.4501498501498501,0.4503496503496503,0.4506493506493506,0.4507492507492507,0.4516483516483516,0.4527472527472527,0.4529470529470529,0.453046953046953,0.4942834942834943,0.4970584970584971,0.4978354978354978,0.4983904983904983,0.4989454989454989,0.4996114996114996,0.4997224997224997,0.4998334998334998],\"y\":[0.2866840110232764,0.3148182337450199,0.2795190075104009,0.3228814905591867,0.3418186892446919,0.3348021148910715,0.3112778969556842,0.3102418455421364,0.3508289222971505,0.2818094135802469,0.2999078024756161,0.3124228966197878,0.2997920267934313,0.3043417823071974,0.2633405840699773,0.2553467914292656,0.2864338871025468,0.2612002132403763,0.2862169595702646,0.2616726244713908,0.1974019068647944,0.2494237861637891,0.2258199715948466,0.2601429272481904,0.2099021345457347,0.1907045886311648,0.2496380117635467],\"type\":\"scatter\"}],                        {\"template\":{\"data\":{\"histogram2dcontour\":[{\"type\":\"histogram2dcontour\",\"colorbar\":{\"outlinewidth\":0,\"ticks\":\"\"},\"colorscale\":[[0.0,\"#0d0887\"],[0.1111111111111111,\"#46039f\"],[0.2222222222222222,\"#7201a8\"],[0.3333333333333333,\"#9c179e\"],[0.4444444444444444,\"#bd3786\"],[0.5555555555555556,\"#d8576b\"],[0.6666666666666666,\"#ed7953\"],[0.7777777777777778,\"#fb9f3a\"],[0.8888888888888888,\"#fdca26\"],[1.0,\"#f0f921\"]]}],\"choropleth\":[{\"type\":\"choropleth\",\"colorbar\":{\"outlinewidth\":0,\"ticks\":\"\"}}],\"histogram2d\":[{\"type\":\"histogram2d\",\"colorbar\":{\"outlinewidth\":0,\"ticks\":\"\"},\"colorscale\":[[0.0,\"#0d0887\"],[0.1111111111111111,\"#46039f\"],[0.2222222222222222,\"#7201a8\"],[0.3333333333333333,\"#9c179e\"],[0.4444444444444444,\"#bd3786\"],[0.5555555555555556,\"#d8576b\"],[0.6666666666666666,\"#ed7953\"],[0.7777777777777778,\"#fb9f3a\"],[0.8888888888888888,\"#fdca26\"],[1.0,\"#f0f921\"]]}],\"heatmap\":[{\"type\":\"heatmap\",\"colorbar\":{\"outlinewidth\":0,\"ticks\":\"\"},\"colorscale\":[[0.0,\"#0d0887\"],[0.1111111111111111,\"#46039f\"],[0.2222222222222222,\"#7201a8\"],[0.3333333333333333,\"#9c179e\"],[0.4444444444444444,\"#bd3786\"],[0.5555555555555556,\"#d8576b\"],[0.6666666666666666,\"#ed7953\"],[0.7777777777777778,\"#fb9f3a\"],[0.8888888888888888,\"#fdca26\"],[1.0,\"#f0f921\"]]}],\"heatmapgl\":[{\"type\":\"heatmapgl\",\"colorbar\":{\"outlinewidth\":0,\"ticks\":\"\"},\"colorscale\":[[0.0,\"#0d0887\"],[0.1111111111111111,\"#46039f\"],[0.2222222222222222,\"#7201a8\"],[0.3333333333333333,\"#9c179e\"],[0.4444444444444444,\"#bd3786\"],[0.5555555555555556,\"#d8576b\"],[0.6666666666666666,\"#ed7953\"],[0.7777777777777778,\"#fb9f3a\"],[0.8888888888888888,\"#fdca26\"],[1.0,\"#f0f921\"]]}],\"contourcarpet\":[{\"type\":\"contourcarpet\",\"colorbar\":{\"outlinewidth\":0,\"ticks\":\"\"}}],\"contour\":[{\"type\":\"contour\",\"colorbar\":{\"outlinewidth\":0,\"ticks\":\"\"},\"colorscale\":[[0.0,\"#0d0887\"],[0.1111111111111111,\"#46039f\"],[0.2222222222222222,\"#7201a8\"],[0.3333333333333333,\"#9c179e\"],[0.4444444444444444,\"#bd3786\"],[0.5555555555555556,\"#d8576b\"],[0.6666666666666666,\"#ed7953\"],[0.7777777777777778,\"#fb9f3a\"],[0.8888888888888888,\"#fdca26\"],[1.0,\"#f0f921\"]]}],\"surface\":[{\"type\":\"surface\",\"colorbar\":{\"outlinewidth\":0,\"ticks\":\"\"},\"colorscale\":[[0.0,\"#0d0887\"],[0.1111111111111111,\"#46039f\"],[0.2222222222222222,\"#7201a8\"],[0.3333333333333333,\"#9c179e\"],[0.4444444444444444,\"#bd3786\"],[0.5555555555555556,\"#d8576b\"],[0.6666666666666666,\"#ed7953\"],[0.7777777777777778,\"#fb9f3a\"],[0.8888888888888888,\"#fdca26\"],[1.0,\"#f0f921\"]]}],\"mesh3d\":[{\"type\":\"mesh3d\",\"colorbar\":{\"outlinewidth\":0,\"ticks\":\"\"}}],\"scatter\":[{\"fillpattern\":{\"fillmode\":\"overlay\",\"size\":10,\"solidity\":0.2},\"type\":\"scatter\"}],\"parcoords\":[{\"type\":\"parcoords\",\"line\":{\"colorbar\":{\"outlinewidth\":0,\"ticks\":\"\"}}}],\"scatterpolargl\":[{\"type\":\"scatterpolargl\",\"marker\":{\"colorbar\":{\"outlinewidth\":0,\"ticks\":\"\"}}}],\"bar\":[{\"error_x\":{\"color\":\"#2a3f5f\"},\"error_y\":{\"color\":\"#2a3f5f\"},\"marker\":{\"line\":{\"color\":\"#E5ECF6\",\"width\":0.5},\"pattern\":{\"fillmode\":\"overlay\",\"size\":10,\"solidity\":0.2}},\"type\":\"bar\"}],\"scattergeo\":[{\"type\":\"scattergeo\",\"marker\":{\"colorbar\":{\"outlinewidth\":0,\"ticks\":\"\"}}}],\"scatterpolar\":[{\"type\":\"scatterpolar\",\"marker\":{\"colorbar\":{\"outlinewidth\":0,\"ticks\":\"\"}}}],\"histogram\":[{\"marker\":{\"pattern\":{\"fillmode\":\"overlay\",\"size\":10,\"solidity\":0.2}},\"type\":\"histogram\"}],\"scattergl\":[{\"type\":\"scattergl\",\"marker\":{\"colorbar\":{\"outlinewidth\":0,\"ticks\":\"\"}}}],\"scatter3d\":[{\"type\":\"scatter3d\",\"line\":{\"colorbar\":{\"outlinewidth\":0,\"ticks\":\"\"}},\"marker\":{\"colorbar\":{\"outlinewidth\":0,\"ticks\":\"\"}}}],\"scattermapbox\":[{\"type\":\"scattermapbox\",\"marker\":{\"colorbar\":{\"outlinewidth\":0,\"ticks\":\"\"}}}],\"scatterternary\":[{\"type\":\"scatterternary\",\"marker\":{\"colorbar\":{\"outlinewidth\":0,\"ticks\":\"\"}}}],\"scattercarpet\":[{\"type\":\"scattercarpet\",\"marker\":{\"colorbar\":{\"outlinewidth\":0,\"ticks\":\"\"}}}],\"carpet\":[{\"aaxis\":{\"endlinecolor\":\"#2a3f5f\",\"gridcolor\":\"white\",\"linecolor\":\"white\",\"minorgridcolor\":\"white\",\"startlinecolor\":\"#2a3f5f\"},\"baxis\":{\"endlinecolor\":\"#2a3f5f\",\"gridcolor\":\"white\",\"linecolor\":\"white\",\"minorgridcolor\":\"white\",\"startlinecolor\":\"#2a3f5f\"},\"type\":\"carpet\"}],\"table\":[{\"cells\":{\"fill\":{\"color\":\"#EBF0F8\"},\"line\":{\"color\":\"white\"}},\"header\":{\"fill\":{\"color\":\"#C8D4E3\"},\"line\":{\"color\":\"white\"}},\"type\":\"table\"}],\"barpolar\":[{\"marker\":{\"line\":{\"color\":\"#E5ECF6\",\"width\":0.5},\"pattern\":{\"fillmode\":\"overlay\",\"size\":10,\"solidity\":0.2}},\"type\":\"barpolar\"}],\"pie\":[{\"automargin\":true,\"type\":\"pie\"}]},\"layout\":{\"autotypenumbers\":\"strict\",\"colorway\":[\"#636efa\",\"#EF553B\",\"#00cc96\",\"#ab63fa\",\"#FFA15A\",\"#19d3f3\",\"#FF6692\",\"#B6E880\",\"#FF97FF\",\"#FECB52\"],\"font\":{\"color\":\"#2a3f5f\"},\"hovermode\":\"closest\",\"hoverlabel\":{\"align\":\"left\"},\"paper_bgcolor\":\"white\",\"plot_bgcolor\":\"#E5ECF6\",\"polar\":{\"bgcolor\":\"#E5ECF6\",\"angularaxis\":{\"gridcolor\":\"white\",\"linecolor\":\"white\",\"ticks\":\"\"},\"radialaxis\":{\"gridcolor\":\"white\",\"linecolor\":\"white\",\"ticks\":\"\"}},\"ternary\":{\"bgcolor\":\"#E5ECF6\",\"aaxis\":{\"gridcolor\":\"white\",\"linecolor\":\"white\",\"ticks\":\"\"},\"baxis\":{\"gridcolor\":\"white\",\"linecolor\":\"white\",\"ticks\":\"\"},\"caxis\":{\"gridcolor\":\"white\",\"linecolor\":\"white\",\"ticks\":\"\"}},\"coloraxis\":{\"colorbar\":{\"outlinewidth\":0,\"ticks\":\"\"}},\"colorscale\":{\"sequential\":[[0.0,\"#0d0887\"],[0.1111111111111111,\"#46039f\"],[0.2222222222222222,\"#7201a8\"],[0.3333333333333333,\"#9c179e\"],[0.4444444444444444,\"#bd3786\"],[0.5555555555555556,\"#d8576b\"],[0.6666666666666666,\"#ed7953\"],[0.7777777777777778,\"#fb9f3a\"],[0.8888888888888888,\"#fdca26\"],[1.0,\"#f0f921\"]],\"sequentialminus\":[[0.0,\"#0d0887\"],[0.1111111111111111,\"#46039f\"],[0.2222222222222222,\"#7201a8\"],[0.3333333333333333,\"#9c179e\"],[0.4444444444444444,\"#bd3786\"],[0.5555555555555556,\"#d8576b\"],[0.6666666666666666,\"#ed7953\"],[0.7777777777777778,\"#fb9f3a\"],[0.8888888888888888,\"#fdca26\"],[1.0,\"#f0f921\"]],\"diverging\":[[0,\"#8e0152\"],[0.1,\"#c51b7d\"],[0.2,\"#de77ae\"],[0.3,\"#f1b6da\"],[0.4,\"#fde0ef\"],[0.5,\"#f7f7f7\"],[0.6,\"#e6f5d0\"],[0.7,\"#b8e186\"],[0.8,\"#7fbc41\"],[0.9,\"#4d9221\"],[1,\"#276419\"]]},\"xaxis\":{\"gridcolor\":\"white\",\"linecolor\":\"white\",\"ticks\":\"\",\"title\":{\"standoff\":15},\"zerolinecolor\":\"white\",\"automargin\":true,\"zerolinewidth\":2},\"yaxis\":{\"gridcolor\":\"white\",\"linecolor\":\"white\",\"ticks\":\"\",\"title\":{\"standoff\":15},\"zerolinecolor\":\"white\",\"automargin\":true,\"zerolinewidth\":2},\"scene\":{\"xaxis\":{\"backgroundcolor\":\"#E5ECF6\",\"gridcolor\":\"white\",\"linecolor\":\"white\",\"showbackground\":true,\"ticks\":\"\",\"zerolinecolor\":\"white\",\"gridwidth\":2},\"yaxis\":{\"backgroundcolor\":\"#E5ECF6\",\"gridcolor\":\"white\",\"linecolor\":\"white\",\"showbackground\":true,\"ticks\":\"\",\"zerolinecolor\":\"white\",\"gridwidth\":2},\"zaxis\":{\"backgroundcolor\":\"#E5ECF6\",\"gridcolor\":\"white\",\"linecolor\":\"white\",\"showbackground\":true,\"ticks\":\"\",\"zerolinecolor\":\"white\",\"gridwidth\":2}},\"shapedefaults\":{\"line\":{\"color\":\"#2a3f5f\"}},\"annotationdefaults\":{\"arrowcolor\":\"#2a3f5f\",\"arrowhead\":0,\"arrowwidth\":1},\"geo\":{\"bgcolor\":\"white\",\"landcolor\":\"#E5ECF6\",\"subunitcolor\":\"white\",\"showland\":true,\"showlakes\":true,\"lakecolor\":\"white\"},\"title\":{\"x\":0.05},\"mapbox\":{\"style\":\"light\"}}},\"xaxis\":{\"title\":{\"text\":\"Fraud transaction rate in train data\"},\"range\":[0.2,0.9]},\"yaxis\":{\"title\":{\"text\":\"AUC\"},\"range\":[0.92,1]},\"legend\":{\"font\":{\"family\":\"Arial\",\"size\":12,\"color\":\"black\"},\"x\":1.05,\"y\":1,\"traceorder\":\"normal\"}},                        {\"responsive\": true}                    ).then(function(){\n",
       "                            \n",
       "var gd = document.getElementById('75dc1cba-6847-49f1-8870-2fd2ff319eaa');\n",
       "var x = new MutationObserver(function (mutations, observer) {{\n",
       "        var display = window.getComputedStyle(gd).display;\n",
       "        if (!display || display === 'none') {{\n",
       "            console.log([gd, 'removed!']);\n",
       "            Plotly.purge(gd);\n",
       "            observer.disconnect();\n",
       "        }}\n",
       "}});\n",
       "\n",
       "// Listen for the removal of the full notebook cells\n",
       "var notebookContainer = gd.closest('#notebook-container');\n",
       "if (notebookContainer) {{\n",
       "    x.observe(notebookContainer, {childList: true});\n",
       "}}\n",
       "\n",
       "// Listen for the clearing of the current output cell\n",
       "var outputEl = gd.closest('.output');\n",
       "if (outputEl) {{\n",
       "    x.observe(outputEl, {childList: true});\n",
       "}}\n",
       "\n",
       "                        })                };                });            </script>        </div>"
      ]
     },
     "metadata": {},
     "output_type": "display_data"
    }
   ],
   "source": [
    "plot_merged_df3(ex66)"
   ]
  },
  {
   "cell_type": "markdown",
   "id": "fc330b1c-c08c-4a34-99f7-7b39b4d9502b",
   "metadata": {},
   "source": [
    "그림이 왜이려"
   ]
  },
  {
   "cell_type": "code",
   "execution_count": null,
   "id": "dc9648a9-674a-4d47-a8ff-9fb4501054ff",
   "metadata": {},
   "outputs": [],
   "source": []
  }
 ],
 "metadata": {
  "kernelspec": {
   "display_name": "Python 3 (ipykernel)",
   "language": "python",
   "name": "python3"
  },
  "language_info": {
   "codemirror_mode": {
    "name": "ipython",
    "version": 3
   },
   "file_extension": ".py",
   "mimetype": "text/x-python",
   "name": "python",
   "nbconvert_exporter": "python",
   "pygments_lexer": "ipython3",
   "version": "3.12.2"
  }
 },
 "nbformat": 4,
 "nbformat_minor": 5
}
