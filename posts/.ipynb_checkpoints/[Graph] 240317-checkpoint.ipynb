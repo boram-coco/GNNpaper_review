{
 "cells": [
  {
   "cell_type": "raw",
   "id": "bc22b55c-5b3b-4496-aeee-2399e4633452",
   "metadata": {},
   "source": [
    "---\n",
    "title: \"240317 Intro(시간별 사기거래)\"\n",
    "author: \"김보람\"\n",
    "date: \"03/17/2024\"\n",
    "---"
   ]
  },
  {
   "cell_type": "code",
   "execution_count": 13,
   "id": "ed305934-254b-4bc7-baf9-c6f3dedd58b2",
   "metadata": {},
   "outputs": [],
   "source": [
    "import pandas as pd\n",
    "import numpy as np\n",
    "import sklearn\n",
    "import pickle \n",
    "import time \n",
    "import datetime\n",
    "import warnings\n",
    "import matplotlib.pyplot as plt\n",
    "warnings.filterwarnings('ignore')\n",
    "import matplotlib.pyplot as plt\n",
    "from ipywidgets import interact, widgets\n",
    "# import graft"
   ]
  },
  {
   "cell_type": "code",
   "execution_count": 14,
   "id": "d69cd35f-80d2-4253-bafb-d76499b02b05",
   "metadata": {},
   "outputs": [],
   "source": [
    "with open('./fraudTrain.pkl', 'rb') as file:\n",
    "    fraudTrain = pickle.load(file)    "
   ]
  },
  {
   "cell_type": "code",
   "execution_count": 15,
   "id": "26b5dc47-6f14-42e2-a0c3-ac245067bcc1",
   "metadata": {},
   "outputs": [],
   "source": [
    "df = fraudTrain[fraudTrain.is_fraud == 1]\n",
    "\n",
    "fraud1_cc_num = df['cc_num'].unique()\n",
    "\n",
    "df_fraud = fraudTrain[fraudTrain['cc_num'].isin(fraud1_cc_num)].reset_index()\n",
    "\n",
    "cc_num_value_sort = df_fraud.groupby(\"cc_num\")[\"is_fraud\"].agg(['sum']).reset_index().sort_values(by='sum',ascending=False)['cc_num'].tolist()"
   ]
  },
  {
   "cell_type": "code",
   "execution_count": 23,
   "id": "e86fbac3-1e0f-4804-8879-92c4fd62d216",
   "metadata": {
    "tags": []
   },
   "outputs": [
    {
     "data": {
      "application/vnd.jupyter.widget-view+json": {
       "model_id": "1f08924b27ea473790c30c5fe278b801",
       "version_major": 2,
       "version_minor": 0
      },
      "text/plain": [
       "interactive(children=(Dropdown(description='cc_num:', index=592, options=('', 213174000000000.0, 3506040000000…"
      ]
     },
     "metadata": {},
     "output_type": "display_data"
    },
    {
     "data": {
      "text/plain": [
       "<function __main__.plot_fraud_over_time(cc_num=4.5031e+18)>"
      ]
     },
     "execution_count": 23,
     "metadata": {},
     "output_type": "execute_result"
    }
   ],
   "source": [
    "import matplotlib.pyplot as plt\n",
    "from ipywidgets import interact, widgets\n",
    "\n",
    "def plot_fraud_over_time(cc_num=4.503100e+18):\n",
    "    plt.figure(figsize=(10, 6))\n",
    "    data = df_fraud[df_fraud['cc_num'] == cc_num]\n",
    "    fraud_count = (data['is_fraud'] == 1).sum()\n",
    "    \n",
    "    plt.scatter(data[data['is_fraud'] == 1]['trans_date_trans_time'], data[data['is_fraud'] == 1]['is_fraud'], marker='o',s=300,alpha=0.1, color='red', label='Fraudulent Transactions')\n",
    "    plt.scatter(data[data['is_fraud'] == 0]['trans_date_trans_time'], data[data['is_fraud'] == 0]['is_fraud'], marker='o',s=300,alpha=0.005, color='blue', label='Legitimate Transactions')\n",
    "    plt.title(f'Fraudulent Transactions Over Time \\n cc_num: {cc_num}\\n Fraudulent Count: {fraud_count}')\n",
    "    plt.xlabel('Transaction Date and Time')\n",
    "    plt.ylabel('Fraudulent Transactions')\n",
    "    plt.ylim(-0.1, 1.1)\n",
    "    plt.legend(loc='center right') \n",
    "    plt.show()\n",
    "\n",
    "\n",
    "interact(plot_fraud_over_time, cc_num=widgets.Dropdown(options=[''] + cc_num_value_sort, value=4.503100e+18, description='cc_num:'))\n"
   ]
  },
  {
   "cell_type": "code",
   "execution_count": 64,
   "id": "5fae4197-b16f-4a80-a111-f8ba7984cf71",
   "metadata": {},
   "outputs": [
    {
     "name": "stdout",
     "output_type": "stream",
     "text": [
      "시각화 함수를 plot_fraud_over_time.pkl 파일로 저장했습니다.\n"
     ]
    }
   ],
   "source": [
    "import pickle\n",
    "\n",
    "\n",
    "def save_plot_function(plot_function, filename):\n",
    "    with open(filename, 'wb') as f:\n",
    "        pickle.dump(plot_function, f)\n",
    "\n",
    "\n",
    "save_plot_function(plot_fraud_over_time, 'plot_fraud_over_time.pkl')\n",
    "\n",
    "print(\"시각화 함수를 plot_fraud_over_time.pkl 파일로 저장했습니다.\")\n"
   ]
  },
  {
   "cell_type": "code",
   "execution_count": null,
   "id": "83c3abaf-3ca9-425b-8277-5cb1e06406d2",
   "metadata": {},
   "outputs": [],
   "source": []
  },
  {
   "cell_type": "code",
   "execution_count": null,
   "id": "fcf10d8c-629d-42ea-8c1b-038ea57c36b5",
   "metadata": {},
   "outputs": [],
   "source": []
  },
  {
   "cell_type": "code",
   "execution_count": 12,
   "id": "ededdb51-f3ea-4d71-91e3-c4c9208862b7",
   "metadata": {
    "tags": []
   },
   "outputs": [
    {
     "data": {
      "application/vnd.jupyter.widget-view+json": {
       "model_id": "808bff8a8b80425486d99ca2dff171b4",
       "version_major": 2,
       "version_minor": 0
      },
      "text/plain": [
       "interactive(children=(Dropdown(description='cc_num:', options=(213174000000000.0, 3506040000000000.0, 18006800…"
      ]
     },
     "metadata": {},
     "output_type": "display_data"
    },
    {
     "data": {
      "text/plain": [
       "<function __main__.plot_fraud_over_time(cc_num)>"
      ]
     },
     "execution_count": 12,
     "metadata": {},
     "output_type": "execute_result"
    }
   ],
   "source": [
    "import plotly.graph_objects as go\n",
    "from ipywidgets import widgets, interact\n",
    "from IPython.display import display\n",
    "\n",
    "def plot_fraud_over_time(cc_num):\n",
    "    data = df_fraud[df_fraud['cc_num'] == cc_num]\n",
    "    fraud_count = (data['is_fraud'] == 1).sum()\n",
    "    fig = go.Figure()\n",
    "\n",
    "    fig.add_trace(go.Scatter(x=data[data['is_fraud'] == 1]['trans_date_trans_time'], \n",
    "                             y=data[data['is_fraud'] == 1]['is_fraud'], \n",
    "                             mode='markers', \n",
    "                             marker=dict(color='red'),\n",
    "                             name='Fraudulent Transactions'))\n",
    "\n",
    "    fig.add_trace(go.Scatter(x=data[data['is_fraud'] == 0]['trans_date_trans_time'], \n",
    "                             y=data[data['is_fraud'] == 0]['is_fraud'], \n",
    "                             mode='markers', \n",
    "                             marker=dict(color='blue'),\n",
    "                             name='Legitimate Transactions'))\n",
    "\n",
    "    \n",
    "    fig.update_layout(title=f'Fraudulent Transactions Over Time \\n cc_num: {cc_num}\\n Fraudulent Count: {fraud_count}',\n",
    "                      xaxis_title='Transaction Date and Time',\n",
    "                      yaxis_title='Fraudulent Transactions')\n",
    "\n",
    "\n",
    "    fig.show()\n",
    "\n",
    "cc_num_dropdown = widgets.Dropdown(\n",
    "    options=cc_num_value_sort,\n",
    "    value=cc_num_value_sort[0], \n",
    "    description='cc_num:'\n",
    ")\n",
    "\n",
    "\n",
    "#display(cc_num_dropdown)\n",
    "\n",
    "interact(plot_fraud_over_time, cc_num=cc_num_dropdown)\n"
   ]
  },
  {
   "cell_type": "code",
   "execution_count": null,
   "id": "8633796e-1dd7-41ac-9c20-ccc851524124",
   "metadata": {},
   "outputs": [],
   "source": []
  }
 ],
 "metadata": {
  "kernelspec": {
   "display_name": "Python 3 (ipykernel)",
   "language": "python",
   "name": "python3"
  },
  "language_info": {
   "codemirror_mode": {
    "name": "ipython",
    "version": 3
   },
   "file_extension": ".py",
   "mimetype": "text/x-python",
   "name": "python",
   "nbconvert_exporter": "python",
   "pygments_lexer": "ipython3",
   "version": "3.8.18"
  }
 },
 "nbformat": 4,
 "nbformat_minor": 5
}
