{
 "cells": [
  {
   "cell_type": "raw",
   "id": "bc22b55c-5b3b-4496-aeee-2399e4633452",
   "metadata": {},
   "source": [
    "---\n",
    "title: \"240508 Intro(사기거래 시간 간격 확인)\"\n",
    "author: \"김보람\"\n",
    "date: \"05/08/2024\"\n",
    "---"
   ]
  },
  {
   "cell_type": "code",
   "execution_count": 1,
   "id": "ed305934-254b-4bc7-baf9-c6f3dedd58b2",
   "metadata": {},
   "outputs": [],
   "source": [
    "import pandas as pd\n",
    "import numpy as np\n",
    "import sklearn\n",
    "import pickle \n",
    "import time \n",
    "import datetime\n",
    "import warnings\n",
    "import matplotlib.pyplot as plt\n",
    "warnings.filterwarnings('ignore')\n",
    "import matplotlib.pyplot as plt\n",
    "from ipywidgets import interact, widgets\n",
    "# import graft"
   ]
  },
  {
   "cell_type": "code",
   "execution_count": 2,
   "id": "d69cd35f-80d2-4253-bafb-d76499b02b05",
   "metadata": {},
   "outputs": [],
   "source": [
    "with open('./fraudTrain.pkl', 'rb') as file:\n",
    "    fraudTrain = pickle.load(file)    "
   ]
  },
  {
   "cell_type": "code",
   "execution_count": 3,
   "id": "26b5dc47-6f14-42e2-a0c3-ac245067bcc1",
   "metadata": {},
   "outputs": [],
   "source": [
    "df = fraudTrain[fraudTrain.is_fraud == 1]\n",
    "\n",
    "fraud1_cc_num = df['cc_num'].unique()\n",
    "\n",
    "df_fraud = fraudTrain[fraudTrain['cc_num'].isin(fraud1_cc_num)].reset_index()\n",
    "\n",
    "cc_num_value_sort = df_fraud.groupby(\"cc_num\")[\"is_fraud\"].agg(['sum']).reset_index().sort_values(by='sum',ascending=False)['cc_num'].tolist()"
   ]
  },
  {
   "cell_type": "code",
   "execution_count": 4,
   "id": "e86fbac3-1e0f-4804-8879-92c4fd62d216",
   "metadata": {
    "tags": []
   },
   "outputs": [
    {
     "data": {
      "application/vnd.jupyter.widget-view+json": {
       "model_id": "fd25a8e739c04d19bea6e4984c7215ee",
       "version_major": 2,
       "version_minor": 0
      },
      "text/plain": [
       "interactive(children=(Dropdown(description='cc_num:', index=592, options=('', 213174000000000.0, 3506040000000…"
      ]
     },
     "metadata": {},
     "output_type": "display_data"
    },
    {
     "data": {
      "text/plain": [
       "<function __main__.plot_fraud_over_time(cc_num=4.5031e+18)>"
      ]
     },
     "execution_count": 4,
     "metadata": {},
     "output_type": "execute_result"
    }
   ],
   "source": [
    "import matplotlib.pyplot as plt\n",
    "from ipywidgets import interact, widgets\n",
    "\n",
    "def plot_fraud_over_time(cc_num=4.503100e+18):\n",
    "    plt.figure(figsize=(10, 6))\n",
    "    data = df_fraud[df_fraud['cc_num'] == cc_num]\n",
    "    fraud_count = (data['is_fraud'] == 1).sum()\n",
    "    \n",
    "    plt.scatter(data[data['is_fraud'] == 1]['trans_date_trans_time'], data[data['is_fraud'] == 1]['is_fraud'], marker='o',s=300,alpha=0.1, color='red', label='Fraudulent Transactions')\n",
    "    plt.scatter(data[data['is_fraud'] == 0]['trans_date_trans_time'], data[data['is_fraud'] == 0]['is_fraud'], marker='o',s=300,alpha=0.005, color='blue', label='Legitimate Transactions')\n",
    "    plt.title(f'Fraudulent Transactions Over Time \\n cc_num: {cc_num}\\n Fraudulent Count: {fraud_count}')\n",
    "    plt.xlabel('Transaction Date and Time')\n",
    "    plt.ylabel('Fraudulent Transactions')\n",
    "    plt.ylim(-0.1, 1.1)\n",
    "    plt.legend(loc='center right') \n",
    "    plt.show()\n",
    "\n",
    "\n",
    "interact(plot_fraud_over_time, cc_num=widgets.Dropdown(options=[''] + cc_num_value_sort, value=4.503100e+18, description='cc_num:'))\n"
   ]
  },
  {
   "cell_type": "code",
   "execution_count": 6,
   "id": "b4d8f429-0d3a-426c-941c-f2193464551a",
   "metadata": {},
   "outputs": [],
   "source": [
    "cc_213 = fraudTrain[fraudTrain['cc_num'] == 213174000000000]"
   ]
  },
  {
   "cell_type": "code",
   "execution_count": 8,
   "id": "acf5c119-90c8-4c57-8b1b-171d50f1513f",
   "metadata": {},
   "outputs": [],
   "source": [
    "def compute_time_difference(group):\n",
    "    n = len(group)\n",
    "    result = []\n",
    "    for i in range(n):\n",
    "        for j in range(n):\n",
    "            time_difference = abs((group.iloc[i].trans_date_trans_time - group.iloc[j].trans_date_trans_time).total_seconds())\n",
    "            result.append([group.iloc[i].name, group.iloc[j].name, time_difference])\n",
    "    return result\n"
   ]
  },
  {
   "cell_type": "code",
   "execution_count": 11,
   "id": "4ae1e905-ffb7-4b88-981d-803d597d2a53",
   "metadata": {},
   "outputs": [],
   "source": [
    "groups = fraudTrain.groupby('cc_num')"
   ]
  },
  {
   "cell_type": "code",
   "execution_count": null,
   "id": "fe254e37-e644-44e8-8f52-b3a69254e489",
   "metadata": {},
   "outputs": [],
   "source": [
    "compute_time_difference(cc_213)"
   ]
  },
  {
   "cell_type": "code",
   "execution_count": null,
   "id": "58782307-fac4-4f7a-8a33-cf9ed2fca7bd",
   "metadata": {},
   "outputs": [],
   "source": [
    "len(cc_213)"
   ]
  },
  {
   "cell_type": "code",
   "execution_count": null,
   "id": "4558224e-5c74-4f0d-9e34-9576ec8e4d5a",
   "metadata": {},
   "outputs": [],
   "source": [
    "edge_index = np.array([item for sublist in (compute_time_difference(group) for _, group in groups) for item in sublist])"
   ]
  },
  {
   "cell_type": "code",
   "execution_count": null,
   "id": "404f646b-1de0-44b8-b983-98ce8461e353",
   "metadata": {},
   "outputs": [],
   "source": [
    "edge_index"
   ]
  },
  {
   "cell_type": "code",
   "execution_count": null,
   "id": "d57f0527-a5c8-4422-8556-c11886f7d57e",
   "metadata": {},
   "outputs": [],
   "source": [
    " groups = df3.groupby('cc_num')\n",
    "    edge_index = np.array([item for sublist in (compute_time_difference(group) for _, group in groups) for item in sublist])\n",
    "    edge_index = edge_index.astype(np.float64)\n",
    "    edge_index[:,2] = (np.exp(-edge_index[:,2]/(theta)) != 1)*(np.exp(-edge_index[:,2]/(theta))).tolist()\n",
    "    edge_index = torch.tensor([(int(row[0]), int(row[1])) for row in edge_index if row[2] > gamma], dtype=torch.long).t()\n",
    "    "
   ]
  }
 ],
 "metadata": {
  "kernelspec": {
   "display_name": "Python 3 (ipykernel)",
   "language": "python",
   "name": "python3"
  },
  "language_info": {
   "codemirror_mode": {
    "name": "ipython",
    "version": 3
   },
   "file_extension": ".py",
   "mimetype": "text/x-python",
   "name": "python",
   "nbconvert_exporter": "python",
   "pygments_lexer": "ipython3",
   "version": "3.8.18"
  }
 },
 "nbformat": 4,
 "nbformat_minor": 5
}
